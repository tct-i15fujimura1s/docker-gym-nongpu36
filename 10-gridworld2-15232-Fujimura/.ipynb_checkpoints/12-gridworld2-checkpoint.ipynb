{
 "cells": [
  {
   "cell_type": "markdown",
   "metadata": {},
   "source": [
    "<div class=\"alert alert-danger\">\n",
    "\n",
    "# 名前欄\n",
    "\n",
    "</div>\n",
    "\n",
    "以下に名前と学籍番号(STUDENT_ID)の入力をして下さい。\n",
    "\n",
    "例)\n",
    "```python\n",
    "FAMILY_NAME = \"Yamaguchi\"# 姓をローマ字で入力\n",
    "FIRST_NAME = \"Daisuki\"   #  名をローマ字で入力\n",
    "USER = \"a11yamaguchi\"    # 公式メールアドレスのユーザ名\n",
    "STUDENT_ID = \"99999\" # 学籍番号\n",
    "```"
   ]
  },
  {
   "cell_type": "code",
   "execution_count": 1,
   "metadata": {},
   "outputs": [],
   "source": [
    "FAMILY_NAME = \"Fujimura\"  # 姓をローマ字で入力\n",
    "FIRST_NAME = \"Soshi\"  #  名をローマ字で入力\n",
    "USER = \"i15fujimura1s\"  # 公式メールアドレスのユーザ名\n",
    "STUDENT_ID = \"15232\"  # 99999 等と省略なしで入力"
   ]
  },
  {
   "cell_type": "markdown",
   "metadata": {},
   "source": [
    "<div class=\"alert alert-danger\">\n",
    "\n",
    "# 提出方法(高専の皆さんへ)\n",
    "\n",
    "</div>\n",
    "\n",
    "以下のように**ディレクトリ(フォルダ)名を変更して提出**しましょう。\n",
    "```python\n",
    "元のディレクトリ名-学籍番号-名字(ローマ字)\n",
    "```\n",
    "例えば，元のディレクトリ名が`01-basic/`, 学籍番号が`99999`,名字が`Yamaguchi`の場合は以下になります。\n",
    "```python\n",
    "01-basic-99999-Yamaguchi/\n",
    "```"
   ]
  },
  {
   "cell_type": "markdown",
   "metadata": {},
   "source": [
    "<div class=\"alert alert-danger\">\n",
    "\n",
    "# 注意\n",
    "\n",
    "</div>\n",
    "\n",
    "\n",
    "- 以下の説明文を読み， 内容を納得できるように自分で試しなさい。\n",
    "- **「# このセルで試してみよう」**, **「# このセルで動作確認をしよう」**と書かれているセルは自由に使って構いません。\n",
    "- 必要に応じてセルを増やしても構いません。役立ちそうな情報もメモしておくと，今後プログラムを組む上で便利です。\n",
    "- 表題等には適宜教科書のページを書いてあります。詳しい説明は教科書を参照しなさい。\n",
    "\n",
    "<div class=\"alert alert-danger\">\n",
    "\n",
    "## 設問と解答用セル\n",
    "    \n",
    "</div>   \n",
    "\n",
    "\"**Q.**\" から始まる設問に対する解答は必ず入力しなさい。解答用セルには以下のように表示される。\n",
    "\n",
    "```python\n",
    "# YOUR CODE HERE\n",
    "raise NotImplementedError()\n",
    "```\n",
    "\n",
    "**注意**\n",
    "\n",
    "- <span class=\"mark\">raise NotImplementedError()の一行は**必ず消去**して</span>，<span class=\"mark\"># YOUR CODE HERE の下に解答</span>を書くこと。\n",
    "- <span class=\"mark\">\\# YOUR CODE HERE の一行は**消さない**</span>こと。どこに解答を書くべきかがわからなくなることがあります。\n",
    "- なんらかの演算をしたり，命令文を作ったときは，その**結果が予想通りか否かを必ず確認しなさい**\n",
    "\n",
    "<div class=\"alert alert-danger\">\n",
    "\n",
    "## 評価用セル\n",
    "    \n",
    "</div>\n",
    "\n",
    "- **「評価用セル」と書かれているセルは採点のためのセル**です。\n",
    "- **評価用コードが一部表示されている場合，それを実行すると課題の実行結果の確認**をできます。\n",
    "- **表示されていない評価用コードも**あります。\n",
    "\n",
    "<div class=\"alert alert-danger\">\n",
    "\n",
    "## 課題提出前の注意\n",
    "    \n",
    "</div>   \n",
    "\n",
    "**[重要]** 以下の手順で，全ての課題が正常に動作するか確認してから提出しましょう。\n",
    "\n",
    "1.  メニューバーの\"Kernel\"をクリック後，\"Restart\"を選択\n",
    "2. メニューバーの\"Cell\"を，\"Run All\"を選択"
   ]
  },
  {
   "cell_type": "code",
   "execution_count": 2,
   "metadata": {
    "deletable": false,
    "editable": false,
    "nbgrader": {
     "cell_type": "code",
     "checksum": "468b8b9a82f13ced7fcb16debd13d3aa",
     "grade": false,
     "grade_id": "cell-3cf93821ee8706d5",
     "locked": true,
     "schema_version": 3,
     "solution": false,
     "task": false
    }
   },
   "outputs": [],
   "source": [
    "# このセルは自動評価を行うための命令です。内容は無視して，実行(Shift-Enter)のみをしてください。\n",
    "#%%writefile unittests.py\n",
    "#%load unittests.py\n",
    "%run unittests.py"
   ]
  },
  {
   "cell_type": "markdown",
   "metadata": {},
   "source": [
    "<div class=\"alert alert-success\">\n",
    "\n",
    "# レポート課題の準備\n",
    "\n",
    "</div>\n",
    "\n",
    "このシートでは以下を整備します。\n",
    "\n",
    "1. Q学習エージェント: `class Qlearner` (作成済みのものをコピペで持ってくる)\n",
    "2. 強化学習の実行用関数: `play_env()`(作成済みのものをコピペで持ってきて，少し修正)\n",
    "3. 結果の可視化: `plot_history()`(作成済みのものをコピペで持ってくる)\n",
    "4. 結果の分析: `mean_performance()`(`play_env()`を何度も実行して，結果の平均と標準偏差を求める)\n",
    "5. 結果の可視化その2: `plot_history()`(コピペで持ってきたのを少し変えて，標準偏差も表示できるようにする)\n",
    "6. SARSA学習エージェント `class SARSAlearner` (すでに作ったものをコピペで持ってくる)\n",
    "7. Actor-Critic学習エージェント(`class Qlearner`を修正して作る)\n",
    "8. `MDPGridworld-v3`で遊ぶ\n",
    "\n",
    "まずは，これまでと同様に`MDPGridworld-v1`環境を用います。"
   ]
  },
  {
   "cell_type": "code",
   "execution_count": 3,
   "metadata": {},
   "outputs": [],
   "source": [
    "# このセルでは，実行に必要なモジュールの読み込みを行う。\n",
    "# ここに書かれているもの以外に必要なものがあれば，適宜追加すること。\n",
    "import numpy as np\n",
    "import random as ra\n",
    "import matplotlib.pyplot as plt\n",
    "\n",
    "import gym"
   ]
  },
  {
   "cell_type": "markdown",
   "metadata": {},
   "source": [
    "<div class=\"alert alert-success\">\n",
    "\n",
    "# Q学習エージェント\n",
    "\n",
    "</div>\n",
    "\n",
    "**Q.** 以前の課題シート(gridworld)で作ったクラス`Qlearner`を入力しなさい。独自仕様のインスタンス関数等が追加されていても良いが，行動選択にはε-greedy法を使っているものを入力すること。"
   ]
  },
  {
   "cell_type": "code",
   "execution_count": 5,
   "metadata": {
    "deletable": false,
    "nbgrader": {
     "cell_type": "code",
     "checksum": "92c9d3ade227c34f8480c57a46a46495",
     "grade": false,
     "grade_id": "A-qlearner",
     "locked": false,
     "schema_version": 3,
     "solution": true,
     "task": false
    }
   },
   "outputs": [],
   "source": [
    "# 以下にclass QLearnerの定義を書きなさい。(必要ならindex_list()等, Qlearnerの実行に必要な関数も書きなさい)\n",
    "# YOUR CODE HERE\n",
    "import random as ra\n",
    "\n",
    "def index_list(L, value):\n",
    "    return [i for i in range(len(L)) if L[i]==value]\n",
    "\n",
    "class Qlearner:\n",
    "    def __init__(self, action_list, epsilon=0.1, alpha=0.2, gamma=0.9, q0=0):\n",
    "        self.action_list = action_list\n",
    "        self.epsilon = epsilon\n",
    "        self.alpha = alpha\n",
    "        self.gamma = gamma\n",
    "        self.q0 = q0\n",
    "        self.Q = {}\n",
    "    \n",
    "    def reset(self):\n",
    "        self.Q = {}\n",
    "    \n",
    "    def get_q(self, s, a):\n",
    "        return(self.Q.get((s, a), self.q0))\n",
    "    \n",
    "    def get_maxQ(self, s):\n",
    "        qs = [self.get_q(s, a) for a in self.action_list]\n",
    "        maxQ = max(qs)\n",
    "        indices = index_list(qs, maxQ)\n",
    "        return(maxQ, len(indices), indices)\n",
    "    \n",
    "    def get_action(self, s):\n",
    "        if ra.random() < self.epsilon:\n",
    "            return(ra.choice(self.action_list))\n",
    "        maxQ, n_indices, indices = self.get_maxQ(s)\n",
    "        if n_indices == 1:\n",
    "            index = indices[0]\n",
    "        else:\n",
    "            index = ra.choice(indices)\n",
    "        return(self.action_list[index])\n",
    "    \n",
    "    def learning(self, s1, a1, r, s2, terminal=False):\n",
    "        q1 = self.get_q(s1, a1)\n",
    "        q2 = 0\n",
    "        if not terminal:\n",
    "            q2 = self.get_maxQ(s2)[0]\n",
    "        self.Q[(s1, a1)] = q1 + self.alpha * (r + self.gamma * q2 - q1)"
   ]
  },
  {
   "cell_type": "markdown",
   "metadata": {},
   "source": [
    "<div class=\"alert alert-success\">\n",
    "\n",
    "# 強化学習の実行用関数\n",
    "\n",
    "</div>\n",
    "\n",
    "## エージェントを動かす関数: `play_env()`\n",
    "**Q.** 以前の課題シート(gridworld)で作った関数`play_env()`を，以下のように修正して，次のセルに入力しなさい。\n",
    "\n",
    "**変更点**\n",
    "- 変数`history_steps`, `history_score`にはリストではなく，**NumPyの`ndarray`を使う**。(全要素を0に初期化するための命令を`np.zeros()`を使って書き直す)"
   ]
  },
  {
   "cell_type": "code",
   "execution_count": 6,
   "metadata": {
    "deletable": false,
    "nbgrader": {
     "cell_type": "code",
     "checksum": "122ce6963f77c8015ec06d8eb0eb104f",
     "grade": false,
     "grade_id": "A-play_env",
     "locked": false,
     "schema_version": 3,
     "solution": true,
     "task": false
    }
   },
   "outputs": [],
   "source": [
    "def play_env(env, agent, learning=True, max_episode=30, render_step=20, verbose=False):\n",
    "    # YOUR CODE HERE\n",
    "    history_step = np.zeros(max_episode)\n",
    "    history_score = np.zeros(max_episode)\n",
    "\n",
    "    # 各エピソードの総報酬は変数scoreに格納する。そのための命令文は以下のどこかに追加する\n",
    "    count = 0\n",
    "    for n_episode in range(max_episode):\n",
    "        score = 0\n",
    "        s = env.reset()\n",
    "        for t in range(env.spec.max_episode_steps):\n",
    "            count += 1\n",
    "            # ここに，verbose==Trueの場合かつ，render_step回のエピソード実行毎に\n",
    "            # env.render()を実行する命令文を書く\n",
    "            if verbose and count % render_step == 0:\n",
    "                env.render()\n",
    "            action = agent.get_action(s)\n",
    "            s1 = s\n",
    "            s,r,terminal,_ = env.step(action)\n",
    "            if learning: agent.learning(s1, action, r, s, terminal)\n",
    "            if terminal: break # <= if文を1行で書いてみた\n",
    "        score += r\n",
    "\n",
    "        if verbose: \n",
    "            # ここに，render_step回のエピソード実行毎((n_episode%render_step==0 の時)に\n",
    "            # env.render()を実行する命令文を書く\n",
    "            if count % render_step == 0:\n",
    "                env.render()\n",
    "            print(\"Episode {} finished after {} timesteps with {} return\".format(n_episode,t+1,score)) #時間tの表示は0からではなく，1からにする\n",
    "\n",
    "        # history_step の第n_episode要素に，エピソード終了時のt+1を代入する命令文を追加\n",
    "        history_step[n_episode] = t + 1\n",
    "        # history_score の第n_episode要素に，エピソード終了時のscoreを代入する命令文を追加\n",
    "        history_score[n_episode] = score\n",
    "\n",
    "    return(history_step,history_score)"
   ]
  },
  {
   "cell_type": "code",
   "execution_count": null,
   "metadata": {},
   "outputs": [],
   "source": [
    "# このセルで試してみよう"
   ]
  },
  {
   "cell_type": "code",
   "execution_count": 7,
   "metadata": {
    "deletable": false,
    "editable": false,
    "nbgrader": {
     "cell_type": "code",
     "checksum": "9036ddf99b1a763d248dc421a757f649",
     "grade": true,
     "grade_id": "E-check-play_env",
     "locked": true,
     "points": 2,
     "schema_version": 3,
     "solution": false,
     "task": false
    }
   },
   "outputs": [
    {
     "name": "stdout",
     "output_type": "stream",
     "text": [
      "ok!\n"
     ]
    }
   ],
   "source": [
    "# 評価用セル(返り値がndarrayか確認)\n",
    "_env = gym.make(\"MDPGridworld-v1\")\n",
    "_action_list = list(range(_env.action_space.n))\n",
    "_agent = Qlearner(_action_list)\n",
    "\n",
    "_max_episode = 100\n",
    "step, score = play_env(env=_env, agent=_agent, max_episode=_max_episode, verbose=False)\n",
    "eq_(type(step), np.ndarray, msg=\"stepがndarrayではないですよ!?\")\n",
    "eq_(type(score), np.ndarray, msg=\"scoreがndarrayではないですよ!?\")\n",
    "eq_(step.shape, (_max_episode,), msg=\"stepのサイズが変ですよ。\")\n",
    "eq_(score.shape, (_max_episode,), msg=\"stepのサイズが変ですよ。\")\n",
    "_max_episode = 20\n",
    "step, score = play_env(env=_env, agent=_agent, max_episode=_max_episode, verbose=False)\n",
    "eq_(step.shape, (_max_episode,), msg=\"stepのサイズが変ですよ。\")\n",
    "eq_(score.shape, (_max_episode,), msg=\"stepのサイズが変ですよ。\")\n",
    "print(\"ok!\")"
   ]
  },
  {
   "cell_type": "markdown",
   "metadata": {},
   "source": [
    "## 結果の可視化: `plot_history()`\n",
    "\n",
    "Q. 次のセルにgridworld課題シートで作った関数`plot_history()`を入力して動作確認を行い，必要に応じて修正をしなさい。"
   ]
  },
  {
   "cell_type": "code",
   "execution_count": 9,
   "metadata": {
    "deletable": false,
    "nbgrader": {
     "cell_type": "code",
     "checksum": "631ea9d254b29ba41c51b2d065bac39b",
     "grade": false,
     "grade_id": "A-plot_history",
     "locked": false,
     "schema_version": 3,
     "solution": true,
     "task": false
    }
   },
   "outputs": [],
   "source": [
    "import matplotlib.pyplot as plt\n",
    "\n",
    "\n",
    "# YOUR CODE HERE\n",
    "import numpy as np\n",
    "\n",
    "def plot_history(step, score):\n",
    "    fig = plt.figure(figsize=(7, 5))\n",
    "    plt.rcParams[\"font.size\"] = 16\n",
    "\n",
    "    ax1 = fig.add_subplot(211)  # こちらにステップ数`step`を描画\n",
    "    ax2 = fig.add_subplot(212)  # こちらに総報酬`score`を描画\n",
    "\n",
    "    dom = np.arange(0, len(step), 1)\n",
    "    \n",
    "    ax1.plot(dom, step, label=\"step\")\n",
    "    ax1.set_xlim(0, len(step))\n",
    "    ax1.grid(True)\n",
    "    ax1.set_ylabel(\"step\")\n",
    "    \n",
    "    ax2.plot(dom, score, label=\"return\")\n",
    "    ax2.set_xlim(0, len(step))\n",
    "    ax2.grid(True)\n",
    "    ax2.set_ylabel(\"return\")\n",
    "    ax2.set_xlabel(\"episode\")\n",
    "\n",
    "    plt.tight_layout()  # タイトルやラベルが重ならないように配置調整し，生成されているFigureを描画\n",
    "    \n",
    "    return ax1, ax2"
   ]
  },
  {
   "cell_type": "markdown",
   "metadata": {},
   "source": [
    "Q. 次のセルを実行して，ここまでに入力した内容の動作確認をしなさい。"
   ]
  },
  {
   "cell_type": "code",
   "execution_count": 10,
   "metadata": {},
   "outputs": [
    {
     "data": {
      "image/png": "[encoded data removed]",
      "text/plain": [
       "<Figure size 504x360 with 2 Axes>"
      ]
     },
     "metadata": {
      "needs_background": "light"
     },
     "output_type": "display_data"
    }
   ],
   "source": [
    "# このセルで動作確認をしよう\n",
    "# Qlearner + play_env() + MGPGridWorld の学習プログラム\n",
    "\n",
    "env = gym.make(\"MDPGridworld-v1\")\n",
    "action_list = list(range(env.action_space.n))  # action_list取得\n",
    "agent = Qlearner(action_list)  # 学習エージェント生成\n",
    "\n",
    "step, score = play_env(env=env, agent=agent, max_episode=100, verbose=False)\n",
    "ax1, ax2 = plot_history(step, score)"
   ]
  },
  {
   "cell_type": "code",
   "execution_count": null,
   "metadata": {
    "deletable": false,
    "editable": false,
    "nbgrader": {
     "cell_type": "code",
     "checksum": "2f0dae6de4d78df9efa890b5dbbb3c98",
     "grade": true,
     "grade_id": "E-plot_history",
     "locked": true,
     "points": 1,
     "schema_version": 3,
     "solution": false,
     "task": false
    }
   },
   "outputs": [],
   "source": [
    "# 評価用セル"
   ]
  },
  {
   "cell_type": "markdown",
   "metadata": {},
   "source": [
    "## 結果の分析: `mean_performance()`\n",
    "\n",
    "Q. 上記のプログラムを何度か実行するとわかるように，強化学習には乱数を用いるので，実行するたびに若干結果が異なる。そこで，学習性能の評価のためには，関数`play_env()`で実行した結果を何度も実行し，返り値の`step`, `score`の平均値と標準偏差を評価する必要がある。このような評価を行うための関数`mean_performance()`を以下のように作成しなさい。\n",
    "\n",
    "\n",
    "**引数とデフォルト値**\n",
    "\n",
    "- `env`: 学習環境。`gym.make(\"MDPGridworld-v1\")`の返り値などを渡す\n",
    "- `agent`: 環境を動く行動を決定するエージェント。`Qlearner`などのインスタンス変数を渡す\n",
    "- `n_trial`: `play_env()`を実行する回数(デフォルト値`10`)\n",
    "- `max_episode`: 繰り返すエピソード数 (デフォルト値`100`)\n",
    "- `learning` : 学習を行うか否か指定 (デフォルト値`True`)\n",
    "\n",
    "**処理**\n",
    "\n",
    "- `play_env()`を引数で指定した回数(`n_trial`)だけ実行する。`play_env()`の引数には，`mean_performance()`の引数(`env`, `agent`, `max_episode`)をそのまま渡す他，`verbose=False`を指定する。\n",
    "- **新たに`play_env()`を呼び出す毎に`agent.reset()`によって学習内容を消去**すること。\n",
    "- 上記の実行の結果，`play_env()`の返り値`history_step`, `history_score`が`n_trial`回得られる。各データにおける第1,2,...,`max_episode`回目のエピソードのそれぞれについて平均値と標準偏差を求める。\n",
    "- 返り値平均値と標準偏差は長さ`max_episode`の`ndarray`になることに注意\n",
    "- **ヒント**) `numpy`課題シートにある`sinrnd()`の平均値を求める問を参考にすると良い\n",
    "\n",
    "        \n",
    "**返り値**\n",
    "\n",
    "- `step_mean`: 各エピソードにおいてエピソード終了までにかかったステップ数の平均値\n",
    "- `score_mean`: 各エピソードにおいて獲得した総報酬の平均値\n",
    "- `step_sd`:  各エピソードにおいてエピソード終了までにかかったステップ数の標準偏差\n",
    "- `score_sd`: 各エピソードにおいて獲得した総報酬の標準偏差\n",
    "\n",
    "**実行例**\n",
    "```python\n",
    "agent = Qlearner(action_list)\n",
    "step_mean, score_mean, step_sd, score_sd = mean_performance(\n",
    "    env=env, agent=agent, n_trial=10, max_episode=100, learning=True\n",
    ")\n",
    "```"
   ]
  },
  {
   "cell_type": "code",
   "execution_count": 15,
   "metadata": {
    "deletable": false,
    "nbgrader": {
     "cell_type": "code",
     "checksum": "daee53a617c11d9c03e87bf492bad284",
     "grade": false,
     "grade_id": "A-mean_performance",
     "locked": false,
     "schema_version": 3,
     "solution": true,
     "task": false
    }
   },
   "outputs": [],
   "source": [
    "# YOUR CODE HERE\n",
    "def mean_performance(env, agent, n_trial=10, max_episode=100, learning=True):\n",
    "    steps = np.array([])\n",
    "    scores = np.array([])\n",
    "    for _ in range(n_trial):\n",
    "        history_step, history_score = play_env(env, agent, learning=learning, max_episode=max_episode)\n",
    "        agent.reset()\n",
    "        np.append(steps, history_step)\n",
    "        np.append(scores, history_score)\n",
    "    \n",
    "    step_mean = np.mean(steps)\n",
    "    score_mean = np.mean(scores)\n",
    "    step_sd = np.std(steps)\n",
    "    score_sd = np.std(scores)\n",
    "    return (step_mean, score_mean, step_sd, score_sd)"
   ]
  },
  {
   "cell_type": "code",
   "execution_count": 14,
   "metadata": {},
   "outputs": [
    {
     "ename": "TypeError",
     "evalue": "plot_history() takes 2 positional arguments but 4 were given",
     "output_type": "error",
     "traceback": [
      "\u001b[0;31m---------------------------------------------------------------------------\u001b[0m",
      "\u001b[0;31mTypeError\u001b[0m                                 Traceback (most recent call last)",
      "\u001b[0;32m<ipython-input-14-c663c1954494>\u001b[0m in \u001b[0;36m<module>\u001b[0;34m\u001b[0m\n\u001b[1;32m     48\u001b[0m \u001b[0;34m\u001b[0m\u001b[0m\n\u001b[1;32m     49\u001b[0m \u001b[0;34m\u001b[0m\u001b[0m\n\u001b[0;32m---> 50\u001b[0;31m \u001b[0massert_mean_performance\u001b[0m\u001b[0;34m(\u001b[0m\u001b[0;36m5\u001b[0m\u001b[0;34m)\u001b[0m\u001b[0;34m\u001b[0m\u001b[0;34m\u001b[0m\u001b[0m\n\u001b[0m\u001b[1;32m     51\u001b[0m \u001b[0massert_mean_performance\u001b[0m\u001b[0;34m(\u001b[0m\u001b[0;36m10\u001b[0m\u001b[0;34m)\u001b[0m\u001b[0;34m\u001b[0m\u001b[0;34m\u001b[0m\u001b[0m\n\u001b[1;32m     52\u001b[0m \u001b[0;34m\u001b[0m\u001b[0m\n",
      "\u001b[0;32m<ipython-input-14-c663c1954494>\u001b[0m in \u001b[0;36massert_mean_performance\u001b[0;34m(max_episode)\u001b[0m\n\u001b[1;32m     28\u001b[0m     \u001b[0maction_list\u001b[0m \u001b[0;34m=\u001b[0m \u001b[0mlist\u001b[0m\u001b[0;34m(\u001b[0m\u001b[0mrange\u001b[0m\u001b[0;34m(\u001b[0m\u001b[0menv\u001b[0m\u001b[0;34m.\u001b[0m\u001b[0maction_space\u001b[0m\u001b[0;34m.\u001b[0m\u001b[0mn\u001b[0m\u001b[0;34m)\u001b[0m\u001b[0;34m)\u001b[0m  \u001b[0;31m# action_list取得\u001b[0m\u001b[0;34m\u001b[0m\u001b[0;34m\u001b[0m\u001b[0m\n\u001b[1;32m     29\u001b[0m     step_mean, score_mean, step_sd, score_sd = test_mdpgrid(\n\u001b[0;32m---> 30\u001b[0;31m         \u001b[0magent\u001b[0m\u001b[0;34m=\u001b[0m\u001b[0mAnonymous\u001b[0m\u001b[0;34m(\u001b[0m\u001b[0maction_list\u001b[0m\u001b[0;34m,\u001b[0m \u001b[0;36m0\u001b[0m\u001b[0;34m)\u001b[0m\u001b[0;34m,\u001b[0m \u001b[0mmax_episode\u001b[0m\u001b[0;34m=\u001b[0m\u001b[0mmax_episode\u001b[0m\u001b[0;34m\u001b[0m\u001b[0;34m\u001b[0m\u001b[0m\n\u001b[0m\u001b[1;32m     31\u001b[0m     )\n\u001b[1;32m     32\u001b[0m \u001b[0;34m\u001b[0m\u001b[0m\n",
      "\u001b[0;32m<ipython-input-14-c663c1954494>\u001b[0m in \u001b[0;36mtest_mdpgrid\u001b[0;34m(agent, max_episode, n_trial)\u001b[0m\n\u001b[1;32m     20\u001b[0m         \u001b[0menv\u001b[0m\u001b[0;34m=\u001b[0m\u001b[0menv\u001b[0m\u001b[0;34m,\u001b[0m \u001b[0magent\u001b[0m\u001b[0;34m=\u001b[0m\u001b[0magent\u001b[0m\u001b[0;34m,\u001b[0m \u001b[0mn_trial\u001b[0m\u001b[0;34m=\u001b[0m\u001b[0mn_trial\u001b[0m\u001b[0;34m,\u001b[0m \u001b[0mmax_episode\u001b[0m\u001b[0;34m=\u001b[0m\u001b[0mmax_episode\u001b[0m\u001b[0;34m\u001b[0m\u001b[0;34m\u001b[0m\u001b[0m\n\u001b[1;32m     21\u001b[0m     )\n\u001b[0;32m---> 22\u001b[0;31m     \u001b[0mplot_history\u001b[0m\u001b[0;34m(\u001b[0m\u001b[0mstep_mean\u001b[0m\u001b[0;34m,\u001b[0m \u001b[0mscore_mean\u001b[0m\u001b[0;34m,\u001b[0m \u001b[0mstep_sd\u001b[0m\u001b[0;34m,\u001b[0m \u001b[0mscore_sd\u001b[0m\u001b[0;34m)\u001b[0m\u001b[0;34m\u001b[0m\u001b[0;34m\u001b[0m\u001b[0m\n\u001b[0m\u001b[1;32m     23\u001b[0m \u001b[0;34m\u001b[0m\u001b[0m\n\u001b[1;32m     24\u001b[0m     \u001b[0;32mreturn\u001b[0m \u001b[0mstep_mean\u001b[0m\u001b[0;34m,\u001b[0m \u001b[0mscore_mean\u001b[0m\u001b[0;34m,\u001b[0m \u001b[0mstep_sd\u001b[0m\u001b[0;34m,\u001b[0m \u001b[0mscore_sd\u001b[0m\u001b[0;34m\u001b[0m\u001b[0;34m\u001b[0m\u001b[0m\n",
      "\u001b[0;31mTypeError\u001b[0m: plot_history() takes 2 positional arguments but 4 were given"
     ]
    }
   ],
   "source": [
    "# このセルで動作確認をしよう\n"
   ]
  },
  {
   "cell_type": "code",
   "execution_count": 13,
   "metadata": {
    "deletable": false,
    "editable": false,
    "nbgrader": {
     "cell_type": "code",
     "checksum": "00f9b6be10bc84403c7580473a1b2ecb",
     "grade": true,
     "grade_id": "E-mean_performance_Fool",
     "locked": true,
     "points": 2,
     "schema_version": 3,
     "solution": false,
     "task": false
    }
   },
   "outputs": [
    {
     "name": "stderr",
     "output_type": "stream",
     "text": [
      "/usr/local/lib/python3.6/dist-packages/numpy/core/fromnumeric.py:3257: RuntimeWarning: Mean of empty slice.\n",
      "  out=out, **kwargs)\n",
      "/usr/local/lib/python3.6/dist-packages/numpy/core/_methods.py:161: RuntimeWarning: invalid value encountered in double_scalars\n",
      "  ret = ret.dtype.type(ret / rcount)\n",
      "/usr/local/lib/python3.6/dist-packages/numpy/core/_methods.py:217: RuntimeWarning: Degrees of freedom <= 0 for slice\n",
      "  keepdims=keepdims)\n",
      "/usr/local/lib/python3.6/dist-packages/numpy/core/_methods.py:186: RuntimeWarning: invalid value encountered in true_divide\n",
      "  arrmean, rcount, out=arrmean, casting='unsafe', subok=False)\n",
      "/usr/local/lib/python3.6/dist-packages/numpy/core/_methods.py:209: RuntimeWarning: invalid value encountered in double_scalars\n",
      "  ret = ret.dtype.type(ret / rcount)\n"
     ]
    },
    {
     "ename": "AssertionError",
     "evalue": "\nArrays are not equal\nstep_mean が max_episode行1列 ではありません。\n(shapes (0,), (1,) mismatch)\n x: array([], dtype=float64)\n y: array([5])",
     "output_type": "error",
     "traceback": [
      "\u001b[0;31m---------------------------------------------------------------------------\u001b[0m",
      "\u001b[0;31mAssertionError\u001b[0m                            Traceback (most recent call last)",
      "\u001b[0;32m<ipython-input-13-a77f22f5dc11>\u001b[0m in \u001b[0;36m<module>\u001b[0;34m\u001b[0m\n\u001b[1;32m     47\u001b[0m \u001b[0;34m\u001b[0m\u001b[0m\n\u001b[1;32m     48\u001b[0m \u001b[0;34m\u001b[0m\u001b[0m\n\u001b[0;32m---> 49\u001b[0;31m \u001b[0massert_mean_performance\u001b[0m\u001b[0;34m(\u001b[0m\u001b[0;36m5\u001b[0m\u001b[0;34m)\u001b[0m\u001b[0;34m\u001b[0m\u001b[0;34m\u001b[0m\u001b[0m\n\u001b[0m\u001b[1;32m     50\u001b[0m \u001b[0massert_mean_performance\u001b[0m\u001b[0;34m(\u001b[0m\u001b[0;36m10\u001b[0m\u001b[0;34m)\u001b[0m\u001b[0;34m\u001b[0m\u001b[0;34m\u001b[0m\u001b[0m\n\u001b[1;32m     51\u001b[0m \u001b[0;34m\u001b[0m\u001b[0m\n",
      "\u001b[0;32m<ipython-input-13-a77f22f5dc11>\u001b[0m in \u001b[0;36massert_mean_performance\u001b[0;34m(max_episode)\u001b[0m\n\u001b[1;32m     31\u001b[0m \u001b[0;34m\u001b[0m\u001b[0m\n\u001b[1;32m     32\u001b[0m     nt.assert_array_equal(\n\u001b[0;32m---> 33\u001b[0;31m         \u001b[0mstep_mean\u001b[0m\u001b[0;34m.\u001b[0m\u001b[0mshape\u001b[0m\u001b[0;34m,\u001b[0m \u001b[0;34m(\u001b[0m\u001b[0mmax_episode\u001b[0m\u001b[0;34m,\u001b[0m\u001b[0;34m)\u001b[0m\u001b[0;34m,\u001b[0m \u001b[0merr_msg\u001b[0m\u001b[0;34m=\u001b[0m\u001b[0;34m\"step_mean が max_episode行1列 ではありません。\"\u001b[0m\u001b[0;34m\u001b[0m\u001b[0;34m\u001b[0m\u001b[0m\n\u001b[0m\u001b[1;32m     34\u001b[0m     )\n\u001b[1;32m     35\u001b[0m     nt.assert_array_equal(\n",
      "\u001b[0;32m/usr/local/lib/python3.6/dist-packages/numpy/testing/_private/utils.py\u001b[0m in \u001b[0;36massert_array_equal\u001b[0;34m(x, y, err_msg, verbose)\u001b[0m\n\u001b[1;32m    916\u001b[0m     \u001b[0m__tracebackhide__\u001b[0m \u001b[0;34m=\u001b[0m \u001b[0;32mTrue\u001b[0m  \u001b[0;31m# Hide traceback for py.test\u001b[0m\u001b[0;34m\u001b[0m\u001b[0;34m\u001b[0m\u001b[0m\n\u001b[1;32m    917\u001b[0m     assert_array_compare(operator.__eq__, x, y, err_msg=err_msg,\n\u001b[0;32m--> 918\u001b[0;31m                          verbose=verbose, header='Arrays are not equal')\n\u001b[0m\u001b[1;32m    919\u001b[0m \u001b[0;34m\u001b[0m\u001b[0m\n\u001b[1;32m    920\u001b[0m \u001b[0;34m\u001b[0m\u001b[0m\n",
      "\u001b[0;32m/usr/local/lib/python3.6/dist-packages/numpy/testing/_private/utils.py\u001b[0m in \u001b[0;36massert_array_compare\u001b[0;34m(comparison, x, y, err_msg, verbose, header, precision, equal_nan, equal_inf)\u001b[0m\n\u001b[1;32m    762\u001b[0m                                 \u001b[0mverbose\u001b[0m\u001b[0;34m=\u001b[0m\u001b[0mverbose\u001b[0m\u001b[0;34m,\u001b[0m \u001b[0mheader\u001b[0m\u001b[0;34m=\u001b[0m\u001b[0mheader\u001b[0m\u001b[0;34m,\u001b[0m\u001b[0;34m\u001b[0m\u001b[0;34m\u001b[0m\u001b[0m\n\u001b[1;32m    763\u001b[0m                                 names=('x', 'y'), precision=precision)\n\u001b[0;32m--> 764\u001b[0;31m             \u001b[0;32mraise\u001b[0m \u001b[0mAssertionError\u001b[0m\u001b[0;34m(\u001b[0m\u001b[0mmsg\u001b[0m\u001b[0;34m)\u001b[0m\u001b[0;34m\u001b[0m\u001b[0;34m\u001b[0m\u001b[0m\n\u001b[0m\u001b[1;32m    765\u001b[0m \u001b[0;34m\u001b[0m\u001b[0m\n\u001b[1;32m    766\u001b[0m         \u001b[0mflagged\u001b[0m \u001b[0;34m=\u001b[0m \u001b[0mbool_\u001b[0m\u001b[0;34m(\u001b[0m\u001b[0;32mFalse\u001b[0m\u001b[0;34m)\u001b[0m\u001b[0;34m\u001b[0m\u001b[0;34m\u001b[0m\u001b[0m\n",
      "\u001b[0;31mAssertionError\u001b[0m: \nArrays are not equal\nstep_mean が max_episode行1列 ではありません。\n(shapes (0,), (1,) mismatch)\n x: array([], dtype=float64)\n y: array([5])"
     ]
    }
   ],
   "source": [
    "# 評価用セル\n",
    "class Anonymous:\n",
    "    def __init__(self, action_list, action=\"random\"):\n",
    "        self.action_list = action_list\n",
    "        self.a = action if action in action_list else \"random\"\n",
    "\n",
    "    def get_action(self, s):\n",
    "        return ra.choice(self.action_list) if self.a == \"random\" else self.a\n",
    "\n",
    "    def reset(self):\n",
    "        return 0\n",
    "\n",
    "    def learning(self, s_old, action, r, s, terminal):\n",
    "        return 0\n",
    "\n",
    "\n",
    "def test_mdpgrid(agent, max_episode=50, n_trial=10):\n",
    "    step_mean, score_mean, step_sd, score_sd = mean_performance(\n",
    "        env=env, agent=agent, n_trial=n_trial, max_episode=max_episode\n",
    "    )\n",
    "    #    plot_history(step_mean, score_mean, step_sd, score_sd)\n",
    "\n",
    "    return step_mean, score_mean, step_sd, score_sd\n",
    "\n",
    "\n",
    "def assert_mean_performance(max_episode):\n",
    "    action_list = list(range(env.action_space.n))  # action_list取得\n",
    "    step_mean, score_mean, step_sd, score_sd = test_mdpgrid(\n",
    "        agent=Anonymous(action_list, 0), max_episode=max_episode\n",
    "    )\n",
    "\n",
    "    nt.assert_array_equal(\n",
    "        step_mean.shape, (max_episode,), err_msg=\"step_mean が max_episode行1列 ではありません。\"\n",
    "    )\n",
    "    nt.assert_array_equal(\n",
    "        score_mean.shape, (max_episode,), err_msg=\"score_mean が max_episode行1列 ではありません。\"\n",
    "    )\n",
    "\n",
    "    nt.assert_equal(\n",
    "        step_mean, np.full(max_episode, 200.0), err_msg=\"action 0に対する結果が変です\"\n",
    "    )\n",
    "    nt.assert_equal(\n",
    "        score_mean, np.full(max_episode, -600.0), err_msg=\"action 0に対する結果が変です\"\n",
    "    )\n",
    "    nt.assert_equal(step_sd, np.full(max_episode, 0.0), err_msg=\"action 0に対する結果が変です\")\n",
    "    nt.assert_equal(score_sd, np.full(max_episode, 0.0), err_msg=\"action 0に対する結果が変です\")\n",
    "\n",
    "\n",
    "assert_mean_performance(5)\n",
    "assert_mean_performance(10)\n",
    "\n",
    "print(\"passed!\")"
   ]
  },
  {
   "cell_type": "code",
   "execution_count": null,
   "metadata": {
    "deletable": false,
    "editable": false,
    "nbgrader": {
     "cell_type": "code",
     "checksum": "0d833e01ad359c30d7905dd33e4b2148",
     "grade": true,
     "grade_id": "E-mean_performance_random",
     "locked": true,
     "points": 2,
     "schema_version": 3,
     "solution": false,
     "task": false
    }
   },
   "outputs": [],
   "source": [
    "# 評価用セルその2"
   ]
  },
  {
   "cell_type": "markdown",
   "metadata": {},
   "source": [
    "## 結果の可視化その2: `plot_history()`の修正\n",
    "\n",
    "Q. 関数`plot_history()`を以下のように修正して、`mean_performance()`で得られた`steps`と`scores`の`mean±SD`のグラフを表示できるようにしなさい。\n",
    "\n",
    "**引数**\n",
    "\n",
    "- `mean_performance()`の4つの返り値を引数として渡せるように、引数には`step`, `score`に以下を追加。\n",
    "    - `step_sd` : デフォルト値は`None` \n",
    "    - `score_sd`: デフォルト値は`None`\n",
    "    - 注意: \n",
    "        - ある変数値が`None`である場合，その**変数が未定義**であることを表す。なお，`None`は**文字列ではない**ことに注意。\n",
    "        - `if`文で「変数`a`が未定義でない」場合の条件分岐を書くには以下のように書く。\n",
    "        ```python\n",
    "        if a is not None:\n",
    "            ...\n",
    "        ```\n",
    "\n",
    "**処理**\n",
    "\n",
    "- 元の`plot_history()`と同様に引数`step`と`score`に対するグラフをそれぞれ座標コンテナ`ax1`と`ax2`に登録して表示する他、以下の例のように、`step±step_sd`と`score±score_sd`のグラフもそれぞれの上下に表示する。\n",
    "- ただし，`step_sd`や`score_sd`の値が`None`の場合には，該当する標準偏差のグラフは表示しない。\n",
    "\n",
    "**返り値**\n",
    "\n",
    "- 元の`plot_history()`と同様に座標コンテナ`ax1`と`ax2`を返り値とする。\n",
    "\n",
    "\n",
    "**実行例**\n",
    "```python\n",
    "agent = Qlearner(action_list)\n",
    "step_mean, score_mean, step_sd, score_sd = mean_performance(env=env, agent=agent, n_trial=10, max_episode=100)\n",
    "plot_history(step_mean, score_mean, step_sd, score_sd)\n",
    "```\n",
    "\n",
    "![](images/plot_history2.png)"
   ]
  },
  {
   "cell_type": "code",
   "execution_count": null,
   "metadata": {
    "deletable": false,
    "nbgrader": {
     "cell_type": "code",
     "checksum": "29c1ca68e6b0f7ca8e98dca6ba6dfe49",
     "grade": false,
     "grade_id": "A-plot_history2",
     "locked": false,
     "schema_version": 3,
     "solution": true,
     "task": false
    }
   },
   "outputs": [],
   "source": [
    "# YOUR CODE HERE\n",
    "import matplotlib.pyplot as plt\n",
    "\n",
    "\n",
    "# YOUR CODE HERE\n",
    "import numpy as np\n",
    "\n",
    "def plot_history(step_mean, score_mean, step_sd, score_sd):\n",
    "    fig = plt.figure(figsize=(7, 5))\n",
    "    plt.rcParams[\"font.size\"] = 16\n",
    "\n",
    "    ax1 = fig.add_subplot(211)  # こちらにステップ数`step`を描画\n",
    "    ax2 = fig.add_subplot(212)  # こちらに総報酬`score`を描画\n",
    "\n",
    "    dom = np.arange(0, len(step), 1)\n",
    "    \n",
    "    ax1.plot(dom, step, label=\"step\")\n",
    "    ax1.set_xlim(0, len(step))\n",
    "    ax1.grid(True)\n",
    "    ax1.set_ylabel(\"step\")\n",
    "    \n",
    "    ax2.plot(dom, score, label=\"return\")\n",
    "    ax2.set_xlim(0, len(step))\n",
    "    ax2.grid(True)\n",
    "    ax2.set_ylabel(\"return\")\n",
    "    ax2.set_xlabel(\"episode\")\n",
    "\n",
    "    plt.tight_layout()  # タイトルやラベルが重ならないように配置調整し，生成されているFigureを描画\n",
    "    \n",
    "    return ax1, ax2"
   ]
  },
  {
   "cell_type": "code",
   "execution_count": null,
   "metadata": {},
   "outputs": [],
   "source": [
    "# このセルで試してみよう\n",
    "agent = Qlearner(action_list)\n",
    "step_mean, score_mean, step_sd, score_sd = mean_performance(env=env, agent=agent, n_trial=10, max_episode=100)\n",
    "plot_history(step_mean, score_mean, step_sd, score_sd)"
   ]
  },
  {
   "cell_type": "code",
   "execution_count": null,
   "metadata": {
    "deletable": false,
    "editable": false,
    "nbgrader": {
     "cell_type": "code",
     "checksum": "12ebf95aab32a8f785aff750ae80d84f",
     "grade": true,
     "grade_id": "E-plot_history2",
     "locked": true,
     "points": 3,
     "schema_version": 3,
     "solution": false,
     "task": false
    }
   },
   "outputs": [],
   "source": [
    "# 評価用セル"
   ]
  },
  {
   "cell_type": "markdown",
   "metadata": {},
   "source": [
    "<div class=\"alert alert-success\">\n",
    "\n",
    "# SARSA学習エージェント\n",
    "\n",
    "</div>\n",
    "\n",
    "Q. 課題シート'gridworld'で，`class Qlearner`の継承クラスとして作成した`class SARSAlearner`を次のセルにコピーしなさい。"
   ]
  },
  {
   "cell_type": "code",
   "execution_count": 16,
   "metadata": {
    "deletable": false,
    "nbgrader": {
     "cell_type": "code",
     "checksum": "ee80d50f70558106048693781ffd65bd",
     "grade": false,
     "grade_id": "A-SARSA",
     "locked": false,
     "schema_version": 3,
     "solution": true,
     "task": false
    }
   },
   "outputs": [],
   "source": [
    "# YOUR CODE HERE\n",
    "class SARSAlearner(Qlearner):\n",
    "    def learning(self, s1, a1, r, s2, terminal=False):\n",
    "        \"\"\"\n",
    "        Q(s1, a1) <= Q(s1, a1) + alpha * (r + gamma*Q(s2,a') - Q(s1,a1)) # 通常時\n",
    "        Q(s1, a1) <= Q(s1, a1) + alpha * (r - Q(s1,a1)) # エピソード終了時\n",
    "        a'は，状態s'において行動選択ポリシーに従い選択される行動(get_action()で取得)\n",
    "        \"\"\"\n",
    "        # YOUR CODE HERE\n",
    "        q1 = self.get_q(s1, a1)\n",
    "        q2 = 0\n",
    "        if not terminal: q2 = self.get_maxQ(s2)[0]\n",
    "        self.Q[(s1, a1)] = q1 + self.alpha * (r + self.gamma * q2 - q1)"
   ]
  },
  {
   "cell_type": "code",
   "execution_count": 17,
   "metadata": {},
   "outputs": [
    {
     "ename": "TypeError",
     "evalue": "plot_history() takes 2 positional arguments but 4 were given",
     "output_type": "error",
     "traceback": [
      "\u001b[0;31m---------------------------------------------------------------------------\u001b[0m",
      "\u001b[0;31mTypeError\u001b[0m                                 Traceback (most recent call last)",
      "\u001b[0;32m<ipython-input-17-6843345b6209>\u001b[0m in \u001b[0;36m<module>\u001b[0;34m\u001b[0m\n\u001b[1;32m      2\u001b[0m \u001b[0magent\u001b[0m \u001b[0;34m=\u001b[0m \u001b[0mSARSAlearner\u001b[0m\u001b[0;34m(\u001b[0m\u001b[0maction_list\u001b[0m\u001b[0;34m)\u001b[0m\u001b[0;34m\u001b[0m\u001b[0;34m\u001b[0m\u001b[0m\n\u001b[1;32m      3\u001b[0m \u001b[0mstep_mean\u001b[0m\u001b[0;34m,\u001b[0m \u001b[0mscore_mean\u001b[0m\u001b[0;34m,\u001b[0m \u001b[0mstep_sd\u001b[0m\u001b[0;34m,\u001b[0m \u001b[0mscore_sd\u001b[0m \u001b[0;34m=\u001b[0m \u001b[0mmean_performance\u001b[0m\u001b[0;34m(\u001b[0m\u001b[0menv\u001b[0m\u001b[0;34m=\u001b[0m\u001b[0menv\u001b[0m\u001b[0;34m,\u001b[0m \u001b[0magent\u001b[0m\u001b[0;34m=\u001b[0m\u001b[0magent\u001b[0m\u001b[0;34m,\u001b[0m \u001b[0mn_trial\u001b[0m\u001b[0;34m=\u001b[0m\u001b[0;36m10\u001b[0m\u001b[0;34m,\u001b[0m \u001b[0mmax_episode\u001b[0m\u001b[0;34m=\u001b[0m\u001b[0;36m100\u001b[0m\u001b[0;34m)\u001b[0m\u001b[0;34m\u001b[0m\u001b[0;34m\u001b[0m\u001b[0m\n\u001b[0;32m----> 4\u001b[0;31m \u001b[0mplot_history\u001b[0m\u001b[0;34m(\u001b[0m\u001b[0mstep_mean\u001b[0m\u001b[0;34m,\u001b[0m \u001b[0mscore_mean\u001b[0m\u001b[0;34m,\u001b[0m \u001b[0mstep_sd\u001b[0m\u001b[0;34m,\u001b[0m \u001b[0mscore_sd\u001b[0m\u001b[0;34m)\u001b[0m\u001b[0;34m\u001b[0m\u001b[0;34m\u001b[0m\u001b[0m\n\u001b[0m",
      "\u001b[0;31mTypeError\u001b[0m: plot_history() takes 2 positional arguments but 4 were given"
     ]
    }
   ],
   "source": [
    "# このセルで動作確認をしよう\n",
    "agent = SARSAlearner(action_list)\n",
    "step_mean, score_mean, step_sd, score_sd = mean_performance(env=env, agent=agent, n_trial=10, max_episode=100)\n",
    "plot_history(step_mean, score_mean, step_sd, score_sd)"
   ]
  },
  {
   "cell_type": "code",
   "execution_count": null,
   "metadata": {
    "deletable": false,
    "editable": false,
    "nbgrader": {
     "cell_type": "code",
     "checksum": "7ebfc831634a7811a5ddf70fe00e3f9d",
     "grade": true,
     "grade_id": "E-SARSA",
     "locked": true,
     "points": 1,
     "schema_version": 3,
     "solution": false,
     "task": false
    }
   },
   "outputs": [],
   "source": [
    "# 評価用セル"
   ]
  },
  {
   "cell_type": "markdown",
   "metadata": {},
   "source": [
    "<div class=\"alert alert-success\">\n",
    "\n",
    "# Actor-Criticエージェント\n",
    "\n",
    "</div>\n",
    "\n",
    "**Q.** `class Qlearner`を改造して、Actor-Critic法による学習を行う`class ActorCritic`を作りなさい。**変更点は以下**になる。\n",
    "`class Qlearner`の継承クラスとして作成しても良いが，新規に作り直しても良い。\n",
    "\n",
    "\n",
    "- 初期化メソッドの修正・追加\n",
    "    - 引数:\n",
    "        - `v0`を追加。状態価値関数$V(s)$の初期値, デフォルト値は0.0\n",
    "        - `T`を追加。行動選択に用いるsoftmax法のパラメータ, デフォルト値は1.0\n",
    "        - 行動選択にはsoftmax法を利用するので，ε-greedy法のパラメータに用いていた引数`epsilon`は不要になる。ActorCriticの初期化メソッドの引数からは削除。\n",
    "    - 処理内容\n",
    "        - インスタンス変数`v0`に引数`v0`の値を代入\n",
    "        - 状態価値関数$V(s)$の値を格納する空の辞書`V`を準備。(Qlearnerの辞書`Q`の初期化と同様)\n",
    "        - その他の処理は`Qlearner`と同じ\n",
    "- インスタンスメソッド`reset()`の追加処理\n",
    "    - 辞書`V`の要素を空にリセットする(辞書`Q`のリセットと同様)\n",
    "- インスタンスメソッド`get_V()`の追加\n",
    "    - 引数: `s` (状態)\n",
    "    - 返値: 辞書`V`を参照し、価値関数$V(s)$の値を返す。引数で与えられた状態`s`が辞書`V`のキーにないときには、インスタンス変数`v0`の値を返す。(すでにある`get_Q()`とほぼ同様の内容)\n",
    "- インスタンスメソッド`learning()`の修正\n",
    "    - Q学習をActor-Critic法に変更する。\n",
    "        $$\\delta=r+\\gamma V(s')-V(s)$$\n",
    "        $$V(s) \\leftarrow V(s)+\\alpha\\delta$$\n",
    "        $$Q(s, a) \\leftarrow Q(s,a) + \\alpha\\delta$$\n",
    "        ただし，`s'`がエピソード終了状態ならば\n",
    "        $$\\delta=r-V(s)$$\n",
    "    - $Q(s,a)$は、状態$(s,a)$における行動を決定するための関数\n",
    "        - 講義では関数`p(s,a)`と説明していた関数。Q学習の状態行動価値関数とは定義が異なるが，`Qlearner`で使っていた辞書`Q`をそのまま用いることにする。\n",
    "    - $Q(s,a)$の学習定数$\\alpha$は、$V(s)$の学習定数とは異なる値にすることもあるが、とりあえず同じ値にしておく。\n",
    "- 行動選択メソッド`get_action()`の修正\n",
    "    - $Q(s,a)$に基づく行動選択をsoftmax法にする。すなわち，行動`a`の選択確率は次式で与えられる。\n",
    "        $$\\displaystyle P(a)=\\frac{e^\\frac{Q(a)}{T}}{\\displaystyle\\sum_{i=1}^{N}e^\\frac{Q(i)}{T}}$$\n",
    "    - softmax法による行動決定に使う関数`softmax_rand()`には，課題シート`numpy`ですでに作成したものを用いなさい。"
   ]
  },
  {
   "cell_type": "code",
   "execution_count": null,
   "metadata": {
    "deletable": false,
    "nbgrader": {
     "cell_type": "code",
     "checksum": "9847ff942350cf9235d7259c27dd5eaa",
     "grade": false,
     "grade_id": "A-softmax_rand",
     "locked": false,
     "schema_version": 3,
     "solution": true,
     "task": false
    }
   },
   "outputs": [],
   "source": [
    "# このセルに課題シート`numpy`で作成した関数softmax_rand()を入力する。\n",
    "# YOUR CODE HERE\n",
    "raise NotImplementedError()"
   ]
  },
  {
   "cell_type": "code",
   "execution_count": null,
   "metadata": {
    "deletable": false,
    "nbgrader": {
     "cell_type": "code",
     "checksum": "17791a3a8bd14684d933a0fc228ecfed",
     "grade": false,
     "grade_id": "A-ActorCritic",
     "locked": false,
     "schema_version": 3,
     "solution": true,
     "task": false
    }
   },
   "outputs": [],
   "source": [
    "# このセルにclass ActorCriticの定義を入力する\n",
    "# YOUR CODE HERE\n",
    "raise NotImplementedError()"
   ]
  },
  {
   "cell_type": "code",
   "execution_count": null,
   "metadata": {
    "deletable": false,
    "nbgrader": {
     "cell_type": "code",
     "checksum": "fe050279e8ace4fd80a305d47a77e508",
     "grade": false,
     "grade_id": "A-ActorCritic-check",
     "locked": false,
     "schema_version": 3,
     "solution": true,
     "task": false
    }
   },
   "outputs": [],
   "source": [
    "# このセルで，`play_env()`と`plot_history()`を用いて動作確認をしよう\n",
    "# YOUR CODE HERE\n",
    "raise NotImplementedError()"
   ]
  },
  {
   "cell_type": "code",
   "execution_count": null,
   "metadata": {
    "deletable": false,
    "editable": false,
    "nbgrader": {
     "cell_type": "code",
     "checksum": "9b0819f32a7d72c7aa6e0966d28d3247",
     "grade": true,
     "grade_id": "E-ActorCritic-parameters",
     "locked": true,
     "points": 1,
     "schema_version": 3,
     "solution": false,
     "task": false
    }
   },
   "outputs": [],
   "source": [
    "# 評価用セル1：パラメータ初期化確認\n",
    "_action_list = [\"left\", \"right\"]\n",
    "_agent = ActorCritic(action_list,\n",
    "        alpha=0.2,\n",
    "        gamma=0.9,\n",
    "        v0=0.0,\n",
    "        q0=0.0,\n",
    "        T=1.0)\n",
    "\n",
    "# check init()\n",
    "eq_(_agent.alpha, 0.2, msg=\"ActorCriticの初期化インスタンスで, alphaが適切に初期化されてません。\")\n",
    "eq_(_agent.gamma, 0.9, msg=\"ActorCriticの初期化インスタンスで, gammaが適切に初期化されてません。\")\n",
    "eq_(_agent.q0, 0.0, msg=\"ActorCriticの初期化インスタンスで, q0が適切に初期化されてません。\")\n",
    "eq_(_agent.v0, 0.0, msg=\"ActorCriticの初期化インスタンスで, v0が適切に初期化されてません。\")\n",
    "eq_(_agent.T, 1.0, msg=\"ActorCriticの初期化インスタンスで, Tが適切に初期化されてません。\")\n",
    "\n",
    "eq_(_agent.Q, {}, msg=\"ActorCriticの初期化インスタンスで, Qが適切に初期化されてません。\")\n",
    "eq_(_agent.V, {}, msg=\"ActorCriticの初期化インスタンスで, Vが適切に初期化されてません。\")\n",
    "print(\"ok\")"
   ]
  },
  {
   "cell_type": "code",
   "execution_count": null,
   "metadata": {
    "deletable": false,
    "editable": false,
    "nbgrader": {
     "cell_type": "code",
     "checksum": "f4b7b433ab03cc32651a70e783865f31",
     "grade": true,
     "grade_id": "E-ActorCritic-learning",
     "locked": true,
     "points": 1,
     "schema_version": 3,
     "solution": false,
     "task": false
    }
   },
   "outputs": [],
   "source": [
    "# 評価用セル2：学習結果確認\n",
    "# check learning()\n",
    "_agent.reset()\n",
    "_agent.learning(s1=4, a1=\"right\", r=-1, s2=5)\n",
    "_agent.learning(s1=5, a1=\"right\", r=10, s2=6)\n",
    "_agent.learning(s1=3, a1=\"right\", r=-1, s2=4)\n",
    "_agent.learning(s1=4, a1=\"right\", r=-1, s2=5)\n",
    "_agent.learning(s1=5, a1=\"left\", r=-1, s2=4)\n",
    "_agent.learning(s1=4, a1=\"right\", r=-1, s2=5)\n",
    "_agent.learning(s1=5, a1=\"right\", r=10, s2=6)\n",
    "\n",
    "ans_Q = {\n",
    "    (4, \"right\"): 0.052000000000000005,\n",
    "    (5, \"right\"): 3.7199999999999998,\n",
    "    (3, \"right\"): -0.236,\n",
    "    (5, \"left\"): -0.6000000000000001,\n",
    "}\n",
    "ans_V = {4: 0.052000000000000005, 5: 3.12, 3: -0.236}\n",
    "\n",
    "_assert_dict_equal(_agent.Q, ans_Q, msg=\"学習後のQの要素値が変ですよ!\")\n",
    "_assert_dict_equal(_agent.V, ans_V, msg=\"学習後のVの要素値が変ですよ!\")\n",
    "print(\"good!\")"
   ]
  },
  {
   "cell_type": "code",
   "execution_count": null,
   "metadata": {
    "deletable": false,
    "editable": false,
    "nbgrader": {
     "cell_type": "code",
     "checksum": "ca6e8065ea68cd4267b8d27c519324e8",
     "grade": true,
     "grade_id": "E-ActorCritic-action",
     "locked": true,
     "points": 1,
     "schema_version": 3,
     "solution": false,
     "task": false
    }
   },
   "outputs": [],
   "source": [
    "# 評価用セル3：行動選択確認\n",
    "# check get_action()"
   ]
  },
  {
   "cell_type": "code",
   "execution_count": null,
   "metadata": {
    "deletable": false,
    "editable": false,
    "nbgrader": {
     "cell_type": "code",
     "checksum": "192b4186c7ee9e83a57524392472a498",
     "grade": true,
     "grade_id": "E-ActorCritic-reset",
     "locked": true,
     "points": 1,
     "schema_version": 3,
     "solution": false,
     "task": false
    }
   },
   "outputs": [],
   "source": [
    "# 評価用セル4：リセット動作確認\n",
    "# check reset()\n",
    "_agent.reset()\n",
    "eq_(_agent.Q, {})\n",
    "eq_(_agent.V, {})\n",
    "print(\"ok!\")"
   ]
  },
  {
   "cell_type": "markdown",
   "metadata": {},
   "source": [
    "<div class=\"alert alert-success\">\n",
    "\n",
    "# MDPGridworld-v3\n",
    "\n",
    "</div>\n",
    "\n",
    "これまでのMDPGridworld-v1に，プチご褒美がおいてあるのがv3です。"
   ]
  },
  {
   "cell_type": "code",
   "execution_count": null,
   "metadata": {},
   "outputs": [],
   "source": [
    "import gym\n",
    "\n",
    "env = gym.make(\"MDPGridworld-v3\")\n",
    "env.show_info()"
   ]
  },
  {
   "cell_type": "markdown",
   "metadata": {},
   "source": [
    "上の図のように，`C`と書かれているケーキがあります。\n",
    "ここに来ると美味しいケーキがあるので，5点もらえて，そこでエピソード終了になります。"
   ]
  },
  {
   "cell_type": "code",
   "execution_count": null,
   "metadata": {},
   "outputs": [],
   "source": [
    "# このセルは，自動採点の際に以降のセルを実行しないための命令です。無視してください。\n",
    "raise SystemExit(\"Stop right here!\")"
   ]
  },
  {
   "cell_type": "markdown",
   "metadata": {},
   "source": [
    "<div class=\"alert alert-success\">\n",
    "\n",
    "# 以下には，自由にセルを作成して，いろいろと動作確認して構いません。\n",
    "\n",
    "</div>\n",
    "\n",
    "- ここまでに作成したエージェントを使って，`MDPGridworld-v3`の攻略をしてみてください。"
   ]
  },
  {
   "cell_type": "code",
   "execution_count": null,
   "metadata": {},
   "outputs": [],
   "source": []
  }
 ],
 "metadata": {
  "kernelspec": {
   "display_name": "Python 3",
   "language": "python",
   "name": "python3"
  },
  "language_info": {
   "codemirror_mode": {
    "name": "ipython",
    "version": 3
   },
   "file_extension": ".py",
   "mimetype": "text/x-python",
   "name": "python",
   "nbconvert_exporter": "python",
   "pygments_lexer": "ipython3",
   "version": "3.6.9"
  },
  "nbTranslate": {
   "displayLangs": [
    "*"
   ],
   "hotkey": "alt-t",
   "langInMainMenu": true,
   "sourceLang": "en",
   "targetLang": "fr",
   "useGoogleTranslate": true
  },
  "toc": {
   "base_numbering": 1,
   "nav_menu": {},
   "number_sections": true,
   "sideBar": true,
   "skip_h1_title": false,
   "title_cell": "Table of Contents",
   "title_sidebar": "Contents",
   "toc_cell": false,
   "toc_position": {},
   "toc_section_display": true,
   "toc_window_display": true
  }
 },
 "nbformat": 4,
 "nbformat_minor": 2
}
