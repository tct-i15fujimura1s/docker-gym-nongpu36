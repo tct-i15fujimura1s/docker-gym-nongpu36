{
 "cells": [
  {
   "cell_type": "markdown",
   "metadata": {},
   "source": [
    "<div class=\"alert alert-danger\">\n",
    "\n",
    "# 名前欄\n",
    "\n",
    "</div>\n",
    "\n",
    "以下に名前と学籍番号(STUDENT_ID)の入力をして下さい。\n",
    "\n",
    "例)\n",
    "```python\n",
    "FAMILY_NAME = \"Yamaguchi\"# 姓をローマ字で入力\n",
    "FIRST_NAME = \"Daisuki\"   #  名をローマ字で入力\n",
    "USER = \"a11yamaguchi\"    # 公式メールアドレスのユーザ名\n",
    "STUDENT_ID = \"99999\" # 学籍番号\n",
    "```"
   ]
  },
  {
   "cell_type": "code",
   "execution_count": null,
   "metadata": {},
   "outputs": [],
   "source": [
    "FAMILY_NAME = \"\"  # 姓をローマ字で入力\n",
    "FIRST_NAME = \"\"  #  名をローマ字で入力\n",
    "USER = \"\"  # 公式メールアドレスのユーザ名\n",
    "STUDENT_ID = \"\"  # 99999 等と省略なしで入力"
   ]
  },
  {
   "cell_type": "markdown",
   "metadata": {},
   "source": [
    "<div class=\"alert alert-danger\">\n",
    "\n",
    "# 提出方法(高専の皆さんへ)\n",
    "\n",
    "</div>\n",
    "\n",
    "以下のように**ディレクトリ(フォルダ)名を変更して提出**しましょう。\n",
    "```python\n",
    "元のディレクトリ名-学籍番号-名字(ローマ字)\n",
    "```\n",
    "例えば，元のディレクトリ名が`01-basic/`, 学籍番号が`99999`,名字が`Yamaguchi`の場合は以下になります。\n",
    "```python\n",
    "01-basic-99999-Yamaguchi/\n",
    "```"
   ]
  },
  {
   "cell_type": "markdown",
   "metadata": {},
   "source": [
    "<div class=\"alert alert-danger\">\n",
    "\n",
    "# 注意\n",
    "\n",
    "</div>\n",
    "\n",
    "\n",
    "- 以下の説明文を読み， 内容を納得できるように自分で試しなさい。\n",
    "- **「# このセルで試してみよう」**, **「# このセルで動作確認をしよう」**と書かれているセルは自由に使って構いません。\n",
    "- 必要に応じてセルを増やしても構いません。役立ちそうな情報もメモしておくと，今後プログラムを組む上で便利です。\n",
    "- 表題等には適宜教科書のページを書いてあります。詳しい説明は教科書を参照しなさい。\n",
    "\n",
    "<div class=\"alert alert-danger\">\n",
    "\n",
    "## 設問と解答用セル\n",
    "    \n",
    "</div>   \n",
    "\n",
    "\"**Q.**\" から始まる設問に対する解答は必ず入力しなさい。解答用セルには以下のように表示される。\n",
    "\n",
    "```python\n",
    "# YOUR CODE HERE\n",
    "raise NotImplementedError()\n",
    "```\n",
    "\n",
    "**注意**\n",
    "\n",
    "- <span class=\"mark\">raise NotImplementedError()の一行は**必ず消去**して</span>，<span class=\"mark\"># YOUR CODE HERE の下に解答</span>を書くこと。\n",
    "- <span class=\"mark\">\\# YOUR CODE HERE の一行は**消さない**</span>こと。どこに解答を書くべきかがわからなくなることがあります。\n",
    "- なんらかの演算をしたり，命令文を作ったときは，その**結果が予想通りか否かを必ず確認しなさい**\n",
    "\n",
    "<div class=\"alert alert-danger\">\n",
    "\n",
    "## 評価用セル\n",
    "    \n",
    "</div>\n",
    "\n",
    "- **「評価用セル」と書かれているセルは採点のためのセル**です。\n",
    "- **評価用コードが一部表示されている場合，それを実行すると課題の実行結果の確認**をできます。\n",
    "- **表示されていない評価用コードも**あります。\n",
    "\n",
    "<div class=\"alert alert-danger\">\n",
    "\n",
    "## 課題提出前の注意\n",
    "    \n",
    "</div>   \n",
    "\n",
    "**[重要]** 以下の手順で，全ての課題が正常に動作するか確認してから提出しましょう。\n",
    "\n",
    "1.  メニューバーの\"Kernel\"をクリック後，\"Restart\"を選択\n",
    "2. メニューバーの\"Cell\"を，\"Run All\"を選択"
   ]
  },
  {
   "cell_type": "code",
   "execution_count": null,
   "metadata": {
    "deletable": false,
    "editable": false,
    "nbgrader": {
     "cell_type": "code",
     "checksum": "a1563f06b558b7d6201df9f9c889ccb7",
     "grade": false,
     "grade_id": "cell-054c6f00e1df67ff",
     "locked": true,
     "schema_version": 3,
     "solution": false,
     "task": false
    }
   },
   "outputs": [],
   "source": [
    "# このセルは自動評価を行うための命令です。内容は無視して，実行(Shift-Enter)のみをしてください。\n",
    "#%%writefile unittests.py\n",
    "#%load unittests.py\n",
    "%run unittests.py"
   ]
  },
  {
   "cell_type": "markdown",
   "metadata": {},
   "source": [
    "<div class=\"alert alert-success\">\n",
    "\n",
    "# 様々なパラメータ値に対する強化学習のパフォーマンス変化をグラフにする\n",
    "\n",
    "</div>\n",
    "\n",
    "## 準備\n",
    "\n",
    "パラメータ$\\epsilon$の様々な値に対する`mean_performance`の返り値を配列化して保存すれば，まとめて1つのグラフに表示できる。\n",
    "\n",
    "まずは，課題シート`griwrorld2`で作成した以下のクラスや関数を入力しましょう。\n",
    "- `class Qlearner`\n",
    "- `play_env()`\n",
    "- `mean_performance()` : \n",
    "- その他，上記のクラスや関数の実行に必要なもの"
   ]
  },
  {
   "cell_type": "code",
   "execution_count": null,
   "metadata": {},
   "outputs": [],
   "source": [
    "# モジュールの読み込み\n",
    "import numpy as np\n",
    "import random as ra\n",
    "import matplotlib.pyplot as plt\n",
    "import gym"
   ]
  },
  {
   "cell_type": "code",
   "execution_count": null,
   "metadata": {
    "deletable": false,
    "nbgrader": {
     "cell_type": "code",
     "checksum": "f3cc53e4b558167f742242ba83bfc103",
     "grade": false,
     "grade_id": "A-Qlearner",
     "locked": false,
     "schema_version": 3,
     "solution": true,
     "task": false
    }
   },
   "outputs": [],
   "source": [
    "# このセルに必要なクラスや関数を入力する\n",
    "# YOUR CODE HERE\n",
    "raise NotImplementedError()"
   ]
  },
  {
   "cell_type": "markdown",
   "metadata": {},
   "source": [
    "## 学習パフォーマンスのグラフ作成\n",
    "\n",
    "Q. 以下に，様々な$\\epsilon$の値に対する`mean_performance()`の返り値`score_mean`を配列化するプログラム例を示す。\n",
    "`mean_performance()`の中では`play_env()`を何度も実行してその結果を配列化しているのが，それと同様の処理内容である。\n",
    "命令文を完成して，以下のようなグラフを作成しなさい。\n",
    "\n",
    "![](images/RL-mean_performance.png)\n",
    "\n",
    "\n",
    "**注意点**\n",
    "- $\\epsilon=0.2, 0.4, 0.6, 0.8$の場合について，`mean_performance()`の返り値`score_mean`をグラフ表示すること\n",
    "- **軸名**は横軸`episodes`, 縦軸`score`とすること\n",
    "- `reward=0`を示す**水平線**も描画すること\n",
    "- **座標コンテナの名前**は`ax`にすること\n",
    "- グラフは**折れ線グラフ**とする\n",
    "- **凡例**(以下のグラフ右下部にある$\\epsilon=0.0$, $\\epsilon=0.2$等の一覧)をつけること。$\\epsilon$の表示には`$\\epsilon=$`と$\\LaTeX$表記を用いること。\n",
    "- グラフ化するデータの**エピソード数は100**にすること\n",
    "- **フォントは見やすいサイズ**に調整すること\n",
    "\n",
    "**プログラム例**\n",
    "\n",
    "```python\n",
    "env = gym.make(\"MDPGridworld-v1\")\n",
    "action_list = list(range(env.action_space.n))\n",
    "agent = Qlearner(action_list)\n",
    "\n",
    "e_range =   # epsilonの値設定。(上記仕様を満たす数値を要素とするndarrayを定義する)\n",
    "max_episode = 100 # グラフ化するデータのエピソード数は100にする\n",
    "mean =      # 0行max_episode列の2次元ndarrayを用意する。要素の初期化はしない。\n",
    "\n",
    "for i,e in enumerate(e_range):\n",
    "    agent=Qlearner(action_list, epsilon=e)\n",
    "    \"\"\"\n",
    "    1. エージェントのインスタンスを生成 (例: agent = Qlearner(action_list, epsilon=e))\n",
    "    2. mean_performance()を呼び出して，step_mean, score_mean, step_sd, score_sdを取得する\n",
    "    3. for文の前で定義した配列meanに，新たな行としてscore_meanを追加           \n",
    "    \"\"\"\n",
    "\n",
    "# グラフ作成\n",
    "fig = plt.figure(figsize=(6, 4))\n",
    "ax = fig.add_subplot()            # 座標コンテナ生成\n",
    "\n",
    "for i in range(len(e_range)):\n",
    "    # ここからは，ここまでの例を参考にグラフ作成\n",
    "```\n"
   ]
  },
  {
   "cell_type": "code",
   "execution_count": null,
   "metadata": {
    "deletable": false,
    "nbgrader": {
     "cell_type": "code",
     "checksum": "71db54c425c53592a1bc4194821d5f6f",
     "grade": false,
     "grade_id": "A-RL-profile",
     "locked": false,
     "schema_version": 3,
     "solution": true,
     "task": false
    }
   },
   "outputs": [],
   "source": [
    "# 解答欄\n",
    "# YOUR CODE HERE\n",
    "raise NotImplementedError()"
   ]
  },
  {
   "cell_type": "code",
   "execution_count": null,
   "metadata": {
    "deletable": false,
    "editable": false,
    "nbgrader": {
     "cell_type": "code",
     "checksum": "9db042f06c3c1860c3f2f5a406c00b25",
     "grade": true,
     "grade_id": "E-RL-profile-title",
     "locked": true,
     "points": 1,
     "schema_version": 3,
     "solution": false,
     "task": false
    }
   },
   "outputs": [],
   "source": [
    "# 評価用セル(軸ラベル確認)\n",
    "\n",
    "_check_axes_title(ax,title=[\"episodes\",\"score\"])\n",
    "print(\"ok!\")"
   ]
  },
  {
   "cell_type": "code",
   "execution_count": null,
   "metadata": {
    "deletable": false,
    "editable": false,
    "nbgrader": {
     "cell_type": "code",
     "checksum": "9f218dd4a4915c371dfe247cca84a99e",
     "grade": true,
     "grade_id": "E-RL-profile-data",
     "locked": true,
     "points": 1,
     "schema_version": 3,
     "solution": false,
     "task": false
    }
   },
   "outputs": [],
   "source": [
    "# 評価用セルその2(データ確認)\n",
    "\n",
    "ans_e_range = np.arange(0.2, 1.0, 0.2)\n",
    "\n",
    "nt.assert_array_equal(e_range, ans_e_range, err_msg=\"εの値設定がおかしいようです。\")\n",
    "eq_(mean.shape, (len(ans_e_range), 100), msg=\"meanに格納されているデータ数が変です。\")\n",
    "\n",
    "pc=ut_msg(LinePlotChecker,ax,msg=\"座標コンテナが正常に定義されていないようです。\")\n",
    "\n",
    "eq_(len(pc.y_data), len(ans_e_range) + 1, msg=\"グラフ化しているデータ数が変です。\")\n",
    "eq_(len(pc.y_data[1]), 100, msg=\"グラフデータのエピソード数が100になっていないようです。\")\n"
   ]
  },
  {
   "cell_type": "code",
   "execution_count": null,
   "metadata": {
    "deletable": false,
    "editable": false,
    "nbgrader": {
     "cell_type": "code",
     "checksum": "3e3ebfee9e18bed2bc54439f7b254d45",
     "grade": true,
     "grade_id": "E-RL-profile-label",
     "locked": true,
     "points": 1,
     "schema_version": 3,
     "solution": false,
     "task": false
    }
   },
   "outputs": [],
   "source": [
    "# 評価用セルその3(凡例(ラベル)確認)\n",
    "_labels=[ \"$\\\\epsilon=$\"+str(np.round(i,2)) for i in ans_e_range ]\n",
    "_check_labels(ax,_labels)"
   ]
  },
  {
   "cell_type": "markdown",
   "metadata": {},
   "source": [
    "<div class=\"alert alert-success\">\n",
    "\n",
    "# 強化学習の学習後のパフォーマンスの分布をグラフにする\n",
    "\n",
    "</div>\n",
    "\n",
    "同じパラメータ値でも，シミュレーションを行うたびに最終エピソードにおける獲得スコアは異なる。\n",
    "この最終獲得スコアの分布を，さまざまなパラメータ値に対して取得してグラフ化する方法を説明する。\n",
    "\n",
    "\n",
    "## 準備\n",
    "\n",
    "**Q.** 以下のような，`mean_performance()`の修正版`mean_performance2()`を作りなさい。\n",
    "\n",
    "- **引数:**\n",
    "    - 関数`mean_performance()`と同じ\n",
    "- **返り値:** \n",
    "    - `play_env()`を指定回数(`n_trial`)を実行したとき，それぞれにおける**最終エピソードのステップ数と獲得得点**のリスト\n",
    "    - 関数`mean_performance()`では，`play_env()`を指定回数(`n_trial`)を実行し，その実行結果として、各エピソードにおけるステップ数と獲得得点を格納する2つの配列(`n_trial`行`max_episode`列)を取得しているはず。**この配列それぞれの最後の列(最終エピソード)のデータ**(`n_trial`行1列)を**返り値(`step`と`score`)**とする。(平均値や標準偏差は求めないで返り値にする)"
   ]
  },
  {
   "cell_type": "code",
   "execution_count": null,
   "metadata": {
    "deletable": false,
    "nbgrader": {
     "cell_type": "code",
     "checksum": "754a33cb44724c7361a02d472a8d18a9",
     "grade": false,
     "grade_id": "A-mean_performance2",
     "locked": false,
     "schema_version": 3,
     "solution": true,
     "task": false
    }
   },
   "outputs": [],
   "source": [
    "# ここで作ってみよう\n",
    "# YOUR CODE HERE\n",
    "raise NotImplementedError()"
   ]
  },
  {
   "cell_type": "code",
   "execution_count": null,
   "metadata": {},
   "outputs": [],
   "source": [
    "# このセルで動作確認をしよう"
   ]
  },
  {
   "cell_type": "code",
   "execution_count": null,
   "metadata": {
    "deletable": false,
    "editable": false,
    "nbgrader": {
     "cell_type": "code",
     "checksum": "668c4c7f27ddd7b4bb5aaf07d31ac376",
     "grade": true,
     "grade_id": "E-mean_performance2",
     "locked": true,
     "points": 3,
     "schema_version": 3,
     "solution": false,
     "task": false
    }
   },
   "outputs": [],
   "source": [
    "# 評価用セル\n",
    "class _Anonymous:\n",
    "    def __init__(self, action_list, action=\"random\", epsilon=0.0, gamma=0.0):\n",
    "        self.action_list = action_list\n",
    "        self.epsilon = epsilon\n",
    "        self.gamma = gamma\n",
    "        \n",
    "        self.e_hist=[]\n",
    "        self.r_hist=[]\n",
    "        \n",
    "        self.a = action if action in action_list else \"random\"\n",
    "\n",
    "    def get_action(self, s):\n",
    "        return ra.choice(self.action_list) if self.a == \"random\" else self.a\n",
    "\n",
    "    \n",
    "    def reset(self):\n",
    "        self.e_hist+=[self.epsilon]\n",
    "        self.r_hist+=[self.gamma]\n",
    "        \n",
    "        return 0\n",
    "\n",
    "    def learning(self, s_old, action, r, s, terminal):\n",
    "        return 0\n",
    "\n",
    "\n",
    "def assert_mean_performance2(n_trial):\n",
    "    action_list = list(range(env.action_space.n))\n",
    "    step, score = mean_performance2(\n",
    "        env=env, agent=_Anonymous(action_list, 0), n_trial=n_trial\n",
    "    )\n",
    "    nt.assert_array_equal(step.shape, (n_trial,), err_msg=\"step が n_trial行1列 ではありません。\")\n",
    "    nt.assert_array_equal(step.shape, (n_trial,), err_msg=\"score が n_trial行1列 ではありません。\")\n",
    "\n",
    "    nt.assert_equal(step, np.full(n_trial, 200.0), err_msg=\"stepの値が適切ではありません。\")\n",
    "    nt.assert_equal(score, np.full(n_trial, -600.0), err_msg=\"scoreの値が適切ではありません。\")\n",
    "\n",
    "\n",
    "assert_mean_performance2(5)\n",
    "assert_mean_performance2(10)\n",
    "\n",
    "print(\"passed!\")"
   ]
  },
  {
   "cell_type": "markdown",
   "metadata": {},
   "source": [
    "**Q.** いろいろな$\\epsilon$の値に対して`mean_performance2()`を実行し，その学習結果(`step`と`score`)のうち`score`を以下のようにリスト化して返り値とする関数`get_data()`を作りなさい。\n",
    "\n",
    "\n",
    "**引数**\n",
    "- `e_range`: 学習結果を取得する$\\epsilon$のリスト\n",
    "- `mean_performance2()`と同じ引数。いずれも`mean_performance2()`を呼び出すときの引数とする。\n",
    "\n",
    "**プログラム概要**\n",
    "\n",
    "```python\n",
    "def get_data(env, agent, e_range, n_trial=10, max_episode=100, learning=True):\n",
    "    data =     # 0行n_trial列の2次元配列(ndarray)を用意する。\n",
    "\n",
    "    for i,e in enumerate(e_range):\n",
    "        \"\"\"\n",
    "        1. agent のインスタンス変数`epsilon`に`e`を代入する。\n",
    "        2. mean_performance2()を呼び出して，返り値step, scoreを取得する\n",
    "        3. 返り値scoreを1行n_trial列に変形(転置)して，配列dataに追加\n",
    "        \"\"\"\n",
    "    return data\n",
    "```\n",
    "\n",
    "**実行例：** 以下の解答欄の次にあります。"
   ]
  },
  {
   "cell_type": "code",
   "execution_count": null,
   "metadata": {
    "deletable": false,
    "nbgrader": {
     "cell_type": "code",
     "checksum": "2b3e78e501e558f93dbdec20b89372ac",
     "grade": false,
     "grade_id": "A-get_data",
     "locked": false,
     "schema_version": 3,
     "solution": true,
     "task": false
    }
   },
   "outputs": [],
   "source": [
    "# 解答欄\n",
    "# YOUR CODE HERE\n",
    "raise NotImplementedError()"
   ]
  },
  {
   "cell_type": "markdown",
   "metadata": {},
   "source": [
    "**Q.** `get_data()`を以下のように実行し，正常に動作するか確認しなさい。\n",
    "\n",
    "```python\n",
    "env = gym.make(\"MDPGridworld-v1\")\n",
    "action_list = list(range(env.action_space.n))\n",
    "agent = Qlearner(action_list)\n",
    "\n",
    "e_range =  # 0.2以上1.0未満の範囲で，0.2刻みの数値を要素とするndarrayを定義する\n",
    "data=get_data(env,agent,e_range)\n",
    "```\n",
    "\n",
    "**データのグラフ化**は以下の解答欄の次でします。"
   ]
  },
  {
   "cell_type": "code",
   "execution_count": null,
   "metadata": {
    "deletable": false,
    "nbgrader": {
     "cell_type": "code",
     "checksum": "297a05d03fa7fad612092a68ce151c9b",
     "grade": false,
     "grade_id": "A-get_data_exec",
     "locked": false,
     "schema_version": 3,
     "solution": true,
     "task": false
    }
   },
   "outputs": [],
   "source": [
    "# 解答欄\n",
    "# YOUR CODE HERE\n",
    "raise NotImplementedError()"
   ]
  },
  {
   "cell_type": "code",
   "execution_count": null,
   "metadata": {
    "deletable": false,
    "editable": false,
    "nbgrader": {
     "cell_type": "code",
     "checksum": "8726bd938ce91d7f760b39c54c1b1a4f",
     "grade": true,
     "grade_id": "E-get_data",
     "locked": true,
     "points": 3,
     "schema_version": 3,
     "solution": false,
     "task": false
    }
   },
   "outputs": [],
   "source": [
    "_env = gym.make(\"MDPGridworld-v1\")\n",
    "_action_list = list(range(env.action_space.n))\n",
    "\n",
    "\n",
    "def check_get_data(e_range, n_trial, learning=False):\n",
    "    anon = _Anonymous(_action_list, 0)\n",
    "    data = get_data(\n",
    "        env=_env,\n",
    "        agent=anon,\n",
    "        e_range=e_range,\n",
    "        n_trial=n_trial,\n",
    "        max_episode=5,\n",
    "        learning=learning,\n",
    "    )\n",
    "    nt.assert_array_equal(\n",
    "        data.shape,\n",
    "        (len(e_range), n_trial),\n",
    "        err_msg=\"data が len(e_range)行 n_trial列 になってませんよ。\",\n",
    "    )\n",
    "\n",
    "    # check if each epsilon is set to agent\n",
    "    nt.assert_array_equal(\n",
    "        np.repeat(e_range,n_trial), anon.e_hist, err_msg=\"e_histの各要素がエージェントのインスタンス変数epsilonに反映されてません。\"\n",
    "    )\n",
    "\n",
    "    # check data\n",
    "    ans_dat=np.full((len(e_range),n_trial),-600)\n",
    "    nt.assert_array_equal(ans_dat,data,err_msg=\"dataの要素値が変です。\")\n",
    "\n",
    "\n",
    "check_get_data(e_range=np.arange(0.2, 1.0, 0.2), n_trial=1)\n",
    "check_get_data(e_range=np.arange(0.2, 1.0, 0.2), n_trial=3)\n",
    "print(\"good!\")"
   ]
  },
  {
   "cell_type": "markdown",
   "metadata": {},
   "source": [
    "## 折れ線グラフ\n",
    "\n",
    "**Q.** 前問で作成したプログラムにより取得したデータ`data`から各$\\epsilon$に対するデータの平均値$\\pm$SDを計算し，以下の例のようなエラーバー付き折れ線グラフにしなさい。\n",
    "\n",
    "![](images/RL-errorbar.png)\n",
    "\n",
    "**注意点**\n",
    "- 図のように，**$\\epsilon$ は0.2以上1.0未満の範囲の0.2刻みの数値**とする\n",
    "- 各軸ラベルをつける\n",
    "- データ点(`marker`)は見やすいものを指定\n",
    "- 横軸目盛りの数字は，データ点の$\\epsilon$の値に対応させる\n",
    "- `score=0`の水平線も描画\n",
    "- フォントの大きさは見やすいサイズに調整"
   ]
  },
  {
   "cell_type": "code",
   "execution_count": null,
   "metadata": {
    "deletable": false,
    "nbgrader": {
     "cell_type": "code",
     "checksum": "82d2a476527f214be3c93853852cb773",
     "grade": false,
     "grade_id": "A-errorbar",
     "locked": false,
     "schema_version": 3,
     "solution": true,
     "task": false
    }
   },
   "outputs": [],
   "source": [
    "# 解答欄\n",
    "# YOUR CODE HERE\n",
    "raise NotImplementedError()"
   ]
  },
  {
   "cell_type": "code",
   "execution_count": null,
   "metadata": {
    "deletable": false,
    "editable": false,
    "nbgrader": {
     "cell_type": "code",
     "checksum": "8d81eae3b416232b8e79ade63f614d73",
     "grade": true,
     "grade_id": "E-errorbar",
     "locked": true,
     "points": 2,
     "schema_version": 3,
     "solution": false,
     "task": false
    }
   },
   "outputs": [],
   "source": [
    "# 評価用セル(軸タイトル)\n",
    "_check_axes_title(ax, title=[\"$\\epsilon$\", \"score\"])\n",
    "## check label\n",
    "pc = LinePlotChecker(ax)\n",
    "\n",
    "# 軸目盛り\n",
    "ans_e_range = np.arange(0.2, 1.0, 0.2)\n",
    "ut_msg(pc.assert_xticks_equal, ans_e_range, msg=\"横軸の目盛り位置が違うよ!\")\n",
    "\n",
    "# etc\n",
    "ut_msg(pc.assert_num_lines, 4, msg=\"ラインの数が違うよ!?\")\n",
    "\n",
    "print(\"ok!\")"
   ]
  },
  {
   "cell_type": "markdown",
   "metadata": {},
   "source": [
    "## 棒グラフ\n",
    "\n",
    "**Q.** 取得データ`data`の各$\\epsilon$のデータ値の平均値$\\pm$SDを，以下のサンプル例のようなエラーバー付き棒グラフにしなさい。\n",
    "\n",
    "![](images/RL-bar.png)\n",
    "\n",
    "**注意点**\n",
    "\n",
    "- ここでも，**$\\epsilon$ は0.2以上1.0未満の範囲の0.2刻みの数値**とする\n",
    "- 各データの箱は`x=0,1,2,...`の位置に配置し，その位置に目盛りラベル`0.2, 0.4, 0.6, ..`を表示すると簡単。(横軸データとして`e_range`を第一引数に指定する方法もあるが，棒の幅指定等の設定も必要になるので面倒になる)\n",
    "- 軸目盛りの数値を，$\\epsilon$と$\\gamma$の値に変更\n",
    "    - リスト`e_range`の各値を目盛り数値にするには，`ax.bar()`の引数で`tick_label=e_range`と指定する\n",
    "    - リスト要素(数値)を目盛りに使うために，**四捨五入**したいときには`np.round(list,decimals=0)`を使う。`decimals`は小数点以下第何桁を四捨五入するかを指定する引数"
   ]
  },
  {
   "cell_type": "code",
   "execution_count": null,
   "metadata": {
    "deletable": false,
    "nbgrader": {
     "cell_type": "code",
     "checksum": "b39637ea5183368c23ee5adb549f7812",
     "grade": false,
     "grade_id": "A-bar",
     "locked": false,
     "schema_version": 3,
     "solution": true,
     "task": false
    }
   },
   "outputs": [],
   "source": [
    "# 解答欄\n",
    "# YOUR CODE HERE\n",
    "raise NotImplementedError()"
   ]
  },
  {
   "cell_type": "code",
   "execution_count": null,
   "metadata": {
    "deletable": false,
    "editable": false,
    "nbgrader": {
     "cell_type": "code",
     "checksum": "601ad52a4d1650b1af80a483cf537ab6",
     "grade": true,
     "grade_id": "E-bar-title",
     "locked": true,
     "points": 1,
     "schema_version": 3,
     "solution": false,
     "task": false
    }
   },
   "outputs": [],
   "source": [
    "# 評価用セル(軸タイトル)\n",
    "\n",
    "_check_axes_title(ax, title=[\"$\\epsilon$\", \"score\"])\n",
    "\n",
    "# 軸目盛り\n",
    "pc = PlotChecker(ax)\n",
    "ut_msg(pc.assert_xticks_equal, np.arange(4), msg=\"横軸の目盛りの位置が違うよ!\")\n",
    "ut_msg(\n",
    "    pc.assert_xticklabels_equal,\n",
    "    np.round(ans_e_range, decimals=2).astype(\"|U3\"),\n",
    "    msg=\"横軸の目盛り表示が違うよ!\",\n",
    ")\n",
    "print(\"ok!\")"
   ]
  },
  {
   "cell_type": "code",
   "execution_count": null,
   "metadata": {
    "deletable": false,
    "editable": false,
    "nbgrader": {
     "cell_type": "code",
     "checksum": "25fcf806eef693deb07b724350770a06",
     "grade": true,
     "grade_id": "E-bar-num",
     "locked": true,
     "points": 1,
     "schema_version": 3,
     "solution": false,
     "task": false
    }
   },
   "outputs": [],
   "source": [
    "# 評価用セル(そのほか)\n",
    "pc = BarPlotChecker(ax)\n",
    "ut_msg(pc.assert_num_bars,4,msg=\"バーの数が違うよ!\")\n",
    "\n",
    "print(\"good!\")"
   ]
  },
  {
   "cell_type": "markdown",
   "metadata": {},
   "source": [
    "## 箱ひげ図\n",
    "\n",
    "**Q.** 取得したデータ`data`を，以下のサンプル例のような箱ひげ図にしなさい。\n",
    "\n",
    "![](images/RL-boxplot.png)\n",
    "\n",
    "**注意点**\n",
    "\n",
    "- `ax.boxplot()`では，各データの箱は`x=1,2,...`の位置に配置される。\n",
    "- 横軸目盛りのラベルを`e_range`の各値に変更するには，`ax.boxplot()`の引数で`labels=e_range`と指定する。(必要に応じて要素値を四捨五入)"
   ]
  },
  {
   "cell_type": "code",
   "execution_count": null,
   "metadata": {
    "deletable": false,
    "nbgrader": {
     "cell_type": "code",
     "checksum": "5567b01137d145e56c196aae9199cd3a",
     "grade": false,
     "grade_id": "A-boxplot",
     "locked": false,
     "schema_version": 3,
     "solution": true,
     "task": false
    }
   },
   "outputs": [],
   "source": [
    "# 解答欄\n",
    "# YOUR CODE HERE\n",
    "raise NotImplementedError()"
   ]
  },
  {
   "cell_type": "code",
   "execution_count": null,
   "metadata": {
    "deletable": false,
    "editable": false,
    "nbgrader": {
     "cell_type": "code",
     "checksum": "78550f67ebfc0e6cf02c4b6467206dbf",
     "grade": true,
     "grade_id": "E-boxplot",
     "locked": true,
     "points": 2,
     "schema_version": 3,
     "solution": false,
     "task": false
    }
   },
   "outputs": [],
   "source": [
    "# 評価用セル(ラベル確認)\n",
    "\n",
    "_check_axes_title(ax, [\"$\\epsilon$\", \"score\"])\n",
    "pc = PlotChecker(ax)\n",
    "ut_msg(pc.assert_xticklabels_equal, ans_e_range.astype(\"|U3\"), msg=\"目盛りのラベルが違いますよ。\")\n",
    "\n",
    "print(\"OK!\")"
   ]
  },
  {
   "cell_type": "markdown",
   "metadata": {},
   "source": [
    "<div class=\"alert alert-success\">\n",
    "\n",
    "# 複数のパラメータ値に対するパフォーマンスのグラフ化\n",
    "\n",
    "</div>\n",
    "\n",
    "## 準備\n",
    "\n",
    "**Q**. \n",
    "以下は，すでに作成した`get_data()`を修正して，$\\epsilon$だけでなく$\\gamma$の値もいろいろ変えた場合の結果を取得するできるようにした関数`get_data2()`である。コメントに従ってこれを完成しなさい。\n",
    "\n",
    "```python\n",
    "def get_data2(env, agent, e_range, r_range, n_trial=10, max_episode=100, learning=True):\n",
    "    mean =  # 行数が`r_range`の要素数，列数が`e_range`の要素数の2次元ndarrayを用意。初期化なしでOK\n",
    "    sd =    # 同上\n",
    "    \n",
    "    for i, r in enumerate(r_range):\n",
    "        # ここで agent のインスタンス変数`gamma`に`r`を代入。\n",
    "        \n",
    "        for j, e in enumerate(e_range):\n",
    "            \"\"\"\n",
    "            1. agent のインスタンス変数`epsilon`に`e`を代入\n",
    "            2. mean_performance2()を呼び出して，返り値step, scoreを取得\n",
    "            3. mean[i,j]=  # 返り値scoreに格納されている要素値の平均値を求めて代入\n",
    "            4. sd[i,j]=  # 返り値scoreに格納されている要素値の標準偏差を求めて代入\n",
    "            \"\"\"\n",
    "    return mean,sd\n",
    "```\n",
    "\n",
    "**実行例：** 以下の解答欄の次にあります。"
   ]
  },
  {
   "cell_type": "code",
   "execution_count": null,
   "metadata": {
    "deletable": false,
    "nbgrader": {
     "cell_type": "code",
     "checksum": "94e7c7f164e8324e48ae086f95910068",
     "grade": false,
     "grade_id": "A-get_data2",
     "locked": false,
     "schema_version": 3,
     "solution": true,
     "task": false
    }
   },
   "outputs": [],
   "source": [
    "# 解答欄\n",
    "# YOUR CODE HERE\n",
    "raise NotImplementedError()"
   ]
  },
  {
   "cell_type": "markdown",
   "metadata": {},
   "source": [
    "**Q.** `get_data2()`を以下のように実行し，正常に動作するか確認しなさい。\n",
    "\n",
    "```python\n",
    "env = gym.make(\"MDPGridworld-v1\")\n",
    "action_list = list(range(env.action_space.n))\n",
    "agent = Qlearner(action_list)\n",
    "\n",
    "e_range =   # epsilonの値設定。0.2以上1未満の範囲で，0.2刻みの数値を要素とするndarrayを定義\n",
    "r_range =   # gammaの値設定。 0.2以1未満の範囲で，0.3刻みの数値を要素とするndarrayを定義\n",
    "\n",
    "mean,sd=get_data2(env=env, agent=agent, e_range=e_range, r_range=r_range)\n",
    "```\n",
    "\n",
    "**データのグラフ化**は以下の解答欄の次でします。"
   ]
  },
  {
   "cell_type": "code",
   "execution_count": null,
   "metadata": {
    "deletable": false,
    "nbgrader": {
     "cell_type": "code",
     "checksum": "25784e1a3baaecd5982d03d486240642",
     "grade": false,
     "grade_id": "A-get_data2_exec",
     "locked": false,
     "schema_version": 3,
     "solution": true,
     "task": false
    }
   },
   "outputs": [],
   "source": [
    "# 解答欄\n",
    "# YOUR CODE HERE\n",
    "raise NotImplementedError()"
   ]
  },
  {
   "cell_type": "code",
   "execution_count": null,
   "metadata": {
    "deletable": false,
    "editable": false,
    "nbgrader": {
     "cell_type": "code",
     "checksum": "4381ed030b30ab8d404ec5868630d979",
     "grade": true,
     "grade_id": "E-get_data2",
     "locked": true,
     "points": 3,
     "schema_version": 3,
     "solution": false,
     "task": false
    }
   },
   "outputs": [],
   "source": [
    "_env = gym.make(\"MDPGridworld-v1\")\n",
    "_action_list = list(range(env.action_space.n))\n",
    "\n",
    "\n",
    "def check_get_data2(e_range, r_range, n_trial, learning=False):\n",
    "    anon = _Anonymous(_action_list, 0)\n",
    "    mean,sd = get_data2(\n",
    "        env=_env,\n",
    "        agent=anon,\n",
    "        e_range=e_range,\n",
    "        r_range=r_range,\n",
    "        n_trial=n_trial,\n",
    "        max_episode=5,\n",
    "        learning=learning,\n",
    "    )\n",
    "    nt.assert_array_equal(\n",
    "        mean.shape,\n",
    "        (len(r_range), len(e_range)),\n",
    "        err_msg=\"mean が len(r_range)行 len(e_range)列 になってませんよ。\",\n",
    "    )\n",
    "    nt.assert_array_equal(\n",
    "        sd.shape,\n",
    "        (len(r_range), len(e_range)),\n",
    "        err_msg=\"sd が len(r_range)行 len(e_range)列 になってませんよ。\",\n",
    "    )\n",
    "\n",
    "    # check if each epsilon/gamma is set to agent\n",
    "    ans_e_hist=np.tile(np.repeat(e_range,n_trial),len(r_range))\n",
    "    nt.assert_array_equal(\n",
    "        ans_e_hist, anon.e_hist, err_msg=\"e_histの各要素がエージェントのインスタンス変数epsilonに反映されてません。\"\n",
    "    )\n",
    "    \n",
    "    ans_r_hist=np.repeat(r_range,n_trial*len(e_range))\n",
    "    nt.assert_array_equal(ans_r_hist,anon.r_hist, err_msg=\"r_histの各要素がエージェントのインスタンス変数epsilonに反映されてません。\")\n",
    "    \n",
    "    # check mean and sd\n",
    "    ans_mean=np.full((len(r_range),len(e_range)),-600)\n",
    "    ans_sd=np.full((len(r_range),len(e_range)),0)\n",
    "    nt.assert_array_equal(ans_mean,mean,err_msg=\"meanの要素値が変です。\")\n",
    "    nt.assert_array_equal(ans_sd,sd,err_msg=\"sdの要素値が変です。\")\n",
    "\n",
    "_e_range=np.arange(0.2, 1.0, 0.2)\n",
    "_r_range=np.arange(0.2, 1.0, 0.3)\n",
    "check_get_data2(e_range=_e_range,r_range=_r_range, n_trial=1)\n",
    "check_get_data2(e_range=_e_range,r_range=_r_range, n_trial=3)\n",
    "_r_range=np.arange(0.2, 1.0, 0.2)\n",
    "check_get_data2(e_range=_e_range,r_range=_r_range, n_trial=2)\n",
    "\n",
    "\n",
    "print(\"good!\")"
   ]
  },
  {
   "cell_type": "markdown",
   "metadata": {},
   "source": [
    "## 折れ線グラフ\n",
    "\n",
    "**Q.** 前問で取得した各$\\epsilon$, $\\gamma$に対するデータ`mean`, `sd`を用いて，以下の例のようなエラーバー付き折れ線グラフを作りなさいる\n",
    "\n",
    "![](images/RL-errorbar2.png)\n",
    "\n",
    "**注意点**\n",
    "\n",
    "- データ点(`marker`)は見やすいものを指定\n",
    "- `score=0`の水平線も描画\n",
    "- 各軸ラベルをつける\n",
    "- 横軸目盛りの数字は，データ点の$\\epsilon$の値に対応させる\n",
    "- 凡例をつける\n",
    "- フォントは見やすいサイズに調整\n",
    "- 課題シート`matplotlib2`で説明したように，`plot()`と`errorbar()`を併用する。\n",
    "    - 同じデータに対する`plot()`と`errorbar()`の色を揃える必要があるが，色指定には`tab10`以外のカラーマップ(下記参照)を利用する。\n",
    "\n",
    "**カラーマップについて**\n",
    "\n",
    "matplotlibのデフォルトのカラーマップ`tab10`を利用する場合，以下を命令文に加えると，色の番号指定が可能になる。\n",
    "```python\n",
    "cmap = plt.get_cmap(\"tab10\")\n",
    "...\n",
    "for i in range(...):\n",
    "    ax.plot(..., color=cmap(i), ...)\n",
    "    ax.errorbar(..., color=cmap(i), ...)\n",
    "```\n",
    "- 次のセルでは，**`tab10`以外のカラーマップを利用**すること\n",
    "- **カラーマップ**は好きなものに変更\n",
    "    - [カラーマップ一覧](https://matplotlib.org/tutorials/colors/colormaps.html?highlight=colormap)の下の方にある`Qualitative colormaps`から選択すると良い"
   ]
  },
  {
   "cell_type": "code",
   "execution_count": null,
   "metadata": {
    "deletable": false,
    "nbgrader": {
     "cell_type": "code",
     "checksum": "0f863c9ab8f73369fea9db9835f58430",
     "grade": false,
     "grade_id": "A-errorbar2",
     "locked": false,
     "schema_version": 3,
     "solution": true,
     "task": false
    }
   },
   "outputs": [],
   "source": [
    "# 解答欄\n",
    "\n",
    "fig = plt.figure()\n",
    "cmap = plt.get_cmap(\"tab10\") # カラーマップを利用。tab10以外のものを指定してください。\n",
    "\n",
    "ax = fig.add_subplot(111)\n",
    "\n",
    "# YOUR CODE HERE\n",
    "raise NotImplementedError()"
   ]
  },
  {
   "cell_type": "code",
   "execution_count": null,
   "metadata": {
    "deletable": false,
    "editable": false,
    "nbgrader": {
     "cell_type": "code",
     "checksum": "cfeef95fd37bc61e44c1356a8c664bf2",
     "grade": true,
     "grade_id": "E-errorbar2_title",
     "locked": true,
     "points": 1,
     "schema_version": 3,
     "solution": false,
     "task": false
    }
   },
   "outputs": [],
   "source": [
    "# 評価用セルその1: 軸タイトルおよび凡例確認\n",
    "\n",
    "_check_axes_title(ax, title=[\"$\\epsilon$\", \"score\"])\n",
    "\n",
    "pc = LinePlotChecker(ax)\n",
    "pc.find_permutation(\"labels\", [\"$\\gamma=$0.2\", \"$\\gamma=$0.5\", \"$\\gamma=$0.8\"])\n",
    "print(\"ok!\")"
   ]
  },
  {
   "cell_type": "code",
   "execution_count": null,
   "metadata": {
    "deletable": false,
    "editable": false,
    "nbgrader": {
     "cell_type": "code",
     "checksum": "51a41c42fd00d151b16259427132636e",
     "grade": true,
     "grade_id": "E-errorbar2_xticks",
     "locked": true,
     "points": 1,
     "schema_version": 3,
     "solution": false,
     "task": false
    }
   },
   "outputs": [],
   "source": [
    "# 評価用セルその2: 軸目盛り\n"
   ]
  },
  {
   "cell_type": "code",
   "execution_count": null,
   "metadata": {
    "deletable": false,
    "editable": false,
    "nbgrader": {
     "cell_type": "code",
     "checksum": "746e5f0523ac9c0c8adabe0ccb04cac4",
     "grade": true,
     "grade_id": "E-errorbar2_data",
     "locked": true,
     "points": 1,
     "schema_version": 3,
     "solution": false,
     "task": false
    }
   },
   "outputs": [],
   "source": [
    "# 評価用セルその3: データ確認\n",
    "\n",
    "pc=ut_msg(LinePlotChecker,ax,msg=\"座標コンテナが正常に定義されていないようです。\")\n",
    "\n",
    "_assert_array_involve(pc.x_data, ans_e_range, msg=\"グラフ化されているデータ数が変です\")\n",
    "_assert_array_involve(pc.x_data, [0.0, 1.0], msg=\"score=0の線は描画されてますか?\")\n",
    "_assert_array_involve(pc.y_data, [0.0, 0.0], msg=\"score=0の線は描画されてますか?\")"
   ]
  },
  {
   "cell_type": "code",
   "execution_count": null,
   "metadata": {
    "deletable": false,
    "editable": false,
    "nbgrader": {
     "cell_type": "code",
     "checksum": "880b31f30122079d270143a53ea4f589",
     "grade": true,
     "grade_id": "E-errorbar2_colormap",
     "locked": true,
     "points": 1,
     "schema_version": 3,
     "solution": false,
     "task": false
    }
   },
   "outputs": [],
   "source": [
    "# 評価用セルその4: カラーマップ確認\n",
    "\n",
    "cmap_tab10 = plt.get_cmap(\"tab10\")\n",
    "try:\n",
    "    assert not all(np.array_equal(cmap(i),cmap_tab10(i)) for i in range(8))\n",
    "except:\n",
    "    _alert(\"tab10以外のカラーマップを使いましょう\")\n",
    "    raise ValueError"
   ]
  },
  {
   "cell_type": "markdown",
   "metadata": {},
   "source": [
    "## ヒートマップ\n",
    "\n",
    "パラメータ$\\epsilon$, $\\gamma$の値のさまざまな組み合わせに対して得た結果一覧(`mean`)を，課題シート`matplotlib`で作成したプログラムを用いて**ヒートマップ**を作ると，以下の図が得られる。\n",
    "\n",
    "![](images/RL-heatmap.png)"
   ]
  },
  {
   "cell_type": "code",
   "execution_count": null,
   "metadata": {
    "deletable": false,
    "nbgrader": {
     "cell_type": "code",
     "checksum": "ba3641bc109f736fc9a9dee55dd53c89",
     "grade": false,
     "grade_id": "cell-bf0c74f44751b179",
     "locked": false,
     "schema_version": 3,
     "solution": true,
     "task": false
    }
   },
   "outputs": [],
   "source": [
    "# このセルで試してみよう\n",
    "\n",
    "# YOUR CODE HERE\n",
    "raise NotImplementedError()"
   ]
  },
  {
   "cell_type": "markdown",
   "metadata": {},
   "source": [
    "**Q.** ヒートマップを以下の例のように修正しなさい。\n",
    "\n",
    "![](images/RL-heatmap2.png)\n",
    "\n",
    "**注意点**\n",
    "\n",
    "- **各軸ラベル**をつける(`$\\epailon$`と`$\\gamma$`)\n",
    "- **軸目盛り位置**を，ヒートマップの各セルの中心位置 ($x=0.5,1.5,...$の位置)にする\n",
    "    - 横軸は`ax.set_xticks()`で目盛位置を指定\n",
    "- **軸目盛りの数値**を，$\\epsilon$と$\\gamma$の値に変更\n",
    "    - 目盛の数値はリストにして，`ax.set_xticklabels(labels=...)`と指定。(必要に応じて四捨五入)\n",
    "- ヒートマップの各マス目の縦横比(**アスペクト比**)を1:1にし，マス目を正方形にする\n",
    "    - `ax.set_aspect('equal')` を命令文に追加すればOK\n",
    "- **フォントは見やすいサイズ**に調整\n",
    "- **カラーマップは好きなもの**に変更\n",
    "    - [カラーマップ一覧](https://matplotlib.org/tutorials/colors/colormaps.html?highlight=colormap)の下の方の一覧から選択すると良い。ただし**配色数が限定される Qualitative colormaps 以外**を選択すること"
   ]
  },
  {
   "cell_type": "code",
   "execution_count": null,
   "metadata": {
    "deletable": false,
    "nbgrader": {
     "cell_type": "code",
     "checksum": "1b7175a03eaeb0b7cca9d341a88cad81",
     "grade": false,
     "grade_id": "A-RL-heatmap",
     "locked": false,
     "schema_version": 3,
     "solution": true,
     "task": false
    }
   },
   "outputs": [],
   "source": [
    "# 解答欄\n",
    "# YOUR CODE HERE\n",
    "raise NotImplementedError()"
   ]
  },
  {
   "cell_type": "code",
   "execution_count": null,
   "metadata": {
    "deletable": false,
    "editable": false,
    "nbgrader": {
     "cell_type": "code",
     "checksum": "74c9f42d8212b5a214c92822fb182cd6",
     "grade": true,
     "grade_id": "E-RL-heatmap-title",
     "locked": true,
     "points": 1,
     "schema_version": 3,
     "solution": false,
     "task": false
    }
   },
   "outputs": [],
   "source": [
    "# 評価用セルその1: 軸タイトル\n",
    "_check_axes_title(ax, title=[\"$\\epsilon$\", \"$\\gamma$\"])"
   ]
  },
  {
   "cell_type": "code",
   "execution_count": null,
   "metadata": {
    "deletable": false,
    "editable": false,
    "nbgrader": {
     "cell_type": "code",
     "checksum": "c9c0f1469f3985bef9d270abc3cee4f8",
     "grade": true,
     "grade_id": "E-RL-heatmap-ticks",
     "locked": true,
     "points": 1,
     "schema_version": 3,
     "solution": false,
     "task": false
    }
   },
   "outputs": [],
   "source": [
    "# 評価用セルその2: 軸目盛り\n",
    "\n",
    "ans_xticks=np.arange(len(e_range)) + 0.5\n",
    "ans_yticks=np.arange(len(r_range)) + 0.5\n",
    "\n",
    "pc = PlotChecker(ax)\n",
    "try:\n",
    "    pc.assert_xticks_equal(ans_xticks)\n",
    "    pc.assert_yticks_equal(ans_yticks)\n",
    "    pc.assert_xticklabels_equal(ans_e_range.astype(\"|U3\"))\n",
    "    pc.assert_yticklabels_equal(ans_r_range.astype(\"|U3\"))\n",
    "except:\n",
    "    display(\"x軸かy軸の目盛りか，目盛りラベルが変なようです。\")"
   ]
  },
  {
   "cell_type": "code",
   "execution_count": null,
   "metadata": {
    "deletable": false,
    "editable": false,
    "nbgrader": {
     "cell_type": "code",
     "checksum": "330c513fd056bebf79357d391131ce11",
     "grade": true,
     "grade_id": "E-RL-heatmap-aspect",
     "locked": true,
     "points": 1,
     "schema_version": 3,
     "solution": false,
     "task": false
    }
   },
   "outputs": [],
   "source": [
    "# 評価用セルその3: Aspect Ratio\n",
    "eq_(ax.get_aspect(),'equal',msg=\"アスペクト比の設定をしましょう。\")"
   ]
  },
  {
   "cell_type": "code",
   "execution_count": null,
   "metadata": {},
   "outputs": [],
   "source": [
    "# このセルは，自動採点の際に以降のセルを実行しないための命令です。無視してください。\n",
    "raise SystemExit(\"Stop right here!\")"
   ]
  },
  {
   "cell_type": "markdown",
   "metadata": {},
   "source": [
    "<div class=\"alert alert-success\">\n",
    "\n",
    "# 以下には，自由にセルを作成して，いろいろと動作確認して構いません。\n",
    "\n",
    "</div>"
   ]
  },
  {
   "cell_type": "code",
   "execution_count": null,
   "metadata": {},
   "outputs": [],
   "source": []
  }
 ],
 "metadata": {
  "kernelspec": {
   "display_name": "Python 3",
   "language": "python",
   "name": "python3"
  },
  "language_info": {
   "codemirror_mode": {
    "name": "ipython",
    "version": 3
   },
   "file_extension": ".py",
   "mimetype": "text/x-python",
   "name": "python",
   "nbconvert_exporter": "python",
   "pygments_lexer": "ipython3",
   "version": "3.6.8"
  },
  "toc": {
   "base_numbering": 1,
   "nav_menu": {},
   "number_sections": true,
   "sideBar": true,
   "skip_h1_title": false,
   "title_cell": "Table of Contents",
   "title_sidebar": "Contents",
   "toc_cell": false,
   "toc_position": {
    "height": "calc(100% - 180px)",
    "left": "10px",
    "top": "150px",
    "width": "271.391px"
   },
   "toc_section_display": true,
   "toc_window_display": false
  }
 },
 "nbformat": 4,
 "nbformat_minor": 4
}
