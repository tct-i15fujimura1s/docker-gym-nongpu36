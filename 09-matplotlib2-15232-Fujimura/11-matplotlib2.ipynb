{
 "cells": [
  {
   "cell_type": "markdown",
   "metadata": {},
   "source": [
    "<div class=\"alert alert-danger\">\n",
    "\n",
    "# 名前欄\n",
    "\n",
    "</div>\n",
    "\n",
    "以下に名前と学籍番号(STUDENT_ID)の入力をして下さい。\n",
    "\n",
    "例)\n",
    "```python\n",
    "FAMILY_NAME = \"Yamaguchi\"# 姓をローマ字で入力\n",
    "FIRST_NAME = \"Daisuki\"   #  名をローマ字で入力\n",
    "USER = \"a11yamaguchi\"    # 公式メールアドレスのユーザ名\n",
    "STUDENT_ID = \"99999\" # 学籍番号\n",
    "```"
   ]
  },
  {
   "cell_type": "code",
   "execution_count": 1,
   "metadata": {},
   "outputs": [],
   "source": [
    "FAMILY_NAME = \"Fujimura\"  # 姓をローマ字で入力\n",
    "FIRST_NAME = \"Soshi\"  #  名をローマ字で入力\n",
    "USER = \"i15fujimura1s\"  # 公式メールアドレスのユーザ名\n",
    "STUDENT_ID = \"15232\"  # 99999 等と省略なしで入力"
   ]
  },
  {
   "cell_type": "markdown",
   "metadata": {},
   "source": [
    "<div class=\"alert alert-danger\">\n",
    "\n",
    "# 提出方法(高専の皆さんへ)\n",
    "\n",
    "</div>\n",
    "\n",
    "以下のように**ディレクトリ(フォルダ)名を変更して提出**しましょう。\n",
    "```python\n",
    "元のディレクトリ名-学籍番号-名字(ローマ字)\n",
    "```\n",
    "例えば，元のディレクトリ名が`01-basic/`, 学籍番号が`99999`,名字が`Yamaguchi`の場合は以下になります。\n",
    "```python\n",
    "01-basic-99999-Yamaguchi/\n",
    "```"
   ]
  },
  {
   "cell_type": "markdown",
   "metadata": {},
   "source": [
    "<div class=\"alert alert-danger\">\n",
    "\n",
    "# 注意\n",
    "\n",
    "</div>\n",
    "\n",
    "\n",
    "- 以下の説明文を読み， 内容を納得できるように自分で試しなさい。\n",
    "- **「# このセルで試してみよう」**, **「# このセルで動作確認をしよう」**と書かれているセルは自由に使って構いません。\n",
    "- 必要に応じてセルを増やしても構いません。役立ちそうな情報もメモしておくと，今後プログラムを組む上で便利です。\n",
    "- 表題等には適宜教科書のページを書いてあります。詳しい説明は教科書を参照しなさい。\n",
    "\n",
    "<div class=\"alert alert-danger\">\n",
    "\n",
    "## 設問と解答用セル\n",
    "    \n",
    "</div>   \n",
    "\n",
    "\"**Q.**\" から始まる設問に対する解答は必ず入力しなさい。解答用セルには以下のように表示される。\n",
    "\n",
    "```python\n",
    "# YOUR CODE HERE\n",
    "raise NotImplementedError()\n",
    "```\n",
    "\n",
    "**注意**\n",
    "\n",
    "- <span class=\"mark\">raise NotImplementedError()の一行は**必ず消去**して</span>，<span class=\"mark\"># YOUR CODE HERE の下に解答</span>を書くこと。\n",
    "- <span class=\"mark\">\\# YOUR CODE HERE の一行は**消さない**</span>こと。どこに解答を書くべきかがわからなくなることがあります。\n",
    "- なんらかの演算をしたり，命令文を作ったときは，その**結果が予想通りか否かを必ず確認しなさい**\n",
    "\n",
    "<div class=\"alert alert-danger\">\n",
    "\n",
    "## 評価用セル\n",
    "    \n",
    "</div>\n",
    "\n",
    "- **「評価用セル」と書かれているセルは採点のためのセル**です。\n",
    "- **評価用コードが一部表示されている場合，それを実行すると課題の実行結果の確認**をできます。\n",
    "- **表示されていない評価用コードも**あります。\n",
    "\n",
    "<div class=\"alert alert-danger\">\n",
    "\n",
    "## 課題提出前の注意\n",
    "    \n",
    "</div>   \n",
    "\n",
    "**[重要]** 以下の手順で，全ての課題が正常に動作するか確認してから提出しましょう。\n",
    "\n",
    "1.  メニューバーの\"Kernel\"をクリック後，\"Restart\"を選択\n",
    "2. メニューバーの\"Cell\"を，\"Run All\"を選択"
   ]
  },
  {
   "cell_type": "code",
   "execution_count": 2,
   "metadata": {
    "deletable": false,
    "editable": false,
    "nbgrader": {
     "cell_type": "code",
     "checksum": "1b772d1ef15db64a639d481054e4f63d",
     "grade": false,
     "grade_id": "cell-9739a203c9dbca34",
     "locked": true,
     "schema_version": 3,
     "solution": false,
     "task": false
    }
   },
   "outputs": [],
   "source": [
    "# このセルは自動評価を行うための命令です。内容は無視して，実行(Shift-Enter)のみをしてください。\n",
    "#%%writefile unittests.py\n",
    "#%load unitte}sts.py\n",
    "%run unittests.py"
   ]
  },
  {
   "cell_type": "markdown",
   "metadata": {},
   "source": [
    "<div class=\"alert alert-success\">\n",
    "\n",
    "# matplotlibのお勉強その2\n",
    "\n",
    "</div>\n",
    "\n",
    "このシートでは，matplotlibでいろいろなグラフを作れるように楽しくお勉強しましょう。\n",
    "\n",
    "まずは，必要なモジュールの読み込みから。"
   ]
  },
  {
   "cell_type": "code",
   "execution_count": 3,
   "metadata": {},
   "outputs": [],
   "source": [
    "# 1行めは，matplotlibをjupyter notebookで使うための設定\n",
    "%matplotlib inline\n",
    "import matplotlib.pyplot as plt  # matplotlib.pyplotモジュールの読み込み\n",
    "import numpy as np\n",
    "import random as ra"
   ]
  },
  {
   "cell_type": "markdown",
   "metadata": {},
   "source": [
    "# 複数のデータ表示(折れ線グラフ)\n",
    "\n",
    "## 基本\n",
    "\n",
    "以下の2つのデータを1つのグラフに表示する。"
   ]
  },
  {
   "cell_type": "code",
   "execution_count": 4,
   "metadata": {},
   "outputs": [],
   "source": [
    "sample0 = [0, 0.5, 1, 1.5, 2.0]\n",
    "sample1 = [-2.0, -1.5, -1.0, -1.5, 0.0]\n",
    "sample2 = [-4.0, -2.0, 0.0, 2.0, 4.0]"
   ]
  },
  {
   "cell_type": "markdown",
   "metadata": {},
   "source": [
    "**Q.** 上記の3つのリストを要素とするリスト`data`を定義しなさい。"
   ]
  },
  {
   "cell_type": "code",
   "execution_count": 5,
   "metadata": {
    "deletable": false,
    "nbgrader": {
     "cell_type": "code",
     "checksum": "965988d90286fe1a78bef73635e8ce7c",
     "grade": false,
     "grade_id": "Q-list-data",
     "locked": false,
     "schema_version": 3,
     "solution": true,
     "task": false
    }
   },
   "outputs": [],
   "source": [
    "# 解答欄\n",
    "# YOUR CODE HERE\n",
    "data = [sample0, sample1, sample2]"
   ]
  },
  {
   "cell_type": "code",
   "execution_count": 6,
   "metadata": {
    "deletable": false,
    "editable": false,
    "nbgrader": {
     "cell_type": "code",
     "checksum": "93d1ffcf5d4fb188b564032e704143b7",
     "grade": true,
     "grade_id": "A-list-data",
     "locked": true,
     "points": 1,
     "schema_version": 3,
     "solution": false,
     "task": false
    }
   },
   "outputs": [],
   "source": [
    "# 評価用セル"
   ]
  },
  {
   "cell_type": "markdown",
   "metadata": {},
   "source": [
    "Axesオブジェクトのメソッド`matplotlib.axes.Axes.plot()`で折れ線グラフを作成する。\n",
    "`plot()`に描画データを渡す方法は2つある。\n",
    "\n",
    "1. `plot(list1,list2,...)` と**第1,2引数がともにリストの場合**は，それぞれ$x$座標データと$y$座標データと判断される。\n",
    "2. `plot(list,,...)`と，**第1引数のみがリスト**の場合は，それが$y$座標データとみなされ，対応する$x$座標値は自動的に$x=0, 1, 2,...$に割り当てられる。\n",
    "\n",
    "次のセルは上記2つめの方法で折れ線グラフを書く例。\n",
    "\n",
    "- 3つの折れ線を描くために，`plot()`を**3回呼び出して**第一引数に各グラフデータを設定\n",
    "- **凡例(各ラインの説明)**を加えるため，以下の命令を追加\n",
    "    - `plot()`に**引数`label`で凡例に表示する文字指定**\n",
    "    - matplotlib.pyplot の**メソッド`legend()`で凡例表示**\n",
    "- $y=0$の水平線も，`matplotlib.pyplot`のメソッド`axline()`で描画\n",
    "\n",
    "\n",
    "**参考**\n",
    "- [matplotlib.axes.Axes.plot()の公式マニュアル](https://matplotlib.org/api/_as_gen/matplotlib.axes.Axes.plot.html?highlight=plot#matplotlib.axes.Axes.plot)"
   ]
  },
  {
   "cell_type": "code",
   "execution_count": 7,
   "metadata": {},
   "outputs": [
    {
     "data": {
      "image/png": "[encoded data removed]",
      "text/plain": [
       "<Figure size 432x288 with 1 Axes>"
      ]
     },
     "metadata": {
      "needs_background": "light"
     },
     "output_type": "display_data"
    }
   ],
   "source": [
    "fig = plt.figure()\n",
    "plt.rcParams[\"font.size\"] = 16  # グラフのタイトルなどのフォントサイズを 16 point に\n",
    "\n",
    "ax = fig.add_subplot(111)\n",
    "for i in range(len(data)):\n",
    "    ax.plot(data[i], label=\"sample\" + str(i))\n",
    "\n",
    "ax.axhline(y=0, color=\"black\", linewidth=1, linestyle=\"-\")  # draw y=0\n",
    "\n",
    "ax.legend(fontsize=12)  # 凡例のフォントサイズは12pointに\n",
    "ax.set_xlabel(\"x\") # 横軸タイトル\n",
    "ax.set_ylabel(\"y\") # 縦軸タイトル\n",
    "\n",
    "plt.show()"
   ]
  },
  {
   "cell_type": "markdown",
   "metadata": {},
   "source": [
    "**Q.** 上のグラフを以下のように変更しなさい。\n",
    "\n",
    "- **データ点の形**として以下を指定。(`plot()`の引数で指定)\n",
    "    - \"data1\"，`marker=\"o\"`, \"data2\"は`marker=\"s\"`, \"data3\"は`marker=\"D\"`\n",
    "    - リスト`markers=['o','s','D']`を利用して`for`文内で指定する\n",
    "- **凡例のラベル**変更\n",
    "    - \"sample0\", \"sample1\", \"sample2\"を，\"data1\", \"data2\", \"data3\"にする    \n",
    "- $y=0$の**水平線を破線に**変更\n",
    "    - `linestyle=\"--\"`とする\n",
    "    \n",
    "**参考**\n",
    "- [matplotlibで使えるマーカの種類](https://matplotlib.org/3.2.1/api/markers_api.html)\n",
    "- [matplotlibで使えるラインの種類](https://matplotlib.org/gallery/lines_bars_and_markers/line_styles_reference.html)"
   ]
  },
  {
   "cell_type": "code",
   "execution_count": 8,
   "metadata": {
    "deletable": false,
    "nbgrader": {
     "cell_type": "code",
     "checksum": "d8829a2c6e32eed1daa1d36b9b6952eb",
     "grade": false,
     "grade_id": "Q-plot-sample",
     "locked": false,
     "schema_version": 3,
     "solution": true,
     "task": false
    }
   },
   "outputs": [
    {
     "data": {
      "image/png": "[encoded data removed]",
      "text/plain": [
       "<Figure size 432x288 with 1 Axes>"
      ]
     },
     "metadata": {
      "needs_background": "light"
     },
     "output_type": "display_data"
    }
   ],
   "source": [
    "# 解答欄\n",
    "# YOUR CODE HERE\n",
    "fig = plt.figure()\n",
    "plt.rcParams[\"font.size\"] = 16  # グラフのタイトルなどのフォントサイズを 16 point に\n",
    "\n",
    "markers = ['o', 's', 'D']\n",
    "ax = fig.add_subplot(111)\n",
    "for i in range(len(data)):\n",
    "    ax.plot(data[i], label=\"data\" + str(i+1), marker=markers[i])\n",
    "\n",
    "ax.axhline(y=0, color=\"black\", linewidth=1, linestyle=\"--\")  # draw y=0\n",
    "\n",
    "ax.legend(fontsize=12)  # 凡例のフォントサイズは12pointに\n",
    "ax.set_xlabel(\"x\") # 横軸タイトル\n",
    "ax.set_ylabel(\"y\") # 縦軸タイトル\n",
    "\n",
    "plt.show()"
   ]
  },
  {
   "cell_type": "code",
   "execution_count": 9,
   "metadata": {
    "deletable": false,
    "editable": false,
    "nbgrader": {
     "cell_type": "code",
     "checksum": "28af23068bd2690468ddcab0d2bbd831",
     "grade": true,
     "grade_id": "A-plot-sample-label",
     "locked": true,
     "points": 1,
     "schema_version": 3,
     "solution": false,
     "task": false
    }
   },
   "outputs": [
    {
     "name": "stdout",
     "output_type": "stream",
     "text": [
      "ok!\n"
     ]
    }
   ],
   "source": [
    "# 評価用セルその1 ラベル確認\n",
    "pc = LinePlotChecker(ax)\n",
    "pc.find_permutation('labels', [\"data1\",\"data2\",\"data3\"])\n",
    "print(\"ok!\")"
   ]
  },
  {
   "cell_type": "code",
   "execution_count": 10,
   "metadata": {
    "deletable": false,
    "editable": false,
    "nbgrader": {
     "cell_type": "code",
     "checksum": "146e8904573e4d4f7ec96d42d0724765",
     "grade": true,
     "grade_id": "A-plot-sample-marker",
     "locked": true,
     "points": 1,
     "schema_version": 3,
     "solution": false,
     "task": false
    }
   },
   "outputs": [
    {
     "name": "stdout",
     "output_type": "stream",
     "text": [
      "good!\n"
     ]
    }
   ],
   "source": [
    "# 評価用セルその2：マーカ確認\n",
    "_markers=['o', 's', 'D', '']\n",
    "pc = LinePlotChecker(ax)\n",
    "pc.assert_markers_equal(_markers)\n",
    "print(\"good!\")"
   ]
  },
  {
   "cell_type": "code",
   "execution_count": 11,
   "metadata": {
    "deletable": false,
    "editable": false,
    "nbgrader": {
     "cell_type": "code",
     "checksum": "0d64b9129e1d19bde92643442a273a3c",
     "grade": true,
     "grade_id": "A-plot-sample-data",
     "locked": true,
     "points": 1,
     "schema_version": 3,
     "solution": false,
     "task": false
    }
   },
   "outputs": [
    {
     "name": "stdout",
     "output_type": "stream",
     "text": [
      "well done!\n"
     ]
    }
   ],
   "source": [
    "# 評価用セルその3：データ確認\n",
    "_assert_array_involve(pc.y_data,[0. , 0.5, 1. , 1.5, 2. ],msg=\"表示データがなんか変ですよ\")\n",
    "_assert_array_involve(pc.y_data,[-2. , -1.5, -1. , -1.5,  0. ],msg=\"表示データがなんか変ですよ\")\n",
    "_assert_array_involve(pc.y_data,[-4., -2.,  0.,  2.,  4.],msg=\"表示データがなんか変ですよ\")\n",
    "_assert_array_involve(pc.y_data,[0., 0.],msg=\"水平線がないですよ\")\n",
    "print(\"well done!\")"
   ]
  },
  {
   "cell_type": "markdown",
   "metadata": {},
   "source": [
    "<div class=\"alert alert-success\">\n",
    "\n",
    "##  いろいろなパラメータ値に対するデータを，一つのグラフにまとめる\n",
    "\n",
    "</div>\n",
    "\n",
    "\n",
    "**Q.** 関数$x=\\sin 2\\pi at$のパラメータを$a=1, 2, 3, 4$と変化させた場合のグラフをまとめて1つの図に表示する方法を考えよう。\n",
    "パラメータ$a$の様々な値に対する$\\sin 2\\pi at$の値を配列化して保存すれば，まとめて1つのグラフに表示できる。\n",
    "\n",
    "このグラフ表示のためのデータ(リスト)を以下のように作りなさい。\n",
    "\n",
    "```python\n",
    "t_num = 101  # 横軸データの個数\n",
    "t_value =　  # 横軸データ設定。0以上1以下を均等に t_num 個(両端含む)に分割して得られる点を要素とするndarrayを定義する\n",
    "a_range =    # aの値設定。(例: 1以上から4以下の範囲で，1刻みの数値を要素とするndarrayを定義する\n",
    "a_num =      # a_rangeの要素数をlen()を使って取得する\n",
    "sin_data =  # 0行t_num列の2次元ndarrayを用意する。要素の初期化はしない。\n",
    "\n",
    "for i,a in enumerate(a_range):\n",
    "    \"\"\"\n",
    "    1. np.sin(2*pi*a*t_value) の値(ndarray)を取得し，適当な名前の一時変数に格納する\n",
    "    2. for文の前で定義した配列 sin_data に，前行で取得した変数を新たな行としてを追加\n",
    "    \"\"\"\n",
    "```"
   ]
  },
  {
   "cell_type": "code",
   "execution_count": 12,
   "metadata": {
    "deletable": false,
    "nbgrader": {
     "cell_type": "code",
     "checksum": "997a62d71ec93e45c36992ae7b62cecc",
     "grade": false,
     "grade_id": "A-sin-data",
     "locked": false,
     "schema_version": 3,
     "solution": true,
     "task": false
    }
   },
   "outputs": [],
   "source": [
    "t_num = 101\n",
    "t_value = np.linspace(0.0, 1.0, t_num)\n",
    "a_value = np.arange(1, 4+1)\n",
    "a_num = len(a_value)\n",
    "\n",
    "sin_data = [np.sin(2 * np.pi * a * t_value) for a in a_value]"
   ]
  },
  {
   "cell_type": "code",
   "execution_count": 13,
   "metadata": {
    "deletable": false,
    "editable": false,
    "nbgrader": {
     "cell_type": "code",
     "checksum": "d25dcb0497307dda6be431576d3f0710",
     "grade": true,
     "grade_id": "E-sin-parameters",
     "locked": true,
     "points": 1,
     "schema_version": 3,
     "solution": false,
     "task": false
    }
   },
   "outputs": [],
   "source": [
    "# 評価用セルその1 (各種変数設定)"
   ]
  },
  {
   "cell_type": "code",
   "execution_count": 14,
   "metadata": {
    "deletable": false,
    "editable": false,
    "nbgrader": {
     "cell_type": "code",
     "checksum": "fad88eedb30a7569c8b2a1d4232d1e73",
     "grade": true,
     "grade_id": "E-sin-data",
     "locked": true,
     "points": 1,
     "schema_version": 3,
     "solution": false,
     "task": false
    }
   },
   "outputs": [],
   "source": [
    "# 評価用セルその2 (三角関数データ確認)"
   ]
  },
  {
   "cell_type": "markdown",
   "metadata": {},
   "source": [
    "**Q.** 前問でつくったデータ`sin_data`を以下のようなグラフにしなさい。\n",
    "\n",
    "- 凡例(以下の各グラフ右上にある`a=1`, `a=2`等の一覧)をつけること\n",
    "    - リスト`a_range`に格納されている第$i$要素(値)を文字列に変換して，凡例`a=要素値`にする方法は以下の通り。\"U3\"はUTFコードで3文字を意味する。\n",
    "     ```\n",
    "     label = \"a=\" + a_range[i].astype(\"|U3\")\n",
    "     ```\n",
    "- 各曲線は表示せず(`linestyle=\"\"`)，データ点のみの表示(`marker=\".\"`)とする\n",
    "- 横軸名は`time`, 縦軸名は`sinusoidal functions`とすること。\n",
    "- 座標コンテナ`ax`の名称は変えないで，各グラフの描画に使うこと\n",
    "- 上記の例と同様に，`y=0`の線も描画すること。\n",
    "\n",
    "![](images/sine.png)"
   ]
  },
  {
   "cell_type": "code",
   "execution_count": 15,
   "metadata": {
    "deletable": false,
    "nbgrader": {
     "cell_type": "code",
     "checksum": "3805bec26e904e1ca18cd4432f68151c",
     "grade": false,
     "grade_id": "A-sin-plot",
     "locked": false,
     "schema_version": 3,
     "solution": true,
     "task": false
    }
   },
   "outputs": [
    {
     "data": {
      "image/png": "[encoded data removed]",
      "text/plain": [
       "<Figure size 432x288 with 1 Axes>"
      ]
     },
     "metadata": {
      "needs_background": "light"
     },
     "output_type": "display_data"
    }
   ],
   "source": [
    "# 解答欄\n",
    "# YOUR CODE HERE\n",
    "fig = plt.figure()\n",
    "plt.rcParams[\"font.size\"] = 16\n",
    "ax = fig.add_subplot(111)\n",
    "for i in range(len(a_value)):\n",
    "    ax.plot(sin_data[i], label=\"a=%d\"%(i+1), linestyle=\"\", marker=\".\")\n",
    "\n",
    "ax.axhline(y=0, color=\"black\", linewidth=1, linestyle=\"--\")  # draw y=0\n",
    "\n",
    "ax.legend(fontsize=12)  # 凡例のフォントサイズは12pointに\n",
    "ax.set_xlabel(\"time\") # 横軸タイトル\n",
    "ax.set_ylabel(\"sinusoidal functions\") # 縦軸タイトル\n",
    "\n",
    "plt.show()"
   ]
  },
  {
   "cell_type": "code",
   "execution_count": 16,
   "metadata": {
    "deletable": false,
    "editable": false,
    "nbgrader": {
     "cell_type": "code",
     "checksum": "90ed9a0808d1235957ead4b88c0f1281",
     "grade": true,
     "grade_id": "E-sin-plot-title",
     "locked": true,
     "points": 1,
     "schema_version": 3,
     "solution": false,
     "task": false
    }
   },
   "outputs": [
    {
     "name": "stdout",
     "output_type": "stream",
     "text": [
      "ok!\n"
     ]
    }
   ],
   "source": [
    "# 評価用セル(軸ラベル確認)\n",
    "_check_axes_title(ax,title=[\"time\",\"sinusoidal functions\"])\n",
    "print(\"ok!\")"
   ]
  },
  {
   "cell_type": "code",
   "execution_count": 17,
   "metadata": {
    "deletable": false,
    "editable": false,
    "nbgrader": {
     "cell_type": "code",
     "checksum": "d2dfd27c85e69a547957be5cae68b922",
     "grade": true,
     "grade_id": "E-sin-plot-datam",
     "locked": true,
     "points": 1,
     "schema_version": 3,
     "solution": false,
     "task": false
    }
   },
   "outputs": [],
   "source": [
    "# 評価用セルその2(描画関数確認)"
   ]
  },
  {
   "cell_type": "code",
   "execution_count": 18,
   "metadata": {
    "deletable": false,
    "editable": false,
    "nbgrader": {
     "cell_type": "code",
     "checksum": "3553b7585eecf5fa7aa7b940e6527fd2",
     "grade": true,
     "grade_id": "E-sin-plot-label",
     "locked": true,
     "points": 1,
     "schema_version": 3,
     "solution": false,
     "task": false
    }
   },
   "outputs": [],
   "source": [
    "# 評価用セルその3(凡例確認)\n",
    "labels = [\"a=1\", \"a=2\", \"a=3\", \"a=4\"]\n",
    "_check_labels(ax,labels)"
   ]
  },
  {
   "cell_type": "markdown",
   "metadata": {},
   "source": [
    "<div class=\"alert alert-success\">\n",
    "\n",
    "\n",
    "# 平均値と標準偏差をグラフにする\n",
    "\n",
    "</div>\n",
    "\n",
    "強化学習等を用いて学習を行う場合，環境の変動や行動選択における乱数利用によって，同じパラメータを用いても毎回異なる結果となる。\n",
    "そのようなパフォーマンスの比較を行う場合には，**平均値と標準偏差に基づくグラフを作成して比較**する必要がある。\n",
    "\n",
    "## 平均値と標準偏差のグラフ(棒グラフ)\n",
    "\n",
    "Q学習で、行動選択ポリシーにε-greedy法を使った場合とsoftmaxを利用した場合のシミュレーションで得られたスコア(学習後に1エピソードのシミュレーションを行った時の獲得報酬)が、それぞれ次セルのように得られていたとする。"
   ]
  },
  {
   "cell_type": "code",
   "execution_count": 19,
   "metadata": {},
   "outputs": [],
   "source": [
    "score_q_egreedy = [54, 64, 60, 63, 58, 60, 62, 68, 67, 58]\n",
    "score_q_softmax = [45, 56, 92, 54, 70, 58, 68, 62, 68, 69]"
   ]
  },
  {
   "cell_type": "markdown",
   "metadata": {},
   "source": [
    "**Q**. 以下を作りなさい。\n",
    "- 上記の各データの平均値を要素とするリスト`mean_q`\n",
    "- 滋養機の各データの標準偏差を要素とするリスト化`sd_q`"
   ]
  },
  {
   "cell_type": "code",
   "execution_count": 20,
   "metadata": {
    "deletable": false,
    "nbgrader": {
     "cell_type": "code",
     "checksum": "f80c79952677a777d0b262465ccbc80d",
     "grade": false,
     "grade_id": "A-mean_q",
     "locked": false,
     "schema_version": 3,
     "solution": true,
     "task": false
    }
   },
   "outputs": [],
   "source": [
    "# 解答欄\n",
    "# YOUR CODE HERE\n",
    "mean_q = [np.average(score) for score in [score_q_egreedy, score_q_softmax]]\n",
    "sd_q = [np.std(score) for score in [score_q_egreedy, score_q_softmax]]"
   ]
  },
  {
   "cell_type": "code",
   "execution_count": 21,
   "metadata": {
    "deletable": false,
    "editable": false,
    "nbgrader": {
     "cell_type": "code",
     "checksum": "5b408551178ab580289d31436a73d0e7",
     "grade": true,
     "grade_id": "E-mean_q",
     "locked": true,
     "points": 1,
     "schema_version": 3,
     "solution": false,
     "task": false
    }
   },
   "outputs": [],
   "source": [
    "# 評価用セル"
   ]
  },
  {
   "cell_type": "markdown",
   "metadata": {},
   "source": [
    "上記データを座標コンテナ`Axes`のメソッド`bar()`を使って，標準偏差を示す**エラーバー付きの棒グラフ**にする。\n",
    "\n",
    "**例(次セル)の解説**\n",
    "\n",
    "- 横軸データに`range(n_graph)`を指定。`x=0,1,2,3`の位置が各バーの中心位置になる\n",
    "- 引数`yerr`で標準偏差(エラーバー)の値のリストを指定\n",
    "- 引数`error_kw`でエラーバーの端点のスタイルを表示\n",
    "- 引数`tick_label`で各バーのタイトル設定\n",
    "\n",
    "**公式マニュアル**\n",
    "\n",
    "- [matplotlib.axes.Axes.bar](https://matplotlib.org/3.3.0/api/_as_gen/matplotlib.axes.Axes.bar.html)"
   ]
  },
  {
   "cell_type": "code",
   "execution_count": 22,
   "metadata": {},
   "outputs": [
    {
     "data": {
      "image/png": "[encoded data removed]",
      "text/plain": [
       "<Figure size 432x288 with 1 Axes>"
      ]
     },
     "metadata": {
      "needs_background": "light"
     },
     "output_type": "display_data"
    }
   ],
   "source": [
    "n_graph = len(mean_q) # 表示するbarの数\n",
    "\n",
    "fig = plt.figure(figsize=(6, 4))\n",
    "ax = fig.add_subplot(111)\n",
    "ax.bar(\n",
    "    range(n_graph), # x-axis data (put bars on x=0,1,..,n_graph-1)\n",
    "    mean_q,      # y-axis data\n",
    "    yerr=sd_q,   # error bar\n",
    "    error_kw=dict(lw=1, capthick=1, capsize=10),  # cap style of error bar\n",
    "    tick_label=[\"$\\epsilon$-greedy\",\"softmax\"]\n",
    ")\n",
    "\n",
    "# ax.set_xticklabels([\"$\\epsilon$-greedy\",\"softmax\"]) # 軸ラベル指定は，こちらを使っても良い\n",
    "\n",
    "plt.show()"
   ]
  },
  {
   "cell_type": "markdown",
   "metadata": {},
   "source": [
    "**Q.** 前セルのプログラム例に，横軸の表示範囲`ax.set_xlim(0,1)`を追加するとどのような表示になるだろう? まずは結果を想像してから，実際に試して確認しなさい。\n",
    "\n",
    "**選択肢**:\n",
    "\n",
    "1. 上記のグラフと変わらない\n",
    "2. 左のバーのみしか表示されない\n",
    "3. 右のバーのみしか表示されない\n",
    "4. 両方のバーが表示されるが，幅が半分ずつになる\n",
    "\n",
    "以下の解答欄には，正しい選択肢の番号を選んで`ans=5`等と入力しなさい。"
   ]
  },
  {
   "cell_type": "code",
   "execution_count": 23,
   "metadata": {},
   "outputs": [
    {
     "data": {
      "image/png": "[encoded data removed]",
      "text/plain": [
       "<Figure size 432x288 with 1 Axes>"
      ]
     },
     "metadata": {
      "needs_background": "light"
     },
     "output_type": "display_data"
    }
   ],
   "source": [
    "# このセルで試してみよう\n",
    "n_graph = len(mean_q) # 表示するbarの数\n",
    "\n",
    "fig = plt.figure(figsize=(6, 4))\n",
    "ax = fig.add_subplot(111)\n",
    "ax.bar(\n",
    "    range(n_graph), # x-axis data (put bars on x=0,1,..,n_graph-1)\n",
    "    mean_q,      # y-axis data\n",
    "    yerr=sd_q,   # error bar\n",
    "    error_kw=dict(lw=1, capthick=1, capsize=10),  # cap style of error bar\n",
    "    tick_label=[\"$\\epsilon$-greedy\",\"softmax\"]\n",
    ")\n",
    "ax.set_xlim(0, 1)\n",
    "\n",
    "# ax.set_xticklabels([\"$\\epsilon$-greedy\",\"softmax\"]) # 軸ラベル指定は，こちらを使っても良い\n",
    "\n",
    "plt.show()"
   ]
  },
  {
   "cell_type": "code",
   "execution_count": 24,
   "metadata": {
    "deletable": false,
    "nbgrader": {
     "cell_type": "code",
     "checksum": "cddc4d781a63f5785a9fe3ad46c0aa8c",
     "grade": false,
     "grade_id": "A-bar-position",
     "locked": false,
     "schema_version": 3,
     "solution": true,
     "task": false
    }
   },
   "outputs": [],
   "source": [
    "### 解答欄\n",
    "# 記入例: ans=5\n",
    "# YOUR CODE HERE\n",
    "ans=4"
   ]
  },
  {
   "cell_type": "code",
   "execution_count": 25,
   "metadata": {
    "deletable": false,
    "editable": false,
    "nbgrader": {
     "cell_type": "code",
     "checksum": "a626d27e86e6faaf51af8b92136a869d",
     "grade": true,
     "grade_id": "E-bar-position",
     "locked": true,
     "points": 2,
     "schema_version": 3,
     "solution": false,
     "task": false
    }
   },
   "outputs": [],
   "source": [
    "# 評価用セル"
   ]
  },
  {
   "cell_type": "markdown",
   "metadata": {},
   "source": [
    "**Q.** 上の棒グラフの作成例を次のように修正して，以下の図のようにしなさい。\n",
    "\n",
    "![](images/bar.png)\n",
    "\n",
    "- 横軸のラベルを\"policy\"とする\n",
    "- 縦軸のラベルを\"score\"とする\n",
    "- 以下を`ax.bar()`の引数に設定\n",
    "    - 引数`width`でバーの輪郭の太さを`0.5`に変更\n",
    "    - 引数`color`でバーの塗り潰し色を`coral`に指定\n",
    "    - 引数`edgecolor`でバーの輪郭色を`black`に指定\n",
    "    \n",
    "参考:    \n",
    "- [matplotlibで指定できるカラー一覧表](https://matplotlib.org/3.1.0/gallery/color/named_colors.html)"
   ]
  },
  {
   "cell_type": "code",
   "execution_count": 26,
   "metadata": {
    "deletable": false,
    "nbgrader": {
     "cell_type": "code",
     "checksum": "43d021d6350dc6d47948c0af94d5fdae",
     "grade": false,
     "grade_id": "A-2bars",
     "locked": false,
     "schema_version": 3,
     "solution": true,
     "task": false
    }
   },
   "outputs": [
    {
     "data": {
      "image/png": "[encoded data removed]",
      "text/plain": [
       "<Figure size 432x288 with 1 Axes>"
      ]
     },
     "metadata": {
      "needs_background": "light"
     },
     "output_type": "display_data"
    }
   ],
   "source": [
    "# 解答欄\n",
    "# YOUR CODE HERE\n",
    "n_graph = len(mean_q) # 表示するbarの数\n",
    "\n",
    "fig = plt.figure(figsize=(6, 4))\n",
    "ax = fig.add_subplot(111)\n",
    "ax.bar(\n",
    "    range(n_graph), # x-axis data (put bars on x=0,1,..,n_graph-1)\n",
    "    mean_q,      # y-axis data\n",
    "    yerr=sd_q,   # error bar\n",
    "    error_kw=dict(lw=1, capthick=1, capsize=10),  # cap style of error bar\n",
    "    tick_label=[\"$\\epsilon$-greedy\",\"softmax\"],\n",
    "    width=0.5,\n",
    "    color=\"coral\",\n",
    "    edgecolor=\"black\"\n",
    ")\n",
    "ax.set_xlabel(\"policy\") # 横軸タイトル\n",
    "ax.set_ylabel(\"score\") # 縦軸タイトル\n",
    "\n",
    "# ax.set_xticklabels([\"$\\epsilon$-greedy\",\"softmax\"]) # 軸ラベル指定は，こちらを使っても良い\n",
    "\n",
    "plt.show()"
   ]
  },
  {
   "cell_type": "code",
   "execution_count": 27,
   "metadata": {
    "deletable": false,
    "editable": false,
    "nbgrader": {
     "cell_type": "code",
     "checksum": "b08fceab8dd9d72f0ea070318d9c78da",
     "grade": true,
     "grade_id": "E-2bars-title",
     "locked": true,
     "points": 1,
     "schema_version": 3,
     "solution": false,
     "task": false
    }
   },
   "outputs": [
    {
     "name": "stdout",
     "output_type": "stream",
     "text": [
      "ok!\n"
     ]
    }
   ],
   "source": [
    "# 評価用セル(軸タイトル)\n",
    "_check_axes_title(ax,title=[\"policy\",\"score\"])\n",
    "print(\"ok!\")"
   ]
  },
  {
   "cell_type": "code",
   "execution_count": 28,
   "metadata": {
    "deletable": false,
    "editable": false,
    "nbgrader": {
     "cell_type": "code",
     "checksum": "ebd4b743e14227a37a3fbb8e2400d447",
     "grade": true,
     "grade_id": "E-2bars-color",
     "locked": true,
     "points": 1,
     "schema_version": 3,
     "solution": false,
     "task": false
    }
   },
   "outputs": [
    {
     "name": "stdout",
     "output_type": "stream",
     "text": [
      "good!\n"
     ]
    }
   ],
   "source": [
    "# 評価用セル(そのほか)\n",
    "pc = BarPlotChecker(ax)\n",
    "try:\n",
    "    pc.assert_widths_equal(0.5)\n",
    "except:\n",
    "    _alert(\"バーの幅が違うよ!\")\n",
    "    raise\n",
    "\n",
    "try:\n",
    "    pc.assert_colors_equal(\"coral\")\n",
    "    pc.assert_edgecolors_equal(\"black\")\n",
    "except:\n",
    "    _alert(\"バーの塗り潰し色か輪郭色が違うよ!\")\n",
    "\n",
    "print(\"good!\")"
   ]
  },
  {
   "cell_type": "markdown",
   "metadata": {},
   "source": [
    "さらに、Actor-Critic法を利用した場合の学習結果のデータも、ポリシーとして$\\epsilon$-greedy法とsoftmax法を使った場合について以下のように取得したとする。"
   ]
  },
  {
   "cell_type": "code",
   "execution_count": 29,
   "metadata": {},
   "outputs": [],
   "source": [
    "score_ac_egreedy=[19,32,65,43,57,65,79,45,69,52]\n",
    "score_ac_softmax=[40,35,60,55,63,28,30,53,27,67]"
   ]
  },
  {
   "cell_type": "markdown",
   "metadata": {},
   "source": [
    "**Q**. 以下を作りなさい。\n",
    "\n",
    "- 上記の2つのデータのそれぞれの平均値を要素とするリスト`mean_ac`\n",
    "- 上記の2つのデータのそれぞれの標準偏差を要素とするリスト`sd_ac`"
   ]
  },
  {
   "cell_type": "code",
   "execution_count": 30,
   "metadata": {
    "deletable": false,
    "nbgrader": {
     "cell_type": "code",
     "checksum": "514589f3538d4786af33aea6c3bd4612",
     "grade": false,
     "grade_id": "A-mean_ac",
     "locked": false,
     "schema_version": 3,
     "solution": true,
     "task": false
    }
   },
   "outputs": [],
   "source": [
    "# 解答欄\n",
    "# YOUR CODE HERE\n",
    "mean_ac = [np.average(score) for score in [score_ac_egreedy, score_ac_softmax]]\n",
    "sd_ac = [np.std(score) for score in [score_ac_egreedy, score_ac_softmax]]"
   ]
  },
  {
   "cell_type": "code",
   "execution_count": 31,
   "metadata": {
    "deletable": false,
    "editable": false,
    "nbgrader": {
     "cell_type": "code",
     "checksum": "9c28b429773e3697ca88605b561c73d3",
     "grade": true,
     "grade_id": "E-mean_ac",
     "locked": true,
     "points": 1,
     "schema_version": 3,
     "solution": false,
     "task": false
    }
   },
   "outputs": [
    {
     "name": "stdout",
     "output_type": "stream",
     "text": [
      "ok!\n"
     ]
    }
   ],
   "source": [
    "# 評価用セル\n",
    "print(\"ok!\")"
   ]
  },
  {
   "cell_type": "markdown",
   "metadata": {},
   "source": [
    "以上のデータを棒グラフにするため，以下のような命令文を作った。\n",
    "\n",
    "- すでに作ったQ学習のグラフを格納するオブジェクト`ax`に以下を追加\n",
    "    - バーの幅を指定するための変数`width`を追加\n",
    "- オブジェクト`ax`にActor-Criticのデータの棒グラフを追加\n",
    "    - 棒グラフの表示位置(第一引数で指定する`x`座標値)が，Q学習のグラフと重ならないようにグラフ幅`width`だけずらした。"
   ]
  },
  {
   "cell_type": "code",
   "execution_count": 32,
   "metadata": {},
   "outputs": [
    {
     "data": {
      "image/png": "[encoded data removed]",
      "text/plain": [
       "<Figure size 504x360 with 1 Axes>"
      ]
     },
     "metadata": {
      "needs_background": "light"
     },
     "output_type": "display_data"
    }
   ],
   "source": [
    "n_graph = len(mean_q) # 表示するbarの数\n",
    "\n",
    "fig = plt.figure(figsize=(7, 5))\n",
    "ax = fig.add_subplot(111)\n",
    "\n",
    "width = 0.6  # width of a bar\n",
    "\n",
    "ax.bar(\n",
    "    range(n_graph), # x-axis data (put bars on x=0,1,..,n_graph-1)\n",
    "    mean_q,      # y-axis data\n",
    "    yerr=sd_q,   # error bar\n",
    "    width = width,\n",
    "    color=\"coral\",\n",
    "    error_kw=dict(lw=1, capthick=1, capsize=10),  # cap style of error bar\n",
    ")\n",
    "\n",
    "# results of Actor-Critic\n",
    "\n",
    "ax.bar(\n",
    "    np.arange(n_graph) + width,  # put bars on x=0.2,1.1,...,n_graph\n",
    "    mean_ac,\n",
    "    width=width,\n",
    "    color=\"royalblue\",\n",
    "    error_kw=dict(lw=1, capthick=1, capsize=10),  # cap style of error bar\n",
    ")\n",
    "\n",
    "plt.show()"
   ]
  },
  {
   "cell_type": "markdown",
   "metadata": {},
   "source": [
    "**Q.** 前セルの命令文を次のセルにコピーしなさい。さらに下記のように問題点を修正し，以下のサンプルと同じグラフにしなさい。\n",
    "\n",
    "![](images/2by2bars.png)\n",
    "\n",
    "- **Actor-Criticのデータのエラーバー**が表示されていない\n",
    "    - Q学習のバーと同様に，エラーバーを追加する\n",
    "- **バーが重なっている箇所**がある\n",
    "    - バーの幅を少し小さくして、例のように$\\epsilon$-greedy法の2つのグラフが接するようにする。(もれなく、softmax法の2つのグラフも接する)\n",
    "- 横軸のバー名の**ラベル**がない\n",
    "    - `x=0,1`の位置に，ラベル$\\epsilon$-greedy\",\"softmax\"をそれぞれ表示する\n",
    "    - ラベルの指定は`ax.set_xticklabels(label)`, `label`の部分は、ラベル名のリスト\n",
    "    - ラベル位置の指定は`ax.set_xticks(position)`, `position`の部分は、座標値のリスト\n",
    "\n",
    "- **オレンジと青のバーがそれぞれ何を表すか**不明\n",
    "    - `ax.bar()`の引数にそれぞれ引数`label`で**ラベル名を設定**する。ラベル名は\"Q-learner\"と，\"Actor-Critic\"とする。\n",
    "    - 凡例を表示する\n",
    "- **横軸と縦軸のタイトル**がない\n",
    "    - 横軸のタイトルは\"learning method\", 縦軸のタイトルは\"score\"とする\n",
    "- その他\n",
    "    - **縦軸の表示範囲は0から100まで**とする\n",
    "    - 色は好きな色に変更しても良い"
   ]
  },
  {
   "cell_type": "code",
   "execution_count": 33,
   "metadata": {
    "deletable": false,
    "nbgrader": {
     "cell_type": "code",
     "checksum": "824b16e4645340fc9228478d529ef00a",
     "grade": false,
     "grade_id": "A-4bars",
     "locked": false,
     "schema_version": 3,
     "solution": true,
     "task": false
    }
   },
   "outputs": [
    {
     "data": {
      "image/png": "[encoded data removed]",
      "text/plain": [
       "<Figure size 504x360 with 1 Axes>"
      ]
     },
     "metadata": {
      "needs_background": "light"
     },
     "output_type": "display_data"
    }
   ],
   "source": [
    "# 解答欄\n",
    "# YOUR CODE HERE\n",
    "n_graph = len(mean_q) # 表示するbarの数\n",
    "\n",
    "fig = plt.figure(figsize=(7, 5))\n",
    "ax = fig.add_subplot(111)\n",
    "\n",
    "width = 0.4  # width of a bar\n",
    "\n",
    "ax.bar(\n",
    "    np.arange(n_graph) - width*0.5, # x-axis data (put bars on x=0,1,..,n_graph-1)\n",
    "    mean_q,      # y-axis data\n",
    "    yerr=sd_q,   # error bar\n",
    "    width = width,\n",
    "    color=\"coral\",\n",
    "    error_kw=dict(lw=1, capthick=1, capsize=10),  # cap style of error bar\n",
    "    label = \"Q-learner\",\n",
    ")\n",
    "\n",
    "# results of Actor-Critic\n",
    "\n",
    "ax.bar(\n",
    "    np.arange(n_graph) + width*0.5,  # put bars on x=0.2,1.1,...,n_graph\n",
    "    mean_ac,\n",
    "    yerr=sd_ac,\n",
    "    width=width,\n",
    "    color=\"royalblue\",\n",
    "    error_kw=dict(lw=1, capthick=1, capsize=10),  # cap style of error bar\n",
    "    label = \"Actor-Critic\",\n",
    ")\n",
    "\n",
    "ax.set_xticklabels([\"$\\epsilon$-greedy\", \"softmax\"])\n",
    "ax.set_xticks([0, 1])\n",
    "ax.set_ylim(0, 100)\n",
    "\n",
    "ax.legend(fontsize=12)  # 凡例のフォントサイズは12pointに\n",
    "ax.set_xlabel(\"learning method\") # 横軸タイトル\n",
    "ax.set_ylabel(\"score\") # 縦軸タイトル\n",
    "\n",
    "plt.show()"
   ]
  },
  {
   "cell_type": "code",
   "execution_count": 34,
   "metadata": {
    "deletable": false,
    "editable": false,
    "nbgrader": {
     "cell_type": "code",
     "checksum": "2a94ff86fe1a1bc1ab7ba855799625fb",
     "grade": true,
     "grade_id": "E-4bars-title",
     "locked": true,
     "points": 1,
     "schema_version": 3,
     "solution": false,
     "task": false
    }
   },
   "outputs": [
    {
     "name": "stdout",
     "output_type": "stream",
     "text": [
      "OK!\n"
     ]
    }
   ],
   "source": [
    "# 評価用セル(軸タイトル)\n",
    "_check_axes_title(ax, [\"learning method\", \"score\"])\n",
    "\n",
    "pc = PlotChecker(ax)\n",
    "try:\n",
    "    pc.assert_xticklabels_equal([\"$\\epsilon$-greedy\", \"softmax\"])\n",
    "except:\n",
    "    _alert(\"目盛りのラベルが違いますよ。\")\n",
    "print(\"OK!\")"
   ]
  },
  {
   "cell_type": "code",
   "execution_count": 35,
   "metadata": {
    "deletable": false,
    "editable": false,
    "nbgrader": {
     "cell_type": "code",
     "checksum": "b9ce12d2e2878cc12a313e32adceb865",
     "grade": true,
     "grade_id": "E-4bars-ylim",
     "locked": true,
     "points": 1,
     "schema_version": 3,
     "solution": false,
     "task": false
    }
   },
   "outputs": [
    {
     "name": "stdout",
     "output_type": "stream",
     "text": [
      "OK!\n"
     ]
    }
   ],
   "source": [
    "# 評価用セル(y軸レンジ)\n",
    "try:\n",
    "    pc.assert_ylim_equal((0.0, 100.0))\n",
    "except:\n",
    "    _alert(\"縦軸の表示範囲設定がおかしいです。\")\n",
    "\n",
    "print(\"OK!\")"
   ]
  },
  {
   "cell_type": "code",
   "execution_count": 36,
   "metadata": {
    "deletable": false,
    "editable": false,
    "nbgrader": {
     "cell_type": "code",
     "checksum": "7178a12076a237523413b767eee51fdd",
     "grade": true,
     "grade_id": "E-4bars-position",
     "locked": true,
     "points": 1,
     "schema_version": 3,
     "solution": false,
     "task": false
    }
   },
   "outputs": [
    {
     "name": "stdout",
     "output_type": "stream",
     "text": [
      "good!\n"
     ]
    }
   ],
   "source": [
    "# 評価用セル(そのほか)\n",
    "pc = BarPlotChecker(ax)\n",
    "pc.assert_num_bars(4)\n",
    "\n",
    "try:\n",
    "    pc.assert_widths_allclose([0.4, 0.4, 0.4, 0.4])\n",
    "except:\n",
    "    _alert(\"バーの幅が違うよ!\")\n",
    "    raise\n",
    "\n",
    "pc.assert_centers_equal([-0.2, 0.2, 0.8, 1.2])\n",
    "\n",
    "print(\"good!\")"
   ]
  },
  {
   "cell_type": "markdown",
   "metadata": {},
   "source": [
    "## 平均値と標準偏差のグラフ(折れ線グラフ)\n",
    "\n",
    "学習の行動選択にε-greedy法を用い，$\\epsilon=0.0,0.3,0.6,0.9$の各値で十分にQ学習を行った後のパフォーマンス(1エピソードの獲得得点)の平均値`mean_q`と標準偏差`sd_q`が次セルのように与えられたとする。"
   ]
  },
  {
   "cell_type": "code",
   "execution_count": 37,
   "metadata": {},
   "outputs": [],
   "source": [
    "e_range = np.array([0.0, 0.3, 0.6, 0.9])\n",
    "mean_q = np.array([40, 25, 20, 50])\n",
    "sd_q = np.array([3, 10, 10, 5])"
   ]
  },
  {
   "cell_type": "markdown",
   "metadata": {},
   "source": [
    "以下は，`Axes`オブジェクトのメソッド`matplotlib.axes.Axes.errorbar()`を用いてSDの大きさをエラーバーで表した折れ線グラフを作成する例\n",
    "\n",
    "- 第1,2引数は，それぞれ`x`, `y`座標データのリスト\n",
    "- 引数`yerr=sd`で，エラーバーの長さに，データ`sd`を対応付け\n",
    "- 引数`marker='o'`でデータ点を表示\n",
    "- 引数`capsize`で，エラーバーのキャップの長さを設定\n",
    "\n",
    "**参考**\n",
    "- [matplotlib.axes.Axes.errorbarの公式マニュアル](https://matplotlib.org/api/_as_gen/matplotlib.axes.Axes.errorbar.html?highlight=errorbar#matplotlib.axes.Axes.errorbar)"
   ]
  },
  {
   "cell_type": "code",
   "execution_count": 38,
   "metadata": {},
   "outputs": [
    {
     "data": {
      "image/png": "[encoded data removed]",
      "text/plain": [
       "<Figure size 432x288 with 1 Axes>"
      ]
     },
     "metadata": {
      "needs_background": "light"
     },
     "output_type": "display_data"
    }
   ],
   "source": [
    "fig = plt.figure(figsize=(6, 4))\n",
    "ax = fig.add_subplot(111)\n",
    "ax.errorbar(e_range, mean_q, yerr=sd_q, marker='o', capsize=10)\n",
    "\n",
    "plt.show()"
   ]
  },
  {
   "cell_type": "markdown",
   "metadata": {},
   "source": [
    "上記のデータに加え，Actor-Critic法を用いたときのデータも以下のように与えられていたとする。"
   ]
  },
  {
   "cell_type": "code",
   "execution_count": 39,
   "metadata": {},
   "outputs": [],
   "source": [
    "mean_ac = np.array([20, 35, 40, 30])\n",
    "sd_ac = np.array([5, 3, 5, 10])"
   ]
  },
  {
   "cell_type": "markdown",
   "metadata": {},
   "source": [
    "以下は，Q学習のデータと両方まとめて一つのグラフに表示する例である。\n",
    "\n",
    "- `ax.errorbar()`を列挙することで複数のデータ表示\n",
    "- 引数`label`で，凡例設定"
   ]
  },
  {
   "cell_type": "code",
   "execution_count": 40,
   "metadata": {},
   "outputs": [
    {
     "data": {
      "image/png": "[encoded data removed]",
      "text/plain": [
       "<Figure size 432x288 with 1 Axes>"
      ]
     },
     "metadata": {
      "needs_background": "light"
     },
     "output_type": "display_data"
    }
   ],
   "source": [
    "fig = plt.figure(figsize=(6, 4))\n",
    "ax = fig.add_subplot(111)\n",
    "ax.errorbar(e_range, mean_q, yerr=sd_q, marker='o', capsize=10, label=\"Q-learning\")\n",
    "ax.errorbar(e_range, mean_ac, yerr=sd_ac, marker='o', capsize=10, label=\"Actor-Critic\")\n",
    "ax.legend() #凡例表示\n",
    "\n",
    "plt.show()"
   ]
  },
  {
   "cell_type": "markdown",
   "metadata": {},
   "source": [
    "上の例だと，凡例にもエラーバーが入ってしまう。これを避けるには，データ点を`plot()`で描画し，エラーバーを`errorbar()`で描画する。\n",
    "\n",
    "**注意**\n",
    "\n",
    "- デフォルトでは`plot()`や`errorbar()`を呼び出すたびに異なる色が割り当てられる。対応するデータ点とエラーバーが同じ色になるように引数`color`で指定する必要あり。\n",
    "\n",
    "**参考**\n",
    "- [matplotlibで指定できるカラー一覧表](https://matplotlib.org/3.1.0/gallery/color/named_colors.html)"
   ]
  },
  {
   "cell_type": "code",
   "execution_count": 41,
   "metadata": {},
   "outputs": [
    {
     "data": {
      "image/png": "[encoded data removed]",
      "text/plain": [
       "<Figure size 432x288 with 1 Axes>"
      ]
     },
     "metadata": {
      "needs_background": "light"
     },
     "output_type": "display_data"
    }
   ],
   "source": [
    "fig = plt.figure(figsize=(6, 4))\n",
    "ax = fig.add_subplot(111)\n",
    "\n",
    "ax.plot(e_range, mean_q, marker='o', color='tab:blue', label=\"Q-learning\")\n",
    "ax.plot(e_range, mean_ac, marker='o', color='tab:orange', label=\"Actor-Critic\")\n",
    "ax.errorbar(e_range, mean_q, yerr=sd_q, color='tab:blue', capsize=7, linestyle=\"\")\n",
    "ax.errorbar(e_range, mean_ac, yerr=sd_ac, color='tab:orange', capsize=7, linestyle=\"\")\n",
    "ax.legend() #凡例表示\n",
    "\n",
    "plt.show()"
   ]
  },
  {
   "cell_type": "markdown",
   "metadata": {},
   "source": [
    "**Q.** 上の例を以下のように修正し，図のようなグラフを作成しなさい。\n",
    "\n",
    "![](images/plot-errorbar.png)\n",
    "\n",
    "- Q学習の結果を表すグラフの色を'tab:green'に変更\n",
    "- Actor-Critic法の結果を表すグラフの色を'tab:red'に変更\n",
    "- 全ての線の太さを1に変更(`plot()`と`errorbar()`に引数`linewidth=1`を追加)\n",
    "- Q学習の結果を表すデータ点を，四角(□)に変更\n",
    "    - `plot()`に引数`marker='s'`を追加\n",
    "- Actor-Criticの結果を表すデータ点を，三角(△)に変更\n",
    "    - `plot()`に引数`marker='^'`を追加\n",
    "- 横軸タイトル`$\\epsilon$`を追加\n",
    "- 縦軸タイトル`score`を追加\n",
    "- 横軸の目盛り位置をデータ点のx座標値(x=0,0.3,...)に変更\n",
    "    - `ax.set_xticks(list)`を利用\n",
    "- フォントの大きさは見やすいサイズに調整"
   ]
  },
  {
   "cell_type": "code",
   "execution_count": 42,
   "metadata": {
    "deletable": false,
    "nbgrader": {
     "cell_type": "code",
     "checksum": "1947f2c6359c9aba8ff463bc8f4b1f3b",
     "grade": false,
     "grade_id": "A-2plots",
     "locked": false,
     "schema_version": 3,
     "solution": true,
     "task": false
    }
   },
   "outputs": [
    {
     "data": {
      "image/png": "[encoded data removed]",
      "text/plain": [
       "<Figure size 432x288 with 1 Axes>"
      ]
     },
     "metadata": {
      "needs_background": "light"
     },
     "output_type": "display_data"
    }
   ],
   "source": [
    "# 解答欄\n",
    "# YOUR CODE HERE\n",
    "fig = plt.figure(figsize=(6, 4))\n",
    "ax = fig.add_subplot(111)\n",
    "\n",
    "def plot_with_error(mean, sd, marker, color, label):\n",
    "    ax.plot(e_range, mean, marker=marker, color=color, label=label, linewidth=1)\n",
    "    ax.errorbar(e_range, mean, yerr=sd, color=color, capsize=7, linestyle=\"\", linewidth=1)\n",
    "\n",
    "plot_with_error(mean_q, sd_q, marker='s', color='tab:green', label=\"Q-learning\")\n",
    "plot_with_error(mean_ac, sd_ac, marker='^', color='tab:red', label=\"Actor-Critic\")\n",
    "ax.legend() #凡例表示\n",
    "\n",
    "ax.set_xlabel(\"$\\epsilon$\") # 横軸タイトル\n",
    "ax.set_ylabel(\"score\") # 縦軸タイトル\n",
    "ax.set_xticks(e_range)\n",
    "\n",
    "plt.show()"
   ]
  },
  {
   "cell_type": "code",
   "execution_count": 43,
   "metadata": {
    "deletable": false,
    "editable": false,
    "nbgrader": {
     "cell_type": "code",
     "checksum": "d998cbb35d04a52a8e4be64cade37454",
     "grade": true,
     "grade_id": "E-2plots-label",
     "locked": true,
     "points": 1,
     "schema_version": 3,
     "solution": false,
     "task": false
    }
   },
   "outputs": [
    {
     "name": "stdout",
     "output_type": "stream",
     "text": [
      "ok\n",
      "ok!\n"
     ]
    }
   ],
   "source": [
    "# 評価用セル(軸タイトル)\n",
    "_check_axes_title(ax,title=[\"$\\epsilon$\",\"score\"])\n",
    "## check label\n",
    "_labels=['Q-learning', 'Actor-Critic']\n",
    "pc = LinePlotChecker(ax)\n",
    "pc.find_permutation('labels', _labels)\n",
    "\n",
    "# 軸目盛り\n",
    "try:\n",
    "    pc.assert_xticks_equal(e_range)\n",
    "except:\n",
    "    _alert(\"横軸の目盛り位置が違うよ\")\n",
    "    raise\n",
    "print(\"ok\")\n",
    "print(\"ok!\")"
   ]
  },
  {
   "cell_type": "code",
   "execution_count": 44,
   "metadata": {
    "deletable": false,
    "editable": false,
    "nbgrader": {
     "cell_type": "code",
     "checksum": "bbd369944329c7d5ea842e228e8498ec",
     "grade": true,
     "grade_id": "E-2plots-etc",
     "locked": true,
     "points": 1,
     "schema_version": 3,
     "solution": false,
     "task": false
    }
   },
   "outputs": [
    {
     "name": "stdout",
     "output_type": "stream",
     "text": [
      "ok!\n"
     ]
    }
   ],
   "source": [
    "# 評価用セル(その他)\n",
    "\n",
    "print(\"ok!\")"
   ]
  },
  {
   "cell_type": "markdown",
   "metadata": {},
   "source": [
    "<div class=\"alert alert-success\">\n",
    "\n",
    "\n",
    "# 箱ひげ図(boxplot)\n",
    "\n",
    "</div>\n",
    "\n",
    "正規分布をしているデータに対しては平均値と標準偏差を示すグラフは有用だが，実際のデータは歪な分布になっていることも多い。\n",
    "そのような場合には，実際のデータの分布をより表現できる**箱ひげ図(boxplot)**がしばしば使われる。\n",
    "\n",
    "以下のデータを箱ひげ図にしてみよう。"
   ]
  },
  {
   "cell_type": "code",
   "execution_count": 45,
   "metadata": {},
   "outputs": [],
   "source": [
    "greedy=[-275, -281, -178, -110, -11, -158, -208, -223, -265, -172]\n",
    "e_greedy=[-77, -190, -307, -148, -223, -17, -35, -145, -232, 22]"
   ]
  },
  {
   "cell_type": "markdown",
   "metadata": {},
   "source": [
    "**Q.** 上記のリスト`greedy`と`e_greedy`を要素とするリスト`data`を作りなさい。"
   ]
  },
  {
   "cell_type": "code",
   "execution_count": 46,
   "metadata": {
    "deletable": false,
    "nbgrader": {
     "cell_type": "code",
     "checksum": "8918179c3607aa0696f61b6abd74862e",
     "grade": false,
     "grade_id": "A-boxplot-data",
     "locked": false,
     "schema_version": 3,
     "solution": true,
     "task": false
    }
   },
   "outputs": [],
   "source": [
    "# 解答欄\n",
    "# YOUR CODE HERE\n",
    "data = [greedy, e_greedy]"
   ]
  },
  {
   "cell_type": "code",
   "execution_count": 47,
   "metadata": {
    "deletable": false,
    "editable": false,
    "nbgrader": {
     "cell_type": "code",
     "checksum": "07d8d786f40c5f6c7817413b9f7d72c3",
     "grade": true,
     "grade_id": "E-boxplot-data",
     "locked": true,
     "points": 1,
     "schema_version": 3,
     "solution": false,
     "task": false
    }
   },
   "outputs": [
    {
     "name": "stdout",
     "output_type": "stream",
     "text": [
      "ok!\n"
     ]
    }
   ],
   "source": [
    "# 評価用セル\n",
    "eq_(type(data),list, msg=\"dataがlistではありませんよ!\")\n",
    "print(\"ok!\")"
   ]
  },
  {
   "cell_type": "markdown",
   "metadata": {},
   "source": [
    "箱ひげ図の作成には`Axes`オブジェクトのメソッド`matplotlib.axes.Axes.boxplot()`を使う。\n",
    "\n",
    "- [boxplot()の公式マニュアル](https://matplotlib.org/api/_as_gen/matplotlib.axes.Axes.boxplot.html?highlight=boxplot#matplotlib.axes.Axes.boxplot)"
   ]
  },
  {
   "cell_type": "code",
   "execution_count": 48,
   "metadata": {},
   "outputs": [
    {
     "data": {
      "image/png": "[encoded data removed]",
      "text/plain": [
       "<Figure size 432x288 with 1 Axes>"
      ]
     },
     "metadata": {
      "needs_background": "light"
     },
     "output_type": "display_data"
    }
   ],
   "source": [
    "# 箱ひげ図の作成例。実行してみよう。\n",
    "fig = plt.figure()\n",
    "\n",
    "ax = fig.add_subplot(111)\n",
    "ax.boxplot(data)\n",
    "\n",
    "plt.show()"
   ]
  },
  {
   "cell_type": "markdown",
   "metadata": {},
   "source": [
    "箱ひげ図の特徴は以下の通り。\n",
    "\n",
    "- 第1四分位点$Q_{1/4}$から第3四分位点$Q_{3/4}$を**箱**で囲む\n",
    "- 平均値ではなく**中央値**$Q_{2/4}$を箱の中の区切り線で示す。\n",
    "- **四分位範囲**(IQR)を「IQR=$Q_{3/4}-Q_{1/4}$」で定義する\n",
    "- $[Q_{1/4}-1.5\\mbox{IQR},Q_{3/4}+1.5\\mbox{IQR}]$の範囲の外にあるものを**外れ値**として個別に表示する\n",
    "- 外れ値以外の，最小値から最大値の範囲を**ひげ**で表す\n",
    "\n",
    "**参考**\n",
    "- [箱ひげ図(wikipedia)](https://ja.wikipedia.org/wiki/%E7%AE%B1%E3%81%B2%E3%81%92%E5%9B%B3)"
   ]
  },
  {
   "cell_type": "markdown",
   "metadata": {},
   "source": [
    "**Q.** 第1四分位点とはどのような点か。以下から正しいものを選びなさい。\n",
    "\n",
    "**選択肢**:\n",
    "\n",
    "1. データを値の大きさ順に並べたとき，最小となる値\n",
    "2. データを値の大きさ順に並べたとき，小さい方から1/4の位置にある値\n",
    "3. データを値の大きさ順に並べたとき，大きい方から1/4の位置にある値\n",
    "4. データを値の大きさ順に並べたとき，最大となる値\n",
    "\n",
    "\n",
    "以下の解答欄には，正しい選択肢の番号を選んで`ans=5`等と入力しなさい。"
   ]
  },
  {
   "cell_type": "code",
   "execution_count": 49,
   "metadata": {
    "deletable": false,
    "nbgrader": {
     "cell_type": "code",
     "checksum": "9910c0a028c6fbfa67c8beb29ebc30c1",
     "grade": false,
     "grade_id": "cell-1ffe5ca534da2dc5",
     "locked": false,
     "schema_version": 3,
     "solution": true,
     "task": false
    }
   },
   "outputs": [],
   "source": [
    "# 解答欄\n",
    "# YOUR CODE HERE\n",
    "ans=2"
   ]
  },
  {
   "cell_type": "code",
   "execution_count": 50,
   "metadata": {
    "deletable": false,
    "editable": false,
    "nbgrader": {
     "cell_type": "code",
     "checksum": "089028fdd9a6d0bed44316f0a136158a",
     "grade": true,
     "grade_id": "cell-9cc123cff48b1d70",
     "locked": true,
     "points": 1,
     "schema_version": 3,
     "solution": false,
     "task": false
    }
   },
   "outputs": [],
   "source": [
    "# 評価用セル"
   ]
  },
  {
   "cell_type": "markdown",
   "metadata": {},
   "source": [
    "以下のように, `Axes.plot()`を使って全てのデータ点を重ねて表示することもできる。\n",
    "\n",
    "- `Axes.plot([1,2],[listA,listB])`と引数指定すると，$x=1$の位置に`listA`の要素，$x=2$の位置に`listB`の要素が表示される。"
   ]
  },
  {
   "cell_type": "code",
   "execution_count": 51,
   "metadata": {},
   "outputs": [
    {
     "data": {
      "image/png": "[encoded data removed]",
      "text/plain": [
       "<Figure size 432x288 with 1 Axes>"
      ]
     },
     "metadata": {
      "needs_background": "light"
     },
     "output_type": "display_data"
    }
   ],
   "source": [
    "fig = plt.figure()\n",
    "\n",
    "ax = fig.add_subplot(111)\n",
    "ax.plot(np.arange(1, len(data) + 1), data, marker=\".\", linestyle=\"\", color=\"black\")\n",
    "ax.boxplot(data)\n",
    "\n",
    "plt.show()"
   ]
  },
  {
   "cell_type": "markdown",
   "metadata": {},
   "source": [
    "**Q.** データを格納しているリスト`data`を`ndarray`に変換した`nd_data`を定義しなさい。"
   ]
  },
  {
   "cell_type": "code",
   "execution_count": 52,
   "metadata": {
    "deletable": false,
    "nbgrader": {
     "cell_type": "code",
     "checksum": "31e24dc2c8711b445fc123d4c18f4265",
     "grade": false,
     "grade_id": "A-ndarray",
     "locked": false,
     "schema_version": 3,
     "solution": true,
     "task": false
    }
   },
   "outputs": [],
   "source": [
    "# 解答欄\n",
    "# YOUR CODE HERE\n",
    "nd_data = np.array(data)"
   ]
  },
  {
   "cell_type": "code",
   "execution_count": 53,
   "metadata": {
    "deletable": false,
    "editable": false,
    "nbgrader": {
     "cell_type": "code",
     "checksum": "dd2e06fad7d89829afbcb67da7891d8d",
     "grade": true,
     "grade_id": "E-ndarray",
     "locked": true,
     "points": 1,
     "schema_version": 3,
     "solution": false,
     "task": false
    }
   },
   "outputs": [
    {
     "name": "stdout",
     "output_type": "stream",
     "text": [
      "ok!\n"
     ]
    }
   ],
   "source": [
    "# 評価用セル\n",
    "eq_(type(nd_data),np.ndarray, msg=\"nd_dataがndarrayではありませんよ!\")\n",
    "print(\"ok!\")"
   ]
  },
  {
   "cell_type": "markdown",
   "metadata": {},
   "source": [
    "**Q.** 前問で作った`nd_data`を使って箱ひげ図を作成してみなさい。その結果として正しいものを以下から選びなさい。\n",
    "\n",
    "1. `boxplot()`に渡すデータはリストでもndarrayでも**行要素が各バーの描画データ**になる\n",
    "2. `boxplot()`に渡すデータはリストでもndarrayでも**列要素が各バーの描画データ**になる\n",
    "3. `boxplot()`に渡すデータが**リストの場合は行要素**が各バーの描画データになるが，**ndarrayの場合は列要素**が各バーの描画データになるので，`nd_data`を利用する場合は転置行列にする必要がある。\n",
    "4. `boxplot()`に渡すデータがリストの場合は列要素が各バーの描画データになるが，**ndarrayの場合は行要素**が各バーの描画データになるので，`nd_data`を利用する場合は転置行列にする必要がある。\n",
    "\n",
    "解答欄には`ans=5`等，該当する番号を記入すること。"
   ]
  },
  {
   "cell_type": "code",
   "execution_count": 54,
   "metadata": {
    "deletable": false,
    "nbgrader": {
     "cell_type": "code",
     "checksum": "6b1532ffc05e3f4d4a11ffea3bcd116d",
     "grade": false,
     "grade_id": "cell-1ad680cdf917562e",
     "locked": false,
     "schema_version": 3,
     "solution": true,
     "task": false
    }
   },
   "outputs": [],
   "source": [
    "# 解答欄\n",
    "# 例) ans=5\n",
    "# YOUR CODE HERE\n",
    "ans=1"
   ]
  },
  {
   "cell_type": "markdown",
   "metadata": {},
   "source": [
    "**Q.** ここまでのプログラム例をもとに，以下のサンプルと同じグラフを作成しなさい。\n",
    "\n",
    "必要に応じて、[boxplot()の公式マニュアル](https://matplotlib.org/api/_as_gen/matplotlib.axes.Axes.boxplot.html?highlight=boxplot#matplotlib.axes.Axes.boxplot)を参照しなさい。\n",
    "\n",
    "![](images/boxplot.png)\n",
    "\n",
    "- `softmax=[10, 37, -187, 19, -151, -113, -166, 22, -136, 25]`の箱ひげ図を`x=3`の位置に表示する。\n",
    "- `boxplot()`にわたすデータ形式はリストとndarrayのどちらでも構わない\n",
    "- 横軸の`x=1,2, `の位置に，座標値ではなくラベルが表示されるようにする。\n",
    "    - ラベル名は\"greedy\",\"$\\epsilon$-greedy\"と\"softmax\"とする\n",
    "    - 指定には`boxplot()`のオプション`labels`を利用\n",
    "- 横軸のタイトルは\"learning method\", 縦軸のタイトルは\"score\"とする\n",
    "- 直線`y=0`を表示する。"
   ]
  },
  {
   "cell_type": "code",
   "execution_count": 55,
   "metadata": {
    "deletable": false,
    "nbgrader": {
     "cell_type": "code",
     "checksum": "5567b01137d145e56c196aae9199cd3a",
     "grade": false,
     "grade_id": "A-boxplot",
     "locked": false,
     "schema_version": 3,
     "solution": true,
     "task": false
    }
   },
   "outputs": [
    {
     "data": {
      "image/png": "[encoded data removed]",
      "text/plain": [
       "<Figure size 432x288 with 1 Axes>"
      ]
     },
     "metadata": {
      "needs_background": "light"
     },
     "output_type": "display_data"
    }
   ],
   "source": [
    "# 解答欄\n",
    "# YOUR CODE HERE\n",
    "softmax=[10, 37, -187, 19, -151, -113, -166, 22, -136, 25]\n",
    "data = [greedy, e_greedy, softmax]\n",
    "\n",
    "fig = plt.figure()\n",
    "\n",
    "ax = fig.add_subplot(111)\n",
    "ax.plot(np.arange(1, len(data) + 1), data, marker=\".\", linestyle=\"\", color=\"black\")\n",
    "ax.boxplot(data)\n",
    "ax.set_xticklabels([\"greedy\", \"$\\epsilon$-greedy\", \"softmax\"])\n",
    "ax.set_xlabel(\"learning method\")\n",
    "ax.set_ylabel(\"score\")\n",
    "\n",
    "plt.show()"
   ]
  },
  {
   "cell_type": "code",
   "execution_count": 56,
   "metadata": {
    "deletable": false,
    "editable": false,
    "nbgrader": {
     "cell_type": "code",
     "checksum": "b2257daa83db206f3ed13a8c22a2ce40",
     "grade": true,
     "grade_id": "E-boxplot-title",
     "locked": true,
     "points": 1,
     "schema_version": 3,
     "solution": false,
     "task": false
    }
   },
   "outputs": [
    {
     "name": "stdout",
     "output_type": "stream",
     "text": [
      "OK!\n"
     ]
    }
   ],
   "source": [
    "# 評価用セルその1(ラベル確認)\n",
    "\n",
    "_check_axes_title(ax, [\"learning method\", \"score\"])\n",
    "pc = PlotChecker(ax)\n",
    "\n",
    "try:\n",
    "    pc.assert_xticklabels_equal([\"greedy\", \"$\\epsilon$-greedy\", \"softmax\"])\n",
    "except:\n",
    "    _alert(\"目盛りのラベルが違いますよ。\")\n",
    "\n",
    "print(\"OK!\")"
   ]
  },
  {
   "cell_type": "code",
   "execution_count": 57,
   "metadata": {
    "deletable": false,
    "editable": false,
    "nbgrader": {
     "cell_type": "code",
     "checksum": "d91d9ff510108e29b088555ac0957ae1",
     "grade": true,
     "grade_id": "E-boxplot-shape",
     "locked": true,
     "points": 1,
     "schema_version": 3,
     "solution": false,
     "task": false
    }
   },
   "outputs": [],
   "source": [
    "# 評価用セルその2(データ確認)"
   ]
  },
  {
   "cell_type": "markdown",
   "metadata": {},
   "source": [
    "# おまけ：seabornモジュール(課題なし)\n",
    "\n",
    "**seabornモジュール**を使うと，カラフルな図をかんたんに作れる。\n",
    "\n",
    "- [seaborn](https://seaborn.pydata.org/)モジュールはmatplotlibをベースに開発されているデータ可視化ツール\n",
    "- 使い方の例: [Plotting with categorical data](https://seaborn.pydata.org/tutorial/categorical.html#categorical-tutorial)\n",
    "\n",
    "まずはseabornのモジュールの読み込みから。"
   ]
  },
  {
   "cell_type": "code",
   "execution_count": 58,
   "metadata": {},
   "outputs": [],
   "source": [
    "import seaborn as sns"
   ]
  },
  {
   "cell_type": "markdown",
   "metadata": {},
   "source": [
    "データはこれまで同じものを使う。"
   ]
  },
  {
   "cell_type": "code",
   "execution_count": 59,
   "metadata": {},
   "outputs": [],
   "source": [
    "data = np.array([greedy, e_greedy, softmax])"
   ]
  },
  {
   "cell_type": "markdown",
   "metadata": {},
   "source": [
    "## 箱ひげ図\n",
    "seabornを使うと1行で箱ひげ図を作れる。(細かい設定はしない場合)"
   ]
  },
  {
   "cell_type": "code",
   "execution_count": 60,
   "metadata": {},
   "outputs": [
    {
     "data": {
      "image/png": "[encoded data removed]",
      "text/plain": [
       "<Figure size 432x288 with 1 Axes>"
      ]
     },
     "metadata": {
      "needs_background": "light"
     },
     "output_type": "display_data"
    }
   ],
   "source": [
    "ax = sns.boxplot(data=data.T, showfliers=True)"
   ]
  },
  {
   "cell_type": "markdown",
   "metadata": {},
   "source": [
    "このグラフを少し修正してみる。\n",
    "\n",
    "- **データ点表示** \n",
    "    - seabornのメソッド`seaborn.boxplot()`でデータ点表示\n",
    "    - 引数で`jitter=True`を指定すると，同じ値のデータが複数ある場合，そのデータ点を横に並べてプロット(**jitter plot**)できる。\n",
    "- **各ラベル表示** `sns.boxplot()`の返り値として，これまでと同様に`matplotlib`の`Axes`オブジェクトが返り値となる。\n",
    "    - `Axes`オブジェクトのメソッド`Axes.set_xlable()`, `Axes.set_ylabel()`で座標軸ラベル表示\n",
    "    - `Axes`オブジェクトのメソッド`Axes.set_xticllables()`で，各箱ひげ図のラベル表示\n"
   ]
  },
  {
   "cell_type": "code",
   "execution_count": 61,
   "metadata": {},
   "outputs": [
    {
     "data": {
      "text/plain": [
       "[Text(0, 0, 'greedy'), Text(0, 0, '$\\\\epsilon$-greedy'), Text(0, 0, 'softmax')]"
      ]
     },
     "execution_count": 61,
     "metadata": {},
     "output_type": "execute_result"
    },
    {
     "data": {
      "image/png": "[encoded data removed]",
      "text/plain": [
       "<Figure size 432x288 with 1 Axes>"
      ]
     },
     "metadata": {
      "needs_background": "light"
     },
     "output_type": "display_data"
    }
   ],
   "source": [
    "ax=sns.boxplot(data=data.T, showfliers=True)  # show boxplot\n",
    "sns.stripplot(data=data.T, jitter=True, color=\"black\")  # show data points\n",
    "\n",
    "ax.axhline(y=0, color=\"black\", linewidth=1, linestyle=\"--\")\n",
    "ax.set_xlabel(\"learning method\")\n",
    "ax.set_ylabel(\"score\")\n",
    "ax.set_xticklabels([\"greedy\",\"$\\epsilon$-greedy\",\"softmax\"])"
   ]
  },
  {
   "cell_type": "markdown",
   "metadata": {},
   "source": [
    "## バイオリン・プロット\n",
    "\n",
    "以下は，データ点の分布に応じて，箱ひげ図の箱を変形させたバイオリン・プロットの例。\n",
    "\n",
    "以下を参照すると，他にもいろいろなグラフを作れる。\n",
    "\n",
    "- [Plotting with categorical data](https://seaborn.pydata.org/tutorial/categorical.html#categorical-tutorial)"
   ]
  },
  {
   "cell_type": "code",
   "execution_count": 62,
   "metadata": {},
   "outputs": [
    {
     "data": {
      "text/plain": [
       "<matplotlib.axes._subplots.AxesSubplot at 0x7fa78413d128>"
      ]
     },
     "execution_count": 62,
     "metadata": {},
     "output_type": "execute_result"
    },
    {
     "data": {
      "image/png": "[encoded data removed]",
      "text/plain": [
       "<Figure size 432x288 with 1 Axes>"
      ]
     },
     "metadata": {
      "needs_background": "light"
     },
     "output_type": "display_data"
    }
   ],
   "source": [
    "ax=sns.violinplot(\n",
    "    data=data.T, showmedians=True, inner=\"quartile\")  # show boxplot\n",
    "sns.stripplot(\n",
    "    data=data.T, jitter=True, color=\"black\")  # show data points"
   ]
  },
  {
   "cell_type": "code",
   "execution_count": null,
   "metadata": {},
   "outputs": [],
   "source": []
  },
  {
   "cell_type": "code",
   "execution_count": null,
   "metadata": {},
   "outputs": [],
   "source": []
  }
 ],
 "metadata": {
  "kernelspec": {
   "display_name": "Python 3",
   "language": "python",
   "name": "python3"
  },
  "language_info": {
   "codemirror_mode": {
    "name": "ipython",
    "version": 3
   },
   "file_extension": ".py",
   "mimetype": "text/x-python",
   "name": "python",
   "nbconvert_exporter": "python",
   "pygments_lexer": "ipython3",
   "version": "3.6.9"
  },
  "toc": {
   "base_numbering": 1,
   "nav_menu": {},
   "number_sections": true,
   "sideBar": true,
   "skip_h1_title": false,
   "title_cell": "Table of Contents",
   "title_sidebar": "Contents",
   "toc_cell": false,
   "toc_position": {},
   "toc_section_display": true,
   "toc_window_display": true
  }
 },
 "nbformat": 4,
 "nbformat_minor": 4
}
