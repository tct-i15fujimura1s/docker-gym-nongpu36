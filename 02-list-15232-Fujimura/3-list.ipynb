{
 "cells": [
  {
   "cell_type": "markdown",
   "metadata": {},
   "source": [
    "<div class=\"alert alert-danger\">\n",
    "\n",
    "# 名前欄\n",
    "\n",
    "</div>\n",
    "\n",
    "以下に名前と学籍番号(STUDENT_ID)の入力をして下さい。\n",
    "\n",
    "例)\n",
    "```python\n",
    "FAMILY_NAME = \"Yamaguchi\"# 姓をローマ字で入力\n",
    "FIRST_NAME = \"Daisuki\"   #  名をローマ字で入力\n",
    "USER = \"a11yamaguchi\"    # 公式メールアドレスのユーザ名\n",
    "STUDENT_ID = \"20-2202-000-0\" # 学籍番号\n",
    "```"
   ]
  },
  {
   "cell_type": "code",
   "execution_count": null,
   "metadata": {},
   "outputs": [],
   "source": [
    "FAMILY_NAME = \"Fujimura\"  # 姓をローマ字で入力\n",
    "FIRST_NAME = \"Soshi\"  #  名をローマ字で入力\n",
    "USER = \"i15fujimura1s\"  # 公式メールアドレスのユーザ名\n",
    "STUDENT_ID = \"15232\"  # 12-2202-000-0 等と省略なしで入力"
   ]
  },
  {
   "cell_type": "markdown",
   "metadata": {},
   "source": [
    "<div class=\"alert alert-danger\">\n",
    "\n",
    "# 提出方法(高専の皆さんへ)\n",
    "\n",
    "</div>\n",
    "\n",
    "以下のように**ディレクトリ(フォルダ)名を変更して提出**しましょう。\n",
    "```python\n",
    "元のディレクトリ名-学籍番号-名字(ローマ字)\n",
    "```\n",
    "例えば，元のディレクトリ名が`01-basic/`, 学籍番号が`12345`,名字が`Yamaguchi`の場合は以下になります。\n",
    "```python\n",
    "01-basic-12345-Yamaguchi/\n",
    "```"
   ]
  },
  {
   "cell_type": "markdown",
   "metadata": {},
   "source": [
    "<div class=\"alert alert-danger\">\n",
    "\n",
    "# 注意\n",
    "\n",
    "</div>\n",
    "\n",
    "\n",
    "- 以下の説明文を読み， 内容を納得できるように自分で試しなさい。\n",
    "- **「# このセルで試してみよう」**, **「# このセルで動作確認をしよう」**と書かれているセルは自由に使って構いません。\n",
    "- 必要に応じてセルを増やしても構いません。役立ちそうな情報もメモしておくと，今後プログラムを組む上で便利です。\n",
    "- 表題等には適宜教科書のページを書いてあります。詳しい説明は教科書を参照しなさい。\n",
    "\n",
    "<div class=\"alert alert-danger\">\n",
    "\n",
    "## 設問と解答用セル\n",
    "    \n",
    "</div>   \n",
    "\n",
    "\"**Q.**\" から始まる設問に対する解答は必ず入力しなさい。解答用セルには以下のように表示される。\n",
    "\n",
    "```python\n",
    "# YOUR CODE HERE\n",
    "raise NotImplementedError()\n",
    "```\n",
    "\n",
    "**注意**\n",
    "\n",
    "- <span class=\"mark\">raise NotImplementedError()の一行は**必ず消去**して</span>，<span class=\"mark\"># YOUR CODE HERE の下に解答</span>を書くこと。\n",
    "- <span class=\"mark\">\\# YOUR CODE HERE の一行は**消さない**</span>こと。どこに解答を書くべきかがわからなくなることがあります。\n",
    "- なんらかの演算をしたり，命令文を作ったときは，その**結果が予想通りか否かを必ず確認しなさい**\n",
    "\n",
    "<div class=\"alert alert-danger\">\n",
    "\n",
    "## 評価用セル\n",
    "    \n",
    "</div>\n",
    "\n",
    "- **「評価用セル」と書かれているセルは採点のためのセル**です。\n",
    "- **評価用コードが一部表示されている場合，それを実行すると課題の実行結果の確認**をできます。\n",
    "- **表示されていない評価用コードも**あります。\n",
    "\n",
    "<div class=\"alert alert-danger\">\n",
    "\n",
    "## 課題提出前の注意\n",
    "    \n",
    "</div>   \n",
    "\n",
    "**[重要]** 以下の手順で，全ての課題が正常に動作するか確認してから提出しましょう。\n",
    "\n",
    "1.  メニューバーの\"Kernel\"をクリック後，\"Restart\"を選択\n",
    "2. メニューバーの\"Cell\"を，\"Run All\"を選択"
   ]
  },
  {
   "cell_type": "code",
   "execution_count": null,
   "metadata": {
    "deletable": false,
    "editable": false,
    "nbgrader": {
     "cell_type": "code",
     "checksum": "aa94ee8223806478c738a8772b056c37",
     "grade": false,
     "grade_id": "cell-9fc4e9e61f093fd0",
     "locked": true,
     "schema_version": 3,
     "solution": false,
     "task": false
    },
    "slideshow": {
     "slide_type": "notes"
    }
   },
   "outputs": [],
   "source": [
    "# このセルは自動評価を行うための命令です。内容は無視して，実行(Shift-Enter)のみをしてください。\n",
    "#%%writefile unittests.py\n",
    "#%load unittests.py\n",
    "%run unittests.py"
   ]
  },
  {
   "cell_type": "markdown",
   "metadata": {
    "slideshow": {
     "slide_type": "slide"
    }
   },
   "source": [
    "# リスト(list), p.141"
   ]
  },
  {
   "cell_type": "markdown",
   "metadata": {
    "slideshow": {
     "slide_type": "slide"
    }
   },
   "source": [
    "## リスト/タプル/辞書/セット\n",
    "\n",
    "| 名前       |    例                       |                                                      |\n",
    "|-------------|----------------------------|------------------------------------------------------|\n",
    "| **リスト(list)**   | ``L=[\"kiwi\", \"banana\", \"apple\"]``  | **インデックス番号付き集合**               |\n",
    "| タプル(tuple)| ``T=(\"kiwi\", \"banana\", \"apple\")``      |インデックス番号付き集合(代入不可)       |\n",
    "| 辞書(dict)  | ``D={\"kiwi\":3, \"banana\":2, \"apple\":3}`` | インデックス番号無し (key,value) 対応表 |\n",
    "| セット(set)   | ``S={\"kiwi\", \"banana\", \"apple\"}``     | インデックス番号無し集合                |"
   ]
  },
  {
   "cell_type": "markdown",
   "metadata": {
    "slideshow": {
     "slide_type": "slide"
    }
   },
   "source": [
    "## リストの定義, p.142\n",
    "\n",
    "### 要素を列挙して定義"
   ]
  },
  {
   "cell_type": "code",
   "execution_count": null,
   "metadata": {
    "slideshow": {
     "slide_type": "slide"
    }
   },
   "outputs": [],
   "source": [
    "L=[2,5,8,3]\n",
    "L2=[\"cat\",\"dog\"]"
   ]
  },
  {
   "cell_type": "markdown",
   "metadata": {},
   "source": [
    "リストの内容は`print()`で表示できる。"
   ]
  },
  {
   "cell_type": "code",
   "execution_count": null,
   "metadata": {},
   "outputs": [],
   "source": [
    "print(L)\n",
    "print(L2)"
   ]
  },
  {
   "cell_type": "code",
   "execution_count": null,
   "metadata": {},
   "outputs": [],
   "source": [
    "L=[1,2,\"cat\",[\"banana\",\"kiwi\"]]\n",
    "print(L)"
   ]
  },
  {
   "cell_type": "markdown",
   "metadata": {
    "slideshow": {
     "slide_type": "slide"
    }
   },
   "source": [
    "### range()を使って定義\n",
    "\n",
    "以前の課題(basic)に登場した関数`range()`の**返り値はリストではない**が，`range()`が生成する数列を関数`list()`でリスト化できる。"
   ]
  },
  {
   "cell_type": "code",
   "execution_count": null,
   "metadata": {
    "slideshow": {
     "slide_type": "slide"
    }
   },
   "outputs": [],
   "source": [
    "L=list(range(5))\n",
    "print(L)"
   ]
  },
  {
   "cell_type": "markdown",
   "metadata": {
    "slideshow": {
     "slide_type": "slide"
    }
   },
   "source": [
    "関数`range()`の返り値がリストでないことは以下を実行すると確認できる。"
   ]
  },
  {
   "cell_type": "code",
   "execution_count": null,
   "metadata": {
    "slideshow": {
     "slide_type": "slide"
    }
   },
   "outputs": [],
   "source": [
    "val_range=range(5)\n",
    "print(val_range)\n",
    "print(type(val_range))"
   ]
  },
  {
   "cell_type": "markdown",
   "metadata": {
    "slideshow": {
     "slide_type": "slide"
    }
   },
   "source": [
    "Q. 関数`range()`と関数`list()`を使って，0以上20以下の**偶数**を要素とするリスト`L`をつくりなさい。for文等は使わず，1行で命令文を書くこと。"
   ]
  },
  {
   "cell_type": "code",
   "execution_count": null,
   "metadata": {
    "deletable": false,
    "nbgrader": {
     "cell_type": "code",
     "checksum": "f3b9127be4965c06b92fa0e524535d8c",
     "grade": false,
     "grade_id": "cell-bbf22f37b1a397a5",
     "locked": false,
     "schema_version": 3,
     "solution": true,
     "task": false
    },
    "slideshow": {
     "slide_type": "fragment"
    }
   },
   "outputs": [],
   "source": [
    "# L= 右辺をrange()を使って作り，以下の解答欄に記入\n",
    "# YOUR CODE HERE\n",
    "L = list(range(0, 20+1, 2))"
   ]
  },
  {
   "cell_type": "code",
   "execution_count": null,
   "metadata": {},
   "outputs": [],
   "source": [
    "# Lの値を確認しなさい。\n",
    "print(L)"
   ]
  },
  {
   "cell_type": "code",
   "execution_count": null,
   "metadata": {
    "deletable": false,
    "editable": false,
    "nbgrader": {
     "cell_type": "code",
     "checksum": "aa3dc9ac05e2a42ab8b62a9b38447bb5",
     "grade": true,
     "grade_id": "cell-18e3cf3ea8a85310",
     "locked": true,
     "points": 1,
     "schema_version": 3,
     "solution": false,
     "task": false
    }
   },
   "outputs": [],
   "source": []
  },
  {
   "cell_type": "markdown",
   "metadata": {
    "slideshow": {
     "slide_type": "slide"
    }
   },
   "source": [
    "Q. **リストの要素数は関数`len()`で判定**できる。前問のリスト`L`の要素数を`len()`を使って求め，変数`ans`に代入しなさい。\n",
    "```"
   ]
  },
  {
   "cell_type": "code",
   "execution_count": null,
   "metadata": {
    "deletable": false,
    "nbgrader": {
     "cell_type": "code",
     "checksum": "537bfbed29e4e207dcfd9ffa5b215e80",
     "grade": false,
     "grade_id": "cell-3c317238ab83dae2",
     "locked": false,
     "schema_version": 3,
     "solution": true,
     "task": false
    },
    "slideshow": {
     "slide_type": "-"
    }
   },
   "outputs": [],
   "source": [
    "# 解答方法) ans=  右辺にlen()を使ってリストLの要素数を調べる命令文を書く\n",
    "# YOUR CODE HERE\n",
    "ans = len(L)"
   ]
  },
  {
   "cell_type": "code",
   "execution_count": null,
   "metadata": {},
   "outputs": [],
   "source": [
    "# このセルで結果を確認しよう\n",
    "print(ans)"
   ]
  },
  {
   "cell_type": "code",
   "execution_count": null,
   "metadata": {
    "deletable": false,
    "editable": false,
    "nbgrader": {
     "cell_type": "code",
     "checksum": "17373b4d1a8954e3acc12926f97e7a12",
     "grade": true,
     "grade_id": "cell-adb60c0361b980c7",
     "locked": true,
     "points": 1,
     "schema_version": 3,
     "solution": false,
     "task": false
    }
   },
   "outputs": [],
   "source": [
    "#評価用セル"
   ]
  },
  {
   "cell_type": "markdown",
   "metadata": {},
   "source": [
    "## リストの乗算\n",
    "\n",
    "リストの乗算を使うと，簡単に要素数を増やすことができる。"
   ]
  },
  {
   "cell_type": "code",
   "execution_count": null,
   "metadata": {},
   "outputs": [],
   "source": [
    "L=[\"sheep\"]*5\n",
    "print(L)"
   ]
  },
  {
   "cell_type": "code",
   "execution_count": null,
   "metadata": {},
   "outputs": [],
   "source": [
    "# このセルで試してみよう\n",
    "L=[False]*1000"
   ]
  },
  {
   "cell_type": "markdown",
   "metadata": {},
   "source": [
    "Q. 1が10個入っているリスト`x`を乗算記号`*`を使って作りなさい (`x=[1,1,1,1,1,1,1,1,1,1]`を生成)。"
   ]
  },
  {
   "cell_type": "code",
   "execution_count": null,
   "metadata": {
    "deletable": false,
    "nbgrader": {
     "cell_type": "code",
     "checksum": "e8c6bc8ef40b7ee19fcd3115c8b6af4a",
     "grade": false,
     "grade_id": "cell-e0c7f2092e17d7f0",
     "locked": false,
     "schema_version": 3,
     "solution": true,
     "task": false
    }
   },
   "outputs": [],
   "source": [
    "# YOUR CODE HERE\n",
    "x=[1]*10"
   ]
  },
  {
   "cell_type": "code",
   "execution_count": null,
   "metadata": {},
   "outputs": [],
   "source": [
    "# このセルで結果を確認しよう\n",
    "print(x)"
   ]
  },
  {
   "cell_type": "code",
   "execution_count": null,
   "metadata": {
    "deletable": false,
    "editable": false,
    "nbgrader": {
     "cell_type": "code",
     "checksum": "9d17462d8194d0187e6e13bc481ee094",
     "grade": true,
     "grade_id": "cell-6ff221d923027344",
     "locked": true,
     "points": 1,
     "schema_version": 3,
     "solution": false,
     "task": false
    }
   },
   "outputs": [],
   "source": [
    "# 評価用セル"
   ]
  },
  {
   "cell_type": "markdown",
   "metadata": {
    "slideshow": {
     "slide_type": "slide"
    }
   },
   "source": [
    "## リストの加算, p.159\n",
    "\n",
    "Q. 下記の演算を実行すると，変数`v`や`fruit`の値はどうなるか予想して確認しなさい。"
   ]
  },
  {
   "cell_type": "code",
   "execution_count": null,
   "metadata": {},
   "outputs": [],
   "source": [
    "x=[1,2,3,4]; y=[9,8,7,6]\n",
    "v=x+y\n",
    "fruit=[]\n",
    "fruit+=[\"apple\"]\n",
    "fruit+=[\"kiwi\"]\n",
    "z=x+fruit\n",
    "# print()を使って，各変数値を確認すること"
   ]
  },
  {
   "cell_type": "markdown",
   "metadata": {},
   "source": [
    "Q. 以下の仕様を満たす関数`bind_repeat(a,b,n)`を作りなさい。\n",
    "\n",
    "- 概要: 2つのリスト`a`, `b`を結合し，その要素を`n`回反復したリストを作る\n",
    "- 引数\n",
    "    - `a` : リスト\n",
    "    - `b` : リスト\n",
    "    - `n` : 反復する回数(デフォルト値1)\n",
    "- 返り値\n",
    "    - リスト`a`, `b`の要素が交互に`n`回反復して現れるリスト\n",
    "- 注意\n",
    "    - リストの加算と乗算を利用する。\n",
    "\n",
    "**実行例**\n",
    "\n",
    "- 命令文\n",
    "```python\n",
    "a=[\"0\"]\n",
    "b=[\"1\",\"2\"]\n",
    "res=bind_repeat(a,b)\n",
    "print(res)\n",
    "res=bind_repeat(a,b,3)\n",
    "print(res)\n",
    "```\n",
    "- 出力結果\n",
    "```python\n",
    "['0', '1', '2']\n",
    "['0', '1', '2', '0', '1', '2', '0', '1', '2']\n",
    "```"
   ]
  },
  {
   "cell_type": "code",
   "execution_count": null,
   "metadata": {
    "deletable": false,
    "nbgrader": {
     "cell_type": "code",
     "checksum": "da7f1fde4344a5f84f3d402416f4d8fb",
     "grade": false,
     "grade_id": "cell-bc2c841844177171",
     "locked": false,
     "schema_version": 3,
     "solution": true,
     "task": false
    },
    "slideshow": {
     "slide_type": "-"
    }
   },
   "outputs": [],
   "source": [
    "# YOUR CODE HERE\n",
    "def bind_repeat(a, b, n=1):\n",
    "    c = a + b\n",
    "    r = []\n",
    "    while n > 0:\n",
    "        if (n & 1) == 1:\n",
    "            r += c\n",
    "        c += c\n",
    "        n >>= 1\n",
    "    return r"
   ]
  },
  {
   "cell_type": "code",
   "execution_count": null,
   "metadata": {},
   "outputs": [],
   "source": [
    "# このセルで動作確認をしよう\n",
    "print(bind_repeat([1, 2], [4, 5], 10))"
   ]
  },
  {
   "cell_type": "code",
   "execution_count": null,
   "metadata": {
    "deletable": false,
    "editable": false,
    "nbgrader": {
     "cell_type": "code",
     "checksum": "123ee2e2e59fcf63b335a8ff0a16937f",
     "grade": true,
     "grade_id": "cell-1002cac6f929b4f1",
     "locked": true,
     "points": 1,
     "schema_version": 3,
     "solution": false,
     "task": false
    }
   },
   "outputs": [],
   "source": [
    "# 評価用セル\n",
    "eq_(bind_repeat([\"0\"],[\"1\"]),['0', '1'])\n",
    "eq_(bind_repeat([\"0\"],[\"1\"],3),['0', '1', '0', '1', '0', '1'])\n",
    "eq_(bind_repeat([\"cat\"],[\"dog\"],3),['cat', 'dog', 'cat', 'dog', 'cat', 'dog'])\n",
    "print(\"ok\")"
   ]
  },
  {
   "cell_type": "markdown",
   "metadata": {
    "slideshow": {
     "slide_type": "slide"
    }
   },
   "source": [
    "## リストの参照とスライス, p.146, p.160\n",
    "\n",
    "- リストの一部分を取り出す操作のことを**スライス**とよぶ。\n",
    "- 要素の**インデックス**を指定することで，スライスできる。\n",
    "- **注意**: リストのインデックスは，C言語と同様に0から開始。\n",
    "\n",
    "### スライス範囲の指定方法\n",
    "\n",
    "リスト`L`に対するスライス方法\n",
    "\n",
    "- `L[start]` : インデックスが`start`以上\n",
    "- `L[start:end]` : インデックスが`start`以上`end`**未満**\n",
    "- `L[start:end:step]` : インデックスが`start`以上`end`**未満**，ただし，切り出す要素のインデックスはstepずつ増加\n",
    "- **範囲指定に負の値を用いて，リストの末尾からの指定も可能**\n",
    "\n",
    "例)\n",
    "```python\n",
    "L=[\"apple\", \"banana\", \"strawberry\", \"orange\", \"grape\"]\n",
    "a=L[0]\n",
    "b=L[-1]\n",
    "c=L[-2]\n",
    "d=L[0:3] # インデックスが0から3未満(以下ではない!)の部分の切り出し\n",
    "e=L[:2]  # l[0:2]と同じ\n",
    "f=L[-2:] # l[-2:] # インデックス-2から最後まで\n",
    "print(a,b,c,d,e,f,sep=\"\\n\")\n",
    "```\n",
    "実行結果は以下のようになる。\n",
    "```python\n",
    "apple\n",
    "grape\n",
    "orange\n",
    "['apple', 'banana', 'strawberry']\n",
    "['apple', 'banana']\n",
    "['orange', 'grape']\n",
    "```"
   ]
  },
  {
   "cell_type": "code",
   "execution_count": null,
   "metadata": {},
   "outputs": [],
   "source": [
    "# このセルで試してみよう\n",
    "print([0, 1, 2, 3, 4 ,5][1:3])"
   ]
  },
  {
   "cell_type": "markdown",
   "metadata": {},
   "source": [
    "Q. 以下の仕様を満たす関数`head(L,n)`を定義しなさい。\n",
    "\n",
    "- 概要: リストの先頭部分の要素のみ取り出す\n",
    "- 引数\n",
    "    - `L` : リスト\n",
    "    - `n` : 表示する要素の個数(デフォルト値を3とする)\n",
    "- 返り値\n",
    "    - リスト`L`の先頭から`n`個の要素のリスト\n",
    "- 注意\n",
    "    - `for`文や`whild`文は使わないで，リストのスライスにより処理する\n",
    "\n",
    "**実行例**\n",
    "\n",
    "- 命令文\n",
    "```python\n",
    "L=[\"apple\", \"banana\", \"strawberry\", \"orange\", \"grape\"]\n",
    "res=head(L)\n",
    "print(res)\n",
    "```\n",
    "- 出力結果\n",
    "```python\n",
    "[\"apple\", \"banana\", \"strawberry\"]\n",
    "```"
   ]
  },
  {
   "cell_type": "code",
   "execution_count": null,
   "metadata": {
    "deletable": false,
    "nbgrader": {
     "cell_type": "code",
     "checksum": "8a9e64091dad2917088a4398af32f4c9",
     "grade": false,
     "grade_id": "cell-ac7e9c82065761c2",
     "locked": false,
     "schema_version": 3,
     "solution": true,
     "task": false
    },
    "slideshow": {
     "slide_type": "slide"
    }
   },
   "outputs": [],
   "source": [
    "# YOUR CODE HERE\n",
    "def head(L, n=3):\n",
    "    return L[:n]"
   ]
  },
  {
   "cell_type": "code",
   "execution_count": null,
   "metadata": {
    "slideshow": {
     "slide_type": "-"
    }
   },
   "outputs": [],
   "source": [
    "# このセルで動作確認をしよう\n",
    "print(head(\"hello\"))"
   ]
  },
  {
   "cell_type": "code",
   "execution_count": null,
   "metadata": {
    "deletable": false,
    "editable": false,
    "nbgrader": {
     "cell_type": "code",
     "checksum": "f2c21d41290eeed2336f4b2616795610",
     "grade": true,
     "grade_id": "cell-3a79eab96a961b44",
     "locked": true,
     "points": 1,
     "schema_version": 3,
     "solution": false,
     "task": false
    }
   },
   "outputs": [],
   "source": [
    "# 評価用セル\n",
    "test_list=list(range(10))\n",
    "eq_(head(test_list),[0,1,2])\n",
    "eq_(head(test_list,2),[0,1])\n",
    "test_list2=[\"apple\", \"banana\", \"strawberry\", \"orange\", \"grape\"]\n",
    "eq_(head(L=test_list2,n=4),[\"apple\", \"banana\", \"strawberry\",\"orange\"])\n",
    "print(\"ok\")"
   ]
  },
  {
   "cell_type": "markdown",
   "metadata": {},
   "source": [
    "Q. 以下の仕様を満たす関数`tail(L,n)`を定義しなさい。\n",
    "\n",
    "- 概要: リストの最後の部分の要素のみ取り出す\n",
    "- 引数:\n",
    "    - `L` : リスト\n",
    "    - `n` : 数値(デフォルト値を3とする)\n",
    "- 返り値\n",
    "    - リスト`L`の要素のうち，最後から`n`個分の要素のリスト\n",
    "- 注意\n",
    "    - `for`文や`whild`文は使わないで，リストのスライスにより処理する\n",
    "\n",
    "**実行例**\n",
    "\n",
    "- 命令文\n",
    "```python\n",
    "L=[\"apple\", \"banana\", \"strawberry\", \"orange\", \"grape\"]\n",
    "res=tail(L)\n",
    "print(res)\n",
    "```\n",
    "- 出力結果\n",
    "```python\n",
    "[\"strawberry\", \"orange\", \"grape\"]\n",
    "```"
   ]
  },
  {
   "cell_type": "code",
   "execution_count": null,
   "metadata": {
    "deletable": false,
    "nbgrader": {
     "cell_type": "code",
     "checksum": "ff9289d4e474c1fb0171f805268006af",
     "grade": false,
     "grade_id": "cell-1e0157132abd8094",
     "locked": false,
     "schema_version": 3,
     "solution": true,
     "task": false
    }
   },
   "outputs": [],
   "source": [
    "# YOUR CODE HERE\n",
    "def tail(L, n=3):\n",
    "    return L[-n:]"
   ]
  },
  {
   "cell_type": "code",
   "execution_count": null,
   "metadata": {},
   "outputs": [],
   "source": [
    "# このセルで動作確認をしよう\n",
    "print(tail(\"hello\"))"
   ]
  },
  {
   "cell_type": "code",
   "execution_count": null,
   "metadata": {
    "deletable": false,
    "editable": false,
    "nbgrader": {
     "cell_type": "code",
     "checksum": "9cea96bec49af62b6d32d5f270caa52b",
     "grade": true,
     "grade_id": "cell-dcf06769c0abd529",
     "locked": true,
     "points": 1,
     "schema_version": 3,
     "solution": false,
     "task": false
    }
   },
   "outputs": [],
   "source": [
    "# 評価用セル\n",
    "test_list=list(range(10))\n",
    "eq_(tail(test_list),[7,8,9])\n",
    "eq_(tail(test_list,2),[8,9])\n",
    "test_list2=[\"apple\", \"banana\", \"strawberry\", \"orange\", \"grape\"]\n",
    "eq_(tail(L=test_list2,n=4),[\"banana\", \"strawberry\", \"orange\", \"grape\"])\n",
    "print(\"ok\")"
   ]
  },
  {
   "cell_type": "markdown",
   "metadata": {},
   "source": [
    "Q. 以下の仕様を満たす関数`from_to(L,a,b)`を定義しなさい。\n",
    "\n",
    "- 概要: リストのうち，指定範囲の要素のみ取り出す\n",
    "- 引数\n",
    "    - `L` : リスト\n",
    "    - `a` : 取り出す要素範囲の開始インデックス\n",
    "    - `b` : 取り出す要素範囲の終了インデックス\n",
    "- 返り値\n",
    "    - リスト`L`の要素のうち，第`a`要素から，第`b`要素まで($a\\le i\\le b$を満たす全ての`L[i]`)のリスト\n",
    "- 注意\n",
    "    - リストの要素は第0要素から数える\n",
    "    - `for`文や`whild`文は使わないで，リストのスライスにより処理する\n",
    "    - `a`, `b`が0以上の値の場合に正常動作すれば良い\n",
    "\n",
    "**実行例**\n",
    "\n",
    "- 命令文\n",
    "```python\n",
    "L=[\"apple\", \"banana\", \"strawberry\", \"orange\", \"grape\"]\n",
    "from_to(L,2,3)\n",
    "```\n",
    "- 出力結果\n",
    "```python\n",
    "[\"strawberry\", \"orange\"]\n",
    "```\n",
    "\n",
    "**実行例2**\n",
    "\n",
    "- 命令文\n",
    "```python\n",
    "L=[\"apple\", \"banana\", \"strawberry\", \"orange\", \"grape\"]\n",
    "from_to(L,-3,-2)\n",
    "```\n",
    "- 出力結果\n",
    "```python\n",
    "[\"strawberry\", \"orange\"]\n",
    "```"
   ]
  },
  {
   "cell_type": "code",
   "execution_count": null,
   "metadata": {
    "deletable": false,
    "nbgrader": {
     "cell_type": "code",
     "checksum": "eadd79a10d9f59794895a2fd6f3b139e",
     "grade": false,
     "grade_id": "cell-32f1bacfe75bcd86",
     "locked": false,
     "schema_version": 3,
     "solution": true,
     "task": false
    },
    "slideshow": {
     "slide_type": "-"
    }
   },
   "outputs": [],
   "source": [
    "# YOUR CODE HERE\n",
    "def from_to(L, a, b):\n",
    "    return L[a:b+1]"
   ]
  },
  {
   "cell_type": "code",
   "execution_count": null,
   "metadata": {},
   "outputs": [],
   "source": [
    "# このセルで動作確認をしよう\n",
    "L = list(range(10))\n",
    "print(from_to(L, 2, 3))"
   ]
  },
  {
   "cell_type": "code",
   "execution_count": null,
   "metadata": {
    "deletable": false,
    "editable": false,
    "nbgrader": {
     "cell_type": "code",
     "checksum": "a516035777008b1c6e09fb30a5496450",
     "grade": true,
     "grade_id": "cell-8ee74ce8ccb4ce0c",
     "locked": true,
     "points": 1,
     "schema_version": 3,
     "solution": false,
     "task": false
    }
   },
   "outputs": [],
   "source": [
    "# 評価用セル\n",
    "test_list=list(range(10))\n",
    "eq_(from_to(test_list,3,4),[3,4])\n",
    "eq_(from_to(L=test_list,a=1,b=2),[1,2])\n",
    "\n",
    "test_list2=[\"apple\", \"banana\", \"strawberry\", \"orange\", \"grape\"]\n",
    "eq_(from_to(test_list2,1,3),[\"banana\", \"strawberry\", \"orange\"])\n",
    "eq_(from_to(test_list2,0,0),[\"apple\"])\n",
    "eq_(from_to(L=test_list2,a=0,b=0),[\"apple\"])\n",
    "print(\"ok\")"
   ]
  },
  {
   "cell_type": "markdown",
   "metadata": {},
   "source": [
    "### スライス範囲の指定方法その2\n",
    "\n",
    "リスト`L`の要素を間引いてスライスすることもできる。\n",
    "\n",
    "`L[start:end:step]`\n",
    "- インデックスが`start`以上`end`**未満**の要素をスライス。\n",
    "- ただし，取り出す要素のインデックスは`step`ずつ増加\n",
    "\n",
    "例)\n",
    "```python\n",
    "L=[\"apple\", \"banana\", \"strawberry\", \"orange\", \"grape\"]\n",
    "a=L[::2]   # L[0:len(L):2] と同じ意味\n",
    "b=L[::-1]  # L[0:len(L):-1] と同じ意味\n",
    "print(a,b,sep=\"\\n\")\n",
    "```\n",
    "実行結果\n",
    "```python\n",
    "['apple', 'strawberry', 'grape']\n",
    "['grape', 'orange', 'strawberry', 'banana', 'apple']\n",
    "```"
   ]
  },
  {
   "cell_type": "code",
   "execution_count": null,
   "metadata": {},
   "outputs": [],
   "source": [
    "# このセルで試してみよう\n",
    "print(\"ahbecldleof\"[1:10:2])"
   ]
  },
  {
   "cell_type": "markdown",
   "metadata": {
    "slideshow": {
     "slide_type": "slide"
    }
   },
   "source": [
    "Q. 以下の仕様を満たす関数`odd(L)`を定義しなさい。\n",
    "\n",
    "- 概要: リストから，インデックスが1,3,5...の要素のみを取り出す。\n",
    "- 引数\n",
    "    - `L` : リスト\n",
    "- 返り値\n",
    "    - リスト`L`の要素のうち，奇数番目のみを要素とするリスト\n",
    "- 注意\n",
    "    - `for`文や`whild`文は使わないで，リストのスライスにより処理する\n",
    "\n",
    "**実行例**\n",
    "\n",
    "- 命令文\n",
    "```python\n",
    "L=[\"apple\", \"banana\", \"strawberry\", \"orange\", \"grape\"]\n",
    "res=odd(L)\n",
    "print(res)\n",
    "```\n",
    "- 出力結果\n",
    "```python\n",
    "[\"banana\", \"orange\"]\n",
    "```"
   ]
  },
  {
   "cell_type": "code",
   "execution_count": null,
   "metadata": {
    "deletable": false,
    "nbgrader": {
     "cell_type": "code",
     "checksum": "cccd67d18361e2b9330d137ae27f5915",
     "grade": false,
     "grade_id": "cell-ae7c3db225080e76",
     "locked": false,
     "schema_version": 3,
     "solution": true,
     "task": false
    },
    "slideshow": {
     "slide_type": "-"
    }
   },
   "outputs": [],
   "source": [
    "# YOUR CODE HERE\n",
    "def odd(L):\n",
    "    return L[1::2]"
   ]
  },
  {
   "cell_type": "code",
   "execution_count": null,
   "metadata": {},
   "outputs": [],
   "source": [
    "# このセルで動作確認をしよう\n",
    "print(odd(\"hello, world\"))"
   ]
  },
  {
   "cell_type": "code",
   "execution_count": null,
   "metadata": {
    "deletable": false,
    "editable": false,
    "nbgrader": {
     "cell_type": "code",
     "checksum": "4c16f30906a05dd8d5616ebd592d4a86",
     "grade": true,
     "grade_id": "cell-823543d3c828d919",
     "locked": true,
     "points": 1,
     "schema_version": 3,
     "solution": false,
     "task": false
    }
   },
   "outputs": [],
   "source": [
    "# 評価用セル\n",
    "test_list=list(range(10))\n",
    "eq_(odd(test_list),[1,3,5,7,9])\n",
    "test_list2=[\"apple\", \"banana\", \"strawberry\", \"orange\", \"grape\"]\n",
    "eq_(odd(L=test_list2),[\"banana\",\"orange\"])\n",
    "print(\"ok\")"
   ]
  },
  {
   "cell_type": "markdown",
   "metadata": {
    "slideshow": {
     "slide_type": "slide"
    }
   },
   "source": [
    "### リストの要素とインデックスの参照\n",
    "リストの要素をインデックスとともに参照する方法の例\n",
    "```python\n",
    "L=[2,5,8,3]\n",
    "for i in range(len(L)):\n",
    "    print(\"L[%d]=%d\" % (i,L[i]))\n",
    "```\n",
    "リスト内の各要素のインデックスと値の両方を返す関数`enumerate()`を用いて，以下のように書くこともできる\n",
    "```python\n",
    "for i,x in enumerate(L):     # 関数enumerate()で各要素のインデックスiと値L[i]に順にアクセス\n",
    "    print(\"L[%d]=%d\" % (i,x))\n",
    "```"
   ]
  },
  {
   "cell_type": "markdown",
   "metadata": {
    "slideshow": {
     "slide_type": "slide"
    }
   },
   "source": [
    "Q. for文と関数`enumerate()`を使って，`L=[1,\"apple\",[2,3],3.5]` の各要素とそのタイプ(型)を順に，以下の例のように表示する関数`show_list()`を作りなさい。\n",
    "\n",
    "**実行例**\n",
    "\n",
    "- 命令文\n",
    "```python\n",
    "L=[1,\"apple\",[2,3],3.5]\n",
    "show_list(L)\n",
    "```\n",
    "- 出力結果\n",
    "```python\n",
    "L[0]=1, <class 'int'>\n",
    "L[1]=apple, <class 'str'>\n",
    "L[2]=[2, 3], <class 'list'>\n",
    "L[3]=3.5, <class 'float'>\n",
    "```"
   ]
  },
  {
   "cell_type": "code",
   "execution_count": null,
   "metadata": {
    "deletable": false,
    "nbgrader": {
     "cell_type": "code",
     "checksum": "d7a6e69ea8ba88a71ec555e0d9304289",
     "grade": false,
     "grade_id": "cell-c1aa45ac7f0ec1b6",
     "locked": false,
     "schema_version": 3,
     "solution": true,
     "task": false
    },
    "slideshow": {
     "slide_type": "fragment"
    }
   },
   "outputs": [],
   "source": [
    "# YOUR CODE HERE\n",
    "def show_list(L):\n",
    "    for i, x in enumerate(L):\n",
    "        print(\"L[%d]=%s, %s\" % (i, x, type(x)))"
   ]
  },
  {
   "cell_type": "code",
   "execution_count": null,
   "metadata": {},
   "outputs": [],
   "source": [
    "# このセルで動作確認をしよう\n",
    "show_list([1, \"a\", 1.5, []])"
   ]
  },
  {
   "cell_type": "code",
   "execution_count": null,
   "metadata": {
    "deletable": false,
    "editable": false,
    "nbgrader": {
     "cell_type": "code",
     "checksum": "af67161c63c59d2ed05fc2553b5e7567",
     "grade": true,
     "grade_id": "cell-ec19f8c696b24755",
     "locked": true,
     "points": 1,
     "schema_version": 3,
     "solution": false,
     "task": false
    }
   },
   "outputs": [],
   "source": [
    "# 評価用セル\n",
    "test_list=[1,\"apple\",1.0]\n",
    "with capture_stdout() as capture:\n",
    "        show_list(test_list)\n",
    "res=capture.result\n",
    "assert res.replace(\" \",\"\").strip() ==\"L[0]=1,<class'int'>\\nL[1]=apple,<class'str'>\\nL[2]=1.0,<class'float'>\"\n",
    "\n",
    "test_list=[(1,3)]\n",
    "with capture_stdout() as capture:\n",
    "        show_list(L=test_list)\n",
    "res=capture.result\n",
    "assert res.replace(\" \",\"\").strip() ==\"L[0]=(1,3),<class'tuple'>\"\n",
    "\n",
    "# check if enumerate is used\n",
    "from unittest.mock import patch\n",
    "with patch('__main__.enumerate') as mock_enumerate:\n",
    "    show_list(test_list)\n",
    "\n",
    "mock_enumerate.assert_called_once_with(test_list)\n",
    "print(\"ok\")"
   ]
  },
  {
   "cell_type": "markdown",
   "metadata": {
    "slideshow": {
     "slide_type": "slide"
    }
   },
   "source": [
    "## リストの編集メソッド, p.151\n",
    "- `list.append(x)`    # 末尾に要素`x`を追加\n",
    "- `list.extend(list)` # 末尾に`list`の要素を追加\n",
    "- `list.insert(i,x)` # 位置`i`に`x`を挿入\n",
    "- `list.remove(i)`   # 位置`i`の要素を削除\n",
    "- `list.clear()`     # リスト内の要素をすべて削除\n",
    "\n",
    "実行例\n",
    "```python\n",
    "fruit=[]\n",
    "\n",
    "fruit.append(\"apple\")\n",
    "print(fruit)\n",
    "\n",
    "fruit.append([\"kiwi\",\"orange\"])\n",
    "print(fruit)\n",
    "\n",
    "fruit.extend([\"peach\",\"melon\"])\n",
    "print(fruit)\n",
    "\n",
    "fruit.insert(2,\"banana\")\n",
    "print(fruit)\n",
    "```\n",
    "出力結果\n",
    "```python\n",
    "['apple']\n",
    "['apple', ['kiwi', 'orange']]\n",
    "['apple', ['kiwi', 'orange'], 'peach', 'melon']\n",
    "['apple', ['kiwi', 'orange'], 'banana', 'peach', 'melon']\n",
    "```"
   ]
  },
  {
   "cell_type": "markdown",
   "metadata": {
    "slideshow": {
     "slide_type": "slide"
    }
   },
   "source": [
    "Q. 要素を含まない空リスト`to_buy`を作りなさい。"
   ]
  },
  {
   "cell_type": "code",
   "execution_count": null,
   "metadata": {
    "deletable": false,
    "nbgrader": {
     "cell_type": "code",
     "checksum": "8727002ec51a40407521e4c23772ca75",
     "grade": false,
     "grade_id": "cell-0dcb926e1ad6f26a",
     "locked": false,
     "schema_version": 3,
     "solution": true,
     "task": false
    }
   },
   "outputs": [],
   "source": [
    "# YOUR CODE HERE\n",
    "to_buy = []"
   ]
  },
  {
   "cell_type": "code",
   "execution_count": null,
   "metadata": {},
   "outputs": [],
   "source": [
    "# このセルで結果を確認しよう"
   ]
  },
  {
   "cell_type": "code",
   "execution_count": null,
   "metadata": {
    "deletable": false,
    "editable": false,
    "nbgrader": {
     "cell_type": "code",
     "checksum": "e58a756e77441f58573ca7308591b0da",
     "grade": true,
     "grade_id": "cell-f646425f3d71328f",
     "locked": true,
     "points": 1,
     "schema_version": 3,
     "solution": false,
     "task": false
    }
   },
   "outputs": [],
   "source": [
    "# 評価用セル\n",
    "eq_(to_buy,[])"
   ]
  },
  {
   "cell_type": "markdown",
   "metadata": {},
   "source": [
    "Q. 前問の`to_buy`に要素\"cake\"を追加しなさい。"
   ]
  },
  {
   "cell_type": "code",
   "execution_count": null,
   "metadata": {
    "deletable": false,
    "nbgrader": {
     "cell_type": "code",
     "checksum": "e52f578f86d823d9b81e9ca2e10fc0a8",
     "grade": false,
     "grade_id": "cell-60b5eb959c495df1",
     "locked": false,
     "schema_version": 3,
     "solution": true,
     "task": false
    }
   },
   "outputs": [],
   "source": [
    "# YOUR CODE HERE\n",
    "to_buy.append(\"cake\")"
   ]
  },
  {
   "cell_type": "code",
   "execution_count": null,
   "metadata": {},
   "outputs": [],
   "source": [
    "# このセルで結果を確認しよう\n",
    "print(to_buy)"
   ]
  },
  {
   "cell_type": "code",
   "execution_count": null,
   "metadata": {
    "deletable": false,
    "editable": false,
    "nbgrader": {
     "cell_type": "code",
     "checksum": "3c6de29de4c28753a87c52e6296be37c",
     "grade": true,
     "grade_id": "cell-d167ae107ae1ebb5",
     "locked": true,
     "points": 1,
     "schema_version": 3,
     "solution": false,
     "task": false
    }
   },
   "outputs": [],
   "source": [
    "# 評価用セル\n",
    "eq_(to_buy,['cake'])"
   ]
  },
  {
   "cell_type": "markdown",
   "metadata": {},
   "source": [
    "Q. 前問のリスト`to_buy`に，リスト`vegetables=[\"tomato\",\"cabbage\"]`を結合し，`to_buy`の最後の2つの要素が\"tomato\",\"cabbage\"になるようにしなさい。"
   ]
  },
  {
   "cell_type": "code",
   "execution_count": null,
   "metadata": {
    "deletable": false,
    "nbgrader": {
     "cell_type": "code",
     "checksum": "f63d8aa27a34a5634c339d6cadf32211",
     "grade": false,
     "grade_id": "cell-c80d7c5a4e9be62f",
     "locked": false,
     "schema_version": 3,
     "solution": true,
     "task": false
    },
    "slideshow": {
     "slide_type": "-"
    }
   },
   "outputs": [],
   "source": [
    "vegetables=[\"tomato\",\"cabbage\"]\n",
    "# YOUR CODE HERE\n",
    "to_buy.extend(vegetables)"
   ]
  },
  {
   "cell_type": "code",
   "execution_count": null,
   "metadata": {},
   "outputs": [],
   "source": [
    "# このセルで結果を確認しよう\n",
    "print(to_buy)"
   ]
  },
  {
   "cell_type": "code",
   "execution_count": null,
   "metadata": {
    "deletable": false,
    "editable": false,
    "nbgrader": {
     "cell_type": "code",
     "checksum": "56bfb774c1d6baf960a1a4abea11bac4",
     "grade": true,
     "grade_id": "cell-fce8ac150d37f283",
     "locked": true,
     "points": 1,
     "schema_version": 3,
     "solution": false,
     "task": false
    }
   },
   "outputs": [],
   "source": [
    "# 評価用セル\n",
    "eq_(to_buy,['cake', 'tomato', 'cabbage'])"
   ]
  },
  {
   "cell_type": "markdown",
   "metadata": {},
   "source": [
    "Q. 前問のリスト`to_buy`に，リスト`beverages=[\"beer\",\"wine\"]`を追加し，`to_buy`の最後の要素が`[\"beer\",\"wine\"]`になるようにしなさい。(最後の要素が`\"wine\"`ではなく，リスト`[\"beer\",\"wine\"]`になることに注意。)"
   ]
  },
  {
   "cell_type": "code",
   "execution_count": null,
   "metadata": {
    "deletable": false,
    "nbgrader": {
     "cell_type": "code",
     "checksum": "88d957d6fcaa25245bee24babc14f329",
     "grade": false,
     "grade_id": "cell-4c0bbd998f972622",
     "locked": false,
     "schema_version": 3,
     "solution": true,
     "task": false
    }
   },
   "outputs": [],
   "source": [
    "beverages=[\"beer\",\"wine\"]\n",
    "# YOUR CODE HERE\n",
    "to_buy.append(beverages)"
   ]
  },
  {
   "cell_type": "code",
   "execution_count": null,
   "metadata": {},
   "outputs": [],
   "source": [
    "# このセルで結果を確認しよう\n",
    "print(to_buy)"
   ]
  },
  {
   "cell_type": "code",
   "execution_count": null,
   "metadata": {
    "deletable": false,
    "editable": false,
    "nbgrader": {
     "cell_type": "code",
     "checksum": "fbbcf7eb8d5ef2ce9dcabc08743e192b",
     "grade": true,
     "grade_id": "cell-39785ed92d8fa0be",
     "locked": true,
     "points": 1,
     "schema_version": 3,
     "solution": false,
     "task": false
    }
   },
   "outputs": [],
   "source": [
    "# 評価用セル"
   ]
  },
  {
   "cell_type": "markdown",
   "metadata": {},
   "source": [
    "Q. 前問のリスト`to_buy`の`['beer', 'wine']`の前に要素`\"carrot\"`を追加しなさい。"
   ]
  },
  {
   "cell_type": "code",
   "execution_count": null,
   "metadata": {
    "deletable": false,
    "nbgrader": {
     "cell_type": "code",
     "checksum": "3bb828af68425fc7bacec84b6e57642b",
     "grade": false,
     "grade_id": "cell-33000d115931c1a6",
     "locked": false,
     "schema_version": 3,
     "solution": true,
     "task": false
    }
   },
   "outputs": [],
   "source": [
    "# 評価用セル\n",
    "# YOUR CODE HERE\n",
    "to_buy.insert(3, \"carrot\")"
   ]
  },
  {
   "cell_type": "code",
   "execution_count": null,
   "metadata": {},
   "outputs": [],
   "source": [
    "# このセルで結果を確認しよう\n",
    "print(to_buy)"
   ]
  },
  {
   "cell_type": "code",
   "execution_count": null,
   "metadata": {
    "deletable": false,
    "editable": false,
    "nbgrader": {
     "cell_type": "code",
     "checksum": "9042547468811f4882acc841d8f2aae1",
     "grade": true,
     "grade_id": "cell-25aaaa4833099b5a",
     "locked": true,
     "points": 1,
     "schema_version": 3,
     "solution": false,
     "task": false
    }
   },
   "outputs": [],
   "source": [
    "# 評価用セル"
   ]
  },
  {
   "cell_type": "markdown",
   "metadata": {
    "slideshow": {
     "slide_type": "slide"
    }
   },
   "source": [
    "## リストの代入, p.165\n",
    "\n",
    "変数への，リストオブジェクトの代入は**参照渡し**である。\n",
    "- pythonではオブジェクトの生成時に固有の`id`がふられる。\n",
    "- リストオブジェクトの代入の際は，`id`のみがコピーされるが，実体はコピーされない。\n",
    "\n",
    "例)\n",
    "```python\n",
    "dat1=[1,2,3]  # リスト[1,2,3]のidがdat1の参照先に\n",
    "dat2=dat1     # data1の参照先idをdat2にコピー\n",
    "dat2[-1]=5\n",
    "print(dat1)\n",
    "```\n",
    "出力結果\n",
    "```python\n",
    "[1, 2, 5]   # dat2の要素を変更したら，dat1の要素も変わっている...\n",
    "```\n",
    "`dat1`と`dat2`の`id`を確認してみる。\n",
    "```\n",
    "print(id(dat1))\n",
    "print(id(dat2))\n",
    "```\n",
    "出力結果(`id`は実行するたびに異なる。)\n",
    "```python\n",
    "140234586538440\n",
    "140234586538440\n",
    "```\n",
    "同じ`id`になっていることがわかる。"
   ]
  },
  {
   "cell_type": "code",
   "execution_count": null,
   "metadata": {},
   "outputs": [],
   "source": [
    "# このセルで試してみよう\n",
    "dat1 = [1, 2, 3]\n",
    "dat2 = dat1\n",
    "\n",
    "print(id(dat1))\n",
    "print(id(dat2))"
   ]
  },
  {
   "cell_type": "markdown",
   "metadata": {},
   "source": [
    "## オブジェクトの比較\n",
    "- `x is y`\n",
    "    - `x` と `y` の`id`が同じ場合に`True`\n",
    "- `x == y``\n",
    "    - `x` と `y` の値が同じときに`True`\n",
    "    - この値が`True`でも，`id`が同じとは限らない\n",
    "    \n",
    "**実行例**\n",
    "```python\n",
    "dat1=[1,2,3]\n",
    "dat2=dat1\n",
    "print(dat1 is dat2)\n",
    "print(dat1 == dat2)\n",
    "```\n",
    "出力結果\n",
    "```python\n",
    "True\n",
    "True\n",
    "```"
   ]
  },
  {
   "cell_type": "code",
   "execution_count": null,
   "metadata": {},
   "outputs": [],
   "source": [
    "# このセルで試してみよう"
   ]
  },
  {
   "cell_type": "markdown",
   "metadata": {
    "slideshow": {
     "slide_type": "slide"
    }
   },
   "source": [
    "## リストの複製(値渡し), p.167\n",
    "\n",
    "リストの(`id`の**参照渡しではなく，値渡し**による)コピーの方法。\n",
    "- 方法1: メソッド`list.copy()`を使う\n",
    "```python\n",
    "dat2=dat.copy()\n",
    "```\n",
    "- 方法2: スライスを使う\n",
    "```python\n",
    "dat3=dat[:]   # dat1のはじめから終わりまで切り出す\n",
    "```\n",
    "- 方法3: リストを関数`list()`でリスト化する\n",
    "```python\n",
    "dat4=list(dat)\n",
    "```"
   ]
  },
  {
   "cell_type": "markdown",
   "metadata": {
    "slideshow": {
     "slide_type": "slide"
    }
   },
   "source": [
    "Q. 次の命令文の実行後の状態として，以下から正しいものを選びなさい。\n",
    "\n",
    "```python\n",
    "dat1=[1,2,3]\n",
    "dat2=dat1\n",
    "dat1=[5,6,7]\n",
    "```\n",
    "1. `dat1`と`dat2`の`id`は同じであり，`dat1`と`dat2`の各要素の値も同じである。\n",
    "2. `dat1`と`dat2`の`id`は異なりが，`dat1`と`dat2`の各要素の値は同じである。\n",
    "3. `dat1`と`dat2`の`id`は同じだが，`dat1`と`dat2`の各要素の値は異なる。\n",
    "4. `dat1`と`dat2`の`id`は異なり，`dat1`と`dat2`の各要素の値も異なる。\n",
    "\n",
    "解答欄には，以下の例のように正しい番号を変数`ans`の値として答えること。\n",
    "```python\n",
    "ans=5\n",
    "```"
   ]
  },
  {
   "cell_type": "code",
   "execution_count": null,
   "metadata": {},
   "outputs": [],
   "source": [
    "# このセルで試してみよう\n",
    "dat1 = [1, 2, 3]\n",
    "dat2 = dat1\n",
    "dat1 = [5, 6, 7]\n",
    "print(id(dat1))\n",
    "print(id(dat2))"
   ]
  },
  {
   "cell_type": "code",
   "execution_count": null,
   "metadata": {
    "deletable": false,
    "nbgrader": {
     "cell_type": "code",
     "checksum": "23f948ff839bc890cb4fae4dfc75fd37",
     "grade": false,
     "grade_id": "cell-afa8c5a830cd6267",
     "locked": false,
     "schema_version": 3,
     "solution": true,
     "task": false
    }
   },
   "outputs": [],
   "source": [
    "# YOUR CODE HERE\n",
    "ans=4"
   ]
  },
  {
   "cell_type": "code",
   "execution_count": null,
   "metadata": {
    "deletable": false,
    "editable": false,
    "nbgrader": {
     "cell_type": "code",
     "checksum": "5889fec5bb8cd966b09a1e6e3974a12f",
     "grade": true,
     "grade_id": "cell-711f7f2d066d1411",
     "locked": true,
     "points": 1,
     "schema_version": 3,
     "solution": false,
     "task": false
    }
   },
   "outputs": [],
   "source": [
    "# 評価用セル"
   ]
  },
  {
   "cell_type": "markdown",
   "metadata": {},
   "source": [
    "Q. 次の命令文の実行後の状態として，以下から正しいものを選びなさい。\n",
    "\n",
    "```python\n",
    "dat1=[1,2,3]\n",
    "dat2=dat1.copy()\n",
    "dat1=[5,6,7]\n",
    "```\n",
    "1. `dat1`と`dat2`の`id`は同じであり，`dat1`と`dat2`の各要素の値も同じである。\n",
    "2. `dat1`と`dat2`の`id`は異なりが，`dat1`と`dat2`の各要素の値は同じである。\n",
    "3. `dat1`と`dat2`の`id`は同じだが，`dat1`と`dat2`の各要素の値は異なる。\n",
    "4. `dat1`と`dat2`の`id`は異なり，`dat1`と`dat2`の各要素の値も異なる。\n",
    "\n",
    "解答欄には，以下の例のように正しい番号を変数`ans`の値として答えること。\n",
    "```python\n",
    "ans=5\n",
    "```"
   ]
  },
  {
   "cell_type": "code",
   "execution_count": null,
   "metadata": {},
   "outputs": [],
   "source": [
    "# このセルで試してみよう\n",
    "# このセルで試してみよう\n",
    "dat1 = [1, 2, 3]\n",
    "dat2 = dat1.copy()\n",
    "dat1 = [5, 6, 7]\n",
    "print(id(dat1))\n",
    "print(id(dat2))"
   ]
  },
  {
   "cell_type": "code",
   "execution_count": null,
   "metadata": {
    "deletable": false,
    "nbgrader": {
     "cell_type": "code",
     "checksum": "3b1e51f18d19009076af6af6547846cc",
     "grade": false,
     "grade_id": "cell-abd656179c3b8eba",
     "locked": false,
     "schema_version": 3,
     "solution": true,
     "task": false
    }
   },
   "outputs": [],
   "source": [
    "# YOUR CODE HERE\n",
    "ans=4"
   ]
  },
  {
   "cell_type": "code",
   "execution_count": null,
   "metadata": {
    "deletable": false,
    "editable": false,
    "nbgrader": {
     "cell_type": "code",
     "checksum": "c463228dd61a36debf937d3241f7d683",
     "grade": true,
     "grade_id": "cell-164e3958dabf1035",
     "locked": true,
     "points": 1,
     "schema_version": 3,
     "solution": false,
     "task": false
    }
   },
   "outputs": [],
   "source": [
    "# 評価用セル"
   ]
  },
  {
   "cell_type": "markdown",
   "metadata": {
    "slideshow": {
     "slide_type": "-"
    }
   },
   "source": [
    "Q. 次の命令文の実行後の状態として，以下から正しいものを選びなさい。\n",
    "\n",
    "```python\n",
    "dat1=[1,2,3]\n",
    "dat2=dat1\n",
    "dat1[1]=5\n",
    "```\n",
    "1. `dat1`と`dat2`の`id`は同じであり，`dat1`と`dat2`の各要素の値も同じである。\n",
    "2. `dat1`と`dat2`の`id`は異なりが，`dat1`と`dat2`の各要素の値は同じである。\n",
    "3. `dat1`と`dat2`の`id`は同じだが，`dat1`と`dat2`の各要素の値は異なる。\n",
    "4. `dat1`と`dat2`の`id`は異なり，`dat1`と`dat2`の各要素の値も異なる。\n",
    "\n",
    "解答欄には，以下の例のように正しい番号を変数`ans`の値として答えること。\n",
    "```python\n",
    "ans=5\n",
    "```"
   ]
  },
  {
   "cell_type": "code",
   "execution_count": null,
   "metadata": {},
   "outputs": [],
   "source": [
    "# このセルで試してみよう"
   ]
  },
  {
   "cell_type": "code",
   "execution_count": null,
   "metadata": {
    "deletable": false,
    "nbgrader": {
     "cell_type": "code",
     "checksum": "b100dec04db72e3e98093c061a0d74c1",
     "grade": false,
     "grade_id": "cell-695d5d0320b2d650",
     "locked": false,
     "schema_version": 3,
     "solution": true,
     "task": false
    }
   },
   "outputs": [],
   "source": [
    "# YOUR CODE HERE\n",
    "ans=1"
   ]
  },
  {
   "cell_type": "code",
   "execution_count": null,
   "metadata": {
    "deletable": false,
    "editable": false,
    "nbgrader": {
     "cell_type": "code",
     "checksum": "470dfbf434290f4b6b4b1968411f4f20",
     "grade": true,
     "grade_id": "cell-a94fd1b8b01d1122",
     "locked": true,
     "points": 1,
     "schema_version": 3,
     "solution": false,
     "task": false
    }
   },
   "outputs": [],
   "source": [
    "# 評価用セル"
   ]
  },
  {
   "cell_type": "markdown",
   "metadata": {
    "slideshow": {
     "slide_type": "slide"
    }
   },
   "source": [
    "## リストの並べ替え, p.168\n",
    "\n",
    "### 関数`sorted()`\n",
    "```python\n",
    "sorted(list)\n",
    "```\n",
    "- 関数`sorted()`はオブジェクトは書き換えず，ソート後のリストを返す\n",
    "\n",
    "### メソッド`list.sort()`\n",
    "\n",
    "```python\n",
    "list.sort(reverse=False) \n",
    "```\n",
    "- 引数は省略可。降順にするときは `reverse=True`を指定\n",
    "- `list.sort()`メソッドはオブジェクト`list`を書き換える"
   ]
  },
  {
   "cell_type": "markdown",
   "metadata": {},
   "source": [
    "Q. `L=[1,6,3,7,2]`を，関数`sorted()`でソートし，その結果を変数`sorted_L`に代入しなさい。"
   ]
  },
  {
   "cell_type": "code",
   "execution_count": null,
   "metadata": {
    "deletable": false,
    "nbgrader": {
     "cell_type": "code",
     "checksum": "d98be2f37a38aa72495d7b12d8c25f92",
     "grade": false,
     "grade_id": "cell-c2565c06fc066d5e",
     "locked": false,
     "schema_version": 3,
     "solution": true,
     "task": false
    }
   },
   "outputs": [],
   "source": [
    "L=[1,6,3,7,2]\n",
    "# YOUR CODE HERE\n",
    "sorted_L = sorted(L)"
   ]
  },
  {
   "cell_type": "code",
   "execution_count": null,
   "metadata": {},
   "outputs": [],
   "source": [
    "# このセルで結果の確認をしておきましょう\n",
    "print(sorted_L)"
   ]
  },
  {
   "cell_type": "code",
   "execution_count": null,
   "metadata": {
    "deletable": false,
    "editable": false,
    "nbgrader": {
     "cell_type": "code",
     "checksum": "890b74832e1e5f848ffef94ed607468f",
     "grade": true,
     "grade_id": "cell-cf9aaa31071061bd",
     "locked": true,
     "points": 1,
     "schema_version": 3,
     "solution": false,
     "task": false
    }
   },
   "outputs": [],
   "source": [
    "# 評価用セル"
   ]
  },
  {
   "cell_type": "markdown",
   "metadata": {},
   "source": [
    "Q. `L=[1,6,3,7,2]`をメソッド`list.sort()`でソートしなさい。"
   ]
  },
  {
   "cell_type": "code",
   "execution_count": null,
   "metadata": {
    "deletable": false,
    "nbgrader": {
     "cell_type": "code",
     "checksum": "d0b5e4ff0ec6963e0fa384ef86dd0b9e",
     "grade": false,
     "grade_id": "cell-89b763a558605a86",
     "locked": false,
     "schema_version": 3,
     "solution": true,
     "task": false
    },
    "slideshow": {
     "slide_type": "-"
    }
   },
   "outputs": [],
   "source": [
    "L=[1,6,3,7,2]\n",
    "# YOUR CODE HERE\n",
    "L.sort()"
   ]
  },
  {
   "cell_type": "code",
   "execution_count": null,
   "metadata": {},
   "outputs": [],
   "source": [
    "# このセルで結果の確認をしておきましょう\n",
    "print(L)"
   ]
  },
  {
   "cell_type": "code",
   "execution_count": null,
   "metadata": {
    "deletable": false,
    "editable": false,
    "nbgrader": {
     "cell_type": "code",
     "checksum": "9e1bfc0af0f149945a4afc73fa0f2868",
     "grade": true,
     "grade_id": "cell-402e1b7f0c8f134c",
     "locked": true,
     "points": 1,
     "schema_version": 3,
     "solution": false,
     "task": false
    }
   },
   "outputs": [],
   "source": [
    "# 評価用セル"
   ]
  },
  {
   "cell_type": "markdown",
   "metadata": {
    "slideshow": {
     "slide_type": "slide"
    }
   },
   "source": [
    "## リストの検索, p.177"
   ]
  },
  {
   "cell_type": "markdown",
   "metadata": {
    "slideshow": {
     "slide_type": "slide"
    }
   },
   "source": [
    "### 検索メソッド\n",
    "- `list.count(x)`       # 値がxである要素の数を取得\n",
    "- `list.index(x)`       # 値がxである要素のインデックスのうち最小値を返す。\n",
    "\n",
    "### 検索・計算関数\n",
    "- `max(list)`\n",
    "- `min(list)`\n",
    "- `sum(list)`"
   ]
  },
  {
   "cell_type": "markdown",
   "metadata": {
    "slideshow": {
     "slide_type": "-"
    }
   },
   "source": [
    "Q. 数値リストに対して，最大値をとる要素のインデックスのうち最小のもの返す関数`argmax()`を，関数`max()`とメソッド`list.index()`を使って作りなさい。\n",
    "\n",
    "引数\n",
    "- `L`: リスト\n",
    "\n",
    "返り値\n",
    "- リスト`L`の要素のうち，値が最大になるもののインデックス。最大値をとる要素が複数あるときには，その中で最小のインデックスを返すものとする。\n",
    "\n",
    "実行例\n",
    "```python\n",
    "numbers=[5,7,8,3,8,3]\n",
    "index=argmax(L=numbers)\n",
    "print(index)\n",
    "```\n",
    "出力結果\n",
    "```\n",
    "2\n",
    "```"
   ]
  },
  {
   "cell_type": "code",
   "execution_count": null,
   "metadata": {
    "deletable": false,
    "nbgrader": {
     "cell_type": "code",
     "checksum": "2a3a1774a6f537cdf2a6843fde5abf39",
     "grade": false,
     "grade_id": "cell-f15991962ed7fc2b",
     "locked": false,
     "schema_version": 3,
     "solution": true,
     "task": false
    },
    "slideshow": {
     "slide_type": "-"
    }
   },
   "outputs": [],
   "source": [
    "# YOUR CODE HERE\n",
    "def argmax(L):\n",
    "    x = max(L)\n",
    "    return L.index(x)"
   ]
  },
  {
   "cell_type": "code",
   "execution_count": null,
   "metadata": {},
   "outputs": [],
   "source": [
    "# このセルで動作確認をしよう\n",
    "print(argmax(L=[5,7,8,3,8,3]))"
   ]
  },
  {
   "cell_type": "code",
   "execution_count": null,
   "metadata": {
    "deletable": false,
    "editable": false,
    "nbgrader": {
     "cell_type": "code",
     "checksum": "577863a87af380113caeccaff8178cd1",
     "grade": true,
     "grade_id": "cell-c0cb3335d2c57f86",
     "locked": true,
     "points": 1,
     "schema_version": 3,
     "solution": false,
     "task": false
    }
   },
   "outputs": [],
   "source": [
    "# 評価用セル\n",
    "assert_equal(argmax([1,2,3,4]),3)\n",
    "assert_equal(argmax(L=[3,4,4,4,4]),1)\n",
    "print(\"ok\")"
   ]
  },
  {
   "cell_type": "markdown",
   "metadata": {
    "slideshow": {
     "slide_type": "slide"
    }
   },
   "source": [
    "### リスト要素のキーワード検索\n",
    "\n",
    "**書式:** `<keyword> in <list>`\n",
    "- リスト<list>の要素のうち，キーワードに一致するものがあるか否かを判定する\n",
    "- 返り値: True or False\n",
    "    \n",
    "```python\n",
    "to_buy=[\"apple\", \"banana\", \"strawberry\", \"orange\", \"grape\"]\n",
    "\n",
    "def should_i_buy(item):\n",
    "    judge=item in to_buy\n",
    "    print(\"Should I buy a\", item, \"?\", judge)\n",
    "\n",
    "should_i_buy(\"banana\")\n",
    "```"
   ]
  },
  {
   "cell_type": "markdown",
   "metadata": {},
   "source": [
    "Q. 以下の仕様を満たす関数`check_action(action)`を作りなさい。\n",
    "\n",
    "- 概要: 引数で与えられたオブジェクトが，大域変数(リスト)`action_list`に含まれているかどうかを確認する\n",
    "- 引数名: `action`\n",
    "- 返り値: 引数`action`が大域変数(リスト)`action_list`に含まれていたら，該当する要素のインデックス(`list.index()`を使う)を返し, 含まれていなければFalse\n",
    "\n",
    "実行例\n",
    "```python\n",
    "action_list=[\"left\",\"up\",\"right\",\"down\"]\n",
    "print(check_action(\"right\"))\n",
    "print(check_action(\"kiwi\"))\n",
    "```\n",
    "出力結果\n",
    "```python\n",
    "2\n",
    "False\n",
    "```"
   ]
  },
  {
   "cell_type": "code",
   "execution_count": null,
   "metadata": {
    "deletable": false,
    "nbgrader": {
     "cell_type": "code",
     "checksum": "a40905c82092d373b0080c39b3ee212d",
     "grade": false,
     "grade_id": "cell-677e9b6842ecdad4",
     "locked": false,
     "schema_version": 3,
     "solution": true,
     "task": false
    },
    "slideshow": {
     "slide_type": "-"
    }
   },
   "outputs": [],
   "source": [
    "action_list=[\"left\",\"up\",\"right\",\"down\"]\n",
    "# YOUR CODE HERE\n",
    "def check_action(action):\n",
    "    if action in action_list:\n",
    "        return action_list.index(action)\n",
    "    return False"
   ]
  },
  {
   "cell_type": "code",
   "execution_count": null,
   "metadata": {},
   "outputs": [],
   "source": [
    "# このセルで動作確認をしよう\n",
    "print(check_action(\"bow\"))"
   ]
  },
  {
   "cell_type": "code",
   "execution_count": null,
   "metadata": {
    "deletable": false,
    "editable": false,
    "nbgrader": {
     "cell_type": "code",
     "checksum": "01fb0648b2e93c6620e7f1c8936fee9e",
     "grade": true,
     "grade_id": "cell-ea4c45a841440f01",
     "locked": true,
     "points": 1,
     "schema_version": 3,
     "solution": false,
     "task": false
    }
   },
   "outputs": [],
   "source": [
    "# 評価用セル\n",
    "action_list=[\"left\",\"up\",\"right\",\"down\"]\n",
    "assert_equal(check_action(\"up\"),1)\n",
    "assert_equal(check_action(action=\"right\"),2)\n",
    "assert_equal(check_action(\"kiwi\"),False)\n",
    "action_list=[\"kiwi\",\"banana\",\"tomato\"]\n",
    "assert_equal(check_action(\"right\"),False)\n",
    "assert_equal(check_action(\"kiwi\"),0)\n",
    "print(\"ok\")"
   ]
  },
  {
   "cell_type": "markdown",
   "metadata": {
    "slideshow": {
     "slide_type": "slide"
    }
   },
   "source": [
    "## for文を用いたリスト生成\n",
    "\n",
    "### リスト内包表記(list comprehension), p.173\n",
    "\n",
    "目的: `for`文で生成される値をリスト化する方法\n",
    "\n",
    "書式: **[ 式 for 変数 in イテラブル ]**\n",
    "- リスト内包表記では，`for`の前に実行する式を書く\n",
    "- **イテラブル**とは，1つずつ要素を取り出すことができるオブジェクトのこと。例えば，`list`, `tuple`, `dict`などや，`range()`などの関数。\n",
    "\n",
    "例1) $1^2,2^2,3^2,\\ldots,10^2$の値をリスト化する\n",
    "```python\n",
    "num10=[ i**2 for i in range(1,11) ]\n",
    "```\n",
    "\n",
    "例2) 1から6までの乱数を10回発生する。\n",
    "```python\n",
    "import random as ra\n",
    "dice=[ ra.randint(1,6) for i in range(10) ]\n",
    "```"
   ]
  },
  {
   "cell_type": "markdown",
   "metadata": {
    "slideshow": {
     "slide_type": "-"
    }
   },
   "source": [
    "Q. 以下の仕様を満たす関数`get_rand_action(n)`を作りなさい。\n",
    "\n",
    "- 概要: 大域変数(リスト)`action_list`からランダムに要素を`n`個取り出す\n",
    "- 引数名: `n`\n",
    "- 返り値: 大域変数(リスト)`action_list`からランダムに要素を`n`個取り出してリスト化したもの\n",
    "- 注意: ランダム選択には`random.choice()`を使うと便利(p.180)\n",
    "\n",
    "実行例\n",
    "```python\n",
    "action_list=[\"left\",\"up\",\"right\",\"down\"]\n",
    "print(get_rand_action(3))\n",
    "```\n",
    "出力結果(例)\n",
    "```python\n",
    "[\"up\",\"down\",\"right\"]\n",
    "```"
   ]
  },
  {
   "cell_type": "code",
   "execution_count": null,
   "metadata": {
    "deletable": false,
    "nbgrader": {
     "cell_type": "code",
     "checksum": "e7a3f25bb79536cdc4e45f6e40e8687d",
     "grade": false,
     "grade_id": "cell-366ad6ff1d38387d",
     "locked": false,
     "schema_version": 3,
     "solution": true,
     "task": false
    },
    "slideshow": {
     "slide_type": "fragment"
    }
   },
   "outputs": [],
   "source": [
    "import random as ra\n",
    "# YOUR CODE HERE\n",
    "def get_rand_action(n):\n",
    "    return [ action_list[ra.randint(0, len(action_list)-1)] for i in range(n) ]"
   ]
  },
  {
   "cell_type": "code",
   "execution_count": null,
   "metadata": {},
   "outputs": [],
   "source": [
    "# このセルで動作確認をしよう\n",
    "action_list=[\"left\",\"up\",\"right\",\"down\"]\n",
    "print(get_rand_action(10))"
   ]
  },
  {
   "cell_type": "code",
   "execution_count": null,
   "metadata": {
    "deletable": false,
    "editable": false,
    "nbgrader": {
     "cell_type": "code",
     "checksum": "450f8f53ed5e901f2c6ff7f637fb10f0",
     "grade": true,
     "grade_id": "cell-67ba45c1b50e71fe",
     "locked": true,
     "points": 1,
     "schema_version": 3,
     "solution": false,
     "task": false
    }
   },
   "outputs": [],
   "source": [
    "# 評価用セル"
   ]
  },
  {
   "cell_type": "markdown",
   "metadata": {
    "slideshow": {
     "slide_type": "slide"
    }
   },
   "source": [
    "### 条件付きリスト内包表記, p.175\n",
    "\n",
    "目的: `for`文で生成される値のうち，**条件を満たす要素のみ**をリスト化する方法\n",
    "\n",
    "書式: **[ 式 for 変数 in イテラブル if 条件式 ]**\n",
    "\n",
    "例1) 30回乱数を生成する\n",
    "```python\n",
    "import random as ra\n",
    "rnd=[ ra.random() for i in range(30) ]\n",
    "```\n",
    "例2) リスト`rnd`に含まれる0.1未満の数のみを抜き出す\n",
    "```python\n",
    "low01=[ i for i in rnd if i<0.1 ]\n",
    "```\n",
    "例3) 同上\n",
    "```python\n",
    "low01_2=[ x for i,x in enumerate(rnd) if x<0.1 ] # 同上\n",
    "```"
   ]
  },
  {
   "cell_type": "markdown",
   "metadata": {
    "slideshow": {
     "slide_type": "slide"
    }
   },
   "source": [
    "Q. 条件付きリスト内包表記を用いて，リスト`L`の要素のうち，指定した値`value`をとる要素のインデックスをリスト化して返す関数`index_list()`を定義しなさい。\n",
    "\n",
    "引数\n",
    "- `L`: リスト\n",
    "- `value`: 値\n",
    "\n",
    "返り値\n",
    "- 引数のリスト`L`の要素のうち，値が`value`である要素のインデックスをリスト化して返す。\n",
    "\n",
    "注意\n",
    "- 処理には**関数`enumerate()`を利用すること**\n",
    "\n",
    "**実行例1**)\n",
    "```python\n",
    "fruits = [\"banana\",\"kiwi\",\"banana\",\"apple\"]\n",
    "myans=index_list(fruits,\"banana\")\n",
    "print(myans)\n",
    "```\n",
    "出力結果\n",
    "```\n",
    "[0, 2]\n",
    "```\n",
    "\n",
    "**実行例2**)\n",
    "```python\n",
    "Qlist = [2,4,1,4,3,2,4,1,4,3,4,1]\n",
    "myans=index_list(L=Qlist,value=4)\n",
    "print(myans)\n",
    "```\n",
    "出力結果\n",
    "```python\n",
    "[1, 3, 6, 8, 10]\n",
    "```\n",
    "\n"
   ]
  },
  {
   "cell_type": "code",
   "execution_count": null,
   "metadata": {
    "deletable": false,
    "nbgrader": {
     "cell_type": "code",
     "checksum": "d2b1829a323a1c216bb2d709d2e05dbd",
     "grade": false,
     "grade_id": "cell-3d22e74a12086122",
     "locked": false,
     "schema_version": 3,
     "solution": true,
     "task": false
    },
    "slideshow": {
     "slide_type": "fragment"
    }
   },
   "outputs": [],
   "source": [
    "# YOUR CODE HERE\n",
    "def index_list(L, value):\n",
    "    return [i for i in range(len(L)) if L[i]==value]"
   ]
  },
  {
   "cell_type": "code",
   "execution_count": null,
   "metadata": {},
   "outputs": [],
   "source": [
    "# このセルで動作確認をしよう\n",
    "Qlist=[2,4,1,4,3,2,4,1,4,3,4,1]\n",
    "print(index_list(Qlist, 4))"
   ]
  },
  {
   "cell_type": "code",
   "execution_count": null,
   "metadata": {
    "deletable": false,
    "editable": false,
    "nbgrader": {
     "cell_type": "code",
     "checksum": "ea641e3231b938d467648d4f4d92ba8c",
     "grade": true,
     "grade_id": "cell-7f86569198c1c647",
     "locked": true,
     "points": 2,
     "schema_version": 3,
     "solution": false,
     "task": false
    },
    "scrolled": true
   },
   "outputs": [],
   "source": [
    "# 評価用セル\n",
    "fruits = [\"banana\",\"kiwi\",\"banana\",\"apple\"]\n",
    "eq_(index_list(fruits,\"banana\"),[0, 2])\n",
    "eq_(index_list(L=fruits,value=\"apple\"),[3])\n",
    "Qlist=[2,4,1,4,3,2,4,1,4,3,4,1]\n",
    "eq_(index_list(Qlist,0),[])\n",
    "eq_(index_list(Qlist,1),[2, 7, 11])\n",
    "eq_(index_list(Qlist,4),[1,3,6,8,10])\n",
    "\n",
    "from unittest.mock import patch\n",
    "with patch('__main__.enumerate') as mock_enumerate:\n",
    "    index_list(Qlist,4)\n",
    "mock_enumerate.assert_called_once_with(Qlist)\n",
    "print(\"ok\")"
   ]
  },
  {
   "cell_type": "markdown",
   "metadata": {
    "slideshow": {
     "slide_type": "slide"
    }
   },
   "source": [
    "## 2次元配列\n",
    "\n",
    "2次元配列の定義の例\n",
    "```python\n",
    "L=[[0, 0, 0], [0, 0, 0], [0, 0, 0], [0, 0, 0]]\n",
    "```"
   ]
  },
  {
   "cell_type": "markdown",
   "metadata": {
    "slideshow": {
     "slide_type": "-"
    }
   },
   "source": [
    "Q. 以下を実行すると，どちらも各要素の値を0とする2次元リストができるが，どちらか一方，もしくはいずれの方法も使わないほうが良い。例えば，`L[2][1]=1`を実行することにより，不適切なものがいずれか，(もしくは両方か)を考えなさい。\n",
    "\n",
    "方法1: \n",
    "```python\n",
    "L= [[0]*3]*4    #リスト[0,0,0]を生成し，そのidを4回参照して2次元リストにする\n",
    "```\n",
    "方法2:\n",
    "```python\n",
    "L2= [[0 for i in range(3)] for j in range(4)]  # j が更新されるたびに，内側の[]内を実行\n",
    "```\n",
    "\n",
    "解答の方法: いずれか正しいと思うものを選んで，解答欄に書きなさい。\n",
    "```python\n",
    "ans=0 # いずれも不適切\n",
    "ans=1 # 方法1のみが不適切\n",
    "ans=2 # 方法2のみが不適切\n",
    "```"
   ]
  },
  {
   "cell_type": "code",
   "execution_count": null,
   "metadata": {
    "deletable": false,
    "nbgrader": {
     "cell_type": "code",
     "checksum": "290491f9277acb0087ed88ddd55d2aaa",
     "grade": false,
     "grade_id": "cell-f4d877e72904134e",
     "locked": false,
     "schema_version": 3,
     "solution": true,
     "task": false
    }
   },
   "outputs": [],
   "source": [
    "# このセルで試してみよう\n",
    "# YOUR CODE HERE\n",
    "ans=1"
   ]
  },
  {
   "cell_type": "code",
   "execution_count": null,
   "metadata": {
    "deletable": false,
    "editable": false,
    "nbgrader": {
     "cell_type": "code",
     "checksum": "eaa49abd48d4ffbd95feb626bf642bf6",
     "grade": true,
     "grade_id": "cell-d9bc8a8c1314242a",
     "locked": true,
     "points": 1,
     "schema_version": 3,
     "solution": false,
     "task": false
    }
   },
   "outputs": [],
   "source": [
    "# 評価用セル"
   ]
  },
  {
   "cell_type": "code",
   "execution_count": null,
   "metadata": {},
   "outputs": [],
   "source": []
  }
 ],
 "metadata": {
  "kernelspec": {
   "display_name": "Python 3",
   "language": "python",
   "name": "python3"
  },
  "language_info": {
   "codemirror_mode": {
    "name": "ipython",
    "version": 3
   },
   "file_extension": ".py",
   "mimetype": "text/x-python",
   "name": "python",
   "nbconvert_exporter": "python",
   "pygments_lexer": "ipython3",
   "version": "3.6.9"
  },
  "nbTranslate": {
   "displayLangs": [
    "*"
   ],
   "hotkey": "alt-t",
   "langInMainMenu": true,
   "sourceLang": "en",
   "targetLang": "fr",
   "useGoogleTranslate": true
  },
  "rise": {
   "scroll": true
  },
  "toc": {
   "base_numbering": 1,
   "nav_menu": {},
   "number_sections": true,
   "sideBar": true,
   "skip_h1_title": false,
   "title_cell": "Table of Contents",
   "title_sidebar": "Contents",
   "toc_cell": false,
   "toc_position": {},
   "toc_section_display": true,
   "toc_window_display": false
  }
 },
 "nbformat": 4,
 "nbformat_minor": 2
}
