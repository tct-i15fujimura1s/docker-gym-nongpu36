{
 "cells": [
  {
   "cell_type": "markdown",
   "metadata": {},
   "source": [
    "<div class=\"alert alert-danger\">\n",
    "\n",
    "# 名前欄\n",
    "\n",
    "</div>\n",
    "\n",
    "以下に名前と学籍番号(STUDENT_ID)の入力をして下さい。\n",
    "\n",
    "例)\n",
    "```python\n",
    "FAMILY_NAME = \"Yamaguchi\"# 姓をローマ字で入力\n",
    "FIRST_NAME = \"Daisuki\"   #  名をローマ字で入力\n",
    "USER = \"a11yamaguchi\"    # 公式メールアドレスのユーザ名\n",
    "STUDENT_ID = \"20-2202-000-0\" # 学籍番号\n",
    "```"
   ]
  },
  {
   "cell_type": "code",
   "execution_count": null,
   "metadata": {},
   "outputs": [],
   "source": [
    "FAMILY_NAME = \"Fujimura\"  # 姓をローマ字で入力\n",
    "FIRST_NAME = \"Soshi\"  #  名をローマ字で入力\n",
    "USER = \"i15fujimura1s\"  # 公式メールアドレスのユーザ名\n",
    "STUDENT_ID = \"15232\"  # 12-2202-000-0 等と省略なしで入力"
   ]
  },
  {
   "cell_type": "markdown",
   "metadata": {},
   "source": [
    "<div class=\"alert alert-danger\">\n",
    "\n",
    "# 提出方法(高専の皆さんへ)\n",
    "\n",
    "</div>\n",
    "\n",
    "以下のように**ディレクトリ(フォルダ)名を変更して提出**しましょう。\n",
    "```python\n",
    "元のディレクトリ名-学籍番号-名字(ローマ字)\n",
    "```\n",
    "例えば，元のディレクトリ名が`01-basic/`, 学籍番号が`12345`,名字が`Yamaguchi`の場合は以下になります。\n",
    "```python\n",
    "01-basic-12345-Yamaguchi/\n",
    "```"
   ]
  },
  {
   "cell_type": "markdown",
   "metadata": {},
   "source": [
    "<div class=\"alert alert-danger\">\n",
    "\n",
    "# 注意\n",
    "\n",
    "</div>\n",
    "\n",
    "\n",
    "- 以下の説明文を読み， 内容を納得できるように自分で試しなさい。\n",
    "- **「# このセルで試してみよう」**, **「# このセルで動作確認をしよう」**と書かれているセルは自由に使って構いません。\n",
    "- 必要に応じてセルを増やしても構いません。役立ちそうな情報もメモしておくと，今後プログラムを組む上で便利です。\n",
    "- 表題等には適宜教科書のページを書いてあります。詳しい説明は教科書を参照しなさい。\n",
    "\n",
    "<div class=\"alert alert-danger\">\n",
    "\n",
    "## 設問と解答用セル\n",
    "    \n",
    "</div>   \n",
    "\n",
    "\"**Q.**\" から始まる設問に対する解答は必ず入力しなさい。解答用セルには以下のように表示される。\n",
    "\n",
    "```python\n",
    "# YOUR CODE HERE\n",
    "raise NotImplementedError()\n",
    "```\n",
    "\n",
    "**注意**\n",
    "\n",
    "- <span class=\"mark\">raise NotImplementedError()の一行は**必ず消去**して</span>，<span class=\"mark\"># YOUR CODE HERE の下に解答</span>を書くこと。\n",
    "- <span class=\"mark\">\\# YOUR CODE HERE の一行は**消さない**</span>こと。どこに解答を書くべきかがわからなくなることがあります。\n",
    "- なんらかの演算をしたり，命令文を作ったときは，その**結果が予想通りか否かを必ず確認しなさい**\n",
    "\n",
    "<div class=\"alert alert-danger\">\n",
    "\n",
    "## 評価用セル\n",
    "    \n",
    "</div>\n",
    "\n",
    "- **「評価用セル」と書かれているセルは採点のためのセル**です。\n",
    "- **評価用コードが一部表示されている場合，それを実行すると課題の実行結果の確認**をできます。\n",
    "- **表示されていない評価用コードも**あります。\n",
    "\n",
    "<div class=\"alert alert-danger\">\n",
    "\n",
    "## 課題提出前の注意\n",
    "    \n",
    "</div>   \n",
    "\n",
    "**[重要]** 以下の手順で，全ての課題が正常に動作するか確認してから提出しましょう。\n",
    "\n",
    "1.  メニューバーの\"Kernel\"をクリック後，\"Restart\"を選択\n",
    "2. メニューバーの\"Cell\"を，\"Run All\"を選択"
   ]
  },
  {
   "cell_type": "code",
   "execution_count": null,
   "metadata": {
    "deletable": false,
    "editable": false,
    "nbgrader": {
     "cell_type": "code",
     "checksum": "08b24e4ae25f2cdb6e52f0e51d89a9b6",
     "grade": false,
     "grade_id": "cell-56865f76ce50cfeb",
     "locked": true,
     "schema_version": 3,
     "solution": false,
     "task": false
    }
   },
   "outputs": [],
   "source": [
    "# このセルは自動評価を行うための命令です。内容は無視して，実行(Shift-Enter)のみをしてください。\n",
    "#%%writefile unittests.py\n",
    "#%load unittests.py\n",
    "%run unittests.py"
   ]
  },
  {
   "cell_type": "markdown",
   "metadata": {
    "slideshow": {
     "slide_type": "slide"
    }
   },
   "source": [
    "<div class=\"alert alert-success\">\n",
    "\n",
    "# ユーザ定義関数(function), p.232\n",
    "    \n",
    "</div>"
   ]
  },
  {
   "cell_type": "markdown",
   "metadata": {
    "slideshow": {
     "slide_type": "slide"
    }
   },
   "source": [
    "## 関数の定義\n",
    "\n",
    "```python\n",
    "def function_name(args):\n",
    "    命令文\n",
    "    return(..)\n",
    "```\n",
    "以下は簡単な関数例"
   ]
  },
  {
   "cell_type": "code",
   "execution_count": 1,
   "metadata": {},
   "outputs": [],
   "source": [
    "def print_name(family,first): # family: 姓,  first: 名\n",
    "    print(\"My name is %s %s.\" % (first, family))"
   ]
  },
  {
   "cell_type": "markdown",
   "metadata": {},
   "source": [
    "C言語と同様に引数を設定して呼び出せば実行できる。"
   ]
  },
  {
   "cell_type": "code",
   "execution_count": 2,
   "metadata": {},
   "outputs": [
    {
     "name": "stdout",
     "output_type": "stream",
     "text": [
      "My name is Daisuki Yamaguchi.\n"
     ]
    }
   ],
   "source": [
    "print_name(\"Yamaguchi\",\"Daisuki\")"
   ]
  },
  {
   "cell_type": "markdown",
   "metadata": {},
   "source": [
    "引数名をつけて，引数の値を指定することもできる。"
   ]
  },
  {
   "cell_type": "code",
   "execution_count": 3,
   "metadata": {},
   "outputs": [
    {
     "name": "stdout",
     "output_type": "stream",
     "text": [
      "My name is Daisuki Yamaguchi.\n"
     ]
    }
   ],
   "source": [
    "print_name(family=\"Yamaguchi\",first=\"Daisuki\")"
   ]
  },
  {
   "cell_type": "markdown",
   "metadata": {},
   "source": [
    "引数名をつければ，引数の順番はランダムでも良い"
   ]
  },
  {
   "cell_type": "code",
   "execution_count": 4,
   "metadata": {},
   "outputs": [
    {
     "name": "stdout",
     "output_type": "stream",
     "text": [
      "My name is Daisuki Yamaguchi.\n"
     ]
    }
   ],
   "source": [
    "print_name(first=\"Daisuki\",family=\"Yamaguchi\")"
   ]
  },
  {
   "cell_type": "markdown",
   "metadata": {},
   "source": [
    "## 引数のデフォルト値, p.243\n",
    "\n",
    "引数にデフォルト値を設定することもできる。"
   ]
  },
  {
   "cell_type": "code",
   "execution_count": 5,
   "metadata": {},
   "outputs": [],
   "source": [
    "def print_name(family=\"Momo\",first=\"Taro\"): # family: 姓,  first: 名\n",
    "    print(\"My name is %s %s.\" % (first, family))"
   ]
  },
  {
   "cell_type": "markdown",
   "metadata": {},
   "source": [
    "デフォルト値の設定されている引数は，呼び出し時に省略可能。以下では`family`の方のみ省略している。"
   ]
  },
  {
   "cell_type": "code",
   "execution_count": 6,
   "metadata": {},
   "outputs": [
    {
     "name": "stdout",
     "output_type": "stream",
     "text": [
      "My name is Daisuki Momo.\n"
     ]
    }
   ],
   "source": [
    "print_name(first=\"Daisuki\")"
   ]
  },
  {
   "cell_type": "markdown",
   "metadata": {
    "slideshow": {
     "slide_type": "slide"
    }
   },
   "source": [
    "## if-elseを1行で書く p.110\n",
    "\n",
    "**1行if文の書式** : `返り値 if 条件式 else 返り値`\n",
    "\n",
    "例えば，絶対値を求める関数`absval`を`def`を使って書くと以下のようになる。\n",
    "```python\n",
    "def absval(x)\n",
    "    if x>0:\n",
    "        absval=x\n",
    "    else:\n",
    "        absval=-x\n",
    "    return(absval)\n",
    "```\n",
    "\n",
    "この関数を1行にまとめて書くと，以下のようにとても簡潔になる。"
   ]
  },
  {
   "cell_type": "code",
   "execution_count": 7,
   "metadata": {
    "slideshow": {
     "slide_type": "slide"
    }
   },
   "outputs": [],
   "source": [
    "def absval(x):\n",
    "    return(x if x>0 else -x)"
   ]
  },
  {
   "cell_type": "code",
   "execution_count": 8,
   "metadata": {},
   "outputs": [
    {
     "name": "stdout",
     "output_type": "stream",
     "text": [
      "1\n"
     ]
    }
   ],
   "source": [
    "# 実行例\n",
    "print(absval(-1))"
   ]
  },
  {
   "cell_type": "markdown",
   "metadata": {
    "slideshow": {
     "slide_type": "slide"
    }
   },
   "source": [
    "Q. 確率`epsilon`でTrueを返し，確率`1.0-epsilon`でFalseを返す関数`eps_random(epsilon=0.1)`を定義しなさい。\n",
    "\n",
    "```python\n",
    "import random as ra\n",
    "def eps_random(epsilon=0.1):\n",
    "    # ra.random()で乱数を発生し，epsilonよりも小さければTrueを，それ以外はFalseを返す処理を書く。\n",
    "```"
   ]
  },
  {
   "cell_type": "code",
   "execution_count": 9,
   "metadata": {
    "deletable": false,
    "nbgrader": {
     "cell_type": "code",
     "checksum": "12a469f8a18566a88d904806ef796175",
     "grade": false,
     "grade_id": "A-erandom",
     "locked": false,
     "schema_version": 3,
     "solution": true,
     "task": false
    },
    "slideshow": {
     "slide_type": "fragment"
    }
   },
   "outputs": [],
   "source": [
    "# このセルに関数の定義を入力する\n",
    "import random as ra\n",
    "# YOUR CODE HERE\n",
    "def eps_random(epsilon=0.1):\n",
    "    return ra.random() < epsilon"
   ]
  },
  {
   "cell_type": "code",
   "execution_count": 10,
   "metadata": {},
   "outputs": [
    {
     "data": {
      "text/plain": [
       "False"
      ]
     },
     "execution_count": 10,
     "metadata": {},
     "output_type": "execute_result"
    }
   ],
   "source": [
    "# このセルで動作確認をしよう\n",
    "eps_random()"
   ]
  },
  {
   "cell_type": "code",
   "execution_count": 11,
   "metadata": {
    "deletable": false,
    "editable": false,
    "nbgrader": {
     "cell_type": "code",
     "checksum": "260b2b7fa1c8ee026f140f2ac1510479",
     "grade": true,
     "grade_id": "E-erandom",
     "locked": true,
     "points": 1,
     "schema_version": 3,
     "solution": false,
     "task": false
    }
   },
   "outputs": [],
   "source": [
    "# 評価用セル"
   ]
  },
  {
   "cell_type": "markdown",
   "metadata": {
    "slideshow": {
     "slide_type": "slide"
    }
   },
   "source": [
    "## 複数の返り値をもつ関数\n",
    "\n",
    "Pythonの関数では，返り値を複数指定できる。"
   ]
  },
  {
   "cell_type": "code",
   "execution_count": 12,
   "metadata": {
    "slideshow": {
     "slide_type": "slide"
    }
   },
   "outputs": [],
   "source": [
    "def interval(mean,sd): # 平均mean, 標準偏差sdから，サンプルの約68%が含まれる区間を出力\n",
    "    return mean-sd, mean+sd"
   ]
  },
  {
   "cell_type": "markdown",
   "metadata": {
    "slideshow": {
     "slide_type": "slide"
    }
   },
   "source": [
    "複数の返り値を，それぞれ別の変数で受け取ることができる。"
   ]
  },
  {
   "cell_type": "code",
   "execution_count": 13,
   "metadata": {
    "slideshow": {
     "slide_type": "slide"
    }
   },
   "outputs": [
    {
     "name": "stdout",
     "output_type": "stream",
     "text": [
      "60 80\n"
     ]
    }
   ],
   "source": [
    "low,high=interval(70,10)\n",
    "print(low,high)"
   ]
  },
  {
   "cell_type": "markdown",
   "metadata": {
    "slideshow": {
     "slide_type": "slide"
    }
   },
   "source": [
    "複数の返り値を，一つの変数でまとめて受け取ることもできる。"
   ]
  },
  {
   "cell_type": "code",
   "execution_count": 14,
   "metadata": {
    "slideshow": {
     "slide_type": "slide"
    }
   },
   "outputs": [
    {
     "name": "stdout",
     "output_type": "stream",
     "text": [
      "60 80\n",
      "<class 'tuple'>\n"
     ]
    }
   ],
   "source": [
    "ret=interval(70,10)\n",
    "print(ret[0], ret[1])\n",
    "print(type(ret))      # 返り値はタプル(要素の書き換えを出来ないリスト。タプルについては後述)\n",
    "# ret[0]=3            # 返り値の要素を変更するとエラーが出る。(タプルの要素は書き換え不可。後述)"
   ]
  },
  {
   "cell_type": "markdown",
   "metadata": {
    "slideshow": {
     "slide_type": "slide"
    }
   },
   "source": [
    "## immutable と mutable\n",
    "\n",
    "関数の引数(仮引数)の値を関数内で変更した場合，引数が**Immutable(変更不可)**な型ならば呼び出した側の引数(実引数)は変化しない(値渡し)。**Mutable(変更可能)**ならば，実引数も変化する(参照渡し)。\n",
    "\n",
    "- **immutable**: int, float, str, tuple 等\n",
    "- **mutable**: list, dict, set 等(これらについては後述)\n",
    "   \n",
    "immutableな引数については， 返り値を使って書き換えようにする。"
   ]
  },
  {
   "cell_type": "markdown",
   "metadata": {
    "slideshow": {
     "slide_type": "-"
    }
   },
   "source": [
    "Q. 下記のプログラムの実行後，変数stateの値は変化しているだろうか。言い換えると，関数`new_state()`に渡した引数`s`はimmutableだろうか，それともmutableだろうか? 解答欄には以下のように記載しなさい。\n",
    "\n",
    "```python\n",
    "def new_state(s,a):\n",
    "    if a == \"left\":\n",
    "        s-=1\n",
    "    else:\n",
    "        s+=1\n",
    "    return(s)\n",
    "\n",
    "state=5\n",
    "new_state(state,\"right\")\n",
    "```\n",
    "解答例(以下のいずれかを解答する)\n",
    "```python\n",
    "answer=\"I\"  # immutableの場合\n",
    "answer=\"M\"  # mutableの場合\n",
    "```"
   ]
  },
  {
   "cell_type": "code",
   "execution_count": 16,
   "metadata": {},
   "outputs": [
    {
     "name": "stdout",
     "output_type": "stream",
     "text": [
      "5\n"
     ]
    }
   ],
   "source": [
    "# このセルで試してみよう\n",
    "def new_state(s,a):\n",
    "    if a == \"left\":\n",
    "        s-=1\n",
    "    else:\n",
    "        s+=1\n",
    "    return(s)\n",
    "\n",
    "state=5\n",
    "new_state(state,\"right\")\n",
    "print(state)"
   ]
  },
  {
   "cell_type": "code",
   "execution_count": null,
   "metadata": {
    "deletable": false,
    "nbgrader": {
     "cell_type": "code",
     "checksum": "e2c3491b570e7ea2bad3438c66910f22",
     "grade": false,
     "grade_id": "cell-8eaff5a058528024",
     "locked": false,
     "schema_version": 3,
     "solution": true,
     "task": false
    },
    "slideshow": {
     "slide_type": "fragment"
    }
   },
   "outputs": [],
   "source": [
    "# YOUR CODE HERE\n",
    "answer=\"I\""
   ]
  },
  {
   "cell_type": "code",
   "execution_count": null,
   "metadata": {
    "deletable": false,
    "editable": false,
    "nbgrader": {
     "cell_type": "code",
     "checksum": "5794d4823717a7b8bfb281ed76540007",
     "grade": true,
     "grade_id": "cell-883b2564dfa2bc75",
     "locked": true,
     "points": 1,
     "schema_version": 3,
     "solution": false,
     "task": false
    }
   },
   "outputs": [],
   "source": [
    "# 評価用セル"
   ]
  },
  {
   "cell_type": "markdown",
   "metadata": {
    "slideshow": {
     "slide_type": "slide"
    }
   },
   "source": [
    "<div class=\"alert alert-success\">\n",
    "\n",
    "# よくあるトラブル\n",
    "\n",
    "</div>\n",
    "\n",
    "標準関数名と同じ名前の関数や変数を作ってしまうと，標準関数にアクセスできなくなるので要注意。\n",
    "\n",
    "関数名の頭に?をつけて，例えば\n",
    "```python\n",
    "?sum\n",
    "```\n",
    "として実行すると，指定した関数の使い方が表示される。動作が怪しいときには，これを使って参照されている関数の確認できる。\n",
    "\n",
    "定義した変数や関数を消去したいときには`del()`を使う"
   ]
  },
  {
   "cell_type": "markdown",
   "metadata": {},
   "source": [
    "Q(1) Pythonの標準関数に最大値を返す関数`max()`がある。\n",
    "1. `max(3,5)`の返り値が5であることを，次のセルで実行して確認しなさい。"
   ]
  },
  {
   "cell_type": "code",
   "execution_count": null,
   "metadata": {},
   "outputs": [],
   "source": []
  },
  {
   "cell_type": "markdown",
   "metadata": {},
   "source": [
    "Q(2) `max=3`を実行した後に `max(3,5)`を実行するとどのようなエラーがでるか，次セルで実行して確認しなさい。\n",
    "```python\n",
    "max=3\n",
    "print(max(3,5))\n",
    "```"
   ]
  },
  {
   "cell_type": "code",
   "execution_count": null,
   "metadata": {
    "deletable": false,
    "nbgrader": {
     "cell_type": "code",
     "checksum": "9a83979cab535f2d19953c155d13f94e",
     "grade": false,
     "grade_id": "cell-eae1aa59539e2a56",
     "locked": false,
     "schema_version": 3,
     "solution": true,
     "task": false
    }
   },
   "outputs": [],
   "source": [
    "# YOUR CODE HERE\n",
    "raise NotImplementedError()"
   ]
  },
  {
   "cell_type": "markdown",
   "metadata": {},
   "source": [
    "Q(3) 前のセルの'max=3'の次の行に，変数`max`を削除して標準関数`max()`を再び使えるようにする命令を追加しなさい。その結果，エラーが出なくなることを確認しなさい。\n",
    "```python\n",
    "max=3\n",
    "ここに何か命令文を入れる\n",
    "print(max(3,5)) # エラーが出なくなることを確認する\n",
    "```"
   ]
  },
  {
   "cell_type": "markdown",
   "metadata": {
    "slideshow": {
     "slide_type": "slide"
    }
   },
   "source": [
    "<div class=\"alert alert-success\">\n",
    "\n",
    "# 練習問題\n",
    "\n",
    "</div>\n",
    "\n",
    "一列に並んだ`N`個の部屋`(s=1,2...,N)`があり，その中にねずみ(エージェント)がいる。\n",
    "- いずれかの部屋の中にいるエージェントは行動`a`として\"left\"か\"right\"を選ぶことができ，それぞれ1だけ部屋番号が小さい，もしくは大きいほうの隣の部屋に移動する。\n",
    "- 部屋`1`で\"left\"，もしくは部屋`N`で\"right\"を選択すると，エージェントは部屋の外に出てエピソード終了となる。\n",
    "- 部屋`N`で行動\"right\"を選択したときのみ，エージェントは報酬(reward)として10を得ることができる。それ以外の場合は報酬rewardは0である。\n",
    "\n",
    "このような環境について，以下の一連の関数を作りなさい。"
   ]
  },
  {
   "cell_type": "markdown",
   "metadata": {},
   "source": [
    "Q1) 上述の環境における状態遷移を表現する，以下のような関数`step(s,a)`を作りなさい。\n",
    "\n",
    "- 概要\n",
    "    - 引数として受け取った現在の状態`s`と選択した行動`a`により状態遷移をした後の新しい状態`s`および，状態遷移によって獲得する報酬を返す。\n",
    "- 引数\n",
    "    - `s`: 現在の状態(部屋番号)\n",
    "    - `a`: 選択した行動\n",
    "- 返り値\n",
    "    - `s`: 新しい状態。ただし，エピソード終了時の状態値は，部屋`1`から左に出た場合は`0`，部屋`N`から右に出た場合は`N+1`とする。\n",
    "    - `r`: 報酬\n",
    "    - `terminal`: エピソード終了フラグ。エピソード終了時には`True`, それ以外には`False`"
   ]
  },
  {
   "cell_type": "code",
   "execution_count": null,
   "metadata": {
    "deletable": false,
    "nbgrader": {
     "cell_type": "code",
     "checksum": "4ad245e4f907f398ad64682a4b32f1ab",
     "grade": false,
     "grade_id": "cell-ff9f3173d298c68c",
     "locked": false,
     "schema_version": 3,
     "solution": true,
     "task": false
    },
    "slideshow": {
     "slide_type": "fragment"
    }
   },
   "outputs": [],
   "source": [
    "N=5 # Nが他の値でも正常動作するようにすること\n",
    "def step(s, a):\n",
    "    # YOUR CODE HERE\n",
    "    raise NotImplementedError()\n",
    "    return s, r, terminal"
   ]
  },
  {
   "cell_type": "code",
   "execution_count": null,
   "metadata": {},
   "outputs": [],
   "source": [
    "# このセルで動作確認をしよう(Nが5以外でも動作すること)"
   ]
  },
  {
   "cell_type": "code",
   "execution_count": null,
   "metadata": {
    "deletable": false,
    "editable": false,
    "nbgrader": {
     "cell_type": "code",
     "checksum": "56261fd09834b815b1d5d79094f20b1b",
     "grade": true,
     "grade_id": "cell-2b2c4ebd1626cf58",
     "locked": true,
     "points": 2,
     "schema_version": 3,
     "solution": false,
     "task": false
    }
   },
   "outputs": [],
   "source": [
    "# 評価用セル\n",
    "N=20\n",
    "s, r, terminal=step(5,\"right\")\n",
    "assert_equal(s,6)\n",
    "assert_equal(r,0)\n",
    "assert_equal(terminal,False)\n",
    "s, r, terminal=step(20,\"right\")\n",
    "assert_equal(s,21)\n",
    "assert_equal(r,10)\n",
    "assert_equal(terminal,True)"
   ]
  },
  {
   "cell_type": "code",
   "execution_count": null,
   "metadata": {
    "deletable": false,
    "editable": false,
    "nbgrader": {
     "cell_type": "code",
     "checksum": "2e4084453519c462e3c83eb9af9b1353",
     "grade": true,
     "grade_id": "cell-80314bf21a4f7342",
     "locked": true,
     "points": 2,
     "schema_version": 3,
     "solution": false,
     "task": false
    }
   },
   "outputs": [],
   "source": [
    "# 評価用セルその2"
   ]
  },
  {
   "cell_type": "markdown",
   "metadata": {
    "slideshow": {
     "slide_type": "slide"
    }
   },
   "source": [
    "Q2) エージェントがどの部屋にいるかを以下のように表示する関数`render()`を作りなさい。\n",
    "\n",
    "- 引数\n",
    "    - s: エージェントの状態(部屋番号)\n",
    "    - r: 報酬(デフォルト値0)\n",
    "- 返り値\n",
    "    - なし\n",
    "- 実行内容\n",
    "    - 以下のように，部屋番号と，引数で与えられたエージェントの位置(@マークで表す)を表示\n",
    "    - 右外には，引数で与えられた報酬値rを表示\n",
    "\n",
    "**実行例**) N=5の場合\n",
    "```python\n",
    "N=5\n",
    "render(2) # state=2の場合\n",
    "render(s=6,r=10) # state=6 (エピソード終了時)\n",
    "```\n",
    "表示結果\n",
    "```python\n",
    "  |1|@|3|4|5| r=0\n",
    "  |1|2|3|4|5|@ r=10\n",
    "```\n",
    "\n",
    "**実行例2**) N=3の場合\n",
    "```python\n",
    "N=3\n",
    "render(s=4,r=10) #  state=4 (エピソード終了時)\n",
    "render(0) # state=0 (エピソード終了時)\n",
    "```\n",
    "表示結果\n",
    "```python\n",
    "  |1|2|3|@ r=10\n",
    " @|1|2|3| r=0\n",
    "```"
   ]
  },
  {
   "cell_type": "code",
   "execution_count": null,
   "metadata": {
    "deletable": false,
    "nbgrader": {
     "cell_type": "code",
     "checksum": "dbfc8a0567a7e97174d9a11247781c7d",
     "grade": false,
     "grade_id": "cell-81f39747feef58b1",
     "locked": false,
     "schema_version": 3,
     "solution": true,
     "task": false
    },
    "slideshow": {
     "slide_type": "fragment"
    }
   },
   "outputs": [],
   "source": [
    "# このセルに関数の定義を入力する\n",
    "# YOUR CODE HERE\n",
    "raise NotImplementedError()"
   ]
  },
  {
   "cell_type": "code",
   "execution_count": null,
   "metadata": {},
   "outputs": [],
   "source": [
    "# このセルで動作確認をしよう"
   ]
  },
  {
   "cell_type": "code",
   "execution_count": null,
   "metadata": {
    "deletable": false,
    "editable": false,
    "nbgrader": {
     "cell_type": "code",
     "checksum": "a72ea0947eec1af519e2c9208081739d",
     "grade": true,
     "grade_id": "cell-2af6ef6de76b4c00",
     "locked": true,
     "points": 2,
     "schema_version": 3,
     "solution": false,
     "task": false
    }
   },
   "outputs": [],
   "source": [
    "# 評価用セル\n",
    "N=5\n",
    "with capture_stdout() as capture:\n",
    "        render(2)\n",
    "res=capture.result\n",
    "assert res.replace(\" \",\"\").strip() ==\"|1|@|3|4|5|r=0\"\n",
    "with capture_stdout() as capture:\n",
    "        render(6,10)\n",
    "res=capture.result\n",
    "assert res.replace(\" \",\"\").strip() ==\"|1|2|3|4|5|@r=10\""
   ]
  },
  {
   "cell_type": "code",
   "execution_count": null,
   "metadata": {
    "deletable": false,
    "editable": false,
    "nbgrader": {
     "cell_type": "code",
     "checksum": "ff98b66f4461d84a657987cf0c6c9152",
     "grade": true,
     "grade_id": "cell-61004cccd78c2337",
     "locked": true,
     "points": 2,
     "schema_version": 3,
     "solution": false,
     "task": false
    }
   },
   "outputs": [],
   "source": [
    "# 評価用セルその2"
   ]
  },
  {
   "cell_type": "markdown",
   "metadata": {
    "slideshow": {
     "slide_type": "slide"
    }
   },
   "source": [
    "Q3) Q1, Q2でつくった関数`step()`, `render()`のデバッグのため，以下のような関数`trial(a)`を作りなさい。\n",
    "\n",
    "- 概要\n",
    "    - 関数`step()`呼び出しながら，エピソード終了までの状態遷移の様子を`render()`を用いて表示する。エージェントがとる行動は，常に引数`a`で指定したものとする。\n",
    "- 引数\n",
    "    - `a`: エージェントがとる行動`a`。**デフォルト値は\"right\"**\n",
    "- 処理内容\n",
    "    - 引数`a=\"right\"`の場合は状態`state=1`からエピソードを開始し，\n",
    "    ，`a=\"left\"`の場合は状態`state=N`からエピソードを開始する。\n",
    "    - 状態遷移には，Q1で作った関数`step()`を用いて新しい状態や報酬等の情報を受けとり，各ステップにおけるエージェントの位置をQ2で作った`render(s,r)`を用いて表示する。\n",
    "    - エージェントのとる行動は，常に引数`a`で受け取った行動とする。\n",
    "    - 関数の終了は，エピソード終了時。\n",
    "- 返り値\n",
    "    - なし\n",
    "\n",
    "**実行例**)\n",
    "```python\n",
    "N=5\n",
    "trial()\n",
    "```\n",
    "表示結果\n",
    "```python\n",
    "  |@|2|3|4|5| r= 0\n",
    "  |1|@|3|4|5| r= 0\n",
    "  |1|2|@|4|5| r= 0\n",
    "  |1|2|3|@|5| r= 0\n",
    "  |1|2|3|4|@| r= 0\n",
    "  |1|2|3|4|5|@ r= 10\n",
    "```\n",
    "\n",
    "実行例2)\n",
    "```python\n",
    "N=5\n",
    "trial(\"left\")\n",
    "```\n",
    "表示結果\n",
    "```python\n",
    "  |1|2|3|4|@| r= 0\n",
    "  |1|2|3|@|5| r= 0\n",
    "  |1|2|@|4|5| r= 0\n",
    "  |1|@|3|4|5| r= 0\n",
    "  |@|2|3|4|5| r= 0\n",
    " @|1|2|3|4|5| r= 0\n",
    "```"
   ]
  },
  {
   "cell_type": "code",
   "execution_count": null,
   "metadata": {
    "deletable": false,
    "nbgrader": {
     "cell_type": "code",
     "checksum": "62d357ec56925ce76b2056c8ed7aaa9b",
     "grade": false,
     "grade_id": "cell-97a7e577edb518a5",
     "locked": false,
     "schema_version": 3,
     "solution": true,
     "task": false
    },
    "slideshow": {
     "slide_type": "fragment"
    }
   },
   "outputs": [],
   "source": [
    "# このセルに関数の定義を入力する\n",
    "# YOUR CODE HERE\n",
    "raise NotImplementedError()"
   ]
  },
  {
   "cell_type": "code",
   "execution_count": null,
   "metadata": {},
   "outputs": [],
   "source": [
    "# このセルで動作確認をしよう"
   ]
  },
  {
   "cell_type": "code",
   "execution_count": null,
   "metadata": {
    "deletable": false,
    "editable": false,
    "nbgrader": {
     "cell_type": "code",
     "checksum": "829dbbbbce47354d6d0966a4838057be",
     "grade": true,
     "grade_id": "cell-f34f182ab59d4800",
     "locked": true,
     "points": 2,
     "schema_version": 3,
     "solution": false,
     "task": false
    }
   },
   "outputs": [],
   "source": [
    "# 評価用セル\n",
    "N=3\n",
    "\n",
    "with capture_stdout() as capture:\n",
    "        trial()\n",
    "res=capture.result\n",
    "assert res.replace(\" \",\"\").strip() ==\"|@|2|3|r=0\\n|1|@|3|r=0\\n|1|2|@|r=0\\n|1|2|3|@r=10\"\n",
    "\n",
    "with capture_stdout() as capture:\n",
    "        trial(\"right\")\n",
    "res=capture.result\n",
    "assert res.replace(\" \",\"\").strip() ==\"|@|2|3|r=0\\n|1|@|3|r=0\\n|1|2|@|r=0\\n|1|2|3|@r=10\"\n",
    "\n",
    "with capture_stdout() as capture:\n",
    "        trial(\"left\")\n",
    "res=capture.result\n",
    "assert res.replace(\" \",\"\").strip() ==\"|1|2|@|r=0\\n|1|@|3|r=0\\n|@|2|3|r=0\\n@|1|2|3|r=0\""
   ]
  },
  {
   "cell_type": "code",
   "execution_count": null,
   "metadata": {
    "deletable": false,
    "editable": false,
    "nbgrader": {
     "cell_type": "code",
     "checksum": "6811854aae36a55b5fc646eb5c352abc",
     "grade": true,
     "grade_id": "cell-9c1363e2e4ec0ca9",
     "locked": true,
     "points": 2,
     "schema_version": 3,
     "solution": false,
     "task": false
    }
   },
   "outputs": [],
   "source": [
    "# 評価用セルその2"
   ]
  }
 ],
 "metadata": {
  "kernelspec": {
   "display_name": "Python 3",
   "language": "python",
   "name": "python3"
  },
  "language_info": {
   "codemirror_mode": {
    "name": "ipython",
    "version": 3
   },
   "file_extension": ".py",
   "mimetype": "text/x-python",
   "name": "python",
   "nbconvert_exporter": "python",
   "pygments_lexer": "ipython3",
   "version": "3.6.9"
  },
  "nbTranslate": {
   "displayLangs": [
    "*"
   ],
   "hotkey": "alt-t",
   "langInMainMenu": true,
   "sourceLang": "en",
   "targetLang": "fr",
   "useGoogleTranslate": true
  },
  "rise": {
   "scroll": true
  },
  "toc": {
   "base_numbering": 1,
   "nav_menu": {},
   "number_sections": true,
   "sideBar": true,
   "skip_h1_title": false,
   "title_cell": "Table of Contents",
   "title_sidebar": "Contents",
   "toc_cell": false,
   "toc_position": {
    "height": "calc(100% - 180px)",
    "left": "10px",
    "top": "150px",
    "width": "187.438px"
   },
   "toc_section_display": true,
   "toc_window_display": true
  }
 },
 "nbformat": 4,
 "nbformat_minor": 2
}
