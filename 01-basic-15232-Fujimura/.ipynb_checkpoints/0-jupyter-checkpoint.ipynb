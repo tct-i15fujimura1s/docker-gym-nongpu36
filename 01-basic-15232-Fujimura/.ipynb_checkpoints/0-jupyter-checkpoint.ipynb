{
 "cells": [
  {
   "cell_type": "markdown",
   "metadata": {},
   "source": [
    "<div class=\"alert alert-danger\">\n",
    "\n",
    "# 名前欄\n",
    "\n",
    "</div>\n",
    "\n",
    "以下に名前と学籍番号(STUDENT_ID)の入力をして下さい。\n",
    "\n",
    "例)\n",
    "```python\n",
    "FAMILY_NAME = \"Yamaguchi\"# 姓をローマ字で入力\n",
    "FIRST_NAME = \"Daisuki\"   #  名をローマ字で入力\n",
    "USER = \"a11yamaguchi\"    # 公式メールアドレスのユーザ名\n",
    "STUDENT_ID = \"20-2202-000-0\" # 学籍番号\n",
    "```"
   ]
  },
  {
   "cell_type": "code",
   "execution_count": null,
   "metadata": {},
   "outputs": [],
   "source": [
    "FAMILY_NAME = \"Fujimura\"  # 姓をローマ字で入力\n",
    "FIRST_NAME = \"Soshi\"  #  名をローマ字で入力\n",
    "USER = \"i15fujimura1s\"  # 公式メールアドレスのユーザ名\n",
    "STUDENT_ID = \"15232\"  # 12-2202-000-0 等と省略なしで入力"
   ]
  },
  {
   "cell_type": "markdown",
   "metadata": {},
   "source": [
    "<div class=\"alert alert-danger\">\n",
    "\n",
    "# 提出方法(高専の皆さんへ)\n",
    "\n",
    "</div>\n",
    "\n",
    "以下のように**ディレクトリ(フォルダ)名を変更して提出**しましょう。\n",
    "```python\n",
    "元のディレクトリ名-学籍番号-名字(ローマ字)\n",
    "```\n",
    "例えば，元のディレクトリ名が`01-basic/`, 学籍番号が`12345`,名字が`Yamaguchi`の場合は以下になります。\n",
    "```python\n",
    "01-basic-12345-Yamaguchi/\n",
    "```"
   ]
  },
  {
   "cell_type": "markdown",
   "metadata": {},
   "source": [
    "<div class=\"alert alert-danger\">\n",
    "\n",
    "# 注意\n",
    "\n",
    "</div>\n",
    "\n",
    "\n",
    "- 以下の説明文を読み， 内容を納得できるように自分で試しなさい。\n",
    "- **「# このセルで試してみよう」**, **「# このセルで動作確認をしよう」**と書かれているセルは自由に使って構いません。\n",
    "- 必要に応じてセルを増やしても構いません。役立ちそうな情報もメモしておくと，今後プログラムを組む上で便利です。\n",
    "- 表題等には適宜教科書のページを書いてあります。詳しい説明は教科書を参照しなさい。\n",
    "\n",
    "<div class=\"alert alert-danger\">\n",
    "\n",
    "## 設問と解答用セル\n",
    "    \n",
    "</div>   \n",
    "\n",
    "\"**Q.**\" から始まる設問に対する解答は必ず入力しなさい。解答用セルには以下のように表示される。\n",
    "\n",
    "```python\n",
    "# YOUR CODE HERE\n",
    "raise NotImplementedError()\n",
    "```\n",
    "\n",
    "**注意**\n",
    "\n",
    "- <span class=\"mark\">raise NotImplementedError()の一行は**必ず消去**して</span>，<span class=\"mark\"># YOUR CODE HERE の下に解答</span>を書くこと。\n",
    "- <span class=\"mark\">\\# YOUR CODE HERE の一行は**消さない**</span>こと。どこに解答を書くべきかがわからなくなることがあります。\n",
    "- なんらかの演算をしたり，命令文を作ったときは，その**結果が予想通りか否かを必ず確認しなさい**\n",
    "\n",
    "<div class=\"alert alert-danger\">\n",
    "\n",
    "## 評価用セル\n",
    "    \n",
    "</div>\n",
    "\n",
    "- **「評価用セル」と書かれているセルは採点のためのセル**です。\n",
    "- **評価用コードが一部表示されている場合，それを実行すると課題の実行結果の確認**をできます。\n",
    "- **表示されていない評価用コードも**あります。\n",
    "\n",
    "<div class=\"alert alert-danger\">\n",
    "\n",
    "## 課題提出前の注意\n",
    "    \n",
    "</div>   \n",
    "\n",
    "**[重要]** 以下の手順で，全ての課題が正常に動作するか確認してから提出しましょう。\n",
    "\n",
    "1.  メニューバーの\"Kernel\"をクリック後，\"Restart\"を選択\n",
    "2. メニューバーの\"Cell\"を，\"Run All\"を選択"
   ]
  },
  {
   "cell_type": "markdown",
   "metadata": {
    "slideshow": {
     "slide_type": "slide"
    }
   },
   "source": [
    "<div class=\"alert alert-success\">\n",
    "    \n",
    "# Jupyter notebook の基本\n",
    "    \n",
    "</div>    \n",
    "    \n",
    "Jupyter notebook は PythonやRなどのプログラミング言語をインタラクティブに実行できる環境。\n",
    "\n",
    "## Jupyter の語源と読み方\n",
    "もともと，プログラミング言語 Julia と Python と R を実行できる環境だったため Jupyter と名付けられたらしい。\n",
    "ギリシャ神話の神様ユピテル(ジュピター)とかけてるのだと思いますが，こちらの綴は Jupiter と1文字違う。\n",
    "\n",
    "Jupyterのほうは，Python(パイソン)の読み方に合わせて国内では\"ジュパイター\"と読む人もいるが，開発者は\"ジュピター\"と呼んでいるようで，Youtubeにある英語でのjupyter関連の解説を聞いても大抵\"ジュピター\"に聞こえる。\n",
    "\n",
    "このjupyter notebookのシートは一連のセルでできてます。この文章が書かれているセルは\"Markdown\"セル。次のセルは\"Code\"セル。\n",
    "\n",
    "**練習**: このセルを1度だけクリックしてから，矢印キー(「↓」)を使って次のセルに移動してみなさい。"
   ]
  },
  {
   "cell_type": "code",
   "execution_count": 4,
   "metadata": {},
   "outputs": [],
   "source": [
    "# これはCodeセル(プログラムを入力するセル)"
   ]
  },
  {
   "cell_type": "markdown",
   "metadata": {},
   "source": [
    "選択中のセルの種類はメニューで確認できます。\n",
    "\n",
    "<img src=\"images/jupyter-header-celltype.png\" width=\"600\">"
   ]
  },
  {
   "cell_type": "markdown",
   "metadata": {},
   "source": [
    "## セルのモードと編集\n",
    "\n",
    "セルには**コマンドモード**と**編集モード**がある。通常時は**コマンドモード**。\n",
    "\n",
    "- **編集モード**への変更: セルをダブルクリックするか，選択後 Enter を押す\n",
    "- **コマンドモード**への変更: **ESC**を押す\n",
    "- **セルの内容の実行**: **shift-Enter** もしくは **ctrl-Enter**\n",
    "\n",
    "\n",
    "## セル間の移動\n",
    "\n",
    "-  **コマンドモード**の状態で，矢印キー(「↑」「↓」)により移動できる。\n",
    "\n",
    "実際に，矢印キーで移動してみなさい。"
   ]
  },
  {
   "cell_type": "markdown",
   "metadata": {},
   "source": [
    "## Markdownセル\n",
    "\n",
    "ここのセルはMarkdownセル。\n",
    "1. **選択後Enterを押して編集モードに**しなさい(緑枠になる)\n",
    "2. **ESCキーでコマンドモードに**戻りなさい(青枠になる)\n",
    "3. **shift-Enter** か **ctrl-Enter** キーを押すと，表示が変化することを確認しなさい。\n"
   ]
  },
  {
   "cell_type": "markdown",
   "metadata": {},
   "source": [
    "## Codeセルとセルの実行\n",
    "\n",
    "次のセルはCodeセル。 実行したいプログラムを入力し，その後**shift-Enter** か **ctrl-Enter** で内容の実行をできる。\n",
    "実際に次のセルを実行してみなさい。"
   ]
  },
  {
   "cell_type": "code",
   "execution_count": 1,
   "metadata": {},
   "outputs": [
    {
     "name": "stdout",
     "output_type": "stream",
     "text": [
      "Hello from Code cell!\n"
     ]
    }
   ],
   "source": [
    "print(\"Hello from Code cell!\")"
   ]
  },
  {
   "cell_type": "markdown",
   "metadata": {},
   "source": [
    "## セルの追加\n",
    "\n",
    "**セルの追加**は**ESC b**を押すか，上部メニューの「+」アイコンで。\n",
    "<img src=\"images/jupyter-header-plus.png\" width=\"600\">\n",
    "\n",
    "**練習** このセルの次にCodeセルを作り，以下の命令文を実行しなさい。\n",
    "```python\n",
    "print(\"Hello jupyter!\")\n",
    "```"
   ]
  },
  {
   "cell_type": "code",
   "execution_count": 2,
   "metadata": {},
   "outputs": [
    {
     "name": "stdout",
     "output_type": "stream",
     "text": [
      "Hello jupyter!\n"
     ]
    }
   ],
   "source": [
    "print(\"Hello jupyter!\")"
   ]
  },
  {
   "cell_type": "markdown",
   "metadata": {
    "slideshow": {
     "slide_type": "slide"
    }
   },
   "source": [
    "## Markdown形式について(表題1)\n",
    "\n",
    "簡単な記号入力でタイトルや箇条書きなどを書く方法。\n",
    "\n",
    "**練習** このセルの次にMarkdownセルを作り， 以下のように入力し，**Ctrl-Enter**でどのように表示されるか確認しなさい。\n",
    "\n",
    "```\n",
    "# タイトル\n",
    "## サブタイトル\n",
    "\n",
    "- 箇条書き1\n",
    "- 箇条書き2\n",
    "\n",
    "**太字**も簡単\n",
    "```"
   ]
  },
  {
   "cell_type": "markdown",
   "metadata": {},
   "source": [
    "# タイトル\n",
    "## サブタイトル\n",
    "\n",
    "- 箇条書き1\n",
    "- 箇条書き2\n",
    "\n",
    "**太字**も簡単"
   ]
  },
  {
   "cell_type": "code",
   "execution_count": null,
   "metadata": {},
   "outputs": [],
   "source": []
  },
  {
   "cell_type": "code",
   "execution_count": null,
   "metadata": {},
   "outputs": [],
   "source": []
  },
  {
   "cell_type": "markdown",
   "metadata": {
    "slideshow": {
     "slide_type": "slide"
    }
   },
   "source": [
    "## ショートカット\n",
    "\n",
    "コマンドモードの状態で，以下のキーを押すと，色々な操作をキーボードのみでできる。\n",
    "\n",
    "- h: ショートカットキー一覧 \n",
    "\n",
    "セルタイプの変更\n",
    "- y: コード\n",
    "- m: マークダウン\n",
    "- r: Raw\n",
    "\n",
    "セルの移動・追加・削除\n",
    "- a: 上にセル追加\n",
    "- b: 下にセル追加\n",
    "- dd: 削除\n",
    "- z: 削除のundo\n",
    "\n",
    "カーソルの移動\n",
    "- k: 上へ移動\n",
    "- j: 下へ移動\n",
    "\n",
    "ショートカットキーを使って，このセルの上や下にセルを追加してみなさい"
   ]
  },
  {
   "cell_type": "markdown",
   "metadata": {},
   "source": [
    "<img src=\"images/sushi.jpg\">"
   ]
  },
  {
   "cell_type": "markdown",
   "metadata": {
    "slideshow": {
     "slide_type": "slide"
    }
   },
   "source": [
    "<div class=\"alert alert-success\">\n",
    "    \n",
    "# jupyter notebookの拡張機能\n",
    "\n",
    "</div>\n",
    "\n",
    "メニューバーの\"Edit\"/\"nbextensions config\"を選択すると，色々な拡張機能を使える。例えば，デフォルトで有効になっているものもある。\n",
    "- Ctrl-h: **ヘッダの表示/非表示**(縦幅が狭いパソコンでの作業のとき便利)\n",
    "- **ハイライト機能**(大事なテキスト部分を，蛍光ペンのように強調できる)\n",
    "- **目次表示**(ノートブックの見出し一覧の表示)\n",
    "\n",
    "<img src=\"images/jupyter-header-wider-extension.png\" width=700>"
   ]
  },
  {
   "cell_type": "markdown",
   "metadata": {},
   "source": [
    "# プログラムの強制終了\n",
    "プログラムが無限ループに入ったりしたのを停止したいときは**停止ボタン**を押すこと。\n",
    "\n",
    "<img src=\"images/jupyter-header-stop.png\" width=600>\n",
    "\n",
    "このセルの下にCodeセルを作り，以下の無限ループのあるプログラムを実行しなさい。実行中のセルは，セル左側に\n",
    "```\n",
    "In [*]:\n",
    "```\n",
    "と表示される。\n",
    "\n",
    "1. 確認後，**停止ボタンを押してプログラムの実行を停止**しなさい。\n",
    "```python\n",
    "while(1):\n",
    "    n=1\n",
    "```\n",
    "2. 停止ボタンを押して，プログラムの実行が停止されたことを確認したら，この**無限ループを含むセルは削除**しなさい。"
   ]
  },
  {
   "cell_type": "markdown",
   "metadata": {},
   "source": [
    "<div class=\"alert alert-success\">\n",
    "    \n",
    "# 設問, 解答用セル, 評価用セルについて\n",
    "\n",
    "</div>\n",
    "\n",
    "\n",
    "## 設問と解答用セル\n",
    "「Q.」で始まる課題の答案は，その下にある解答用セルに入力しなさい。解答用セルには以下のように表示されている。\n",
    "\n",
    "```python\n",
    "# YOUR CODE HERE\n",
    "raise NotImplementedError()\n",
    "```\n",
    "\n",
    "**重要**\n",
    "\n",
    "- 一行目の <code># YOUR CODE HERE</code>は**消さない**こと。消してしまうと，どこに解答を書くべきかがわからなくなることがある。\n",
    "- 二行目の <code>#raise NotImplementedError()</code>の部分は**必ず削除**して，解答を入力すること。"
   ]
  },
  {
   "cell_type": "markdown",
   "metadata": {},
   "source": [
    "## 評価用セル\n",
    "\n",
    "解答欄に記入された内容を評価するための特別なセルには，**「評価用セル」**と書かれている。\n",
    "\n",
    "- 採点のためのセルですので無視してください。\n",
    "- 評価用コードの一部が表示されている場合，それを実行することで課題の結果確認をできます。\n",
    "- 表示されない評価用コードを採点に用いていることもあります。"
   ]
  },
  {
   "cell_type": "markdown",
   "metadata": {},
   "source": [
    "<div class=\"alert alert-success\">\n",
    "\n",
    "# Kernel\n",
    "    \n",
    "</div>\n",
    "\n",
    "Notebook を起動したときには，__kernel__ と呼ばれるプロセスが呼び出され，__kernel__がnotebookのセルの実行等を行う。\n",
    "\n",
    "**Q.** 上述の「解答用セル」についての説明をよく確認してから次セルの解答欄に`x`のみ入力し，`Shift-Enter`で実行してみなさい。"
   ]
  },
  {
   "cell_type": "code",
   "execution_count": 7,
   "metadata": {
    "deletable": false,
    "nbgrader": {
     "cell_type": "code",
     "checksum": "2b3b6aa9d4a03e89c823dae9c1272c96",
     "grade": false,
     "grade_id": "cell-b7db5fa3750f5d56",
     "locked": false,
     "schema_version": 3,
     "solution": true,
     "task": false
    }
   },
   "outputs": [],
   "source": [
    "# まず，x のみ以下に書きなさい。raise NotimplementedError() の一行は消すこと\n",
    "# YOUR CODE HERE\n",
    "x=1"
   ]
  },
  {
   "cell_type": "markdown",
   "metadata": {},
   "source": [
    "まだ変数`x`が未定義なのでエラーが表示されたはず。\n",
    "\n",
    "1. 上のセルに戻って`x`に数値`1`を代入(`x=1`)するように修正し，再度実行して，エラーが出なくなることを確認しなさい。\n",
    "2. その後，次のセルを実行し，`x`に値が代入されていることを確認しなさい。"
   ]
  },
  {
   "cell_type": "code",
   "execution_count": 8,
   "metadata": {},
   "outputs": [
    {
     "data": {
      "text/plain": [
       "1"
      ]
     },
     "execution_count": 8,
     "metadata": {},
     "output_type": "execute_result"
    }
   ],
   "source": [
    "x"
   ]
  },
  {
   "cell_type": "markdown",
   "metadata": {},
   "source": [
    "上記の例でわかるように，一度定義したオブジェクト(変数，関数など)は，同じシートのどのセルでも呼び出すことができる。\n",
    "\n",
    "次セルは「評価用セル」。以下のように評価プログラムが書かれている場合は実行してみなさい。上記の指示どおりに，xの値を1としていたら特に何も表示されないが，定義していなかったらエラーが表示される。"
   ]
  },
  {
   "cell_type": "code",
   "execution_count": 9,
   "metadata": {
    "deletable": false,
    "editable": false,
    "nbgrader": {
     "cell_type": "code",
     "checksum": "79e14756dc2227cc5a3efbb9dd029380",
     "grade": true,
     "grade_id": "cell-1076451f517984e0",
     "locked": true,
     "points": 1,
     "schema_version": 3,
     "solution": false,
     "task": false
    }
   },
   "outputs": [],
   "source": [
    "# 評価用セル\n",
    "from nose.tools import eq_\n",
    "eq_(x,1)"
   ]
  },
  {
   "cell_type": "markdown",
   "metadata": {},
   "source": [
    "「評価用セル」には，評価プログラムが表示されていない場合もあるが，その時はセルの実行はしなくて良い。\n",
    "\n",
    "kernelに記録されている変数は次のセルのコマンドで確認できる。上で定義した変数`x`が表示されることを確認しなさい。"
   ]
  },
  {
   "cell_type": "code",
   "execution_count": 10,
   "metadata": {},
   "outputs": [
    {
     "name": "stdout",
     "output_type": "stream",
     "text": [
      "Variable         Type        Data/Info\n",
      "--------------------------------------\n",
      "black_reformat   function    <function black_reformat at 0x7f2e081b0488>\n",
      "eq_              function    <function eq_ at 0x7f2e015bb6a8>\n",
      "json             module      <module 'json' from '/usr<...>hon3.6/json/__init__.py'>\n",
      "n                int         1\n",
      "x                int         1\n"
     ]
    }
   ],
   "source": [
    "%whos"
   ]
  },
  {
   "cell_type": "markdown",
   "metadata": {},
   "source": [
    "次のセルを実行すると何が表示されるか確認しなさい。"
   ]
  },
  {
   "cell_type": "code",
   "execution_count": 11,
   "metadata": {},
   "outputs": [
    {
     "data": {
      "text/plain": [
       "2"
      ]
     },
     "execution_count": 11,
     "metadata": {},
     "output_type": "execute_result"
    }
   ],
   "source": [
    "x=3\n",
    "y=2\n",
    "x\n",
    "y"
   ]
  },
  {
   "cell_type": "markdown",
   "metadata": {},
   "source": [
    "jupyter notebookでは，セルの一番最後に最後に書いた変数の値が表示される。上のセルの例では，`y`の値のみが表示される。`x`の値も表示したい場合は`print()`を使う。"
   ]
  },
  {
   "cell_type": "code",
   "execution_count": 12,
   "metadata": {},
   "outputs": [
    {
     "name": "stdout",
     "output_type": "stream",
     "text": [
      "3\n",
      "2\n"
     ]
    }
   ],
   "source": [
    "x=3\n",
    "y=2\n",
    "print(x)\n",
    "print(y)"
   ]
  },
  {
   "cell_type": "markdown",
   "metadata": {},
   "source": [
    "実行が終わったセルの左には，以下のような表示が出ている。\n",
    "```python\n",
    "In [10]:\n",
    "```\n",
    "`[]`内の数字は，Kernelの起動後，何回目のセル実行であるかを示す。"
   ]
  },
  {
   "cell_type": "markdown",
   "metadata": {
    "scrolled": true,
    "slideshow": {
     "slide_type": "fragment"
    }
   },
   "source": [
    "## python kernelのバージョン\n",
    "このjupyter notebookで動いているpython kernelのバージョンは，以下のコマンドで表示できる。このセルの下にコードセルを用意して実行してみなさい。\n",
    "```python\n",
    "import platform\n",
    "print(platform.python_version())\n",
    "```"
   ]
  },
  {
   "cell_type": "markdown",
   "metadata": {},
   "source": [
    "## Kernel Restart (課題シート提出前に必ず!)\n",
    "\n",
    "kernelをrestart (上部メニューより)すると，変数は全て消去される。\n",
    "\n",
    "<img src=images/jupyter-header-restart.png width=600>\n",
    "\n",
    "変数への代入や関数定義等は，セルの並び順ではなく，**処理された順にkernelに記憶**されていく。\n",
    "うまく実行できるプログラムが出来たと思っても，Kernelの再起動後に，セルを上から順に実行してもエラーが出ることがある。"
   ]
  },
  {
   "cell_type": "markdown",
   "metadata": {},
   "source": [
    "<div class=\"alert alert-danger\">\n",
    "提出する課題シートは，Kernelの再起動後，セルを上から順に実行し，記入した全てのセルが正常動作するか確認すること。\n",
    "</div>\n",
    "\n",
    "全てのセルの実行するには，メニューの**Cell$\\rightarrow$Run All**を選択するとよい。Kernelの再起動とセルの実行の両方を行うメニューコマンドとして**Kernel$\\rightarrow$Restart & Run All**もある。"
   ]
  },
  {
   "cell_type": "code",
   "execution_count": null,
   "metadata": {},
   "outputs": [],
   "source": []
  }
 ],
 "metadata": {
  "kernelspec": {
   "display_name": "Python 3",
   "language": "python",
   "name": "python3"
  },
  "language_info": {
   "codemirror_mode": {
    "name": "ipython",
    "version": 3
   },
   "file_extension": ".py",
   "mimetype": "text/x-python",
   "name": "python",
   "nbconvert_exporter": "python",
   "pygments_lexer": "ipython3",
   "version": "3.6.9"
  },
  "nbTranslate": {
   "displayLangs": [
    "*"
   ],
   "hotkey": "alt-t",
   "langInMainMenu": true,
   "sourceLang": "en",
   "targetLang": "fr",
   "useGoogleTranslate": true
  },
  "toc": {
   "base_numbering": 1,
   "nav_menu": {},
   "number_sections": true,
   "sideBar": true,
   "skip_h1_title": false,
   "title_cell": "Table of Contents",
   "title_sidebar": "Contents",
   "toc_cell": false,
   "toc_position": {},
   "toc_section_display": true,
   "toc_window_display": true
  }
 },
 "nbformat": 4,
 "nbformat_minor": 2
}
