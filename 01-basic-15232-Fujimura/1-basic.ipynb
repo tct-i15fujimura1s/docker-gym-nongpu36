{
 "cells": [
  {
   "cell_type": "markdown",
   "metadata": {},
   "source": [
    "<div class=\"alert alert-danger\">\n",
    "\n",
    "# 名前欄\n",
    "\n",
    "</div>\n",
    "\n",
    "以下に名前と学籍番号(STUDENT_ID)の入力をして下さい。\n",
    "\n",
    "例)\n",
    "```python\n",
    "FAMILY_NAME = \"Yamaguchi\"# 姓をローマ字で入力\n",
    "FIRST_NAME = \"Daisuki\"   #  名をローマ字で入力\n",
    "USER = \"a11yamaguchi\"    # 公式メールアドレスのユーザ名\n",
    "STUDENT_ID = \"20-2202-000-0\" # 学籍番号\n",
    "```"
   ]
  },
  {
   "cell_type": "code",
   "execution_count": 1,
   "metadata": {},
   "outputs": [],
   "source": [
    "FAMILY_NAME = \"Fujimura\"  # 姓をローマ字で入力\n",
    "FIRST_NAME = \"Soshi\"  #  名をローマ字で入力\n",
    "USER = \"i15fujimura1s\"  # 公式メールアドレスのユーザ名\n",
    "STUDENT_ID = \"15232\"  # 12-2202-000-0 等と省略なしで入力"
   ]
  },
  {
   "cell_type": "markdown",
   "metadata": {},
   "source": [
    "<div class=\"alert alert-danger\">\n",
    "\n",
    "# 提出方法(高専の皆さんへ)\n",
    "\n",
    "</div>\n",
    "\n",
    "以下のように**ディレクトリ(フォルダ)名を変更して提出**しましょう。\n",
    "```python\n",
    "元のディレクトリ名-学籍番号-名字(ローマ字)\n",
    "```\n",
    "例えば，元のディレクトリ名が`01-basic/`, 学籍番号が`12345`,名字が`Yamaguchi`の場合は以下になります。\n",
    "```python\n",
    "01-basic-12345-Yamaguchi/\n",
    "```"
   ]
  },
  {
   "cell_type": "markdown",
   "metadata": {},
   "source": [
    "<div class=\"alert alert-danger\">\n",
    "\n",
    "# 注意\n",
    "\n",
    "</div>\n",
    "\n",
    "\n",
    "- 以下の説明文を読み， 内容を納得できるように自分で試しなさい。\n",
    "- **「# このセルで試してみよう」**, **「# このセルで動作確認をしよう」**と書かれているセルは自由に使って構いません。\n",
    "- 必要に応じてセルを増やしても構いません。役立ちそうな情報もメモしておくと，今後プログラムを組む上で便利です。\n",
    "- 表題等には適宜教科書のページを書いてあります。詳しい説明は教科書を参照しなさい。\n",
    "\n",
    "<div class=\"alert alert-danger\">\n",
    "\n",
    "## 設問と解答用セル\n",
    "    \n",
    "</div>   \n",
    "\n",
    "\"**Q.**\" から始まる設問に対する解答は必ず入力しなさい。解答用セルには以下のように表示される。\n",
    "\n",
    "```python\n",
    "# YOUR CODE HERE\n",
    "raise NotImplementedError()\n",
    "```\n",
    "\n",
    "**注意**\n",
    "\n",
    "- <span class=\"mark\">raise NotImplementedError()の一行は**必ず消去**して</span>，<span class=\"mark\"># YOUR CODE HERE の下に解答</span>を書くこと。\n",
    "- <span class=\"mark\">\\# YOUR CODE HERE の一行は**消さない**</span>こと。どこに解答を書くべきかがわからなくなることがあります。\n",
    "- なんらかの演算をしたり，命令文を作ったときは，その**結果が予想通りか否かを必ず確認しなさい**\n",
    "\n",
    "<div class=\"alert alert-danger\">\n",
    "\n",
    "## 評価用セル\n",
    "    \n",
    "</div>\n",
    "\n",
    "- **「評価用セル」と書かれているセルは採点のためのセル**です。\n",
    "- **評価用コードが一部表示されている場合，それを実行すると課題の実行結果の確認**をできます。\n",
    "- **表示されていない評価用コードも**あります。\n",
    "\n",
    "<div class=\"alert alert-danger\">\n",
    "\n",
    "## 課題提出前の注意\n",
    "    \n",
    "</div>   \n",
    "\n",
    "**[重要]** 以下の手順で，全ての課題が正常に動作するか確認してから提出しましょう。\n",
    "\n",
    "1.  メニューバーの\"Kernel\"をクリック後，\"Restart\"を選択\n",
    "2. メニューバーの\"Cell\"を，\"Run All\"を選択"
   ]
  },
  {
   "cell_type": "code",
   "execution_count": 2,
   "metadata": {
    "deletable": false,
    "editable": false,
    "nbgrader": {
     "cell_type": "code",
     "checksum": "72507612a9429fbbe9a2196bed2071ce",
     "grade": false,
     "grade_id": "cell-2a5d8ab115bc603f",
     "locked": true,
     "schema_version": 3,
     "solution": false,
     "task": false
    }
   },
   "outputs": [],
   "source": [
    "# このセルは自動評価を行うための命令です。内容は無視して，実行(Shift-Enter)のみをしてください。\n",
    "#%%writefile unittests.py\n",
    "#%load unittests.py\n",
    "%run unittests.py"
   ]
  },
  {
   "cell_type": "markdown",
   "metadata": {
    "slideshow": {
     "slide_type": "slide"
    }
   },
   "source": [
    "<div class=\"alert alert-success\">\n",
    "\n",
    "# Pythonの基本(basic)\n",
    "    \n",
    "</div>"
   ]
  },
  {
   "cell_type": "markdown",
   "metadata": {
    "slideshow": {
     "slide_type": "slide"
    }
   },
   "source": [
    "## Pythonのプログラムの作成と実行\n",
    "\n",
    "**方法1**: C言語のように，テキスト形式でプログラムを書いて実行する。\n",
    "\n",
    "```bash\n",
    "$ vi program.py # プログラム作成\n",
    "$ python program.py # プログラム実行\n",
    "```\n",
    "\n",
    "**方法2**: jupyter notebook等を用いて**インタラクティブに実行**する。本演習ではこちらの方法を使う。"
   ]
  },
  {
   "cell_type": "markdown",
   "metadata": {
    "slideshow": {
     "slide_type": "slide"
    }
   },
   "source": [
    "<div class=\"alert alert-success\">\n",
    "\n",
    "# Pythonの基本\n",
    "    \n",
    "</div>\n",
    "\n",
    "## 命令文の書き方 p.44\n",
    "\n",
    "- C言語の`;`のような**行末記号はない**\n",
    "- ただし，複数のstatement (命令文)を1行に書くときには `;`で区切る\n",
    "- １つの命令文を複数行にわたって書くときには，**途中で改行することを`\\`で明示**する\n",
    "```python\n",
    "a=1\n",
    "b=2; c=a+b; d=a+b+c\n",
    "e=a+b \\\n",
    "   +c+d\n",
    "``` "
   ]
  },
  {
   "cell_type": "code",
   "execution_count": 3,
   "metadata": {
    "slideshow": {
     "slide_type": "fragment"
    }
   },
   "outputs": [],
   "source": [
    "# このセルで試してみよう\n",
    "a=1\n",
    "b=2; c=a+b; d=a+b+c\n",
    "e=a+b \\\n",
    " +c+d"
   ]
  },
  {
   "cell_type": "markdown",
   "metadata": {
    "slideshow": {
     "slide_type": "slide"
    }
   },
   "source": [
    "## コメント p.46\n",
    "### 1行コメント\n",
    "\n",
    "`#`から行末までは実行時に無視される。"
   ]
  },
  {
   "cell_type": "code",
   "execution_count": 4,
   "metadata": {},
   "outputs": [
    {
     "name": "stdout",
     "output_type": "stream",
     "text": [
      "3\n"
     ]
    }
   ],
   "source": [
    "# shift-Enterを押して実行してみよう\n",
    "x=3    #  x=3は実行されるが，#以降のコメント部分は無視される\n",
    "# x=4     この行は実行されない\n",
    "print(x)"
   ]
  },
  {
   "cell_type": "markdown",
   "metadata": {
    "slideshow": {
     "slide_type": "slide"
    }
   },
   "source": [
    "### 複数行コメント\n",
    "複数行にわたったコメントを書くときは`\"\"\"`，もしくは，`'''`で挟む。"
   ]
  },
  {
   "cell_type": "code",
   "execution_count": 5,
   "metadata": {
    "slideshow": {
     "slide_type": "slide"
    }
   },
   "outputs": [
    {
     "name": "stdout",
     "output_type": "stream",
     "text": [
      "5\n"
     ]
    }
   ],
   "source": [
    "'''\n",
    "ここは実行時に無視される\n",
    "'''\n",
    "x=5 # ここは実行される\n",
    "\n",
    "\"\"\"\n",
    "ここも実行時に無視される\n",
    "x=2\n",
    "\"\"\"\n",
    "print(x)"
   ]
  },
  {
   "cell_type": "markdown",
   "metadata": {
    "slideshow": {
     "slide_type": "slide"
    }
   },
   "source": [
    "ただし，以下のようにコメント部分の後に命令文がない場合は，コメント内の文が出力セルに表示される。プログラムの命令文には影響しない。"
   ]
  },
  {
   "cell_type": "code",
   "execution_count": 6,
   "metadata": {
    "slideshow": {
     "slide_type": "slide"
    }
   },
   "outputs": [
    {
     "data": {
      "text/plain": [
       "'\\nここはコメント文だが，下に命令文が無い場合は，実行時に出力セルに表示される...\\n'"
      ]
     },
     "execution_count": 6,
     "metadata": {},
     "output_type": "execute_result"
    }
   ],
   "source": [
    "x=5\n",
    "\"\"\"\n",
    "ここはコメント文だが，下に命令文が無い場合は，実行時に出力セルに表示される...\n",
    "\"\"\""
   ]
  },
  {
   "cell_type": "markdown",
   "metadata": {
    "slideshow": {
     "slide_type": "slide"
    }
   },
   "source": [
    "## print文, p.49\n",
    "関数`print()`は，`%s`等で型指定しなくても，変数に合わせて適当に表示してくれる。"
   ]
  },
  {
   "cell_type": "code",
   "execution_count": 7,
   "metadata": {
    "slideshow": {
     "slide_type": "slide"
    }
   },
   "outputs": [
    {
     "name": "stdout",
     "output_type": "stream",
     "text": [
      "3\n"
     ]
    }
   ],
   "source": [
    "x=3\n",
    "print(x)"
   ]
  },
  {
   "cell_type": "markdown",
   "metadata": {},
   "source": [
    "複数の変数を表示する方法はいろいろある。"
   ]
  },
  {
   "cell_type": "code",
   "execution_count": 8,
   "metadata": {},
   "outputs": [
    {
     "name": "stdout",
     "output_type": "stream",
     "text": [
      "3,2.0\n",
      "x= 3  y= 2.0\n"
     ]
    }
   ],
   "source": [
    "x=3\n",
    "y=2.0\n",
    "print(x,y,sep=\",\") # 区切り文字を指定できる\n",
    "print(\"x=\", x, \" y=\", y)"
   ]
  },
  {
   "cell_type": "markdown",
   "metadata": {
    "slideshow": {
     "slide_type": "slide"
    }
   },
   "source": [
    "表示のための型指定をすることもできる。"
   ]
  },
  {
   "cell_type": "code",
   "execution_count": 9,
   "metadata": {},
   "outputs": [
    {
     "name": "stdout",
     "output_type": "stream",
     "text": [
      "x=3, y=2.000000e+00\n"
     ]
    }
   ],
   "source": [
    "print(\"x=%d, y=%e\" % (x,y))"
   ]
  },
  {
   "cell_type": "markdown",
   "metadata": {
    "slideshow": {
     "slide_type": "slide"
    }
   },
   "source": [
    "## 基本演算\n",
    "- Cとおおむね同じ (演算子一覧は p.54, 71)\n",
    "- ただし，`++`, `--`は使えない。`+=`, `-=`は使える"
   ]
  },
  {
   "cell_type": "code",
   "execution_count": 10,
   "metadata": {},
   "outputs": [
    {
     "name": "stdout",
     "output_type": "stream",
     "text": [
      "6\n",
      "2\n"
     ]
    }
   ],
   "source": [
    "x=3\n",
    "x+=3\n",
    "print(x)\n",
    "y=x%4\n",
    "print(y)"
   ]
  },
  {
   "cell_type": "markdown",
   "metadata": {},
   "source": [
    "## 関数の定義方法, p.232\n",
    "\n",
    "- `def`で始まる行で関数名と引数を定義する\n",
    "- **次行から関数の終わりまではインデント**して命令文を書く\n",
    "\n",
    "書式\n",
    "```python\n",
    "def function_name(args):\n",
    "    命令文       #ここから関数の終わりまでインデントをする\n",
    "    return(..)\n",
    "```"
   ]
  },
  {
   "cell_type": "markdown",
   "metadata": {},
   "source": [
    "以下は合計を求める関数`sum`の定義例"
   ]
  },
  {
   "cell_type": "code",
   "execution_count": 11,
   "metadata": {},
   "outputs": [],
   "source": [
    "def sum(x,y):\n",
    "    return(x+y)"
   ]
  },
  {
   "cell_type": "markdown",
   "metadata": {},
   "source": [
    "以下は，上記の関数`sum()`の実行例"
   ]
  },
  {
   "cell_type": "code",
   "execution_count": 12,
   "metadata": {},
   "outputs": [
    {
     "name": "stdout",
     "output_type": "stream",
     "text": [
      "5\n"
     ]
    }
   ],
   "source": [
    "print(sum(2,3))"
   ]
  },
  {
   "cell_type": "markdown",
   "metadata": {
    "slideshow": {
     "slide_type": "-"
    }
   },
   "source": [
    "Q. 名前`name`, 体重`m`, 身長`h`を引数として受け取り，「◯◯の身長は◯cmで体重は◯kgです」と表示する関数`mybody(name,m,h)`を定義しなさい。\n",
    "\n",
    "\n",
    "**実行例**\n",
    "- 命令文\n",
    "```\n",
    "mybody(\"Taro\",50,170)\n",
    "```\n",
    "- 実行結果\n",
    "```\n",
    "Taroの身長は170cmで体重は50kgです\n",
    "```"
   ]
  },
  {
   "cell_type": "code",
   "execution_count": 13,
   "metadata": {
    "deletable": false,
    "nbgrader": {
     "cell_type": "code",
     "checksum": "cdc2f18db11fca8c5cf9a3bd920479ed",
     "grade": false,
     "grade_id": "A-basic-mybody",
     "locked": false,
     "schema_version": 3,
     "solution": true,
     "task": false
    },
    "slideshow": {
     "slide_type": "-"
    }
   },
   "outputs": [],
   "source": [
    "# このセルに関数の定義を入力する\n",
    "def mybody(name,m,h):\n",
    "    # YOUR CODE HERE\n",
    "    print(\"\"\"\n",
    "    \n",
    "    \n",
    "    %s の 身長 は %d cm で 体重 は %d kg です\n",
    "    \n",
    "    \n",
    "    \"\"\" % (name, h, m))"
   ]
  },
  {
   "cell_type": "code",
   "execution_count": 14,
   "metadata": {},
   "outputs": [
    {
     "name": "stdout",
     "output_type": "stream",
     "text": [
      "\n",
      "    \n",
      "    \n",
      "    Taro の 身長 は 170 cm で 体重 は 50 kg です\n",
      "    \n",
      "    \n",
      "    \n",
      "\n",
      "    \n",
      "    \n",
      "    hanako の 身長 は 160 cm で 体重 は 40 kg です\n",
      "    \n",
      "    \n",
      "    \n",
      "\n"
     ]
    }
   ],
   "source": [
    "# このセルで動作確認をしよう\n",
    "mybody(\"Taro\",50,170)\n",
    "\n",
    "with capture_stdout() as capture:\n",
    "    mybody(\"hanako\",h=160,m=40)\n",
    "res2=capture.result\n",
    "print(res2)"
   ]
  },
  {
   "cell_type": "code",
   "execution_count": 15,
   "metadata": {
    "deletable": false,
    "editable": false,
    "nbgrader": {
     "cell_type": "code",
     "checksum": "4d74a269764aca7b4e3a06f1028d4ad4",
     "grade": true,
     "grade_id": "E-basic-mybody",
     "locked": true,
     "points": 1,
     "schema_version": 3,
     "solution": false,
     "task": false
    }
   },
   "outputs": [
    {
     "name": "stdout",
     "output_type": "stream",
     "text": [
      "\n",
      "    \n",
      "    \n",
      "    taro の 身長 は 60 cm で 体重 は 180 kg です\n",
      "    \n",
      "    \n",
      "    \n",
      "\n",
      "    \n",
      "    \n",
      "    taro の 身長 は 60 cm で 体重 は 180 kg です\n",
      "    \n",
      "    \n",
      "    \n"
     ]
    }
   ],
   "source": [
    "# 評価用セル\n",
    "try:\n",
    "    mybody(\"taro\",180,60)\n",
    "except:\n",
    "    _alert(\"mybodyを呼び出せません\")\n",
    "\n",
    "try:\n",
    "    mybody(\"taro\",m=180,h=60)\n",
    "except:\n",
    "    _alert(\"引数名が不適切です\")    \n",
    "    \n",
    "with capture_stdout() as capture:\n",
    "    mybody(\"taro\",50,170)\n",
    "res=capture.result\n",
    "\n",
    "with capture_stdout() as capture:\n",
    "    mybody(\"hanako\",h=160,m=40)\n",
    "res2=capture.result\n",
    "\n",
    "try:\n",
    "    assert_regex(res.replace(\" \",\"\").strip(),re.compile(\"taroの身長は170cmで体重は50kgです\"))\n",
    "    assert_regex(res2.replace(\" \",\"\").strip(),re.compile(\"hanakoの身長は160cmで体重は40kgです\"))\n",
    "except:\n",
    "    _alert(\"引数の処理に間違いがないか，また，誤字や脱字がないか注意して直しましょう\")\n"
   ]
  },
  {
   "cell_type": "markdown",
   "metadata": {
    "slideshow": {
     "slide_type": "slide"
    }
   },
   "source": [
    "## 変数の型(p. 50)\n",
    "- 変数の型宣言は不要(型は自動推定)\n",
    "- type(x) : xの型名を返す\n",
    "```python\n",
    "x=2\n",
    "y=2.0\n",
    "z=3+2j\n",
    "l=[3,5,2]\n",
    "b=True\n",
    "s=\"hello\"\n",
    "```\n",
    "例えば，上記の変数`x`の型は以下を実行すると確認できる。"
   ]
  },
  {
   "cell_type": "code",
   "execution_count": 16,
   "metadata": {},
   "outputs": [
    {
     "name": "stdout",
     "output_type": "stream",
     "text": [
      "<class 'int'>\n"
     ]
    }
   ],
   "source": [
    "x=2\n",
    "print(type(x))"
   ]
  },
  {
   "cell_type": "markdown",
   "metadata": {},
   "source": [
    "実行結果より，`x`の型は`int`であることがわかる。\n",
    "\n",
    "Q. 上記の変数`z`, 変数`b`, 変数`s`の型を確認しなさい。その結果をそれぞれ変数`type_z`, `type_b`, `type_s`に代入しなさい。\n",
    "\n",
    "\n",
    "**解答例:** 以下は上記の変数`x`の型を答える場合。\n",
    "```python\n",
    "type_x=\"int\"\n",
    "```"
   ]
  },
  {
   "cell_type": "code",
   "execution_count": 17,
   "metadata": {},
   "outputs": [],
   "source": [
    "# このセルで確認しなさい\n",
    "x, y, z = 2, 2.0, 3+2j\n",
    "l = [3, 5, 2]\n",
    "b = True\n",
    "s = \"hello\""
   ]
  },
  {
   "cell_type": "code",
   "execution_count": 18,
   "metadata": {
    "deletable": false,
    "nbgrader": {
     "cell_type": "code",
     "checksum": "52d8fae616b80f3cee193e4b19b5cabd",
     "grade": false,
     "grade_id": "A-basic-type",
     "locked": false,
     "schema_version": 3,
     "solution": true,
     "task": false
    },
    "slideshow": {
     "slide_type": "-"
    }
   },
   "outputs": [],
   "source": [
    "# こちらに答を入力\n",
    "# YOUR CODE HERE\n",
    "for var in \"x y z l b s\".split():\n",
    "    exec(\"%s = type(%s)\" % (var, var))"
   ]
  },
  {
   "cell_type": "code",
   "execution_count": 19,
   "metadata": {
    "deletable": false,
    "editable": false,
    "nbgrader": {
     "cell_type": "code",
     "checksum": "4c31b7c3d70407d8a09db5737e73d9c5",
     "grade": true,
     "grade_id": "E-basic-type",
     "locked": true,
     "points": 0.5,
     "schema_version": 3,
     "solution": false,
     "task": false
    }
   },
   "outputs": [],
   "source": [
    "# 評価用セルその1"
   ]
  },
  {
   "cell_type": "code",
   "execution_count": 20,
   "metadata": {
    "deletable": false,
    "editable": false,
    "nbgrader": {
     "cell_type": "code",
     "checksum": "0b7d64dc5a53cd907e2dbfe1fc814f9e",
     "grade": true,
     "grade_id": "E-basic-type2",
     "locked": true,
     "points": 0.5,
     "schema_version": 3,
     "solution": false,
     "task": false
    }
   },
   "outputs": [],
   "source": [
    "# 評価用セルその2"
   ]
  },
  {
   "cell_type": "code",
   "execution_count": 21,
   "metadata": {
    "deletable": false,
    "editable": false,
    "nbgrader": {
     "cell_type": "code",
     "checksum": "00b9a2c9b5ea37c2b4b55eb0f19a1643",
     "grade": true,
     "grade_id": "E-basic-type3",
     "locked": true,
     "points": 0.5,
     "schema_version": 3,
     "solution": false,
     "task": false
    }
   },
   "outputs": [],
   "source": [
    "# 評価用セルその3"
   ]
  },
  {
   "cell_type": "markdown",
   "metadata": {},
   "source": [
    "## 型の判定\n",
    "\n",
    "`type(x)`の返り値によって，`x`が`bool`か否かは以下のように判定できる。\n",
    "```python\n",
    "x=3\n",
    "print(type(x) is bool)\n",
    "print(type(x) is not bool)\n",
    "```"
   ]
  },
  {
   "cell_type": "markdown",
   "metadata": {},
   "source": [
    "Q. 引数`x`の型が`int`ならば`True`を， それ以外は`False`を返す関数`is_int()`を作りなさい。\n",
    "\n",
    "**注意**\n",
    "- 答を表示するのでは無く，返り値を設定すること\n",
    "- 返り値は，文字列にはしないこと(\"True\"や\"False\"とダブルクォーテーションで囲むと文字列になる)。"
   ]
  },
  {
   "cell_type": "code",
   "execution_count": 22,
   "metadata": {
    "deletable": false,
    "nbgrader": {
     "cell_type": "code",
     "checksum": "812ccc2a9110ae032fc71bcaaaabbce1",
     "grade": false,
     "grade_id": "A-basic-is_int",
     "locked": false,
     "schema_version": 3,
     "solution": true,
     "task": false
    }
   },
   "outputs": [],
   "source": [
    "# このセルに関数の定義を入力する\n",
    "def is_int(x):\n",
    "   # YOUR CODE HERE\n",
    "   return type(x) == int"
   ]
  },
  {
   "cell_type": "code",
   "execution_count": 23,
   "metadata": {},
   "outputs": [
    {
     "name": "stdout",
     "output_type": "stream",
     "text": [
      "True\n",
      "False\n",
      "False\n",
      "False\n"
     ]
    }
   ],
   "source": [
    "# このセルで動作確認をしよう\n",
    "print(is_int(1))\n",
    "print(is_int(\"test\"))\n",
    "print(is_int(0.3+2j))\n",
    "print(is_int(True))"
   ]
  },
  {
   "cell_type": "code",
   "execution_count": 24,
   "metadata": {
    "deletable": false,
    "editable": false,
    "nbgrader": {
     "cell_type": "code",
     "checksum": "4f32ce585463e63f9b26285e1370b4a0",
     "grade": true,
     "grade_id": "E-basic-is_int",
     "locked": true,
     "points": 1,
     "schema_version": 3,
     "solution": false,
     "task": false
    }
   },
   "outputs": [],
   "source": [
    "# 評価用セル\n",
    "try:\n",
    "    eq_(is_int(3),True)\n",
    "    eq_(is_int(-1),True)\n",
    "    eq_(is_int(\"cat\"),False)\n",
    "except:\n",
    "    _alert('正常に判定されない型があるようです。整数，文字列，booleanなどいろいろな変数でテストしましょう')\n",
    "# 非公開の評価プログラムもあるので，(この問に限らす)いろいろな場合の動作確認をしておくこと"
   ]
  },
  {
   "cell_type": "markdown",
   "metadata": {
    "slideshow": {
     "slide_type": "slide"
    }
   },
   "source": [
    "<div class=\"alert alert-success\">\n",
    "\n",
    "# モジュール\n",
    "\n",
    "</div>\n",
    "\n",
    "C言語のライブラリにあたるもの"
   ]
  },
  {
   "cell_type": "markdown",
   "metadata": {
    "slideshow": {
     "slide_type": "slide"
    }
   },
   "source": [
    "## mathモジュール p.78\n",
    "- 関数例(一覧p.80-81)\n",
    "    - math.sin()\n",
    "    - math.cos()\n",
    "    - math.log()\n",
    "- 定数\n",
    "    - math.pi\n",
    "    - math.e\n",
    "    \n",
    "詳細情報を知りたいときには以下のように`help()`を使う\n",
    "```python\n",
    "help(math)\n",
    "help(math.sin)\n",
    "```\n",
    "\n",
    "mathモジュールの読み込みと関数実行\n",
    "```python\n",
    "import math as ma\n",
    "x=ma.pi/2\n",
    "ma.sin(x)\n",
    "```\n",
    "\n",
    "**注意:**\n",
    "jupyter notebook上で一度`import`したモジュールは，他のセルでも使える。複数のセルで同じモジュールを何度も`import`する必要はない。"
   ]
  },
  {
   "cell_type": "code",
   "execution_count": 25,
   "metadata": {
    "slideshow": {
     "slide_type": "-"
    }
   },
   "outputs": [
    {
     "data": {
      "text/plain": [
       "1.2246467991473532e-16"
      ]
     },
     "execution_count": 25,
     "metadata": {},
     "output_type": "execute_result"
    }
   ],
   "source": [
    "# このセルで試してみよう\n",
    "import math as ma\n",
    "x = ma.pi/2\n",
    "ma.sin(x*2)"
   ]
  },
  {
   "cell_type": "markdown",
   "metadata": {
    "slideshow": {
     "slide_type": "slide"
    }
   },
   "source": [
    "## randomモジュール p.82\n",
    "- 関数例\n",
    "    - `random.randint(min,max)`   # randomモジュールのrandint()関数\n",
    "    - `random.random()`\n",
    "\n",
    "```python\n",
    "import random as ra # モジュールの読み込み\n",
    "x=ra.random()\n",
    "print(x)\n",
    "```"
   ]
  },
  {
   "cell_type": "markdown",
   "metadata": {},
   "source": [
    "Q. `random`モジュールの関数`random.randint(0,10)`および`random.random()`により生成される乱数の最大値と最小値をそれぞれ調べて以下に書きなさい。\n",
    "\n",
    "解答例)\n",
    "```python\n",
    "randint_min=3     # 関数random.randint(0,10)の返り値の最小値\n",
    "randint_max=4     # 関数random.randint(0,10)の返り値の最大値\n",
    "random_min=5      # 関数random.random()の返り値の最小値\n",
    "random_max=6     # 関数random.random()の返り値の最大値(上限が6.0未満の場合は6と答える)\n",
    "```"
   ]
  },
  {
   "cell_type": "code",
   "execution_count": 26,
   "metadata": {
    "deletable": false,
    "nbgrader": {
     "cell_type": "code",
     "checksum": "9f53998e24b0752c7d2e8662b73e08ea",
     "grade": false,
     "grade_id": "A-basic-rand_range",
     "locked": false,
     "schema_version": 3,
     "solution": true,
     "task": false
    },
    "slideshow": {
     "slide_type": "-"
    }
   },
   "outputs": [],
   "source": [
    "# YOUR CODE HERE\n",
    "randint_min=0\n",
    "randint_max=10\n",
    "random_min=0\n",
    "random_max=1"
   ]
  },
  {
   "cell_type": "code",
   "execution_count": 27,
   "metadata": {
    "deletable": false,
    "editable": false,
    "nbgrader": {
     "cell_type": "code",
     "checksum": "9f258b9de88d27db96d11fba3f4adea7",
     "grade": true,
     "grade_id": "E-basic-randint_range",
     "locked": true,
     "points": 0.5,
     "schema_version": 3,
     "solution": false,
     "task": false
    }
   },
   "outputs": [],
   "source": [
    "# 評価用セル"
   ]
  },
  {
   "cell_type": "code",
   "execution_count": 28,
   "metadata": {
    "deletable": false,
    "editable": false,
    "nbgrader": {
     "cell_type": "code",
     "checksum": "61ae60941d53b9a30bfbbc87f666eb88",
     "grade": true,
     "grade_id": "E-basic-random_range",
     "locked": true,
     "points": 0.5,
     "schema_version": 3,
     "solution": false,
     "task": false
    }
   },
   "outputs": [],
   "source": [
    "# 評価用セルその2"
   ]
  },
  {
   "cell_type": "markdown",
   "metadata": {
    "slideshow": {
     "slide_type": "slide"
    }
   },
   "source": [
    "## モジュールのいろいろな読み込み方法, p.81\n",
    "```python\n",
    "import <module>\n",
    "import <module> as <alias>\n",
    "from <module> import <function>\n",
    "```\n",
    "例)\n",
    "```python\n",
    "import math\n",
    "print(math.cos(0))\n",
    "\n",
    "import math as ma\n",
    "print(ma.cos(0))\n",
    "\n",
    "from math import cos\n",
    "print(cos(0))\n",
    "```"
   ]
  },
  {
   "cell_type": "markdown",
   "metadata": {
    "slideshow": {
     "slide_type": "-"
    }
   },
   "source": [
    "Q. `random`モジュールの関数random.random()を，単に`random()`と書くだけで呼び出せるように，`random`モジュールを`import`しなさい。"
   ]
  },
  {
   "cell_type": "code",
   "execution_count": 29,
   "metadata": {
    "deletable": false,
    "nbgrader": {
     "cell_type": "code",
     "checksum": "cbe4bc14eb54b2ff92893b2524ad408c",
     "grade": false,
     "grade_id": "A-basic-import_random",
     "locked": false,
     "schema_version": 3,
     "solution": true,
     "task": false
    },
    "slideshow": {
     "slide_type": "-"
    }
   },
   "outputs": [],
   "source": [
    "# YOUR CODE HERE\n",
    "from random import random"
   ]
  },
  {
   "cell_type": "code",
   "execution_count": 30,
   "metadata": {},
   "outputs": [
    {
     "data": {
      "text/plain": [
       "0.3075387344834456"
      ]
     },
     "execution_count": 30,
     "metadata": {},
     "output_type": "execute_result"
    }
   ],
   "source": [
    "# このセルでrandom()の動作確認をしよう\n",
    "random()"
   ]
  },
  {
   "cell_type": "code",
   "execution_count": 31,
   "metadata": {
    "deletable": false,
    "editable": false,
    "nbgrader": {
     "cell_type": "code",
     "checksum": "a306abbe1f1a395e5cef377df2dcd047",
     "grade": true,
     "grade_id": "E-basic-import_random",
     "locked": true,
     "points": 0.5,
     "schema_version": 3,
     "solution": false,
     "task": false
    }
   },
   "outputs": [],
   "source": [
    "# 評価用セル\n",
    "assert random()"
   ]
  },
  {
   "cell_type": "markdown",
   "metadata": {
    "slideshow": {
     "slide_type": "slide"
    }
   },
   "source": [
    "<div class=\"alert alert-success\">\n",
    "\n",
    "# ループ・条件分岐\n",
    "    \n",
    "</div>   "
   ]
  },
  {
   "cell_type": "markdown",
   "metadata": {
    "slideshow": {
     "slide_type": "slide"
    }
   },
   "source": [
    "## if文 p.96\n",
    "```python\n",
    "x=1\n",
    "if x == 0:\n",
    "    print(x, \"is zero\")\n",
    "elif x > 0:\n",
    "    print(x, \"is positive\")\n",
    "else:\n",
    "    print(x, \"is negative\")\n",
    "```\n",
    "注) pythonはC言語のように`{}`を使わない。インデント(空白4文字)で構文単位を表現"
   ]
  },
  {
   "cell_type": "markdown",
   "metadata": {
    "slideshow": {
     "slide_type": "-"
    }
   },
   "source": [
    "Q. 引数`x`が偶数なら0を， 奇数なら1を，それ以外の場合は2を返す関数 `parity()`を作りなさい。\n",
    "- 色々な引数を想定して，どのような引数に偶奇の判定ができない場合はどういう時かよく考えること。\n",
    "- 一例として，真理値(True/False)には偶奇判定はできない。計算上は，True/Falseを1/0に対応づけることもあるが，対応づけの規則はプログラムミング言語により異なり，また，必ずしも1対1の関係ではない。例えば，Pythonでは0以外の数値は全てTrueに対応づけられる。"
   ]
  },
  {
   "cell_type": "code",
   "execution_count": 32,
   "metadata": {
    "deletable": false,
    "nbgrader": {
     "cell_type": "code",
     "checksum": "294c8f50ccc80cab0f936e487987506e",
     "grade": false,
     "grade_id": "A-basic-parity",
     "locked": false,
     "schema_version": 3,
     "solution": true,
     "task": false
    },
    "slideshow": {
     "slide_type": "-"
    }
   },
   "outputs": [],
   "source": [
    "# このセルに関数の定義を入力する\n",
    "def parity(x):\n",
    "    # YOUR CODE HERE\n",
    "    if type(x) == float and x.is_integer():\n",
    "        x = int(x)\n",
    "    if type(x) != int:\n",
    "        return 2\n",
    "    else:\n",
    "        return x % 2"
   ]
  },
  {
   "cell_type": "code",
   "execution_count": 33,
   "metadata": {},
   "outputs": [
    {
     "data": {
      "text/plain": [
       "2"
      ]
     },
     "execution_count": 33,
     "metadata": {},
     "output_type": "execute_result"
    }
   ],
   "source": [
    "# このセルで動作確認をしよう\n",
    "type(True)\n",
    "parity(True)"
   ]
  },
  {
   "cell_type": "code",
   "execution_count": 34,
   "metadata": {
    "deletable": false,
    "editable": false,
    "nbgrader": {
     "cell_type": "code",
     "checksum": "83de8a35c8856c7193d20b392ed8234d",
     "grade": true,
     "grade_id": "E-basic-parity",
     "locked": true,
     "points": 1,
     "schema_version": 3,
     "solution": false,
     "task": false
    }
   },
   "outputs": [],
   "source": [
    "# 評価用セル\n",
    "try:\n",
    "    eq_(parity(6),0)\n",
    "    eq_(parity(-10),0)\n",
    "    eq_(parity(11),1)\n",
    "    eq_(parity(1.1),2)\n",
    "    eq_(parity(-15),1)\n",
    "    eq_(parity(True),2)\n",
    "except:\n",
    "    _alert('偶奇判定が正確ではありません。整数だけではなく，変数にはいろいろな型があることを考慮して判定しましょう。')\n",
    "\n",
    "# 他にも偶奇判定できない例は色々あります\n",
    "# 非公開の評価プログラムもあるので，(この問に限らす)いろいろな場合の動作確認をしておくこと"
   ]
  },
  {
   "cell_type": "markdown",
   "metadata": {
    "slideshow": {
     "slide_type": "slide"
    }
   },
   "source": [
    "## while文, p.112\n",
    "```python\n",
    "i = 0\n",
    "while i < 10:\n",
    "    print(i, end=' ')\n",
    "    i += 1\n",
    "```"
   ]
  },
  {
   "cell_type": "markdown",
   "metadata": {
    "slideshow": {
     "slide_type": "-"
    }
   },
   "source": [
    "Q. 1から引数で与えた整数`x`までの整数を順に足して，最後にその総和を返す関数`total_int()`をwhile文を使って書きなさい。"
   ]
  },
  {
   "cell_type": "code",
   "execution_count": 35,
   "metadata": {
    "deletable": false,
    "nbgrader": {
     "cell_type": "code",
     "checksum": "1d58f5296ec8847e67f258185d640629",
     "grade": false,
     "grade_id": "A-basic-total_int",
     "locked": false,
     "schema_version": 3,
     "solution": true,
     "task": false
    },
    "slideshow": {
     "slide_type": "-"
    }
   },
   "outputs": [],
   "source": [
    "# このセルに関数の定義を入力\n",
    "def total_int(max):\n",
    "    # YOUR CODE HERE\n",
    "    i = 1\n",
    "    sum = 0\n",
    "    while i <= max:\n",
    "        sum += i\n",
    "        i += 1\n",
    "    return sum"
   ]
  },
  {
   "cell_type": "code",
   "execution_count": 36,
   "metadata": {},
   "outputs": [
    {
     "data": {
      "text/plain": [
       "45"
      ]
     },
     "execution_count": 36,
     "metadata": {},
     "output_type": "execute_result"
    }
   ],
   "source": [
    "# このセルで動作確認をしよう\n",
    "total_int(9)"
   ]
  },
  {
   "cell_type": "code",
   "execution_count": 37,
   "metadata": {
    "deletable": false,
    "editable": false,
    "nbgrader": {
     "cell_type": "code",
     "checksum": "efdecf9e5a237d0193591e27ed4eb18d",
     "grade": true,
     "grade_id": "E-basic-total_int",
     "locked": true,
     "points": 1,
     "schema_version": 3,
     "solution": false,
     "task": false
    }
   },
   "outputs": [],
   "source": [
    "# 評価用セル\n",
    "eq_(total_int(3),6)\n",
    "eq_(total_int(10),55)\n",
    "# 非公開の評価プログラムもあるので，色々な場合の検証をすること"
   ]
  },
  {
   "cell_type": "markdown",
   "metadata": {
    "slideshow": {
     "slide_type": "slide"
    }
   },
   "source": [
    "## for文, p.121\n",
    "### リストを使う\n",
    "\n",
    "リストは要素を`[]`内に列挙してつくる。要素の取り出しは，例えば以下のように`for`文で行える。\n",
    "リストの詳細は今後の課題でも扱う。"
   ]
  },
  {
   "cell_type": "code",
   "execution_count": 38,
   "metadata": {
    "slideshow": {
     "slide_type": "slide"
    }
   },
   "outputs": [
    {
     "name": "stdout",
     "output_type": "stream",
     "text": [
      "1 5 9 "
     ]
    }
   ],
   "source": [
    "for x in [1,5,9]:\n",
    "    print(x, end=' ')"
   ]
  },
  {
   "cell_type": "markdown",
   "metadata": {
    "slideshow": {
     "slide_type": "slide"
    }
   },
   "source": [
    "リストは変数に代入することもできる。"
   ]
  },
  {
   "cell_type": "code",
   "execution_count": 39,
   "metadata": {
    "slideshow": {
     "slide_type": "slide"
    }
   },
   "outputs": [
    {
     "name": "stdout",
     "output_type": "stream",
     "text": [
      "1 5 9 "
     ]
    }
   ],
   "source": [
    "numlist=[1,5,9]\n",
    "for i in numlist:\n",
    "    print(i, end=' ')"
   ]
  },
  {
   "cell_type": "markdown",
   "metadata": {
    "slideshow": {
     "slide_type": "-"
    }
   },
   "source": [
    "Q. 引数として受け取った文字列リスト`s`(例: `fruit=[\"apple\", \"orange\", \"banana\"]`)の各要素を順に表示する関数`show_list()`を書きなさい。\n",
    "すなわち，\n",
    "```python\n",
    "fruits=[\"apple\", \"orange\", \"banana\"]\n",
    "show_list(fruits)\n",
    "```\n",
    "を実行すると，以下のような1行に出力されるとする。(区切り文字は空白にしなさい)\n",
    "```python\n",
    "apple orange banana\n",
    "```"
   ]
  },
  {
   "cell_type": "code",
   "execution_count": 40,
   "metadata": {
    "deletable": false,
    "nbgrader": {
     "cell_type": "code",
     "checksum": "bdeaeb0d49111bcdd327d0ec8027eea6",
     "grade": false,
     "grade_id": "A-basic-showlist",
     "locked": false,
     "schema_version": 3,
     "solution": true,
     "task": false
    },
    "slideshow": {
     "slide_type": "-"
    }
   },
   "outputs": [],
   "source": [
    "# このセルに関数の定義を入力する\n",
    "def show_list(s):\n",
    "# YOUR CODE HERE\n",
    "    st = \"\"\n",
    "    for e in s:\n",
    "        st += e + \" \"\n",
    "    print(st)"
   ]
  },
  {
   "cell_type": "code",
   "execution_count": 41,
   "metadata": {},
   "outputs": [
    {
     "name": "stdout",
     "output_type": "stream",
     "text": [
      "apple orange banana \n"
     ]
    }
   ],
   "source": [
    "# このセルで動作確認をしよう\n",
    "fruits=[\"apple\", \"orange\", \"banana\"]\n",
    "show_list(fruits)"
   ]
  },
  {
   "cell_type": "code",
   "execution_count": 42,
   "metadata": {
    "deletable": false,
    "editable": false,
    "nbgrader": {
     "cell_type": "code",
     "checksum": "45319adc7d7774115a3f575f9a07bbd6",
     "grade": true,
     "grade_id": "E-basic-showlist",
     "locked": true,
     "points": 1,
     "schema_version": 3,
     "solution": false,
     "task": false
    }
   },
   "outputs": [],
   "source": [
    "# 評価用セル\n",
    "with capture_stdout() as capture:\n",
    "        show_list([\"apple\", \"orange\", \"banana\", \"kiwi\"])\n",
    "\n",
    "assert str.strip(capture.result) ==\"apple orange banana kiwi\""
   ]
  },
  {
   "cell_type": "markdown",
   "metadata": {
    "slideshow": {
     "slide_type": "slide"
    }
   },
   "source": [
    "### range()関数を使う\n",
    "\n",
    "**`range(end)`** :0以上end**未満**の数列を生成する"
   ]
  },
  {
   "cell_type": "code",
   "execution_count": 43,
   "metadata": {
    "slideshow": {
     "slide_type": "slide"
    }
   },
   "outputs": [
    {
     "name": "stdout",
     "output_type": "stream",
     "text": [
      "0 1 2 3 4 "
     ]
    }
   ],
   "source": [
    "for i in range(5):\n",
    "    print(i, end=' ')"
   ]
  },
  {
   "cell_type": "markdown",
   "metadata": {},
   "source": [
    "**`range(begin, end)`**: begin以上end**未満**の数列を生成する。"
   ]
  },
  {
   "cell_type": "code",
   "execution_count": 44,
   "metadata": {},
   "outputs": [
    {
     "name": "stdout",
     "output_type": "stream",
     "text": [
      "1 2 3 4 "
     ]
    }
   ],
   "source": [
    "for i in range(1,5):\n",
    "    print(i,end=' ')"
   ]
  },
  {
   "cell_type": "markdown",
   "metadata": {
    "slideshow": {
     "slide_type": "slide"
    }
   },
   "source": [
    "**`range(begin, end, step)`**: begin以上end**未満**の数列を生成する。stepは要素間の間隔"
   ]
  },
  {
   "cell_type": "code",
   "execution_count": 45,
   "metadata": {
    "slideshow": {
     "slide_type": "slide"
    }
   },
   "outputs": [
    {
     "name": "stdout",
     "output_type": "stream",
     "text": [
      "3 5 7 "
     ]
    }
   ],
   "source": [
    "for i in range(3,8,2):\n",
    "    print(i, end=' ')"
   ]
  },
  {
   "cell_type": "markdown",
   "metadata": {
    "slideshow": {
     "slide_type": "-"
    }
   },
   "source": [
    "Q. 正の引数`n`に対して， `n n-1 n-2 ... 1`を順に`print()`で表示する関数`decrement(n)`を`range()`を用いて作りなさい。\n",
    "\n",
    "実行例\n",
    "```python\n",
    "decrement(5)\n",
    "```\n",
    "出力表示\n",
    "```python\n",
    "5 4 3 2 1\n",
    "```"
   ]
  },
  {
   "cell_type": "code",
   "execution_count": 46,
   "metadata": {
    "deletable": false,
    "nbgrader": {
     "cell_type": "code",
     "checksum": "c33a0f497546498048fbb69d8fafd73f",
     "grade": false,
     "grade_id": "A-basic-decrement",
     "locked": false,
     "schema_version": 3,
     "solution": true,
     "task": false
    },
    "slideshow": {
     "slide_type": "-"
    }
   },
   "outputs": [],
   "source": [
    "def decrement(n):\n",
    "# YOUR CODE HERE\n",
    "    print(\" \".join([str(i) for i in range(n, 0, -1)]))"
   ]
  },
  {
   "cell_type": "code",
   "execution_count": 47,
   "metadata": {},
   "outputs": [
    {
     "name": "stdout",
     "output_type": "stream",
     "text": [
      "3 2 1\n"
     ]
    }
   ],
   "source": [
    "# このセルで動作確認をしよう\n",
    "decrement(3)"
   ]
  },
  {
   "cell_type": "code",
   "execution_count": 48,
   "metadata": {
    "deletable": false,
    "editable": false,
    "nbgrader": {
     "cell_type": "code",
     "checksum": "dd87831f0db81be0dc7c815e33e088dd",
     "grade": true,
     "grade_id": "E-basic-decrement",
     "locked": true,
     "points": 1,
     "schema_version": 3,
     "solution": false,
     "task": false
    }
   },
   "outputs": [],
   "source": [
    "# 評価用セル\n",
    "with capture_stdout() as capture:\n",
    "        decrement(5)\n",
    "assert str.strip(capture.result) ==\"5 4 3 2 1\"\n",
    "with capture_stdout() as capture:\n",
    "        decrement(10)\n",
    "assert str.strip(capture.result) ==\"10 9 8 7 6 5 4 3 2 1\""
   ]
  },
  {
   "cell_type": "markdown",
   "metadata": {
    "slideshow": {
     "slide_type": "slide"
    }
   },
   "source": [
    "### for文の一般的な表現\n",
    "```python\n",
    "for 変数 in イテラブル:\n",
    "    実行文\n",
    "```\n",
    "- **イテラブル**: 順に一つずつ要素を取り出せるオブジェクト\n",
    "    - ex) リスト, range()でつくるシーケンスなど\n",
    "- for と inの 間の変数に，イテラブルの要素が順に代入される\n",
    "\n",
    "### 2重ループの例\n",
    "```python\n",
    "for i in range(3):\n",
    "    for j in range(4):\n",
    "        print(\"(%d, %d)\" % (i,j))\n",
    "```"
   ]
  },
  {
   "cell_type": "markdown",
   "metadata": {
    "slideshow": {
     "slide_type": "slide"
    }
   },
   "source": [
    "Q. 数字リスト(例: `states=[1,2,3,4,5]`)と文字リスト(例: `actions=[\"right\",\"left\"]`)を引数とし，各要素のすべての組み合わせについて，以下のように表示をするfor文を作りなさい。\n",
    "- 変数`states`に代入するリスト(数列)はrange()を使って生成しなさい。\n",
    "\n",
    "実行例\n",
    "```python\n",
    "states=range(1,4)\n",
    "actions=[\"right\",\"left\"]\n",
    "combination(states,actions)\n",
    "```\n",
    "実行結果\n",
    "```python\n",
    "(1,right)(1,left) #<=数字が繰り上がる毎に改行\n",
    "(2,right)(2,left)\n",
    "(3,right)(3,left)\n",
    "```"
   ]
  },
  {
   "cell_type": "code",
   "execution_count": 49,
   "metadata": {
    "deletable": false,
    "nbgrader": {
     "cell_type": "code",
     "checksum": "16d2e8abe384534cedbd0f51124c0ed6",
     "grade": false,
     "grade_id": "A-basic-combination",
     "locked": false,
     "schema_version": 3,
     "solution": true,
     "task": false
    },
    "slideshow": {
     "slide_type": "-"
    }
   },
   "outputs": [],
   "source": [
    "# このセルに関数の定義を入力する\n",
    "def combination(states,actions):\n",
    "# YOUR CODE HERE\n",
    "    for i in states:\n",
    "        print(\"\".join([\"(%d,%s)\" % (i, j) for j in actions]))"
   ]
  },
  {
   "cell_type": "code",
   "execution_count": 50,
   "metadata": {},
   "outputs": [
    {
     "name": "stdout",
     "output_type": "stream",
     "text": [
      "(1,right)(1,left)\n",
      "(2,right)(2,left)\n",
      "(3,right)(3,left)\n"
     ]
    }
   ],
   "source": [
    "# このセルで動作確認をしよう\n",
    "states=range(1,4)\n",
    "actions=[\"right\",\"left\"]\n",
    "combination(states,actions)"
   ]
  },
  {
   "cell_type": "code",
   "execution_count": 51,
   "metadata": {
    "deletable": false,
    "editable": false,
    "nbgrader": {
     "cell_type": "code",
     "checksum": "131b69fb4d5476e71269e18f6a59d7e3",
     "grade": true,
     "grade_id": "E-basic-combination",
     "locked": true,
     "points": 1,
     "schema_version": 3,
     "solution": false,
     "task": false
    }
   },
   "outputs": [],
   "source": [
    "# 評価用セル\n",
    "\n",
    "with capture_stdout() as capture:\n",
    "        combination(range(1,2),[\"top\",\"down\"])\n",
    "res=capture.result\n",
    "assert res.replace(\" \",\"\").strip() ==\"(1,top)(1,down)\"\n",
    "\n",
    "with capture_stdout() as capture:\n",
    "        combination(range(1,4),[\"right\",\"left\"])\n",
    "res=capture.result\n",
    "assert res.replace(\" \",\"\").strip() ==\"(1,right)(1,left)\\n(2,right)(2,left)\\n(3,right)(3,left)\""
   ]
  },
  {
   "cell_type": "code",
   "execution_count": 52,
   "metadata": {},
   "outputs": [
    {
     "data": {
      "text/html": [
       "\n",
       "    <div class=\"alert alert-danger\" style=\"animation: alert 2s ease-in infinite alternate\">1</div>\n",
       "    <style>\n",
       "    @keyframes alert {\n",
       "        0% {background-color: #f2dede}\n",
       "        100% {background-color: #ff0000}\n",
       "    }\n",
       "    </style>\n",
       "    "
      ],
      "text/plain": [
       "<IPython.core.display.HTML object>"
      ]
     },
     "metadata": {},
     "output_type": "display_data"
    }
   ],
   "source": [
    "_alert(1)"
   ]
  },
  {
   "cell_type": "code",
   "execution_count": null,
   "metadata": {},
   "outputs": [],
   "source": []
  }
 ],
 "metadata": {
  "kernelspec": {
   "display_name": "Python 3",
   "language": "python",
   "name": "python3"
  },
  "language_info": {
   "codemirror_mode": {
    "name": "ipython",
    "version": 3
   },
   "file_extension": ".py",
   "mimetype": "text/x-python",
   "name": "python",
   "nbconvert_exporter": "python",
   "pygments_lexer": "ipython3",
   "version": "3.6.9"
  },
  "nbTranslate": {
   "displayLangs": [
    "*"
   ],
   "hotkey": "alt-t",
   "langInMainMenu": true,
   "sourceLang": "en",
   "targetLang": "fr",
   "useGoogleTranslate": true
  },
  "rise": {
   "scroll": true
  },
  "toc": {
   "base_numbering": 1,
   "nav_menu": {},
   "number_sections": true,
   "sideBar": true,
   "skip_h1_title": false,
   "title_cell": "Table of Contents",
   "title_sidebar": "Contents",
   "toc_cell": false,
   "toc_position": {},
   "toc_section_display": true,
   "toc_window_display": false
  }
 },
 "nbformat": 4,
 "nbformat_minor": 2
}
