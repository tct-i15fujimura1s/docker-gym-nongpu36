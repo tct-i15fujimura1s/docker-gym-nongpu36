{
 "cells": [
  {
   "cell_type": "markdown",
   "metadata": {},
   "source": [
    "<div class=\"alert alert-danger\">\n",
    "\n",
    "# 名前欄\n",
    "\n",
    "</div>\n",
    "\n",
    "以下に名前と学籍番号(STUDENT_ID)の入力をして下さい。\n",
    "\n",
    "例)\n",
    "```python\n",
    "FAMILY_NAME = \"Yamaguchi\"# 姓をローマ字で入力\n",
    "FIRST_NAME = \"Daisuki\"   #  名をローマ字で入力\n",
    "USER = \"a11yamaguchi\"    # 公式メールアドレスのユーザ名\n",
    "STUDENT_ID = \"99999\" # 学籍番号\n",
    "```"
   ]
  },
  {
   "cell_type": "code",
   "execution_count": null,
   "metadata": {},
   "outputs": [],
   "source": [
    "FAMILY_NAME = \"Fujimura\"  # 姓をローマ字で入力\n",
    "FIRST_NAME = \"Soshi\"  #  名をローマ字で入力\n",
    "USER = \"i15fujimura1s\"  # 公式メールアドレスのユーザ名\n",
    "STUDENT_ID = \"15232\"  # 99999 等と省略なしで入力"
   ]
  },
  {
   "cell_type": "markdown",
   "metadata": {},
   "source": [
    "<div class=\"alert alert-danger\">\n",
    "\n",
    "# 提出方法(高専の皆さんへ)\n",
    "\n",
    "</div>\n",
    "\n",
    "以下のように**ディレクトリ(フォルダ)名を変更して提出**しましょう。\n",
    "```python\n",
    "元のディレクトリ名-学籍番号-名字(ローマ字)\n",
    "```\n",
    "例えば，元のディレクトリ名が`01-basic/`, 学籍番号が`99999`,名字が`Yamaguchi`の場合は以下になります。\n",
    "```python\n",
    "01-basic-99999-Yamaguchi/\n",
    "```"
   ]
  },
  {
   "cell_type": "markdown",
   "metadata": {},
   "source": [
    "<div class=\"alert alert-danger\">\n",
    "\n",
    "# 注意\n",
    "\n",
    "</div>\n",
    "\n",
    "\n",
    "- 以下の説明文を読み， 内容を納得できるように自分で試しなさい。\n",
    "- **「# このセルで試してみよう」**, **「# このセルで動作確認をしよう」**と書かれているセルは自由に使って構いません。\n",
    "- 必要に応じてセルを増やしても構いません。役立ちそうな情報もメモしておくと，今後プログラムを組む上で便利です。\n",
    "- 表題等には適宜教科書のページを書いてあります。詳しい説明は教科書を参照しなさい。\n",
    "\n",
    "<div class=\"alert alert-danger\">\n",
    "\n",
    "## 設問と解答用セル\n",
    "    \n",
    "</div>   \n",
    "\n",
    "\"**Q.**\" から始まる設問に対する解答は必ず入力しなさい。解答用セルには以下のように表示される。\n",
    "\n",
    "```python\n",
    "# YOUR CODE HERE\n",
    "raise NotImplementedError()\n",
    "```\n",
    "\n",
    "**注意**\n",
    "\n",
    "- <span class=\"mark\">raise NotImplementedError()の一行は**必ず消去**して</span>，<span class=\"mark\"># YOUR CODE HERE の下に解答</span>を書くこと。\n",
    "- <span class=\"mark\">\\# YOUR CODE HERE の一行は**消さない**</span>こと。どこに解答を書くべきかがわからなくなることがあります。\n",
    "- なんらかの演算をしたり，命令文を作ったときは，その**結果が予想通りか否かを必ず確認しなさい**\n",
    "\n",
    "<div class=\"alert alert-danger\">\n",
    "\n",
    "## 評価用セル\n",
    "    \n",
    "</div>\n",
    "\n",
    "- **「評価用セル」と書かれているセルは採点のためのセル**です。\n",
    "- **評価用コードが一部表示されている場合，それを実行すると課題の実行結果の確認**をできます。\n",
    "- **表示されていない評価用コードも**あります。\n",
    "\n",
    "<div class=\"alert alert-danger\">\n",
    "\n",
    "## 課題提出前の注意\n",
    "    \n",
    "</div>   \n",
    "\n",
    "**[重要]** 以下の手順で，全ての課題が正常に動作するか確認してから提出しましょう。\n",
    "\n",
    "1.  メニューバーの\"Kernel\"をクリック後，\"Restart\"を選択\n",
    "2. メニューバーの\"Cell\"を，\"Run All\"を選択"
   ]
  },
  {
   "cell_type": "code",
   "execution_count": 1,
   "metadata": {
    "deletable": false,
    "editable": false,
    "nbgrader": {
     "cell_type": "code",
     "checksum": "392f175766021693969351e62fae2a95",
     "grade": false,
     "grade_id": "cell-40994bf97ec795ef",
     "locked": true,
     "schema_version": 3,
     "solution": false,
     "task": false
    }
   },
   "outputs": [],
   "source": [
    "##### このセルは自動評価を行うための命令です。内容は無視して，実行(Shift-Enter)のみをしてください。\n",
    "#%%writefile unittests.py\n",
    "#%load unittests.py\n",
    "%run unittests.py"
   ]
  },
  {
   "cell_type": "markdown",
   "metadata": {
    "slideshow": {
     "slide_type": "slide"
    }
   },
   "source": [
    "<div class=\"alert alert-success\">\n",
    "    \n",
    "# タプル(tuple)\n",
    "\n",
    "</div>\n",
    "\n",
    "| 名前       |    例                       |                                                      |\n",
    "|-------------|----------------------------|------------------------------------------------------|\n",
    "| リスト(list)   | ``L=[\"kiwi\", \"banana\", \"apple\"]``  | インデックス番号付き集合               |\n",
    "| **タプル(tuple)** | ``T=(\"kiwi\", \"banana\", \"apple\")`` | **インデックス番号付き集合(代入不可)**    |\n",
    "| 辞書(dict)  | ``D={\"kiwi\":3, \"banana\":2, \"apple\":3}`` | インデックス番号無し (key,value) 対応表 |\n",
    "| セット(set)   | ``S={\"kiwi\", \"banana\", \"apple\"}``     | インデックス番号無し集合                |\n",
    "\n",
    "- タプルの定義，要素へのアクセス，スライス等はリストとほぼ同様\n",
    "- リストは要素を`[]`で囲むが，タプルは`()`で囲む\n",
    "- リストと異なり，一度定義したら**要素の書き換えはできない**\n"
   ]
  },
  {
   "cell_type": "markdown",
   "metadata": {
    "slideshow": {
     "slide_type": "slide"
    }
   },
   "source": [
    "## tupleを作る・使う, p.184-190\n",
    "\n",
    "テキストを参考に以下を実行しなさい。"
   ]
  },
  {
   "cell_type": "markdown",
   "metadata": {
    "slideshow": {
     "slide_type": "-"
    }
   },
   "source": [
    "Q. \"banana\", \"orange\", \"apple\", \"kiwi\"を要素とするタプルfruitを定義しなさい。"
   ]
  },
  {
   "cell_type": "code",
   "execution_count": null,
   "metadata": {
    "deletable": false,
    "nbgrader": {
     "cell_type": "code",
     "checksum": "037e30173b4329b75dd7f2383d0460d6",
     "grade": false,
     "grade_id": "cell-f13fba9f69183491",
     "locked": false,
     "schema_version": 3,
     "solution": true,
     "task": false
    },
    "slideshow": {
     "slide_type": "-"
    }
   },
   "outputs": [],
   "source": [
    "# YOUR CODE HERE\n"
   ]
  },
  {
   "cell_type": "code",
   "execution_count": null,
   "metadata": {
    "deletable": false,
    "editable": false,
    "nbgrader": {
     "cell_type": "code",
     "checksum": "e01413b270ca7d38dfad46be4c785fdd",
     "grade": true,
     "grade_id": "E-tuple-fruit",
     "locked": true,
     "points": 0.5,
     "schema_version": 3,
     "solution": false,
     "task": false
    }
   },
   "outputs": [],
   "source": [
    "# 評価用セル"
   ]
  },
  {
   "cell_type": "markdown",
   "metadata": {
    "slideshow": {
     "slide_type": "-"
    }
   },
   "source": [
    "Q. 前問で定義した`fruit`の最後の2つの要素をスライス(抜き出し)し，変数`to_buy`に代入しなさい。インデックスには負の整数を使うことでスライスすること。"
   ]
  },
  {
   "cell_type": "code",
   "execution_count": null,
   "metadata": {
    "deletable": false,
    "nbgrader": {
     "cell_type": "code",
     "checksum": "be0316c3b245e9471c81712c0491c8b4",
     "grade": false,
     "grade_id": "cell-89eba6f8eb151dd1",
     "locked": false,
     "schema_version": 3,
     "solution": true,
     "task": false
    },
    "slideshow": {
     "slide_type": "-"
    }
   },
   "outputs": [],
   "source": [
    "# YOUR CODE HERE\n",
    "raise NotImplementedError()"
   ]
  },
  {
   "cell_type": "code",
   "execution_count": null,
   "metadata": {
    "deletable": false,
    "editable": false,
    "nbgrader": {
     "cell_type": "code",
     "checksum": "bbafd545f9879ef424bc8d99f99d3391",
     "grade": true,
     "grade_id": "E-tuple-slice",
     "locked": true,
     "points": 0.5,
     "schema_version": 3,
     "solution": false,
     "task": false
    }
   },
   "outputs": [],
   "source": [
    "# 評価用セル"
   ]
  },
  {
   "cell_type": "markdown",
   "metadata": {
    "slideshow": {
     "slide_type": "-"
    }
   },
   "source": [
    "Q. 0から4までの整数を要素とするタプルを関数`range()`を使って定義し，変数`L`に代入しなさい"
   ]
  },
  {
   "cell_type": "code",
   "execution_count": null,
   "metadata": {
    "deletable": false,
    "nbgrader": {
     "cell_type": "code",
     "checksum": "d5552da7007c6171a421613a3a70cbdb",
     "grade": false,
     "grade_id": "cell-7f419a8ec32f2113",
     "locked": false,
     "schema_version": 3,
     "solution": true,
     "task": false
    },
    "slideshow": {
     "slide_type": "-"
    }
   },
   "outputs": [],
   "source": [
    "# YOUR CODE HERE\n",
    "raise NotImplementedError()"
   ]
  },
  {
   "cell_type": "code",
   "execution_count": null,
   "metadata": {
    "deletable": false,
    "editable": false,
    "nbgrader": {
     "cell_type": "code",
     "checksum": "a62e383ba1ba6b85498532842c177f3c",
     "grade": true,
     "grade_id": "E-tuple-range",
     "locked": true,
     "points": 0.5,
     "schema_version": 3,
     "solution": false,
     "task": false
    }
   },
   "outputs": [],
   "source": [
    "# 評価用セル"
   ]
  },
  {
   "cell_type": "markdown",
   "metadata": {
    "slideshow": {
     "slide_type": "-"
    }
   },
   "source": [
    "Q. 前問で定義した`L`の各要素を`a`,`b`,`c`,`d`,`e`の各変数に一括代入しなさい"
   ]
  },
  {
   "cell_type": "code",
   "execution_count": null,
   "metadata": {
    "deletable": false,
    "nbgrader": {
     "cell_type": "code",
     "checksum": "acb4fa3aafd05b6bb0fee29fdca77ac5",
     "grade": false,
     "grade_id": "cell-67983b18d3d85e40",
     "locked": false,
     "schema_version": 3,
     "solution": true,
     "task": false
    },
    "slideshow": {
     "slide_type": "-"
    }
   },
   "outputs": [],
   "source": [
    "# YOUR CODE HERE\n",
    "raise NotImplementedError()"
   ]
  },
  {
   "cell_type": "code",
   "execution_count": null,
   "metadata": {
    "deletable": false,
    "editable": false,
    "nbgrader": {
     "cell_type": "code",
     "checksum": "19b939c47a5b5149f358ca3a8ce1810f",
     "grade": true,
     "grade_id": "E-tuple-element",
     "locked": true,
     "points": 0.5,
     "schema_version": 3,
     "solution": false,
     "task": false
    }
   },
   "outputs": [],
   "source": [
    "# 評価用セル"
   ]
  },
  {
   "cell_type": "markdown",
   "metadata": {
    "slideshow": {
     "slide_type": "slide"
    }
   },
   "source": [
    "## タプル(tuple)への代入\n",
    "\n",
    "一度定義したタプルの要素を後で書き換えることはできない。\n",
    "```python\n",
    "a=(1,2,3,5)\n",
    "a[3]=4      # 要素を書き換えようとするとエラーが出る(試してみること)\n",
    "```\n",
    "ただし，以下のように変数に代入されているタプルを別のタプルに置き換えることはできる。\n",
    "```python\n",
    "a=(1,2,3,5)\n",
    "a=(5,2,3)   # タプルの置き換え (タプル(5,2,3)のidがaの参照先に)\n",
    "```\n",
    "実際にを次セルで試してみなさい。"
   ]
  },
  {
   "cell_type": "code",
   "execution_count": null,
   "metadata": {},
   "outputs": [],
   "source": [
    "# このセルで試してみよう"
   ]
  },
  {
   "cell_type": "markdown",
   "metadata": {
    "slideshow": {
     "slide_type": "-"
    }
   },
   "source": [
    "Q. 以下の命令文を実行したとき，エラーが出る行を全て答えなさい。ただし，各行頭の番号は行番号を表す。\n",
    "```python\n",
    "1:  a=[1,2,3,5]\n",
    "2:  b=(9,8,7,5)\n",
    "3:  a[3]=4\n",
    "4:  b[3]=6\n",
    "```\n",
    "回答例)\n",
    "```python\n",
    "ans=[2]   # 2行目のみでエラーがでる場合\n",
    "ans=[1,2]   # 1, 2行目でエラーがでる場合\n",
    "```"
   ]
  },
  {
   "cell_type": "code",
   "execution_count": null,
   "metadata": {
    "deletable": false,
    "nbgrader": {
     "cell_type": "code",
     "checksum": "1b963760c7ae1325facca0c381cc2549",
     "grade": false,
     "grade_id": "cell-de11f28de8559049",
     "locked": false,
     "schema_version": 3,
     "solution": true,
     "task": false
    }
   },
   "outputs": [],
   "source": [
    "# YOUR CODE HERE\n",
    "raise NotImplementedError()"
   ]
  },
  {
   "cell_type": "code",
   "execution_count": null,
   "metadata": {
    "deletable": false,
    "editable": false,
    "nbgrader": {
     "cell_type": "code",
     "checksum": "a8904ed00def91c0156968e18305d1ec",
     "grade": true,
     "grade_id": "E-tuple-sustitution",
     "locked": true,
     "points": 0.5,
     "schema_version": 3,
     "solution": false,
     "task": false
    }
   },
   "outputs": [],
   "source": [
    "# 評価用セル"
   ]
  },
  {
   "cell_type": "markdown",
   "metadata": {
    "slideshow": {
     "slide_type": "slide"
    }
   },
   "source": [
    "<div class=\"alert alert-success\">\n",
    "\n",
    "# 辞書(dict)\n",
    "\n",
    "</div>\n",
    "\n",
    "| 名前       |    例                       |                                                      |\n",
    "|-------------|----------------------------|------------------------------------------------------|\n",
    "| リスト(list)   | ``L=[\"kiwi\", \"banana\", \"apple\"]``  | インデックス番号付き集合                 |\n",
    "| タプル(tuple)| ``T=(\"kiwi\", \"banana\", \"apple\")``      |インデックス番号付き集合(代入不可)       |\n",
    "| **辞書(dict)**  | ``D={\"kiwi\":3, \"banana\":2, \"apple\":3}`` | **インデックス番号無し (key,value) 対応表** |\n",
    "| セット(set)   | ``S={\"kiwi\", \"banana\", \"apple\"}``     | インデックス番号無し集合                |            |\n",
    "\n",
    "- **書式:** `dict_name={key 1: value 1, key 2: value 2, ...}`\n",
    "- 辞書(`dict`)には，検索のための`key`と，検索キーに紐付けられる`value`のペアを登録する。\n",
    "- リストやタプルのように，各要素に対するインデックスは存在しない。"
   ]
  },
  {
   "cell_type": "markdown",
   "metadata": {
    "slideshow": {
     "slide_type": "slide"
    }
   },
   "source": [
    "## 辞書(dict)を作る, p.214\n",
    "\n",
    "以下は，`key`が文字列，`value`が数値の例"
   ]
  },
  {
   "cell_type": "code",
   "execution_count": null,
   "metadata": {
    "slideshow": {
     "slide_type": "slide"
    }
   },
   "outputs": [],
   "source": [
    "reward={\"cheese\" : 100 , # リストや辞書等では，折返し記号\"\\\"なしで改行可\n",
    "        \"enemy\" : -10, \n",
    "        \"friend\" : -1}\n",
    "\n",
    "print(reward[\"friend\"]) # 辞書の参照は dict[key]"
   ]
  },
  {
   "cell_type": "markdown",
   "metadata": {
    "slideshow": {
     "slide_type": "slide"
    }
   },
   "source": [
    "以下は，4-listにあったN部屋環境について，`key` を(状態(部屋番号), 行動)のタプル，`value`を，状態行動ペアに対する状態行動価値関数の値になっている例"
   ]
  },
  {
   "cell_type": "code",
   "execution_count": null,
   "metadata": {
    "slideshow": {
     "slide_type": "slide"
    }
   },
   "outputs": [],
   "source": [
    "Qvalue={(1,\"right\") : 0.5, \n",
    "        (1,\"left\") : 1.5, \n",
    "        (2,\"right\") : 0, \n",
    "        (2, \"left\") : -1} \n",
    "\n",
    "print(Qvalue[(2,\"right\")])"
   ]
  },
  {
   "cell_type": "markdown",
   "metadata": {},
   "source": [
    "Q. 以下の処理を次のセルに入力しなさい。\n",
    "1. `key`を\"alpha\", \"beta\", \"gamma\", \"delta\", それぞれに対応する`value`を\"a\",\"b\",\"r\",\"d\"とする辞書`abc`を定義しなさい。\n",
    "2. 関数`len()`を使って辞書`abc`の要素数を確認し，変数`len_abc`に代入しなさい。\n",
    "3. 辞書`abc`から`key` \"beta\"に対応する`value`を取得し，変数`value_beta`に代入しなさい。"
   ]
  },
  {
   "cell_type": "code",
   "execution_count": null,
   "metadata": {
    "deletable": false,
    "nbgrader": {
     "cell_type": "code",
     "checksum": "919b5bcf16f460c2908ca5b9c859dd14",
     "grade": false,
     "grade_id": "cell-6bb7508a653cc31b",
     "locked": false,
     "schema_version": 3,
     "solution": true,
     "task": false
    },
    "slideshow": {
     "slide_type": "-"
    }
   },
   "outputs": [],
   "source": [
    "# YOUR CODE HERE\n",
    "raise NotImplementedError()"
   ]
  },
  {
   "cell_type": "code",
   "execution_count": null,
   "metadata": {},
   "outputs": [],
   "source": [
    "# このセルで結果を確認しよう"
   ]
  },
  {
   "cell_type": "code",
   "execution_count": null,
   "metadata": {
    "deletable": false,
    "editable": false,
    "nbgrader": {
     "cell_type": "code",
     "checksum": "7e5785c761250b8e1d86743c3cd66785",
     "grade": true,
     "grade_id": "E-dict-basic",
     "locked": true,
     "points": 1,
     "schema_version": 3,
     "solution": false,
     "task": false
    }
   },
   "outputs": [],
   "source": [
    "# 評価用セル"
   ]
  },
  {
   "cell_type": "markdown",
   "metadata": {
    "slideshow": {
     "slide_type": "slide"
    }
   },
   "source": [
    "## 辞書の更新・追加, p.218\n",
    "\n",
    "辞書の`value`を変更したり，新しい`{key,value}`ペアを登録する方法\n",
    "\n",
    "### dict[key]を用いる\n",
    "\n",
    "書式: `dict[key]=new_value`\n",
    "- `key`が辞書`dict`に存在しない場合は，`{key: value}`ペアを登録\n",
    "- `key`が辞書`dict`に存在するは場合は，`key`に対応する`value`を`new value`に変更"
   ]
  },
  {
   "cell_type": "code",
   "execution_count": null,
   "metadata": {},
   "outputs": [],
   "source": [
    "price={\"tomato\" : 200,\n",
    "        \"banana\": 100, \n",
    "        \"apple\" : 150}\n",
    "\n",
    "price[\"banana\"]=120   # 辞書priceのkey \"banana\"に対するvalueを書き換える\n",
    "print(price[\"banana\"])\n",
    "\n",
    "price[\"kiwi\"]=200   # 辞書priceに無いkeyに対しては，{key,value}が登録される\n",
    "print(price)"
   ]
  },
  {
   "cell_type": "markdown",
   "metadata": {
    "slideshow": {
     "slide_type": "slide"
    }
   },
   "source": [
    "### dict.setdefault()を用いる\n",
    "\n",
    "メソッド `dict.setdefault(key,value)`\n",
    "- `key`が辞書`dict`に存在しない場合は，`{key: value}`ペアを登録\n",
    "- `key`が辞書`dict`に存在するは場合は，何もしない\n",
    "- 返り値は，`key`に対する`value`(上記処理後の値)"
   ]
  },
  {
   "cell_type": "code",
   "execution_count": null,
   "metadata": {
    "slideshow": {
     "slide_type": "slide"
    }
   },
   "outputs": [],
   "source": [
    "print(price)\n",
    "price.setdefault(\"banana\",150)   # 辞書priceにkey \"banana\"がなければ登録する\n",
    "print(price[\"banana\"]) # すでに \"banana\" は登録済みだったので，valueの変更もされない"
   ]
  },
  {
   "cell_type": "markdown",
   "metadata": {},
   "source": [
    "Q. 以下を実行した後の，`k`, `a`, `price[\"apple\"]`の値を答えなさい。"
   ]
  },
  {
   "cell_type": "code",
   "execution_count": null,
   "metadata": {},
   "outputs": [],
   "source": [
    "price={\"tomato\" : 200,\n",
    "        \"banana\" : 180, \n",
    "        \"apple\" : 150}\n",
    "k=price.setdefault(\"kiwi\",250)\n",
    "a=price.setdefault(\"apple\",300)"
   ]
  },
  {
   "cell_type": "markdown",
   "metadata": {},
   "source": [
    "解答欄には以下の例のように入力しなさい。\n",
    "```python\n",
    "val_k=500    # kの値\n",
    "val_a=1000   # aの値\n",
    "val_apple=30 # price[\"apple\"]の値\n",
    "```"
   ]
  },
  {
   "cell_type": "code",
   "execution_count": null,
   "metadata": {
    "deletable": false,
    "nbgrader": {
     "cell_type": "code",
     "checksum": "9529c49d848c98dd156f9f52ada2e28b",
     "grade": false,
     "grade_id": "cell-df9f8502956bb5fe",
     "locked": false,
     "schema_version": 3,
     "solution": true,
     "task": false
    }
   },
   "outputs": [],
   "source": [
    "# YOUR CODE HERE\n",
    "raise NotImplementedError()"
   ]
  },
  {
   "cell_type": "code",
   "execution_count": null,
   "metadata": {
    "deletable": false,
    "editable": false,
    "nbgrader": {
     "cell_type": "code",
     "checksum": "c4ae358318b0cb9938c462de390c14d1",
     "grade": true,
     "grade_id": "E-dict-setdefault",
     "locked": true,
     "points": 1,
     "schema_version": 3,
     "solution": false,
     "task": false
    },
    "slideshow": {
     "slide_type": "-"
    }
   },
   "outputs": [],
   "source": [
    "# 評価用セル"
   ]
  },
  {
   "cell_type": "markdown",
   "metadata": {
    "slideshow": {
     "slide_type": "slide"
    }
   },
   "source": [
    "## 辞書の参照, p.224\n",
    "\n",
    "- 方法1: `dict[key]`\n",
    "    - 直接辞書要素にアクセスする \n",
    "    - 存在しないキーに対してアクセスするとエラーになる\n",
    "- 方法2: `dict.get(key)`\n",
    "    - 存在しないキーに対してアクセスしてもエラーにはならず，`None`が返り値になる\n",
    "- 方法3: `dict.get(key,[default])`\n",
    "    - メソッド`dict.get()`は，**存在しないkeyにアクセスした場合に返す値(default)を指定**できる。\n",
    "    - 注)`[]`で囲んだ引数は，省略可能なことを示す。"
   ]
  },
  {
   "cell_type": "markdown",
   "metadata": {
    "slideshow": {
     "slide_type": "slide"
    }
   },
   "source": [
    "Q. 引数で与えられた辞書`D`に対して，引数で指定したリスト`key_list`の各要素(`key`)に対する`value`を表示する関数`check_key(D,key_list)`を作りなさい。\n",
    "\n",
    "注意\n",
    "- 辞書に存在しない`key`に対する`value`は，`dic.get()`の引数設定によって`999`と表示するようにしなさい。\n",
    "- 表示結果は、下記の実行例のように`key`と`value`のペアを表示するようにすること。(`key`と`value`の間の区切り文字は\":\")\n",
    "\n",
    "**実行例**\n",
    "\n",
    "- 命令文\n",
    "```python\n",
    "price={\"tomato\" : 200 , \"banana\" : 100, \"apple\" : 150}\n",
    "keys=[\"apple\", \"kiwi\", \"tomato\"]\n",
    "check_key(price,key)\n",
    "```\n",
    "- 出力結果\n",
    "```python\n",
    "apple:150\n",
    "kiwi:999\n",
    "tomato:200\n",
    "```"
   ]
  },
  {
   "cell_type": "code",
   "execution_count": null,
   "metadata": {
    "deletable": false,
    "nbgrader": {
     "cell_type": "code",
     "checksum": "4a9e823bcea5d557e8e2aaf89fe62a29",
     "grade": false,
     "grade_id": "cell-f928f7728d467940",
     "locked": false,
     "schema_version": 3,
     "solution": true,
     "task": false
    },
    "slideshow": {
     "slide_type": "-"
    }
   },
   "outputs": [],
   "source": [
    "# このセルに関数の定義を入力する\n",
    "# YOUR CODE HERE\n",
    "raise NotImplementedError()"
   ]
  },
  {
   "cell_type": "code",
   "execution_count": null,
   "metadata": {},
   "outputs": [],
   "source": [
    "# このセルで動作確認をしよう"
   ]
  },
  {
   "cell_type": "code",
   "execution_count": null,
   "metadata": {
    "deletable": false,
    "editable": false,
    "nbgrader": {
     "cell_type": "code",
     "checksum": "7900d67be0c3763669a1437869597a70",
     "grade": true,
     "grade_id": "E-dict-checkkey",
     "locked": true,
     "points": 1,
     "schema_version": 3,
     "solution": false,
     "task": false
    }
   },
   "outputs": [],
   "source": [
    "to_buy={\"tomato\" : 200 , \"banana\" : 100, \"apple\" : 150}\n",
    "keys=[\"apple\", \"kiwi\", \"tomato\"]\n",
    "\n",
    "with capture_stdout() as capture:\n",
    "    check_key(D=to_buy,key_list=keys)   # ここに，監視する関数を列挙する。\n",
    "res=capture.result\n",
    "assert res.replace(\" \",\"\").strip() ==\"apple:150\\nkiwi:999\\ntomato:200\"\n",
    "\n",
    "with capture_stdout() as capture:\n",
    "    check_key({\"potato\" :300 , \"pumpkin\" : 200, \"eggplant\" : 100},[\"apple\",\"eggplant\"])   # ここに，監視する関数を列挙する。\n",
    "res=capture.result\n",
    "assert res.replace(\" \",\"\").strip() ==\"apple:999\\neggplant:100\"\n",
    "print(\"Ok!\")"
   ]
  },
  {
   "cell_type": "markdown",
   "metadata": {
    "slideshow": {
     "slide_type": "slide"
    }
   },
   "source": [
    "## 辞書の値一覧, p.225\n",
    "\n",
    "- `dict.keys()`   # 辞書に含まれるkey一覧を返す\n",
    "- `dict.values()` # 辞書に含まれるvalue一覧を返す"
   ]
  },
  {
   "cell_type": "markdown",
   "metadata": {},
   "source": [
    "Q. 以下の辞書`Q`のすべての`key`および`value`の一覧をそれぞれ取得し，それぞれ変数`key_list`, `value_list`に代入しなさい。"
   ]
  },
  {
   "cell_type": "code",
   "execution_count": null,
   "metadata": {},
   "outputs": [],
   "source": [
    "Q={(1,\"right\") : 0.5, \n",
    "    (1,\"left\") : 1.5, \n",
    "    (2,\"right\") : 0, \n",
    "    (2, \"left\") : -1} "
   ]
  },
  {
   "cell_type": "code",
   "execution_count": null,
   "metadata": {
    "deletable": false,
    "nbgrader": {
     "cell_type": "code",
     "checksum": "18dc200716337199bbb5102e5d75e79e",
     "grade": false,
     "grade_id": "cell-4c1088cd7f1b0b5f",
     "locked": false,
     "schema_version": 3,
     "solution": true,
     "task": false
    },
    "slideshow": {
     "slide_type": "-"
    }
   },
   "outputs": [],
   "source": [
    "# YOUR CODE HERE\n",
    "raise NotImplementedError()"
   ]
  },
  {
   "cell_type": "code",
   "execution_count": null,
   "metadata": {},
   "outputs": [],
   "source": [
    "# このセルで結果を確認しよう"
   ]
  },
  {
   "cell_type": "code",
   "execution_count": null,
   "metadata": {
    "deletable": false,
    "editable": false,
    "nbgrader": {
     "cell_type": "code",
     "checksum": "20f69eabb220a9cf431d71c60aa1923a",
     "grade": true,
     "grade_id": "E-dict-Q",
     "locked": true,
     "points": 1,
     "schema_version": 3,
     "solution": false,
     "task": false
    }
   },
   "outputs": [],
   "source": [
    "# 評価用セル"
   ]
  },
  {
   "cell_type": "markdown",
   "metadata": {},
   "source": [
    "Q. 引数で与えられた辞書`D`に対して，全ての`value`の総和を返り値とする関数`total_price(D)`を作りなさい。\n",
    "\n",
    "**実行例**\n",
    "\n",
    "- 命令文\n",
    "```python\n",
    "price={\"tomato\" : 200 , \"banana\" : 100, \"apple\" : 150}\n",
    "sum=total_price(D)\n",
    "print(sum)\n",
    "```\n",
    "- 出力結果\n",
    "```python\n",
    "450\n",
    "```\n",
    "ヒント) リスト要素の数値の合計は関数`sum()`で取得できる。"
   ]
  },
  {
   "cell_type": "code",
   "execution_count": null,
   "metadata": {
    "deletable": false,
    "nbgrader": {
     "cell_type": "code",
     "checksum": "3ddf6ec4d0967437e99ac19a9bc18c22",
     "grade": false,
     "grade_id": "cell-93aa327269732118",
     "locked": false,
     "schema_version": 3,
     "solution": true,
     "task": false
    }
   },
   "outputs": [],
   "source": [
    "# このセルに関数の定義を入力する\n",
    "# YOUR CODE HERE\n",
    "raise NotImplementedError()"
   ]
  },
  {
   "cell_type": "code",
   "execution_count": null,
   "metadata": {},
   "outputs": [],
   "source": [
    "# このセルで結果を確認しよう"
   ]
  },
  {
   "cell_type": "code",
   "execution_count": null,
   "metadata": {
    "deletable": false,
    "editable": false,
    "nbgrader": {
     "cell_type": "code",
     "checksum": "cd80c1cad574a56b67e98dbfef5a535d",
     "grade": true,
     "grade_id": "E-dict-total_price",
     "locked": true,
     "points": 1,
     "schema_version": 3,
     "solution": false,
     "task": false
    }
   },
   "outputs": [],
   "source": [
    "# 評価用セル\n",
    "fruit={\"tomato\" : 200 , \"banana\" : 100, \"apple\" : 150}\n",
    "cost=total_price(D=fruit)\n",
    "eq_(cost,450)\n",
    "price={\"potato\" : 100 , \"carrot\" : 100, \"egg\" : 300}\n",
    "cost=total_price(price)\n",
    "eq_(cost,500)\n",
    "print(\"ok\")"
   ]
  },
  {
   "cell_type": "markdown",
   "metadata": {
    "slideshow": {
     "slide_type": "slide"
    }
   },
   "source": [
    "## 関数とMutableな引数\n",
    "\n",
    "関数の引数(仮引数)の値を関数内で変更した場合，\n",
    "- 引数が**Immutable(変更不可)**な型ならば呼び出した側の引数(実引数)は変化しない(値渡し)\n",
    "    - immutableな型の例: `int, float, str, tuple,...`\n",
    "- **Mutable(変更可能)**ならば，実引数も変化する(参照渡し)\n",
    "    - mutableな型の例: `list, dict, set,...`"
   ]
  },
  {
   "cell_type": "markdown",
   "metadata": {
    "slideshow": {
     "slide_type": "-"
    }
   },
   "source": [
    "Q. 下記のプログラムの実行後，`state`の値は変化しているだろうか。"
   ]
  },
  {
   "cell_type": "code",
   "execution_count": null,
   "metadata": {},
   "outputs": [],
   "source": [
    "def new_state(s,a):\n",
    "    if not a in action_list:\n",
    "        print(\"invalid action\")\n",
    "        return(False)\n",
    "    elif a==\"right\":\n",
    "        s+=1\n",
    "    else:\n",
    "        s-=1\n",
    "    return(s)\n",
    "\n",
    "action_list=[\"right\", \"left\"]\n",
    "state=3\n",
    "new_state(state,\"right\")"
   ]
  },
  {
   "cell_type": "markdown",
   "metadata": {},
   "source": [
    "解答欄には以下のように記入しなさい。\n",
    "```python\n",
    "ans=False  #`state`の値が変化しない場合\n",
    "ans=True   #`state`の値が変化する場合\n",
    "```"
   ]
  },
  {
   "cell_type": "code",
   "execution_count": null,
   "metadata": {
    "deletable": false,
    "nbgrader": {
     "cell_type": "code",
     "checksum": "59abb84a354cc85cf051ca2d52f38f9d",
     "grade": false,
     "grade_id": "cell-e266d7697d5a3b22",
     "locked": false,
     "schema_version": 3,
     "solution": true,
     "task": false
    },
    "slideshow": {
     "slide_type": "-"
    }
   },
   "outputs": [],
   "source": [
    "# YOUR CODE HERE\n",
    "raise NotImplementedError()"
   ]
  },
  {
   "cell_type": "code",
   "execution_count": null,
   "metadata": {
    "deletable": false,
    "editable": false,
    "nbgrader": {
     "cell_type": "code",
     "checksum": "c4b18294104f188f1a4f72bfbed0f0df",
     "grade": true,
     "grade_id": "E-dict-new_state",
     "locked": true,
     "points": 0.5,
     "schema_version": 3,
     "solution": false,
     "task": false
    }
   },
   "outputs": [],
   "source": [
    "# 評価用セル"
   ]
  },
  {
   "cell_type": "markdown",
   "metadata": {
    "slideshow": {
     "slide_type": "slide"
    }
   },
   "source": [
    "Q. 下記のように関数`append_action()`を作って，リスト`action_list`を更新しようとしてみた。\n",
    "関数`append_action()`を呼び出した後，リスト`action_list` の要素は変化しているだろうか。"
   ]
  },
  {
   "cell_type": "code",
   "execution_count": null,
   "metadata": {
    "slideshow": {
     "slide_type": "slide"
    }
   },
   "outputs": [],
   "source": [
    "def append_action(list,a):\n",
    "        list.append(a)\n",
    "\n",
    "action_list=[\"right\", \"left\"]\n",
    "append_action(action_list,\"up\")"
   ]
  },
  {
   "cell_type": "code",
   "execution_count": null,
   "metadata": {},
   "outputs": [],
   "source": [
    "# このセルで試してみよう"
   ]
  },
  {
   "cell_type": "markdown",
   "metadata": {
    "slideshow": {
     "slide_type": "slide"
    }
   },
   "source": [
    "解答欄には以下のように記入しなさい。\n",
    "\n",
    "```python\n",
    "ans=False  #`action_list`の要素が変化しない場合\n",
    "ans=True   #`action_list`の要素が変化する場合\n",
    "```"
   ]
  },
  {
   "cell_type": "code",
   "execution_count": null,
   "metadata": {
    "deletable": false,
    "nbgrader": {
     "cell_type": "code",
     "checksum": "98489b50503799e0330df481778eba75",
     "grade": false,
     "grade_id": "cell-8ffe915e52638611",
     "locked": false,
     "schema_version": 3,
     "solution": true,
     "task": false
    },
    "slideshow": {
     "slide_type": "-"
    }
   },
   "outputs": [],
   "source": [
    "# YOUR CODE HERE\n",
    "raise NotImplementedError()"
   ]
  },
  {
   "cell_type": "code",
   "execution_count": null,
   "metadata": {
    "deletable": false,
    "editable": false,
    "nbgrader": {
     "cell_type": "code",
     "checksum": "e08ff7b79f1cce905839b561ce8c63cc",
     "grade": true,
     "grade_id": "E-dict-append_action",
     "locked": true,
     "points": 1,
     "schema_version": 3,
     "solution": false,
     "task": false
    }
   },
   "outputs": [],
   "source": [
    "# 評価用セル"
   ]
  },
  {
   "cell_type": "markdown",
   "metadata": {
    "slideshow": {
     "slide_type": "slide"
    }
   },
   "source": [
    "<div class=\"alert alert-success\">\n",
    "\n",
    "# 練習問題(Q学習のプログラムを作るための準備)\n",
    "\n",
    "</div>"
   ]
  },
  {
   "cell_type": "markdown",
   "metadata": {},
   "source": [
    "以下のように，辞書(dict) `Q` とリスト`action_list`がある。"
   ]
  },
  {
   "cell_type": "code",
   "execution_count": null,
   "metadata": {},
   "outputs": [],
   "source": [
    "Q={(1,\"right\") : 0.5, \n",
    "    (1,\"left\") : 1.5, \n",
    "    (2,\"right\") : -1.0, \n",
    "    (3,\"right\") : 1.0, }\n",
    "action_list=[\"right\",\"left\"]"
   ]
  },
  {
   "cell_type": "markdown",
   "metadata": {},
   "source": [
    "`Q` は状態行動ペア`(s, a)`に対する状態行動価値関数の値(Q値)の一覧，`action_list`はとりうる行動のリストである。"
   ]
  },
  {
   "cell_type": "markdown",
   "metadata": {
    "slideshow": {
     "slide_type": "slide"
    }
   },
   "source": [
    "Q1. 以下の仕様を満たす関数`get_maxQ(s,q0)`を作りなさい。\n",
    "- **概要**\n",
    "    - 引数で与えた状態`s`に対して, `Q(s,a)`の最大値 $\\max_aQ(s,a)$ および， `Q(s,a)`の最大値を与える行動`a`, すなわち$\\arg\\max_aQ(s,a)$のリストを返す。\n",
    "- **外部変数**(関数外に用意されている変数)\n",
    "    - `Q`: 状態行動価値関数の値を格納する辞書(上記説明文参照)\n",
    "    - `action_list`: エージェントが取りうる`action`のリスト(上記説明文参照)\n",
    "- **引数**\n",
    "    - s : 状態\n",
    "    - q0 : 辞書`Q`に未定義なkey`(s,a)`に対するQ値。**デフォルト値は`0.0`**\n",
    "- **返り値**: 引数の状態`s`に対して，Q値が最大値をとる最適行動を選択した場合の以下の2つの値\n",
    "    - Q値\n",
    "    - Q値を最大にする行動がリスト`action_list`のいずれの要素であるかを示す，そのインデックスのリスト\n",
    "- **その他**\n",
    "    - 最適行動を求める際，`Q`にない`(s,a)`ペアに対するQ値は`q0`とする。(以下の`Q`の例では`(2,\"left\")`, `(3,\"left\")`が未定義。`list.get()`の引数で処理する)\n",
    "    - 以前の課題で作成してた関数`index_list()`も利用しなさい。\n",
    "- **手順のヒント**\n",
    "    1. 指定されたsに対し，`action_list`内の各行動とのペアに対するQ値の一覧リスト`qlist`を作る\n",
    "    2. Q値の最大値`maxq`を求める\n",
    "    3. `qlist`の要素のうち，値が`maxq`であるもののインデックスをリスト化する。(以前作成した関数`index_list()`を用いると簡単)\n",
    "    \n",
    "**実行例**\n",
    "\n",
    "命令文\n",
    "```python\n",
    "Q={(1,\"right\") : 0.5, \n",
    "    (1,\"left\") : 1.5, \n",
    "    (2,\"right\") : -1.0, \n",
    "    (3,\"right\") : 1.0, }\n",
    "action_list=[\"right\",\"left\"]\n",
    "\n",
    "print(get_maxQ(1)) #状態がs=1の場合, Q値が最大\n",
    "print(get_maxQ(2))\n",
    "print(get_maxQ(s=3,q0=1.0))\n",
    "```\n",
    "\n",
    "出力結果\n",
    "```python\n",
    "(1.5, [1])\n",
    "(0.0, [1])\n",
    "(1.0, [0, 1])\n",
    "```"
   ]
  },
  {
   "cell_type": "code",
   "execution_count": null,
   "metadata": {
    "deletable": false,
    "nbgrader": {
     "cell_type": "code",
     "checksum": "6660866a21a1b4ab79e6c0bc205fc058",
     "grade": false,
     "grade_id": "cell-c5638b73be930b32",
     "locked": false,
     "schema_version": 3,
     "solution": true,
     "task": false
    }
   },
   "outputs": [],
   "source": [
    "# このセルに，以前の課題で作成した関数index_list()を記入しなさい。\n",
    "# YOUR CODE HERE\n",
    "raise NotImplementedError()"
   ]
  },
  {
   "cell_type": "code",
   "execution_count": null,
   "metadata": {
    "deletable": false,
    "nbgrader": {
     "cell_type": "code",
     "checksum": "45ec619a8751d06a1ef9d787a515883c",
     "grade": false,
     "grade_id": "cell-b2717978cdb01bc1",
     "locked": false,
     "schema_version": 3,
     "solution": true,
     "task": false
    },
    "slideshow": {
     "slide_type": "-"
    }
   },
   "outputs": [],
   "source": [
    "# このセルに関数get_maxQ()の定義を入力する\n",
    "# ヒント) 概ね以下のようなプログラム構造になる\n",
    "#\n",
    "# def get_maxQ(s,q0=0.0):\n",
    "#     qlist=[Q.get((s, a),q0) for a in ... \n",
    "#            \n",
    "#     ...\n",
    "#            \n",
    "#    return maxq, argmaxq\n",
    "#\n",
    "\n",
    "# YOUR CODE HERE\n",
    "raise NotImplementedError()"
   ]
  },
  {
   "cell_type": "code",
   "execution_count": null,
   "metadata": {},
   "outputs": [],
   "source": [
    "# このセルで動作確認をしよう\n",
    "Q={(1,\"right\") : 0.5, \n",
    "    (1,\"left\") : 1.5, \n",
    "    (2,\"right\") : -1.0, \n",
    "    (3,\"right\") : 1.0, \n",
    "  }\n",
    "\n",
    "action_list=[\"right\",\"left\"]\n",
    "print(get_maxQ(1))\n",
    "# 他にもいろいろ試しなさい。"
   ]
  },
  {
   "cell_type": "code",
   "execution_count": null,
   "metadata": {
    "deletable": false,
    "editable": false,
    "nbgrader": {
     "cell_type": "code",
     "checksum": "10d148bf9193e2717ee2814217134860",
     "grade": true,
     "grade_id": "E-dict-get_maxQ1",
     "locked": true,
     "points": 1,
     "schema_version": 3,
     "solution": false,
     "task": false
    }
   },
   "outputs": [],
   "source": [
    "# 評価用セル\n",
    "# 1st test\n",
    "Q={(1,\"right\") : 0.5, \n",
    "    (1,\"left\") : 1.5, \n",
    "    (2,\"right\") : -1.0, \n",
    "    (3,\"right\") : 1.0, \n",
    "  }\n",
    "action_list=[\"right\",\"left\"]\n",
    "\n",
    "eq_(get_maxQ(1),(1.5, [1]))\n",
    "eq_(get_maxQ(2),(0.0, [1]))\n",
    "eq_(get_maxQ(s=3,q0=1.0),(1.0, [0,1]))\n",
    "print(\"ok\")"
   ]
  },
  {
   "cell_type": "code",
   "execution_count": null,
   "metadata": {
    "deletable": false,
    "editable": false,
    "nbgrader": {
     "cell_type": "code",
     "checksum": "a2e0a9ccd86c6e2c6447856a83d27cfa",
     "grade": true,
     "grade_id": "E-dict-get_maxQ2",
     "locked": true,
     "points": 1,
     "schema_version": 3,
     "solution": false,
     "task": false
    }
   },
   "outputs": [],
   "source": [
    "# 評価用セルその2\n",
    "Q={(1,\"right\") : 0.5, \n",
    "    (1,\"left\") : 1.5, \n",
    "    (1,\"up\") : 1.0,\n",
    "    (1,\"down\") : 1.0,\n",
    "    (2,\"right\") : 1.0, \n",
    "    (2, \"left\") : 1.0,\n",
    "    (2, \"up\") :   0.0,\n",
    "  }\n",
    "action_list=[\"right\",\"left\",\"up\", \"down\"]\n",
    "\n",
    "eq_(get_maxQ(1),(1.5, [1]))\n",
    "eq_(get_maxQ(s=2),(1.0, [0, 1]))"
   ]
  },
  {
   "cell_type": "markdown",
   "metadata": {
    "slideshow": {
     "slide_type": "slide"
    }
   },
   "source": [
    "Q2.以下の仕様を満たす関数`get_action(s,epsilon,q0)`を書きなさい。また，**動作確認**をしなさい。\n",
    "\n",
    "- **概要**\n",
    "    - 状態`s`における行動選択をε-greedy法によって行う。\n",
    "- **外部変数**(関数外に用意されている変数)\n",
    "    - `Q`: 状態行動価値関数の値を格納する辞書(前問参照)\n",
    "    - `action_list`: エージェントが取りうる`action`のリスト(前問参照)\n",
    "- **引数**\n",
    "    - `s`: 状態\n",
    "    - `epsilon` : ランダム選択の確率。**デフォルト値は0.1**\n",
    "    - `q0` : 未定義なQ値に対する値。**デフォルト値は0.0**\n",
    "- **返り値**: 状態`s`と， 辞書`Q`に登録されている要素に基づいて以下のように決定した行動\n",
    "    - 確率`epsilon`で，とりうる全ての行動(リスト`action_list`の要素) の中からランダムに行動選択  (`random.choice()`を使う)\n",
    "    - 上記以外の場合は**Q値(`value`)が最大となる行動**。\n",
    "        - 辞書`Q`に定義されていない状態行動ペア`(s,a)`に対するQ値は`q0`として，最適行動を決定する。\n",
    "        - **最大値をとる行動が複数あるときには， どれか一つをランダムに選択**する\n",
    "- **その他**\n",
    "    - 前問でつくった`get_maxQ()`を呼び出して使って良い\n",
    "- **手順のヒント**\n",
    "    1. `get_maxQ()`を使って，Q値が最大となるactionのインデックのリスト`argmaxq`を取得\n",
    "    2. `argmaxq`からランダム選択したインデックスに対応する`action`が返り値。Q値が最大値となるactionが1個の場合もそうでない場合も，この方法で最適行動を選択できる(わからなければよく考えましょう)\n",
    "\n",
    "**実行例**\n",
    "\n",
    "命令文\n",
    "```python\n",
    "Q={(1,\"right\") : 0.5, \n",
    "    (1,\"left\") : 1.5, \n",
    "    (2,\"right\") : -1.0, \n",
    "    (3,\"right\") : 1.0, \n",
    "  }\n",
    "action_list=[\"right\",\"left\"]\n",
    "\n",
    "print(get_action(1,epsilon=0))\n",
    "print(get_action(2,epsilon=0))\n",
    "print(get_action(3,epsilon=0,q0=1.0))\n",
    "print(get_action(1,epsilon=1.0))\n",
    "```\n",
    "実行結果\n",
    "```python\n",
    "left\n",
    "left\n",
    "right # この値はleftになることもある(確率1/2)\n",
    "left  # この値はleftになることもある(確率1/2)\n",
    "```"
   ]
  },
  {
   "cell_type": "code",
   "execution_count": null,
   "metadata": {
    "deletable": false,
    "nbgrader": {
     "cell_type": "code",
     "checksum": "dc57d98d6980809e4e96d0998d2640e3",
     "grade": false,
     "grade_id": "cell-ad5b339903f2f96b",
     "locked": false,
     "schema_version": 3,
     "solution": true,
     "task": false
    },
    "slideshow": {
     "slide_type": "-"
    }
   },
   "outputs": [],
   "source": [
    "# ヒント) 概ね以下のようなプログラム構造になる\n",
    "#\n",
    "#def get_action(s, epsilon=0.1,q0=0.0):\n",
    "#    if ra.random() < epsilon:\n",
    "#        ret=               # 右辺を書く\n",
    "#    else:\n",
    "#        maxq, argmaxq=...   # このあとのプログラムを考える\n",
    "#\n",
    "#        ret=...\n",
    "#       \n",
    "#    return(ret)\n",
    "\n",
    "import random as ra\n",
    "\n",
    "# YOUR CODE HERE\n",
    "raise NotImplementedError()"
   ]
  },
  {
   "cell_type": "code",
   "execution_count": null,
   "metadata": {},
   "outputs": [],
   "source": [
    "# このセルで動作確認をしよう\n",
    "Q={(1,\"right\") : 0.5, \n",
    "    (1,\"left\") : 1.5, \n",
    "    (2,\"right\") : -1.0, \n",
    "    (3,\"right\") : 1.0, \n",
    "  }\n",
    "action_list=[\"right\",\"left\"]\n",
    "\n",
    "print(get_action(1,epsilon=0))\n",
    "# 他にもいろいろ試しなさい(状態や行動の種類が多い場合など)"
   ]
  },
  {
   "cell_type": "code",
   "execution_count": null,
   "metadata": {
    "deletable": false,
    "editable": false,
    "nbgrader": {
     "cell_type": "code",
     "checksum": "14a9fe7baf649b5a7a6fb62a5d19ad6a",
     "grade": true,
     "grade_id": "E-dict-get_action1",
     "locked": true,
     "points": 1,
     "schema_version": 3,
     "solution": false,
     "task": false
    }
   },
   "outputs": [],
   "source": [
    "# 評価用セル\n",
    "Q={(1,\"right\") : 0.5, \n",
    "    (1,\"left\") : 1.5, \n",
    "    (2,\"right\") : -1.0, \n",
    "    (3,\"right\") : 1.0, \n",
    "  }\n",
    "action_list=[\"right\",\"left\"]\n",
    "eq_(get_action(1,epsilon=0),\"left\")\n",
    "eq_(get_action(2,epsilon=0),\"left\")\n",
    "eq_(get_action(3,epsilon=0,q0=0),\"right\")\n",
    "\n",
    "result=[get_action(3,epsilon=0,q0=1.0) for i in range(20)]\n",
    "result2=[get_action(s=3,epsilon=0,q0=1.0) for i in range(20)]\n",
    "assert_not_equal(result,result2)\n",
    "\n",
    "result=[get_action(1,epsilon=1.0) for i in range(20)]\n",
    "result2=[get_action(1,epsilon=1.0) for i in range(20)]\n",
    "assert_not_equal(result,result2)\n",
    "print(\"ok\")"
   ]
  },
  {
   "cell_type": "code",
   "execution_count": null,
   "metadata": {
    "deletable": false,
    "editable": false,
    "nbgrader": {
     "cell_type": "code",
     "checksum": "8981db41740bc4d19f2c4eea4d0afaf5",
     "grade": true,
     "grade_id": "E-dict-get_action2",
     "locked": true,
     "points": 2,
     "schema_version": 3,
     "solution": false,
     "task": false
    }
   },
   "outputs": [],
   "source": [
    "# 評価用セルその2"
   ]
  }
 ],
 "metadata": {
  "kernelspec": {
   "display_name": "Python 3",
   "language": "python",
   "name": "python3"
  },
  "language_info": {
   "codemirror_mode": {
    "name": "ipython",
    "version": 3
   },
   "file_extension": ".py",
   "mimetype": "text/x-python",
   "name": "python",
   "nbconvert_exporter": "python",
   "pygments_lexer": "ipython3",
   "version": "3.6.9"
  },
  "nbTranslate": {
   "displayLangs": [
    "*"
   ],
   "hotkey": "alt-t",
   "langInMainMenu": true,
   "sourceLang": "en",
   "targetLang": "fr",
   "useGoogleTranslate": true
  },
  "toc": {
   "base_numbering": 1,
   "nav_menu": {},
   "number_sections": true,
   "sideBar": true,
   "skip_h1_title": false,
   "title_cell": "Table of Contents",
   "title_sidebar": "Contents",
   "toc_cell": false,
   "toc_position": {
    "height": "calc(100% - 180px)",
    "left": "10px",
    "top": "150px",
    "width": "298.594px"
   },
   "toc_section_display": true,
   "toc_window_display": false
  }
 },
 "nbformat": 4,
 "nbformat_minor": 2
}
