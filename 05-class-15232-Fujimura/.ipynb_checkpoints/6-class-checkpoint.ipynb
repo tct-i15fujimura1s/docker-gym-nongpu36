{
 "cells": [
  {
   "cell_type": "markdown",
   "metadata": {},
   "source": [
    "<div class=\"alert alert-danger\">\n",
    "\n",
    "# 名前欄\n",
    "\n",
    "</div>\n",
    "\n",
    "以下に名前と学籍番号(STUDENT_ID)の入力をして下さい。\n",
    "\n",
    "例)\n",
    "```python\n",
    "FAMILY_NAME = \"Yamaguchi\"# 姓をローマ字で入力\n",
    "FIRST_NAME = \"Daisuki\"   #  名をローマ字で入力\n",
    "USER = \"a11yamaguchi\"    # 公式メールアドレスのユーザ名\n",
    "STUDENT_ID = \"99999\" # 学籍番号\n",
    "```"
   ]
  },
  {
   "cell_type": "code",
   "execution_count": 1,
   "metadata": {},
   "outputs": [],
   "source": [
    "FAMILY_NAME = \"Fujimura\"  # 姓をローマ字で入力\n",
    "FIRST_NAME = \"Soshi\"  #  名をローマ字で入力\n",
    "USER = \"i15fujimura1s\"  # 公式メールアドレスのユーザ名\n",
    "STUDENT_ID = \"15232\"  # 99999 等と省略なしで入力"
   ]
  },
  {
   "cell_type": "markdown",
   "metadata": {},
   "source": [
    "<div class=\"alert alert-danger\">\n",
    "\n",
    "# 提出方法(高専の皆さんへ)\n",
    "\n",
    "</div>\n",
    "\n",
    "以下のように**ディレクトリ(フォルダ)名を変更して提出**しましょう。\n",
    "```python\n",
    "元のディレクトリ名-学籍番号-名字(ローマ字)\n",
    "```\n",
    "例えば，元のディレクトリ名が`01-basic/`, 学籍番号が`99999`,名字が`Yamaguchi`の場合は以下になります。\n",
    "```python\n",
    "01-basic-99999-Yamaguchi/\n",
    "```"
   ]
  },
  {
   "cell_type": "markdown",
   "metadata": {},
   "source": [
    "<div class=\"alert alert-danger\">\n",
    "\n",
    "# 注意\n",
    "\n",
    "</div>\n",
    "\n",
    "\n",
    "- 以下の説明文を読み， 内容を納得できるように自分で試しなさい。\n",
    "- **「# このセルで試してみよう」**, **「# このセルで動作確認をしよう」**と書かれているセルは自由に使って構いません。\n",
    "- 必要に応じてセルを増やしても構いません。役立ちそうな情報もメモしておくと，今後プログラムを組む上で便利です。\n",
    "- 表題等には適宜教科書のページを書いてあります。詳しい説明は教科書を参照しなさい。\n",
    "\n",
    "<div class=\"alert alert-danger\">\n",
    "\n",
    "## 設問と解答用セル\n",
    "    \n",
    "</div>   \n",
    "\n",
    "\"**Q.**\" から始まる設問に対する解答は必ず入力しなさい。解答用セルには以下のように表示される。\n",
    "\n",
    "```python\n",
    "# YOUR CODE HERE\n",
    "raise NotImplementedError()\n",
    "```\n",
    "\n",
    "**注意**\n",
    "\n",
    "- <span class=\"mark\">raise NotImplementedError()の一行は**必ず消去**して</span>，<span class=\"mark\"># YOUR CODE HERE の下に解答</span>を書くこと。\n",
    "- <span class=\"mark\">\\# YOUR CODE HERE の一行は**消さない**</span>こと。どこに解答を書くべきかがわからなくなることがあります。\n",
    "- なんらかの演算をしたり，命令文を作ったときは，その**結果が予想通りか否かを必ず確認しなさい**\n",
    "\n",
    "<div class=\"alert alert-danger\">\n",
    "\n",
    "## 評価用セル\n",
    "    \n",
    "</div>\n",
    "\n",
    "- **「評価用セル」と書かれているセルは採点のためのセル**です。\n",
    "- **評価用コードが一部表示されている場合，それを実行すると課題の実行結果の確認**をできます。\n",
    "- **表示されていない評価用コードも**あります。\n",
    "\n",
    "<div class=\"alert alert-danger\">\n",
    "\n",
    "## 課題提出前の注意\n",
    "    \n",
    "</div>   \n",
    "\n",
    "**[重要]** 以下の手順で，全ての課題が正常に動作するか確認してから提出しましょう。\n",
    "\n",
    "1.  メニューバーの\"Kernel\"をクリック後，\"Restart\"を選択\n",
    "2. メニューバーの\"Cell\"を，\"Run All\"を選択"
   ]
  },
  {
   "cell_type": "code",
   "execution_count": 2,
   "metadata": {
    "deletable": false,
    "editable": false,
    "nbgrader": {
     "cell_type": "code",
     "checksum": "8ee6a2c9c1f3d6ba21fdd9649f84f808",
     "grade": false,
     "grade_id": "cell-33e1844d90d3fc8c",
     "locked": true,
     "schema_version": 3,
     "solution": false,
     "task": false
    }
   },
   "outputs": [],
   "source": [
    "# このセルは自動評価を行うための命令です。内容は無視して，実行(Shift-Enter)のみをしてください。\n",
    "#%%writefile unittests.py\n",
    "#%load unittests.py\n",
    "%run unittests.py"
   ]
  },
  {
   "cell_type": "markdown",
   "metadata": {},
   "source": [
    "<div class=\"alert alert-success\">\n",
    "\n",
    "# クラス(class), p.273\n",
    "\n",
    "</div>"
   ]
  },
  {
   "cell_type": "markdown",
   "metadata": {
    "slideshow": {
     "slide_type": "slide"
    }
   },
   "source": [
    "## 用語(クラス, インスタンス，オブジェクト)\n",
    "\n",
    "### クラス\n",
    "- pythonにおける型のようなもの。予め定義されているものもあるが，ユーザが定義して使うこともできる。\n",
    "- 例) int, float, list, tuple, dict\n",
    "\n",
    "### インスタンス\n",
    "- クラス(型)から生成されるデータのこと。インスタンス・オブジェクトともいう\n",
    "- intはクラス，1,2,..はインスタンス\n",
    "- listはクラス, [1,3]はインスタンス\n",
    "\n",
    "### オブジェクト(もの)\n",
    "- 例) クラスもインスタンスもメソッドもオブジェクト。定義できるものはなんでもかんでもオブジェクト。。。"
   ]
  },
  {
   "cell_type": "markdown",
   "metadata": {
    "slideshow": {
     "slide_type": "slide"
    }
   },
   "source": [
    "<div class=\"alert alert-success\">\n",
    "\n",
    "# クラスを作る, p.282\n",
    "\n",
    "</div>\n",
    "\n",
    "## キーワード\n",
    "- **初期化メソッド**\n",
    "    - 定義したクラスをインスタンス化するときに実行される関数\n",
    "- **インスタンス変数**\n",
    "    - クラス内の様々なメソッド(関数)で使うことができる変数。クラス内でのみ使える大域変数のようなもの。\n",
    "    - 大抵，初期化メソッドで生成・参照。\n",
    "    - クラス内では， `self.name`のように，必ず`self.`をつけて参照する(具体例は次のセルの問に)\n",
    "    - インスタンス化したオブジェクトからは，`オブジェクト名.変数名` (`taro.name`など)で参照(具体例は次のセルの問に)\n",
    "- **インスタンス・メソッド**\n",
    "    - クラス定義中では第一引数に`self`を指定して定義する関数\n",
    "    - クラス定義中では`self.関数名` で参照できる(引数からは`self`は省略)\n",
    "    。インスタンス化したオブジェクトからは，`オブジェクト名.関数名` で参照(引数からは`self`は省略)"
   ]
  },
  {
   "cell_type": "markdown",
   "metadata": {},
   "source": [
    "## 簡単な例"
   ]
  },
  {
   "cell_type": "code",
   "execution_count": 3,
   "metadata": {},
   "outputs": [],
   "source": [
    "class Name_list:\n",
    "    def __init__(self, family=\"Momo\", first=\"Taro\"):  # 初期化メソッド(インスタンス生成時に実行)\n",
    "        self.family = family  # インスタンス変数 family の生成\n",
    "        self.first = first  # インスタンス変数には\"self.\"をつける\n",
    "\n",
    "    def print(self):  # インスタンス・メソッド(第一引数は必ずself)\n",
    "        print(\n",
    "            \"My name is %s %s.\" % (self.first, self.family)\n",
    "        )  # インスタンス変数には\"self.\"をつけて参照"
   ]
  },
  {
   "cell_type": "markdown",
   "metadata": {},
   "source": [
    "定義したクラスのインスタンス化や，インスタンス・メソッドの呼び出しの例。"
   ]
  },
  {
   "cell_type": "code",
   "execution_count": 4,
   "metadata": {},
   "outputs": [
    {
     "name": "stdout",
     "output_type": "stream",
     "text": [
      "My name is Taro Momo.\n",
      "My name is Daisuki Yamaguchi.\n",
      "Momo\n"
     ]
    }
   ],
   "source": [
    "momo = Name_list()  # インスタンスを生成し，変数momoに代入\n",
    "dai = Name_list(family=\"Yamaguchi\", first=\"Daisuki\")  # インスタンスを生成し，変数daiに代入\n",
    "\n",
    "momo.print()  # インスタンスmomoの，インスタンス関数printを実行\n",
    "dai.print()  # インスタンスdaiの，インスタンス関数printを実行\n",
    "print(momo.family)  # インスタンスmomoの，インスタンス変数familyにアクセス"
   ]
  },
  {
   "cell_type": "markdown",
   "metadata": {},
   "source": [
    "## 練習問題\n",
    "**Q.** 以下のクラス宣言の間違いを修正し，クラス`Student`を完成しなさい。\n",
    "\n",
    "```python\n",
    "class Student:\n",
    "    def __init__(self, name=\"someone\"): # 初期化メソッド(インスタンス生成時に実行)\n",
    "        self.name = name  # インスタンス変数 name の生成\n",
    "        self.physics = 0  # インスタンス変数には\"self.\"をつける\n",
    "        self.math = 0     # インスタンス変数は，以下で定義するインスタンスメソッドのいずれでも使える\n",
    "\n",
    "    def get_total(self):  # インスタンス・メソッド(第一引数は必ずself)\n",
    "        total = self.physics+self.math  # 変数totalはget_score()のみで使う局所変数なので，インスタンス変数にはしない\n",
    "        return(total)                 # (なんでもかんでもインスタンス変数にしてはいけない!)\n",
    "\n",
    "    def print_total(): # インスタンス・メソッド。この行に間違いがある。\n",
    "        print(name, self.get_total())  # この行にも間違いがある\n",
    "```"
   ]
  },
  {
   "cell_type": "code",
   "execution_count": 5,
   "metadata": {
    "deletable": false,
    "nbgrader": {
     "cell_type": "code",
     "checksum": "71fdd30f46fe0dbe9af4b5504d5c26c0",
     "grade": false,
     "grade_id": "A-class-student",
     "locked": false,
     "schema_version": 3,
     "solution": true,
     "task": false
    },
    "slideshow": {
     "slide_type": "fragment"
    }
   },
   "outputs": [],
   "source": [
    "# 以下に修正後のクラスStudentを入力しなさい\n",
    "# YOUR CODE HERE\n",
    "class Student:\n",
    "    def __init__(self, name=\"someone\"): # 初期化メソッド(インスタンス生成時に実行)\n",
    "        self.name = name  # インスタンス変数 name の生成\n",
    "        self.physics = 0  # インスタンス変数には\"self.\"をつける\n",
    "        self.math = 0     # インスタンス変数は，以下で定義するインスタンスメソッドのいずれでも使える\n",
    "\n",
    "    def get_total(self):  # インスタンス・メソッド(第一引数は必ずself)\n",
    "        total = self.physics+self.math  # 変数totalはget_score()のみで使う局所変数なので，インスタンス変数にはしない\n",
    "        return(total)                 # (なんでもかんでもインスタンス変数にしてはいけない!)\n",
    "\n",
    "    def print_total(self): # インスタンス・メソッド。この行に間違いがある。\n",
    "        print(self.name, self.get_total())  # この行にも間違いがある"
   ]
  },
  {
   "cell_type": "code",
   "execution_count": 6,
   "metadata": {},
   "outputs": [
    {
     "name": "stdout",
     "output_type": "stream",
     "text": [
      "Taro Yamada 150\n",
      "Jiro Tanaka 140\n"
     ]
    }
   ],
   "source": [
    "# このセルで動作確認をしよう\n",
    "taro = Student(\"Taro Yamada\")  # class Studentのインスタンスを生成し，変数taroに代入\n",
    "jiro = Student(\"Jiro Tanaka\")  # class Studentのインスタンスを生成し，変数jiroに代入\n",
    "\n",
    "taro.physics = 80  # インスタンス変数には，\"オブジェクト名.インスタンス変数名\"でアクセスできる(selfがオブジェクト名と置き換わる)\n",
    "taro.math = 70\n",
    "\n",
    "jiro.physics = 50\n",
    "jiro.math = 90\n",
    "\n",
    "taro.print_total()  # インスタンス・メソッドには，\"オブジェクト名.メソッド名\"でアクセスできる\n",
    "jiro.print_total()\n",
    "\n",
    "# 以上を実行したとき以下のように表示されたらOK\n",
    "# Taro Yamada 150\n",
    "# Jiro Tanaka 140\n",
    "\n",
    "# Classの呼び出し方法を納得できるようにいろいろと試してみること。"
   ]
  },
  {
   "cell_type": "code",
   "execution_count": 7,
   "metadata": {
    "deletable": false,
    "editable": false,
    "nbgrader": {
     "cell_type": "code",
     "checksum": "a7d7cba764b68521c99dfb34fc309710",
     "grade": true,
     "grade_id": "E-class-student",
     "locked": true,
     "points": 2,
     "schema_version": 3,
     "solution": false,
     "task": false
    }
   },
   "outputs": [],
   "source": [
    "taro = Student(\"Taro Yamada\")\n",
    "jiro = Student(\"Jiro Tanaka\")\n",
    "\n",
    "taro.physics = 80\n",
    "taro.math = 70\n",
    "jiro.physics = 50\n",
    "jiro.math = 90\n",
    "\n",
    "with capture_stdout() as capture:\n",
    "    taro.print_total()\n",
    "    jiro.print_total()\n",
    "\n",
    "res = capture.result\n",
    "assert (\n",
    "    res == \"Taro Yamada 150\\nJiro Tanaka 140\\n\"\n",
    ")  # remove spaces, and spaces/tabs/\\n at the end"
   ]
  },
  {
   "cell_type": "markdown",
   "metadata": {},
   "source": [
    "<div class=\"alert alert-success\">\n",
    "\n",
    "# クラスの継承\n",
    "\n",
    "</div>\n",
    "\n",
    "```python\n",
    "class Name_list:\n",
    "    def __init__(self, family=\"Momo\",first=\"Taro\"):\n",
    "        self.family = family\n",
    "        self.first = first\n",
    "    def print(self):\n",
    "        print(\"My name is %s %s.\" % (self.first, self.family))\n",
    "```\n",
    "上記クラス`Name_List`(本シート初めの例と同じ)の改造版のクラス`Name_List_osk`を定義し，インスタンス・メソッド`print`の表示を日本語にしたかったとする。\n",
    "このように，一部のインスタンス・メソッドの修正や追加のみをしたクラスを作成する場合，**クラスの継承**を用いると必要箇所のみの定義ですむ。"
   ]
  },
  {
   "cell_type": "markdown",
   "metadata": {},
   "source": [
    "## スーパークラスの一部の関数を置き換える\n",
    "以下の例では，初期化インスタンスは`class Name_list`と同じものを使うため再定義はせず，`print()`の再定義のみしている。"
   ]
  },
  {
   "cell_type": "code",
   "execution_count": 8,
   "metadata": {},
   "outputs": [],
   "source": [
    "class Name_list_osk(Name_list):  # class Name_Listを継承したクラス Name_list_jpを定義\n",
    "    def print(self):\n",
    "        print(\"うちの名前は%s%sやで。\" % (self.family, self.first))"
   ]
  },
  {
   "cell_type": "markdown",
   "metadata": {},
   "source": [
    "クラスAを継承してクラスBを定義した時，クラスAを**スーパークラス**，クラスBを**サブクラス**(もしくは派生クラス)と呼ぶ。上記の例では，`Name_list`がスーパークラス，`Name_list_osk`がサブクラスになる。親クラスと子クラスと呼ぶこともある。\n",
    "\n",
    "以下は実行例。"
   ]
  },
  {
   "cell_type": "code",
   "execution_count": 9,
   "metadata": {},
   "outputs": [
    {
     "name": "stdout",
     "output_type": "stream",
     "text": [
      "うちの名前は山口大鋤やで。\n"
     ]
    }
   ],
   "source": [
    "momo = Name_list()  # インスタンスを生成し，変数momoに代入\n",
    "dai = Name_list_osk(family=\"山口\", first=\"大鋤\")  # インスタンスを生成し，変数daiに代入\n",
    "\n",
    "dai.print()"
   ]
  },
  {
   "cell_type": "markdown",
   "metadata": {},
   "source": [
    "## スーパークラスの関数を呼び出しつつ，さらに追加の処理も行う\n",
    "以下は，クラス`Name_list`を継承し，学籍番号もインスタンス変数にもつクラス`NameID_list`を定義した例。\n",
    "`super().__init__()`を呼び出すことで，スーパークラスの初期化メソッドを実行するとともに，追加の処理も行っている。"
   ]
  },
  {
   "cell_type": "code",
   "execution_count": 10,
   "metadata": {},
   "outputs": [],
   "source": [
    "class NameID_list(Name_list):\n",
    "    def __init__(self, family=\"Momo\", first=\"Taro\", ID=\"000\"):\n",
    "        super().__init__(family, first)  # スーパークラス(Name_list)の初期化メソッドを呼び出す\n",
    "        self.ID = ID\n",
    "\n",
    "    def printID(self):\n",
    "        print(\"ID:\" + self.ID)"
   ]
  },
  {
   "cell_type": "markdown",
   "metadata": {},
   "source": [
    "以下は実行例。スーパークラス(`Name_list`)の初期化メソッドも実行されているので，インスタンス変数`family`, `first`への値の代入もなされていることに注意。"
   ]
  },
  {
   "cell_type": "code",
   "execution_count": 11,
   "metadata": {},
   "outputs": [
    {
     "name": "stdout",
     "output_type": "stream",
     "text": [
      "ID:999\n",
      "My name is Daisuki Yamaguchi.\n",
      "Yamaguchi\n"
     ]
    }
   ],
   "source": [
    "dai = NameID_list(family=\"Yamaguchi\", first=\"Daisuki\", ID=\"999\")  # インスタンスを生成し，変数daiに代入\n",
    "dai.printID()  # NameID_listで追加したインスタンス関数の呼び出し\n",
    "dai.print()  # Name_listのインスタンス関数を呼び出せる\n",
    "print(dai.family)  # スーパークラスの初期化メソッドにより，インスタンス変数`family`に値が代入されている。"
   ]
  },
  {
   "cell_type": "markdown",
   "metadata": {},
   "source": [
    "## 練習問題\n",
    "**Q.** 一つ前の練習問題のクラス`Student`を継承したサブクラス`Student3`を以下のように定義し，`english`の得点も追加した総合点を計算できるようにしなさい。\n",
    "\n",
    "- 初期化インスタンスでは以下を実行\n",
    "    1. `Student`クラスの初期化インスタンスの呼び出し\n",
    "    2. インスタンス変数`english`の値を0に初期化\n",
    "- クラス`Student`のインスタンス関数`get_total()`を定義し直して，インスタンス変数 `math`, `physics`, `english`の総得点を返り値にする。"
   ]
  },
  {
   "cell_type": "code",
   "execution_count": 12,
   "metadata": {
    "deletable": false,
    "nbgrader": {
     "cell_type": "code",
     "checksum": "33eb81b90e80fec77f99af35458e5dc6",
     "grade": false,
     "grade_id": "cell-7a0bd38c53187383",
     "locked": false,
     "schema_version": 3,
     "solution": true,
     "task": false
    }
   },
   "outputs": [],
   "source": [
    "class Student3(Student):\n",
    "    # YOUR CODE HERE\n",
    "    def __init__(self, name=\"someone\"):\n",
    "        super().__init__(name)\n",
    "        self.english = 0\n",
    "    \n",
    "    def get_total(self):\n",
    "        total = super().get_total() + self.english\n",
    "        return(total)"
   ]
  },
  {
   "cell_type": "code",
   "execution_count": 15,
   "metadata": {},
   "outputs": [
    {
     "name": "stdout",
     "output_type": "stream",
     "text": [
      "Ken Nishimura 216\n"
     ]
    }
   ],
   "source": [
    "# このセルで動作確認をしよう\n",
    "ken = Student3(\"Ken Nishimura\")\n",
    "ken.math = 63\n",
    "ken.physics = 72\n",
    "ken.english = 81\n",
    "ken.print_total()"
   ]
  },
  {
   "cell_type": "code",
   "execution_count": 14,
   "metadata": {
    "deletable": false,
    "editable": false,
    "nbgrader": {
     "cell_type": "code",
     "checksum": "06ad07fd9bd37f638908ba9f4d79f6b8",
     "grade": true,
     "grade_id": "E-class-Student3",
     "locked": true,
     "points": 2,
     "schema_version": 3,
     "solution": false,
     "task": false
    }
   },
   "outputs": [],
   "source": [
    "# 評価用セル"
   ]
  }
 ],
 "metadata": {
  "kernelspec": {
   "display_name": "Python 3",
   "language": "python",
   "name": "python3"
  },
  "language_info": {
   "codemirror_mode": {
    "name": "ipython",
    "version": 3
   },
   "file_extension": ".py",
   "mimetype": "text/x-python",
   "name": "python",
   "nbconvert_exporter": "python",
   "pygments_lexer": "ipython3",
   "version": "3.6.9"
  },
  "nbTranslate": {
   "displayLangs": [
    "*"
   ],
   "hotkey": "alt-t",
   "langInMainMenu": true,
   "sourceLang": "en",
   "targetLang": "fr",
   "useGoogleTranslate": true
  },
  "toc": {
   "base_numbering": 1,
   "nav_menu": {},
   "number_sections": true,
   "sideBar": true,
   "skip_h1_title": false,
   "title_cell": "Table of Contents",
   "title_sidebar": "Contents",
   "toc_cell": false,
   "toc_position": {
    "height": "calc(100% - 180px)",
    "left": "10px",
    "top": "150px",
    "width": "314.188px"
   },
   "toc_section_display": true,
   "toc_window_display": false
  }
 },
 "nbformat": 4,
 "nbformat_minor": 2
}
