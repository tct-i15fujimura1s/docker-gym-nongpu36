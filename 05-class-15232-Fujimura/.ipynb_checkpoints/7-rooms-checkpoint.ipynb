{
 "cells": [
  {
   "cell_type": "markdown",
   "metadata": {},
   "source": [
    "<div class=\"alert alert-danger\">\n",
    "\n",
    "# 名前欄\n",
    "\n",
    "</div>\n",
    "\n",
    "以下に名前と学籍番号(STUDENT_ID)の入力をして下さい。\n",
    "\n",
    "例)\n",
    "```python\n",
    "FAMILY_NAME = \"Yamaguchi\"# 姓をローマ字で入力\n",
    "FIRST_NAME = \"Daisuki\"   #  名をローマ字で入力\n",
    "USER = \"a11yamaguchi\"    # 公式メールアドレスのユーザ名\n",
    "STUDENT_ID = \"99999\" # 学籍番号\n",
    "```"
   ]
  },
  {
   "cell_type": "code",
   "execution_count": 1,
   "metadata": {},
   "outputs": [],
   "source": [
    "FAMILY_NAME = \"Fujimura\"  # 姓をローマ字で入力\n",
    "FIRST_NAME = \"Soshi\"  #  名をローマ字で入力\n",
    "USER = \"i15fujimura1s\"  # 公式メールアドレスのユーザ名\n",
    "STUDENT_ID = \"15232\"  # 99999 等と省略なしで入力"
   ]
  },
  {
   "cell_type": "markdown",
   "metadata": {},
   "source": [
    "<div class=\"alert alert-danger\">\n",
    "\n",
    "# 提出方法(高専の皆さんへ)\n",
    "\n",
    "</div>\n",
    "\n",
    "以下のように**ディレクトリ(フォルダ)名を変更して提出**しましょう。\n",
    "```python\n",
    "元のディレクトリ名-学籍番号-名字(ローマ字)\n",
    "```\n",
    "例えば，元のディレクトリ名が`01-basic/`, 学籍番号が`99999`,名字が`Yamaguchi`の場合は以下になります。\n",
    "```python\n",
    "01-basic-99999-Yamaguchi/\n",
    "```"
   ]
  },
  {
   "cell_type": "markdown",
   "metadata": {},
   "source": [
    "<div class=\"alert alert-danger\">\n",
    "\n",
    "# 注意\n",
    "\n",
    "</div>\n",
    "\n",
    "\n",
    "- 以下の説明文を読み， 内容を納得できるように自分で試しなさい。\n",
    "- **「# このセルで試してみよう」**, **「# このセルで動作確認をしよう」**と書かれているセルは自由に使って構いません。\n",
    "- 必要に応じてセルを増やしても構いません。役立ちそうな情報もメモしておくと，今後プログラムを組む上で便利です。\n",
    "- 表題等には適宜教科書のページを書いてあります。詳しい説明は教科書を参照しなさい。\n",
    "\n",
    "<div class=\"alert alert-danger\">\n",
    "\n",
    "## 設問と解答用セル\n",
    "    \n",
    "</div>   \n",
    "\n",
    "\"**Q.**\" から始まる設問に対する解答は必ず入力しなさい。解答用セルには以下のように表示される。\n",
    "\n",
    "```python\n",
    "# YOUR CODE HERE\n",
    "raise NotImplementedError()\n",
    "```\n",
    "\n",
    "**注意**\n",
    "\n",
    "- <span class=\"mark\">raise NotImplementedError()の一行は**必ず消去**して</span>，<span class=\"mark\"># YOUR CODE HERE の下に解答</span>を書くこと。\n",
    "- <span class=\"mark\">\\# YOUR CODE HERE の一行は**消さない**</span>こと。どこに解答を書くべきかがわからなくなることがあります。\n",
    "- なんらかの演算をしたり，命令文を作ったときは，その**結果が予想通りか否かを必ず確認しなさい**\n",
    "\n",
    "<div class=\"alert alert-danger\">\n",
    "\n",
    "## 評価用セル\n",
    "    \n",
    "</div>\n",
    "\n",
    "- **「評価用セル」と書かれているセルは採点のためのセル**です。\n",
    "- **評価用コードが一部表示されている場合，それを実行すると課題の実行結果の確認**をできます。\n",
    "- **表示されていない評価用コードも**あります。\n",
    "\n",
    "<div class=\"alert alert-danger\">\n",
    "\n",
    "## 課題提出前の注意\n",
    "    \n",
    "</div>   \n",
    "\n",
    "**[重要]** 以下の手順で，全ての課題が正常に動作するか確認してから提出しましょう。\n",
    "\n",
    "1.  メニューバーの\"Kernel\"をクリック後，\"Restart\"を選択\n",
    "2. メニューバーの\"Cell\"を，\"Run All\"を選択"
   ]
  },
  {
   "cell_type": "code",
   "execution_count": 2,
   "metadata": {
    "deletable": false,
    "editable": false,
    "nbgrader": {
     "cell_type": "code",
     "checksum": "8ee6a2c9c1f3d6ba21fdd9649f84f808",
     "grade": false,
     "grade_id": "cell-33e1844d90d3fc8c",
     "locked": true,
     "schema_version": 3,
     "solution": false,
     "task": false
    }
   },
   "outputs": [],
   "source": [
    "# このセルは自動評価を行うための命令です。内容は無視して，実行(Shift-Enter)のみをしてください。\n",
    "#%%writefile unittests.py\n",
    "#%load unittests.py\n",
    "%run unittests.py"
   ]
  },
  {
   "cell_type": "markdown",
   "metadata": {
    "slideshow": {
     "slide_type": "slide"
    }
   },
   "source": [
    "<div class=\"alert alert-success\">\n",
    "\n",
    "# お部屋の探検と強化学習\n",
    "\n",
    "</div>\n",
    "\n",
    "一列に並んだ`Nstate`個の部屋を強化学習エージェントが動き回り，総報酬を最大化する行動を学習するプログラムを作っいく。\n",
    "\n",
    "環境:\n",
    "- エージェントは一列に並んだ`Nstate`個の部屋を動き回ることができる。\n",
    "\n",
    "状態: \n",
    "- エージェントは， 一列に並んだ`Nstate`個の部屋のどこ(`s=1,2...,Nstate`)にいるかを知ることができる\n",
    "\n",
    "行動:\n",
    "- 部屋の中にいるエージェントは行動として\"left\"か\"right\"を選ぶことができ，それぞれの行動により部屋番号が1つ小さい，もしくは1つ大きいほうの隣の部屋に移動する。\n",
    "- 部屋1で\"left\"，もしくは部屋`Nstate`で\"right\"を選択すると，エピソードは終了となる。\n",
    "\n",
    "報酬:\n",
    "- 部屋`Nstate`で行動\"right\"を選択したときのみ報酬(`reward`)として10を得る\n",
    "- それ以外の場合は報酬(reward)`-1`を得る\n"
   ]
  },
  {
   "cell_type": "markdown",
   "metadata": {},
   "source": [
    "## 作成するプログラムの概要\n",
    "\n",
    "以下は，これから作成していくクラスや関数と，その主な処理内容\n",
    "\n",
    "`class Rooms`\n",
    "- 環境を表現するクラス\n",
    "- エージェントのとる行動を受け取り，その行動による状態遷移を決定する。また，遷移後の状態および獲得報酬を返したり，現在の状態を表示したりする。\n",
    "\n",
    "`trial()`\n",
    "- `Rooms`に対して，常に同じactionをとった場合の状態遷移をエピソード終了まで表示する\n",
    "- `Rooms`の動作確認用のプログラム\n",
    "\n",
    "`class Fool`\n",
    "- エージェントのクラス\n",
    "- 環境がどのような状態であっても，決まりきったactionや，ランダムactionのみを出力し，学習能力は持たない。\n",
    "- 環境クラスのデバッグや，学習エージェクトとの性能比較に用いる。\n",
    "\n",
    "`demo_env()`\n",
    "- `Fool`と`Room`を接続し，行動選択と状態遷移のループを，指定したエピソード回数繰り返して実行する関数。\n",
    "\n",
    "`class Qlearner`\n",
    "- エージェントのクラス\n",
    "- 環境の状態に応じた行動選択を，Q学習により行う\n",
    "\n",
    "`play_env()`\n",
    "- エージェント(`Fool`や`Qlearner`)と`Room`を接続し，行動選択と状態遷移のループを，指定したエピソード回数繰り返して実行する関数。\n",
    "- `demo_env()`に，エージェントの学習機能を呼び出す命令を追加したもの\n",
    "\n",
    "`plot_history()`\n",
    "- `play_env()`を実行した結果出力される，報酬の変化の様子などをグラフ表示する関数"
   ]
  },
  {
   "cell_type": "markdown",
   "metadata": {
    "slideshow": {
     "slide_type": "slide"
    }
   },
   "source": [
    "## 学習環境: class Rooms\n",
    "\n",
    "**Q1.** 上述の説明にあったN部屋の環境を表現するクラス`Rooms`を定義しなさい。\n",
    "    - 以下の仕様を満たしていれば，メソッドや変数の追加は自由にして良い\n",
    "    - 注) 各メソッド内のみで使う変数はインスタンス変数にはしないこと!\n",
    "\n",
    "**仕様**\n",
    "- Class名: `Rooms`\n",
    "- 概要\n",
    "    - エージェントのとる行動を受け取り，その行動による状態遷移を決定する。また，遷移後の状態および獲得報酬を返したり，現在の状態を表示したりする。\n",
    "- 初期化メソッド`__init__(self,Nstate=5)`\n",
    "    - 引数は` Nstate` (部屋数)。そのデフォルト値は5\n",
    "    - インスタンス変数の初期化\n",
    "        - `state_list=[1,2,...,Nstate]`: 状態リスト(`range()`を使って定義)\n",
    "        - `NState` : 部屋数。同名の引数の値を代入する(この変数は，他のインスタンスメソッドの実行に不要なら定義しなくても良い)\n",
    "        - `r` :報酬値。初期値として-1を代入\n",
    "- インスタンス・メソッド\n",
    "    - `reset(self,s=None)`: エージェントの状態(どの部屋にいるか)をリセットする\n",
    "        - 処理内容:\n",
    "            - 引数`s`が`None`の場合，リスト `state_list` の要素からランダムに選択した値をインスタンス変数`s`(エージェントの状態)に代入(`random.choice()`を使う)\n",
    "            - 引数`s`が`None`ではない場合，その引数値をインスタンス変数`s`(エージェントの状態)に代入\n",
    "            - インスタンス変数`r`の値を-1に初期化\n",
    "        - 返り値: インスタンス変数`s`\n",
    "    - `step(self,a)`: エージェントの行動に応じた状態遷移をし，報酬決定やエピソード終了判定を行う\n",
    "        - 処理内容:\n",
    "            - 引数`a`(エージェントの行動)に応じて，インスタンス変数`s`(状態)を変更\n",
    "            - 状態遷移による報酬値の決定と，エピソード終了判定\n",
    "        - 返り値:\n",
    "            - インスタンス変数`s`: 行動`a`による遷移後の新しい状態\n",
    "                - エピソード終了時の状態`s`は，0 (状態1の左)もしくは`Nstate+1` (`Nstate`の右)とする\n",
    "            - インスタンス変数`r`: 報酬値\n",
    "            - 変数`terminal`: エピソード終了フラグ。エピソード終了時に`True`, それ以外には`False`\n",
    "    - `render(self)`: エージェントがどこにいるかを，インスタンス変数`s`に応じて表示\n",
    "        - 処理内容:\n",
    "            - エージェントは@マークで表す。\n",
    "            - 右外に，得られた報酬値を表示\n",
    "            - 例) `s=2` の場合(`Nstate=5`の場合)\n",
    "            ```\n",
    "            |1|@|3|4|5| r=0\n",
    "            ```\n",
    "            - 例) `s=Nstate+1`の場合(`Nstate=5`の場合)\n",
    "            ```\n",
    "            |1|2|3|4|5|@ r=10\n",
    "            ```\n",
    "        - 返り値: なし\n",
    "\n",
    "**その他**\n",
    "`random`モジュールは以下のように宣言して使いなさい。\n",
    "```python\n",
    "import random as ra\n",
    "```"
   ]
  },
  {
   "cell_type": "code",
   "execution_count": 3,
   "metadata": {
    "deletable": false,
    "nbgrader": {
     "cell_type": "code",
     "checksum": "4c5db63a757e7424c2daaa6cd76393b8",
     "grade": false,
     "grade_id": "cell-7d4498210aa1d6ee",
     "locked": false,
     "schema_version": 3,
     "solution": true,
     "task": false
    },
    "slideshow": {
     "slide_type": "fragment"
    }
   },
   "outputs": [],
   "source": [
    "# プログラムは概ね以下のようになる\n",
    "#\n",
    "# class Rooms:\n",
    "#    def __init__(....)\n",
    "#        ...\n",
    "#    def reset(...)\n",
    "#        ...\n",
    "#        return(self.s)\n",
    "#\n",
    "#    def step(self, a):\n",
    "#        ...\n",
    "#        return self.s, self.r, terminal\n",
    "#\n",
    "#    def render(self):\n",
    "#        ...\n",
    "\n",
    "import random as ra\n",
    "\n",
    "# YOUR CODE HERE\n",
    "class Rooms:\n",
    "    def __init__(self, Nstate=5):\n",
    "        self.Nstate = Nstate\n",
    "        self.state_list = list(range(1, Nstate+1))\n",
    "        self.r = -1\n",
    "        \n",
    "    def reset(self, s=None):\n",
    "        if s == None:\n",
    "            self.s = ra.choice(self.state_list)\n",
    "        else:\n",
    "            self.s = s\n",
    "        self.r = -1\n",
    "        return self.s\n",
    "    \n",
    "    def step(self, a):\n",
    "        terminal = False\n",
    "        if a == \"right\":\n",
    "            if self.s == self.Nstate:\n",
    "                terminal = True\n",
    "                r = 10\n",
    "            else:\n",
    "                r = -1\n",
    "            s = self.s + 1\n",
    "        else:\n",
    "            if self.s == 1:\n",
    "                terminal = True\n",
    "            r = -1\n",
    "            s = self.s - 1\n",
    "        self.s = s\n",
    "        self.r = r\n",
    "        return (s, r, terminal)\n",
    "    \n",
    "    def render(self):\n",
    "        syms = [\" \"] + [str(i) for i in self.state_list] + [\"\"]\n",
    "        syms[self.s] = \"@\"\n",
    "        res = \"|\".join(syms) + \" r=%d\" % self.r\n",
    "        \"\"\"\n",
    "        rooms = \"|\" + \"|\".join(\"@\" if i==self.s else str(i) for i in self.state_list) + \"|\"\n",
    "        if self.s == 0:\n",
    "            rooms = \"@\" + rooms\n",
    "        elif self.s == self.Nstate+1:\n",
    "            rooms = rooms + \"@\"\n",
    "        rooms += \" r=%d\" % self.r\n",
    "        \"\"\"\n",
    "        print(res)"
   ]
  },
  {
   "cell_type": "code",
   "execution_count": 4,
   "metadata": {},
   "outputs": [
    {
     "name": "stdout",
     "output_type": "stream",
     "text": [
      " |1|2|3|4|@| r=-1\n",
      " |1|2|3|4|5|@ r=10\n"
     ]
    }
   ],
   "source": [
    "# このセルで動作確認をしよう\n",
    "r1 = Rooms(5)\n",
    "r1.reset()\n",
    "r1.render()\n",
    "r1.step(\"right\")\n",
    "r1.render()"
   ]
  },
  {
   "cell_type": "code",
   "execution_count": 5,
   "metadata": {
    "deletable": false,
    "editable": false,
    "nbgrader": {
     "cell_type": "code",
     "checksum": "b60d812de2e73a03671b1766ba96a266",
     "grade": true,
     "grade_id": "E-rooms-Rooms-step",
     "locked": true,
     "points": 0.5,
     "schema_version": 3,
     "solution": false,
     "task": false
    }
   },
   "outputs": [],
   "source": [
    "# 評価用セル\n",
    "# test Rooms.reset()/step() for Nstate=5\n",
    "rooms = Rooms(Nstate=5)\n",
    "\n",
    "s = rooms.reset(s=5)\n",
    "s, r, done = rooms.step(\"right\")\n",
    "eq_(s, 6)\n",
    "eq_(rooms.s, 6)\n",
    "eq_(r, 10)\n",
    "eq_(rooms.r, 10)\n",
    "eq_(done, True)"
   ]
  },
  {
   "cell_type": "code",
   "execution_count": 6,
   "metadata": {
    "deletable": false,
    "editable": false,
    "nbgrader": {
     "cell_type": "code",
     "checksum": "b0b165fc3255ea851b27fc746237adcf",
     "grade": true,
     "grade_id": "E-rooms-Rooms-step2",
     "locked": true,
     "points": 0.5,
     "schema_version": 3,
     "solution": false,
     "task": false
    }
   },
   "outputs": [],
   "source": [
    "# 評価用セルその2\n",
    "# test Rooms.reset()/step() for Nstate=10\n",
    "rooms = Rooms(Nstate=10)\n",
    "\n",
    "s = rooms.reset(s=3)\n",
    "eq_(s, 3)\n",
    "s, r, done = rooms.step(\"right\")\n",
    "eq_(s, 4)\n",
    "eq_(r, -1)\n",
    "eq_(done, False)\n",
    "s, r, done = rooms.step(\"left\")\n",
    "eq_(s, 3)\n",
    "eq_(r, -1)\n",
    "eq_(done, False)"
   ]
  },
  {
   "cell_type": "code",
   "execution_count": 7,
   "metadata": {
    "deletable": false,
    "editable": false,
    "nbgrader": {
     "cell_type": "code",
     "checksum": "fbdc2665216bac86e07763a15ed07524",
     "grade": true,
     "grade_id": "E-rooms-Rooms-step3",
     "locked": true,
     "points": 1,
     "schema_version": 3,
     "solution": false,
     "task": false
    }
   },
   "outputs": [],
   "source": [
    "# 評価用セルその3\n",
    "# test Rooms.reset() (random states)\n",
    "result = [rooms.reset() for i in range(10)]\n",
    "result2 = [rooms.reset() for i in range(10)]\n",
    "assert_not_equal(result, result2)"
   ]
  },
  {
   "cell_type": "code",
   "execution_count": 8,
   "metadata": {
    "deletable": false,
    "editable": false,
    "nbgrader": {
     "cell_type": "code",
     "checksum": "51f9c8c21940b35e008bcdaf20de7c65",
     "grade": true,
     "grade_id": "E-rooms-Rooms-render",
     "locked": true,
     "points": 1,
     "schema_version": 3,
     "solution": false,
     "task": false
    }
   },
   "outputs": [],
   "source": [
    "# 評価用セルその4\n",
    "# test Rooms.render()\n",
    "with capture_stdout() as capture:\n",
    "    rooms.reset(s=1)\n",
    "    rooms.render()\n",
    "    rooms.step(\"left\")\n",
    "    rooms.render()\n",
    "\n",
    "res = capture.result\n",
    "ans = \" | @| 2| 3| 4| 5| 6| 7| 8| 9| 10|  r= -1\\n\\\n",
    " @| 1| 2| 3| 4| 5| 6| 7| 8| 9| 10|  r= -1\"\n",
    "assert res.replace(\" \", \"\").strip() == ans.replace(\" \", \"\").strip()"
   ]
  },
  {
   "cell_type": "code",
   "execution_count": 9,
   "metadata": {
    "deletable": false,
    "editable": false,
    "nbgrader": {
     "cell_type": "code",
     "checksum": "5cf7803395541eff9507aa26ce7e58bb",
     "grade": true,
     "grade_id": "E-rooms-Rooms-step10",
     "locked": true,
     "points": 1,
     "schema_version": 3,
     "solution": false,
     "task": false
    }
   },
   "outputs": [],
   "source": [
    "# 評価用セルその5"
   ]
  },
  {
   "cell_type": "markdown",
   "metadata": {
    "slideshow": {
     "slide_type": "slide"
    }
   },
   "source": [
    "## class Roomsのデバッグ用プログラム `trial()`\n",
    "**Q2.** 前問で作ったクラス`Rooms`のデバッグのため，以下をみたす関数`trial()`を定義し，`Rooms`の各インスタンス・メソッドの動作が適切であることを確認しなさい。\n",
    "\n",
    "- 引数\n",
    "    - `a`: デフォルト値は\"right\"\n",
    "    - `Nstate`: 状態数(部屋数)。デフォルト値は5\n",
    "- 処理\n",
    "    - 引数`a=\"right\"`の場合は状態`s=1`から，`a=\"left\"`の場合は状態`s=Nstate`から常に同じ行動`a`を用いて，エピソード終了まで状態遷移を繰り返す。状態の初期設定には，前問の`Rooms.reset()`を用いる。\n",
    "    - 状態遷移には前問で作った`Rooms.step()`を用いる。\n",
    "    - 状態遷移における各ステップの様子は前問で作った`Rooms.render()`を用いて表示する。`Rooms.step()`の返り値である報酬値の値も表示する。\n",
    "    - 関数の終了は，エピソード終了時\n",
    "- 注意\n",
    "    - 以下の実行例と**全く同じ結果**が出力されたら合格! **必要に応じて前問の`Rooms`も修正**しなさい。\n",
    "    \n",
    "\n",
    "**実行例1**\n",
    "\n",
    "- 命令文\n",
    "\n",
    "```python\n",
    "trial()\n",
    "```\n",
    "\n",
    "- 実行結果\n",
    "```python\n",
    "  | @| 2| 3| 4| 5|  r= -1\n",
    "  | 1| @| 3| 4| 5|  r= -1\n",
    "  | 1| 2| @| 4| 5|  r= -1\n",
    "  | 1| 2| 3| @| 5|  r= -1\n",
    "  | 1| 2| 3| 4| @|  r= -1\n",
    "  | 1| 2| 3| 4| 5|@  r= 10\n",
    "```\n",
    "\n",
    "**実行例2**\n",
    "\n",
    "- 命令文\n",
    "\n",
    "```python\n",
    "trial(\"left\")\n",
    "```\n",
    "\n",
    "- 実行結果\n",
    "```python\n",
    "  | 1| 2| 3| 4| @|  r= -1\n",
    "  | 1| 2| 3| @| 5|  r= -1\n",
    "  | 1| 2| @| 4| 5|  r= -1\n",
    "  | 1| @| 3| 4| 5|  r= -1\n",
    "  | @| 2| 3| 4| 5|  r= -1\n",
    " @| 1| 2| 3| 4| 5|  r= -1\n",
    "```"
   ]
  },
  {
   "cell_type": "code",
   "execution_count": 10,
   "metadata": {
    "deletable": false,
    "nbgrader": {
     "cell_type": "code",
     "checksum": "c2479b894b40b9b8d9d5afcc3f313312",
     "grade": false,
     "grade_id": "cell-557a5e0c988b6706",
     "locked": false,
     "schema_version": 3,
     "solution": true,
     "task": false
    },
    "slideshow": {
     "slide_type": "fragment"
    }
   },
   "outputs": [],
   "source": [
    "# このセルに関数の定義を入力する\n",
    "# YOUR CODE HERE\n",
    "def trial(a=\"right\", Nstate=5):\n",
    "    rooms = Rooms(Nstate)\n",
    "    if a==\"right\":\n",
    "        rooms.reset(1)\n",
    "    else:\n",
    "        rooms.reset(Nstate)\n",
    "    rooms.render()\n",
    "    terminal = False\n",
    "    while not terminal:\n",
    "        s, r, terminal = rooms.step(a)\n",
    "        rooms.render()"
   ]
  },
  {
   "cell_type": "code",
   "execution_count": 11,
   "metadata": {},
   "outputs": [
    {
     "name": "stdout",
     "output_type": "stream",
     "text": [
      " |1|2|3|4|@| r=-1\n",
      " |1|2|3|@|5| r=-1\n",
      " |1|2|@|4|5| r=-1\n",
      " |1|@|3|4|5| r=-1\n",
      " |@|2|3|4|5| r=-1\n",
      "@|1|2|3|4|5| r=-1\n"
     ]
    }
   ],
   "source": [
    "# このセルで動作確認をしよう\n",
    "trial(\"left\")"
   ]
  },
  {
   "cell_type": "code",
   "execution_count": 12,
   "metadata": {
    "deletable": false,
    "editable": false,
    "nbgrader": {
     "cell_type": "code",
     "checksum": "35dccddb0aeba0d522a6641f60281a00",
     "grade": true,
     "grade_id": "E-rooms-trial-right",
     "locked": true,
     "points": 1,
     "schema_version": 3,
     "solution": false,
     "task": false
    }
   },
   "outputs": [],
   "source": [
    "# 評価用セル\n",
    "with capture_stdout() as capture:\n",
    "    trial()\n",
    "\n",
    "res = capture.result\n",
    "ans = \" |@| 2| 3| 4| 5| r=-1\\n\\\n",
    "  | 1| @| 3| 4| 5|  r= -1\\n\\\n",
    "  | 1| 2| @| 4| 5|  r= -1\\n\\\n",
    "  | 1| 2| 3| @| 5|  r= -1\\n\\\n",
    "  | 1| 2| 3| 4| @|  r= -1\\n\\\n",
    "  | 1| 2| 3| 4| 5|@  r= 10\"\n",
    "assert res.replace(\" \", \"\").strip() == ans.replace(\" \", \"\").strip()"
   ]
  },
  {
   "cell_type": "code",
   "execution_count": 13,
   "metadata": {
    "deletable": false,
    "editable": false,
    "nbgrader": {
     "cell_type": "code",
     "checksum": "d72a9001326c5b992834af2b415d0591",
     "grade": true,
     "grade_id": "E-roomts-trial-left",
     "locked": true,
     "points": 1,
     "schema_version": 3,
     "solution": false,
     "task": false
    }
   },
   "outputs": [],
   "source": [
    "# 評価用セルその2"
   ]
  },
  {
   "cell_type": "markdown",
   "metadata": {
    "slideshow": {
     "slide_type": "fragment"
    }
   },
   "source": [
    "## 学習しないエージェント: `class Fool`\n",
    "**Q3.** 以下のように，状態`s`がなんであろうとランダムに`action`の選択を行うか， 指定した`action`のみを選択する，学習しないエージェントのクラスを作りなさい。\n",
    "\n",
    "- このクラスには，一見無駄な引数が存在するが，今後構築する環境クラスのテストや，強化学習エージェントとの性能比較に使うために必要なものである。\n",
    "\n",
    "**仕様**\n",
    "- クラス名: `Fool`\n",
    "- 初期化メソッド\n",
    "    - 引数とデフォルト値\n",
    "        - `action_list`: とりうる行動の一覧のリスト\n",
    "        - `action` : `Fool`エージェントがとる行動。デフォルト値は\"random\"(文字列)\n",
    "    - 処理: \n",
    "        - 引数`action_list`の値を，インスタンス変数`action_list`に代入\n",
    "        - インスタンス変数`a`の値を以下のように決定する\n",
    "            - 引数`action`の値が引数(リスト)`action_list`の要素内にあるときは，`action`の値\n",
    "            - 上記以外の場合の値は\"random\"\n",
    "- インスタンス・メソッド\n",
    "    - `get_action(self, s)`\n",
    "        - 引数: `state`\n",
    "        - 返り値: インタンス変数`a`の値によって以下のように決める\n",
    "            - `a=\"random\"`の場合はインスタンス変数`action_list`からランダム選択\n",
    "            - 上記以外の場合は`a`の値\n",
    "        - 注意: 返り値の決定に引数`s`は使わないが，今後作るエージェントのクラスとの互換性のために，あえて引数を設けている。\n",
    "        \n",
    "**実行例その1**\n",
    "- 命令文\n",
    "```python\n",
    "action_list=[\"left\",\"right\"]\n",
    "fool_rand=Fool(action_list)\n",
    "print(fool_rand.get_action(s=1)) # sの値はなんでも良い\n",
    "```\n",
    "- 実行結果\n",
    "```python\n",
    "right # 実行ごとにランダムにかわる\n",
    "```\n",
    "\n",
    "**実行例その2**\n",
    "- 命令文\n",
    "```python\n",
    "action_list=[\"left\",\"right\"]\n",
    "fool_rand=Fool(action_list,\"left\")\n",
    "print(fool_rand.get_action(s=1))\n",
    "```\n",
    "- 実行結果\n",
    "```python\n",
    "left # いつもこの値\n",
    "```"
   ]
  },
  {
   "cell_type": "code",
   "execution_count": 14,
   "metadata": {
    "deletable": false,
    "nbgrader": {
     "cell_type": "code",
     "checksum": "9134f482d5bfd6a01cd345890049044e",
     "grade": false,
     "grade_id": "cell-4f90E-roomt-trial13618690a1cb6",
     "locked": false,
     "schema_version": 3,
     "solution": true,
     "task": false
    }
   },
   "outputs": [],
   "source": [
    "# このセルに関数の定義を入力する\n",
    "# プログラムは概ね以下のようになる\n",
    "# class Fool:\n",
    "#    def __init__(self,action_list,action=\"random\"):\n",
    "#        ...\n",
    "#\n",
    "#    def get_action(self,s):\n",
    "#        ...\n",
    "#        return(ret) # 選択したactionを返す\n",
    "#\n",
    "# YOUR CODE HERE\n",
    "class Fool:\n",
    "    def __init__(self, action_list, action=\"random\"):\n",
    "        self.action_list = action_list\n",
    "        if action in action_list:\n",
    "            self.a = action\n",
    "        else:\n",
    "            self.a = \"random\"\n",
    "    \n",
    "    def get_action(self, s):\n",
    "        if self.a == \"random\":\n",
    "            return(ra.choice(self.action_list))\n",
    "        else:\n",
    "            return(self.a)"
   ]
  },
  {
   "cell_type": "code",
   "execution_count": 15,
   "metadata": {},
   "outputs": [
    {
     "name": "stdout",
     "output_type": "stream",
     "text": [
      "right\n"
     ]
    }
   ],
   "source": [
    "# このセルで動作確認をしよう\n",
    "fool = Fool([\"left\", \"right\"])\n",
    "print(fool.get_action(1))"
   ]
  },
  {
   "cell_type": "code",
   "execution_count": 16,
   "metadata": {
    "deletable": false,
    "editable": false,
    "nbgrader": {
     "cell_type": "code",
     "checksum": "06ae5d79beb1366ac2e0dcffe6dbbb18",
     "grade": true,
     "grade_id": "E-rooms-Fool",
     "locked": true,
     "points": 1,
     "schema_version": 3,
     "solution": false,
     "task": false
    }
   },
   "outputs": [],
   "source": [
    "# 評価用セル\n",
    "action_list = [\"left\", \"right\"]\n",
    "fool = Fool(action_list)\n",
    "\n",
    "result = [fool.get_action(s=1) for i in range(20)]\n",
    "result2 = [fool.get_action(s=1) for i in range(20)]\n",
    "assert_not_equal(result, result2)"
   ]
  },
  {
   "cell_type": "code",
   "execution_count": 17,
   "metadata": {
    "deletable": false,
    "editable": false,
    "nbgrader": {
     "cell_type": "code",
     "checksum": "2d7902bae4cfb1fa8f663060b6ee9c4d",
     "grade": true,
     "grade_id": "E-rooms-Fool2",
     "locked": true,
     "points": 1,
     "schema_version": 3,
     "solution": false,
     "task": false
    }
   },
   "outputs": [],
   "source": [
    "# 評価用セルその2\n",
    "fool = Fool(action_list, \"left\")\n",
    "result = [fool.get_action(s=1) for i in range(20)]\n",
    "assert \"left\" in result\n",
    "assert \"right\" not in result\n",
    "\n",
    "fool = Fool(action_list, \"right\")\n",
    "result = [fool.get_action(s=1) for i in range(20)]\n",
    "assert \"right\" in result\n",
    "assert \"left\" not in result"
   ]
  },
  {
   "cell_type": "markdown",
   "metadata": {
    "slideshow": {
     "slide_type": "slide"
    }
   },
   "source": [
    "## Foolの探検: `demo_env()`\n",
    "\n",
    "**Q4.** 以下は，作成した環境`Rooms`を`Fool`エージェントが探検した結果や，その過程を表示する関数`demo_env()`の仕様である。\n",
    "\n",
    "**引数とデフォルト値**\n",
    "- `env`: 学習する環境\n",
    "- `agent`: 環境を動く行動を決定するエージェント\n",
    "- `s0` :初期状態(デフォルト値`None`)\n",
    "- `max_episode`: 繰り返すエピソード数 (デフォルト値30)\n",
    "- `max_step`: 1エピソードあたりの最大タイムステップ数 (デフォルト値30)\n",
    "- `verbose`: 値が`True`のときに限り，以下の`render_step`で指定するエピソード毎に`Rooms.render()`を用いた状態遷移表示をする。(`render_step=10`ならば，第0,10,20,...エピソードの状態遷移を表示する)\n",
    "- `render_step`: 何エピソードごとに状態遷移を表示するかを設定する変数 (デフォルト値20)\n",
    "        \n",
    "**返り値**\n",
    "- `history_step`: 各エピソードにおける，エピソード終了までのステップ数のリスト\n",
    "- `history_score`: 各エピソードにおいて獲得した総報酬のリスト\n",
    "\n",
    "コメント文を参考にして，プログラムを完成しなさい。\n",
    "\n",
    "```python\n",
    "def demo_env(env, agent, s0=None, max_episode=30, max_step=30, verbose=False, render_step=10):\n",
    "    # ここに，要素数がmax_episodeであるリストhistory_stepとhistory_scoreを定義する。\n",
    "    # いずれも各要素の初期値は0とする\n",
    "\n",
    "    # 各エピソードの総報酬は変数scoreに格納する。そのための命令文は以下のどこかに追加する\n",
    "    for n_episode in range(max_episode):\n",
    "        s = env.reset(s0)\n",
    "        for t in range(max_step):\n",
    "            # ここに，verbose==Trueの場合かつ，render_step回のエピソード実行毎に\n",
    "            # env.render()を実行する命令文を書く\n",
    "            action = agent.get_action(s)\n",
    "            s,r,terminal = env.step(action)\n",
    "            if terminal: break # <= if文を1行で書いてみた\n",
    "\n",
    "        if verbose: \n",
    "            # ここに，render_step回のエピソード実行毎((n_episode%render_step==0 の時)に\n",
    "            # env.render()を実行する命令文を書く\n",
    "            print(\"Episode {} finished after {} timesteps with {} return\".format(n_episode,t+1,score)) #時間tの表示は0からではなく，1からにする\n",
    "\n",
    "        # history_step の第n_episode要素に，エピソード終了時のt+1を代入する命令文を追加\n",
    "        # history_score の第n_episode要素に，エピソード終了時のscoreを代入する命令文を追加\n",
    "\n",
    "    return(history_step,history_score)\n",
    "```\n",
    "実行例は後述"
   ]
  },
  {
   "cell_type": "code",
   "execution_count": 18,
   "metadata": {
    "deletable": false,
    "nbgrader": {
     "cell_type": "code",
     "checksum": "81ba7cbaea0a48f638048d177ad4f21f",
     "grade": false,
     "grade_id": "cell-c0cc0b014f8694d6",
     "locked": false,
     "schema_version": 3,
     "solution": true,
     "task": false
    },
    "slideshow": {
     "slide_type": "slide"
    }
   },
   "outputs": [],
   "source": [
    "# このセルに関数の定義を入力する\n",
    "# YOUR CODE HERE\n",
    "def demo_env(env, agent, s0=None, max_episode=30, max_step=30, verbose=False, render_step=10):\n",
    "    # ここに，要素数がmax_episodeであるリストhistory_stepとhistory_scoreを定義する。\n",
    "    # いずれも各要素の初期値は0とする\n",
    "    history_step = [0] * max_episode\n",
    "    history_score = [0] * max_episode\n",
    "\n",
    "    # 各エピソードの総報酬は変数scoreに格納する。そのための命令文は以下のどこかに追加する\n",
    "    count = 0\n",
    "    for n_episode in range(max_episode):\n",
    "        score = 0\n",
    "        count += 1\n",
    "        s = env.reset(s0)\n",
    "        for t in range(max_step):\n",
    "            # ここに，verbose==Trueの場合かつ，render_step回のエピソード実行毎に\n",
    "            # env.render()を実行する命令文を書く\n",
    "            if verbose and count % render_step == 0:\n",
    "                env.render()\n",
    "            action = agent.get_action(s)\n",
    "            s,r,terminal = env.step(action)\n",
    "            if terminal: break # <= if文を1行で書いてみた\n",
    "        score += r\n",
    "\n",
    "        if verbose: \n",
    "            # ここに，render_step回のエピソード実行毎((n_episode%render_step==0 の時)に\n",
    "            # env.render()を実行する命令文を書く\n",
    "            if count % render_step == 0:\n",
    "                env.render()\n",
    "            print(\"Episode {} finished after {} timesteps with {} return\".format(n_episode,t+1,score)) #時間tの表示は0からではなく，1からにする\n",
    "\n",
    "        # history_step の第n_episode要素に，エピソード終了時のt+1を代入する命令文を追加\n",
    "        history_step[n_episode] = t + 1\n",
    "        # history_score の第n_episode要素に，エピソード終了時のscoreを代入する命令文を追加\n",
    "        history_score[n_episode] = score\n",
    "\n",
    "    return(history_step,history_score)"
   ]
  },
  {
   "cell_type": "code",
   "execution_count": 19,
   "metadata": {},
   "outputs": [
    {
     "name": "stdout",
     "output_type": "stream",
     "text": [
      " |1|2|3|4|@| r=-1\n",
      " |1|2|3|4|5|@ r=10\n",
      "Episode 0 finished after 1 timesteps with 10 return\n",
      " |1|2|3|@|5| r=-1\n",
      " |1|2|3|4|@| r=-1\n",
      " |1|2|3|4|5|@ r=10\n",
      "Episode 1 finished after 2 timesteps with 10 return\n",
      " |1|@|3|4|5| r=-1\n",
      " |1|2|@|4|5| r=-1\n",
      " |1|2|3|@|5| r=-1\n",
      " |1|2|3|4|@| r=-1\n",
      " |1|2|3|4|5|@ r=10\n",
      "Episode 2 finished after 4 timesteps with 10 return\n"
     ]
    }
   ],
   "source": [
    "# このセルで動作確認をしよう\n",
    "action_list = [\"left\",\"right\"]\n",
    "env = Rooms()\n",
    "right_agent = Fool(action_list, action=\"right\")\n",
    "step,score = demo_env(env, right_agent, max_episode=3, verbose=True, render_step=1)"
   ]
  },
  {
   "cell_type": "markdown",
   "metadata": {},
   "source": [
    "以下の実行例を参考にデバッグしなさい。\n",
    "\n",
    "**実行例**\n",
    "\n",
    "- 命令文\n",
    "```python\n",
    "action_list = [\"left\",\"right\"]\n",
    "env = Rooms()\n",
    "right_agent = Fool(action_list, action=\"right\")\n",
    "step,score = demo_env(env, right_agent, max_episode=3, verbose=True, render_step=1)\n",
    "```\n",
    "- 出力結果(実行するごとに結果は変わる)\n",
    "```python\n",
    "  | 1| 2| 3| @| 5|  r= -1\n",
    "  | 1| 2| 3| 4| @|  r= -1\n",
    "  | 1| 2| 3| 4| 5|@  r= 10\n",
    "Episode 0 finished after 2 timesteps with 9 return\n",
    "  | 1| @| 3| 4| 5|  r= -1\n",
    "  | 1| 2| @| 4| 5|  r= -1\n",
    "  | 1| 2| 3| @| 5|  r= -1\n",
    "  | 1| 2| 3| 4| @|  r= -1\n",
    "  | 1| 2| 3| 4| 5|@  r= 10\n",
    "Episode 1 finished after 4 timesteps with 7 return\n",
    "  | 1| 2| 3| @| 5|  r= -1\n",
    "  | 1| 2| 3| 4| @|  r= -1\n",
    "  | 1| 2| 3| 4| 5|@  r= 10\n",
    "Episode 2 finished after 2 timesteps with 9 return\n",
    "```\n",
    "\n",
    "**注意**: 以下によく気をつけて動作確認をすること。\n",
    "\n",
    "1. エージェント位置が部屋の外に出た時点まで表示されていること\n",
    "2. エピソードごとに表示されるタイムステップ数や総報酬値が適切であること"
   ]
  },
  {
   "cell_type": "code",
   "execution_count": 20,
   "metadata": {},
   "outputs": [],
   "source": [
    "# このセルで動作確認をしよう"
   ]
  },
  {
   "cell_type": "markdown",
   "metadata": {},
   "source": [
    "**Q4-2**\n",
    "以下の各項目通りにプログラムが動作するか，次のセルで確認しなさい。\n",
    "\n",
    "1. 上記のように`right_agent=Fool(action_list,action=\"right\")`と定義した場合，スタート位置が`s=1`となったときの結果は， Q3で`trial(\"right\")`を実行した場合と同じ結果になっていることを確認しなさい。\n",
    "2. `left_agent=Fool(action_list,action=\"left\")`を用いて`demo_env()`を実行しなさい。この場合，スタート位置が`s=5`になったときには，Q3で`trial(\"left\")`を実行した場合と同様の結果になっていることを確認しなさい。\n",
    "3. `fool_agent=Fool(action_list,action=\"random\")`を用いた場合にも適切な行動遷移が得られることを確認しなさい。\n",
    "4. `render_step=1`の場合は全てのエピソードについて， `render_step=2`の場合は， 第1, 3, 5, ...回目のエピソードの時に行動遷移が表示されることを確認しなさい。"
   ]
  },
  {
   "cell_type": "code",
   "execution_count": 21,
   "metadata": {},
   "outputs": [],
   "source": [
    "# このセルで動作確認をしよう"
   ]
  },
  {
   "cell_type": "code",
   "execution_count": 22,
   "metadata": {
    "deletable": false,
    "editable": false,
    "nbgrader": {
     "cell_type": "code",
     "checksum": "69c0948c85d23164ee55fe80ec4aa54d",
     "grade": true,
     "grade_id": "E-rooms-demo_env-right",
     "locked": true,
     "points": 1,
     "schema_version": 3,
     "solution": false,
     "task": false
    }
   },
   "outputs": [],
   "source": [
    "# 評価用セル\n",
    "action_list = [\"left\", \"right\"]\n",
    "env = Rooms()\n",
    "right_agent = Fool(action_list, action=\"right\")\n",
    "left_agent = Fool(action_list, action=\"left\")\n",
    "random_agent = Fool(action_list)\n",
    "\n",
    "# test 1 for Fool(right)\n",
    "with capture_stdout() as capture:\n",
    "    step, score = demo_env(\n",
    "        env, right_agent, s0=5, max_episode=1, verbose=True, render_step=1\n",
    "    )\n",
    "\n",
    "res = capture.result\n",
    "ans = \"| 1| 2| 3| 4| @|  r= -1\\n\\\n",
    " | 1| 2| 3| 4| 5|@  r= 10\\n\\\n",
    "Episode 0 finished after 1 timesteps with 10 return\"\n",
    "assert res.replace(\" \", \"\").strip() == ans.replace(\" \", \"\").strip()"
   ]
  },
  {
   "cell_type": "code",
   "execution_count": 23,
   "metadata": {
    "deletable": false,
    "editable": false,
    "nbgrader": {
     "cell_type": "code",
     "checksum": "be6bce63da0e0228cb6befd31c8d5cfe",
     "grade": true,
     "grade_id": "E-rooms-demo_env-left",
     "locked": true,
     "points": 1,
     "schema_version": 3,
     "solution": false,
     "task": false
    }
   },
   "outputs": [],
   "source": [
    "# 評価用セル2\n",
    "# test for Fool(left) and more"
   ]
  },
  {
   "cell_type": "code",
   "execution_count": 24,
   "metadata": {
    "deletable": false,
    "editable": false,
    "nbgrader": {
     "cell_type": "code",
     "checksum": "ec3234a40a51424c05fed322017b63d6",
     "grade": true,
     "grade_id": "E-rooms-demo_env-random",
     "locked": true,
     "points": 1,
     "schema_version": 3,
     "solution": false,
     "task": false
    }
   },
   "outputs": [],
   "source": [
    "# 評価用セルその3\n",
    "# test 3 for Fool(random)"
   ]
  },
  {
   "cell_type": "markdown",
   "metadata": {
    "slideshow": {
     "slide_type": "slide"
    }
   },
   "source": [
    "## 学習エージェントクラス`Qlearner`の構築\n",
    "\n",
    "**Q5.** クラス `Rooms`の環境に対して，報酬を得るための行動学習を行うエージェントのクラス`Qlearner`をつくりなさい。\n",
    "\n",
    "- 以下の仕様を満たしていれば，メソッドや変数の追加は自由にして良い\n",
    "- 注1) **各メソッド内のみで使う変数はインスタンス変数にはしないこと!**\n",
    "- 注2) これまでの課題で作成した関数を使うと，かなりの部分が出来上がる\n",
    "- 注3) 以前の課題(list課題)で作成した関数`index_list`を呼び出して使うと便利。\n",
    "\n",
    "\n",
    "**仕様**\n",
    "- クラス名: `Qlearner`\n",
    "- 初期化メソッド\n",
    "    - 引数とデフォルト値\n",
    "        - `action_list` : 選択しうる行動のリスト\n",
    "        - `epsilon=0.1` : random選択により行動決定をする確率(ε-greedy法の確率ε)\n",
    "        - `alpha=0.2`   : learning rate\n",
    "        - `gamma=0.9`: discount rate\n",
    "        - `q0=0`          : Q値の初期値\n",
    "    - インスタンス変数と初期化\n",
    "        - `action_list` : 引数action_listの値で初期化\n",
    "        - `epsilon` : 引数epsilonの値で初期化\n",
    "        - `alpha`   : 引数alphaの値で初期化\n",
    "        - `gamma`: 引数gammaの値で初期化\n",
    "        - `q0`       : 引数q0の値で初期化\n",
    "        - `Q={}`    : 空の辞書。キー`(s,a)`とQ値のペアを格納するために準備\n",
    "- インスタンス・メソッド\n",
    "    - `reset(self)`: 学習結果を初期化する\n",
    "        - 実行内容: 辞書`Q`を空の辞書にする\n",
    "    - `get_q(self, s, a)`\n",
    "        - 引数: \n",
    "            - `s`: 状態\n",
    "            - `a`: 行動\n",
    "        - 辞書Qを参照し，`(s,a)`に対するQ値を返す\n",
    "        - 辞書Qのキーに`(s,a)`がないときにはインスタンス変数`q0`の値を返す\n",
    "    - `get_maxQ(self, s)`\n",
    "        - 引数: \n",
    "            - `s`: 状態\n",
    "        - 返り値: 状態`s`に対して，Q値が最大値をとる最適行動を選択した場合の以下の値\n",
    "            - Q値\n",
    "            - 最適行動の個数\n",
    "            - 最適行動のインデックスのリスト。インデックスはリスト`action_list`中の要素順に対応\n",
    "    - `get_action(self, s):`\n",
    "        - 引数: \n",
    "            - `s`: 状態\n",
    "        - 返り値: 状態`s`に基づいて以下のように決定した行動\n",
    "            - 確率`epsilon`(インスタンス変数)でランダムな行動選択\n",
    "            - Q値が最大となる行動が一意に決まるときは，その行動\n",
    "            - Q値が最大となる行動が2つあるときは，ランダム選択\n",
    "    - `learning(self, s1, a1, r, s2, terminal=False)`\n",
    "        - 以下のQ学習則に基づいてQ値(インスタンス変数`Q[(s,a)]`)を更新する\n",
    "        ```\n",
    "        Q(s,a) <- Q(s,a) + alpha * (r + gamma*maxQ(s',a') - Q(s,a)) # 通常時\n",
    "        Q(s,a) <- Q(s,a) + alpha * (r - Q(s,a)) # エピソード終了時\n",
    "        ```\n",
    "        - 引数:\n",
    "            - `s1`: 学習則の`s`\n",
    "            - `a1`: 学習則の`a`\n",
    "            - `r`:  学習則の`r`\n",
    "            - `s2`: 学習則の`s'`\n",
    "            - `terminal=False`: エピソード終了状態かどうかを表す引数。\n",
    "        - 学習則の計算について\n",
    "            - 学習則の`alpha`, `gamma`はインスタンス変数を用いる\n",
    "            - 学習則右辺の`Q(s,a)`には，インスタンス・メソッド`get_q()`を用いることができる\n",
    "            - 学習則右辺の`max(Q(s'))`には，インスタンス・メソッド`get_maxQ()`の返り値を用いることができる\n",
    "        - 返り値: なし"
   ]
  },
  {
   "cell_type": "code",
   "execution_count": 25,
   "metadata": {
    "deletable": false,
    "nbgrader": {
     "cell_type": "code",
     "checksum": "5aadc524f658509966806ec5bbeadfb0",
     "grade": false,
     "grade_id": "A-rooms-indexlist",
     "locked": false,
     "schema_version": 3,
     "solution": true,
     "task": false
    }
   },
   "outputs": [],
   "source": [
    "# class Qlearnerの実行に必要ならば，以前の課題(list課題)で作成したindex_list()をここに入力しなさい。\n",
    "# 実行に不要なら，このセルには何も入力しなくて良い。\n",
    "# YOUR CODE HERE\n",
    "def index_list(L, value):\n",
    "    return [i for i in range(len(L)) if L[i]==value]"
   ]
  },
  {
   "cell_type": "code",
   "execution_count": 26,
   "metadata": {
    "deletable": false,
    "nbgrader": {
     "cell_type": "code",
     "checksum": "cd63704712511fc75c00e5a0947ab872",
     "grade": false,
     "grade_id": "A-rooms-Qlearner",
     "locked": false,
     "schema_version": 3,
     "solution": true,
     "task": false
    },
    "slideshow": {
     "slide_type": "fragment"
    }
   },
   "outputs": [],
   "source": [
    "# このセルにclass Qlearnerの定義を入力しなさい\n",
    "import random as ra\n",
    "\n",
    "# YOUR CODE HERE\n",
    "class Qlearner:\n",
    "    def __init__(self, action_list, epsilon=0.1, alpha=0.2, gamma=0.9, q0=0):\n",
    "        self.action_list = action_list\n",
    "        self.epsilon = epsilon\n",
    "        self.alpha = alpha\n",
    "        self.gamma = gamma\n",
    "        self.q0 = q0\n",
    "        self.Q = {}\n",
    "    \n",
    "    def reset(self):\n",
    "        self.Q = {}\n",
    "    \n",
    "    def get_q(self, s, a):\n",
    "        return(self.Q.get((s, a), self.q0))\n",
    "    \n",
    "    def get_maxQ(self, s):\n",
    "        qs = [self.get_q(s, a) for a in self.action_list]\n",
    "        maxQ = max(qs)\n",
    "        indices = index_list(qs, maxQ)\n",
    "        return(maxQ, len(indices), indices)\n",
    "    \n",
    "    def get_action(self, s):\n",
    "        if ra.random() < self.epsilon:\n",
    "            return(ra.choice(self.action_list))\n",
    "        maxQ, n_indices, indices = self.get_maxQ(s)\n",
    "        if n_indices == 1:\n",
    "            index = indices[0]\n",
    "        else:\n",
    "            index = ra.choice(indices)\n",
    "        return(self.action_list[index])\n",
    "    \n",
    "    def learning(self, s1, a1, r, s2, terminal=False):\n",
    "        q1 = self.get_q(s1, a1)\n",
    "        q2 = 0\n",
    "        if not terminal:\n",
    "            q2 = self.get_maxQ(s2)[0]\n",
    "        self.Q[(s1, a1)] = q1 + self.alpha * (r + self.gamma * q2 - q1)"
   ]
  },
  {
   "cell_type": "code",
   "execution_count": 75,
   "metadata": {},
   "outputs": [
    {
     "name": "stdout",
     "output_type": "stream",
     "text": [
      "0\n"
     ]
    }
   ],
   "source": [
    "# このセルで動作確認をしよう\n",
    "action_list = [\"left\", \"right\"]\n",
    "agent = Qlearner(action_list)\n",
    "print(agent.get_q(1, \"left\"))"
   ]
  },
  {
   "cell_type": "code",
   "execution_count": 76,
   "metadata": {
    "deletable": false,
    "editable": false,
    "nbgrader": {
     "cell_type": "code",
     "checksum": "052f0812c853cbfb99b3fa6f9e134a9b",
     "grade": true,
     "grade_id": "E-rooms-Qlearner-init",
     "locked": true,
     "points": 1,
     "schema_version": 3,
     "solution": false,
     "task": false
    }
   },
   "outputs": [],
   "source": [
    "# 評価用セル\n",
    "agent = Qlearner(action_list = [\"up\", \"down\"])\n",
    "nt.assert_array_equal(agent.action_list, [\"up\", \"down\"])\n",
    "\n",
    "# check init()\n",
    "eq_(agent.epsilon, 0.1)\n",
    "eq_(agent.alpha, 0.2)\n",
    "eq_(agent.gamma, 0.9)\n",
    "eq_(agent.q0, 0.0)\n",
    "eq_(agent.Q, {})"
   ]
  },
  {
   "cell_type": "code",
   "execution_count": 77,
   "metadata": {
    "deletable": false,
    "editable": false,
    "nbgrader": {
     "cell_type": "code",
     "checksum": "82bd9916d4a803fb8322eac385f4a438",
     "grade": true,
     "grade_id": "E-rooms-Qlearner-learn",
     "locked": true,
     "points": 1,
     "schema_version": 3,
     "solution": false,
     "task": false
    }
   },
   "outputs": [],
   "source": [
    "# 評価用セル2\n",
    "# check learning()\n",
    "action_list = [\"left\", \"right\"]\n",
    "agent = Qlearner(action_list)\n",
    "agent.learning(s1=4, a1=\"right\", r=-1, s2=5)\n",
    "agent.learning(s1=5, a1=\"right\", r=10, s2=6)\n",
    "agent.learning(s1=3, a1=\"right\", r=-1, s2=4)\n",
    "agent.learning(s1=4, a1=\"right\", r=-1, s2=5)\n",
    "agent.learning(s1=5, a1=\"left\", r=-1, s2=4)\n",
    "agent.learning(s1=4, a1=\"right\", r=-1, s2=5)\n",
    "agent.learning(s1=5, a1=\"right\", r=10, s2=6)\n",
    "eq_(\n",
    "    agent.Q,\n",
    "    {\n",
    "        (3, \"right\"): -0.2,\n",
    "        (5, \"left\"): -0.2,\n",
    "        (5, \"right\"): 3.6,\n",
    "        (4, \"right\"): 0.16000000000000003,\n",
    "    },\n",
    ")\n",
    "agent.learning(s1=4, a1=\"right\", r=-1, s2=5)\n",
    "agent.learning(s1=5, a1=\"right\", r=10, s2=6)"
   ]
  },
  {
   "cell_type": "code",
   "execution_count": 78,
   "metadata": {
    "deletable": false,
    "editable": false,
    "nbgrader": {
     "cell_type": "code",
     "checksum": "dd51b07615f649d7df33b7729df313f6",
     "grade": true,
     "grade_id": "E-rooms-Qlearner-action",
     "locked": true,
     "points": 1,
     "schema_version": 3,
     "solution": false,
     "task": false
    }
   },
   "outputs": [],
   "source": [
    "# 評価用セル3\n",
    "# check get_action()\n",
    "agent.epsilon = 0\n",
    "actions = [agent.get_action(5) for i in range(10)]\n",
    "assert \"right\" in actions\n",
    "assert \"left\" not in actions"
   ]
  },
  {
   "cell_type": "code",
   "execution_count": 79,
   "metadata": {
    "deletable": false,
    "editable": false,
    "nbgrader": {
     "cell_type": "code",
     "checksum": "cf64343b316bdc55f9e3f321e882313a",
     "grade": true,
     "grade_id": "E-rooms-Qlearner-reset",
     "locked": true,
     "points": 1,
     "schema_version": 3,
     "solution": false,
     "task": false
    }
   },
   "outputs": [],
   "source": [
    "# 評価用セル4\n",
    "# check reset()\n",
    "agent.reset()\n",
    "eq_(agent.Q, {})"
   ]
  },
  {
   "cell_type": "markdown",
   "metadata": {
    "slideshow": {
     "slide_type": "slide"
    }
   },
   "source": [
    "## Qlearnerによる学習プログラム: `play_env()`\n",
    "\n",
    "**Q6.** 環境`Rooms`において，上記で作成したクラス`Qlearner`による行動選択・学習を行う関数`play_env()`を作成する。既に作成した関数`demo_env()`を次のセルにコピー&ペーストし，さらに以下のように修正して，関数`play_env()`を作りなさい。また，これを用いてエピソードとともに学習が進むことを確認しなさい。\n",
    "\n",
    "- **関数名**: `play_env()`に変更\n",
    "- **引数**: `demo_env()`にあった引数の他に，**以下を追加**\n",
    "    - `learning`: \n",
    "        - デフォルト値はTrue\n",
    "        - 学習をするか否かのフラグ\n",
    "\n",
    "- **動作**: \n",
    "    - 引数`learning==False`のときは，`demo_env()`と同じ。\n",
    "    - 引数`learning==True`のときは，`demo_env()`の動作に加え，行動学習も行う\n",
    "    \n",
    "\n",
    "**動作確認**\n",
    "\n",
    "```python\n",
    "action_list = [\"left\",\"right\"]\n",
    "env = Rooms()\n",
    "agent = Qlearner(action_list)\n",
    "play_env(env,agent, learning=True, max_episode=30, verbose=True, render_step=10)\n",
    "```\n",
    "その他，引数の値を変えて，動作確認をする。エージェントのクラスにFoolを使うのも良いデバッグになる。"
   ]
  },
  {
   "cell_type": "code",
   "execution_count": 80,
   "metadata": {
    "deletable": false,
    "nbgrader": {
     "cell_type": "code",
     "checksum": "fd04386c542cab7d4ca218c74b65d77e",
     "grade": false,
     "grade_id": "A-rooms-play_env",
     "locked": false,
     "schema_version": 3,
     "solution": true,
     "task": false
    }
   },
   "outputs": [],
   "source": [
    "def play_env(\n",
    "    env,\n",
    "    agent,\n",
    "    s0=None,\n",
    "    learning=True,\n",
    "    max_episode=30,\n",
    "    max_step=50,\n",
    "    render_step=20,\n",
    "    verbose=False,\n",
    "):\n",
    "    # 続きの処理を書く\n",
    "    # YOUR CODE HERE\n",
    "    # ここに，要素数がmax_episodeであるリストhistory_stepとhistory_scoreを定義する。\n",
    "    # いずれも各要素の初期値は0とする\n",
    "    history_step = [0] * max_episode\n",
    "    history_score = [0] * max_episode\n",
    "\n",
    "    # 各エピソードの総報酬は変数scoreに格納する。そのための命令文は以下のどこかに追加する\n",
    "    count = 0\n",
    "    for n_episode in range(max_episode):\n",
    "        score = 0\n",
    "        s = env.reset(s0)\n",
    "        for t in range(max_step):\n",
    "            count += 1\n",
    "            # ここに，verbose==Trueの場合かつ，render_step回のエピソード実行毎に\n",
    "            # env.render()を実行する命令文を書く\n",
    "            if verbose and count % render_step == 0:\n",
    "                env.render()\n",
    "            action = agent.get_action(s)\n",
    "            s1 = s\n",
    "            s,r,terminal = env.step(action)\n",
    "            if learning: agent.learning(s1, action, r, s, terminal)\n",
    "            if terminal: break # <= if文を1行で書いてみた\n",
    "        score += r\n",
    "\n",
    "        if verbose: \n",
    "            # ここに，render_step回のエピソード実行毎((n_episode%render_step==0 の時)に\n",
    "            # env.render()を実行する命令文を書く\n",
    "            if count % render_step == 0:\n",
    "                env.render()\n",
    "            print(\"Episode {} finished after {} timesteps with {} return\".format(n_episode,t+1,score)) #時間tの表示は0からではなく，1からにする\n",
    "\n",
    "        # history_step の第n_episode要素に，エピソード終了時のt+1を代入する命令文を追加\n",
    "        history_step[n_episode] = t + 1\n",
    "        # history_score の第n_episode要素に，エピソード終了時のscoreを代入する命令文を追加\n",
    "        history_score[n_episode] = score\n",
    "\n",
    "    return(history_step,history_score)"
   ]
  },
  {
   "cell_type": "code",
   "execution_count": 81,
   "metadata": {},
   "outputs": [
    {
     "name": "stdout",
     "output_type": "stream",
     "text": [
      " |@|2|3|4|5| r=-1\n",
      "@|1|2|3|4|5| r=-1\n",
      "Episode 0 finished after 2 timesteps with -1 return\n",
      " |@|2|3|4|5| r=-1\n",
      "@|1|2|3|4|5| r=-1\n",
      "Episode 1 finished after 2 timesteps with -1 return\n",
      " |@|2|3|4|5| r=-1\n",
      "@|1|2|3|4|5| r=-1\n",
      "Episode 2 finished after 2 timesteps with -1 return\n"
     ]
    }
   ],
   "source": [
    "# このセルで動作確認をしよう\n",
    "action_list = [\"left\",\"right\"]\n",
    "env = Rooms()\n",
    "agent = Fool(action_list, action=\"left\")\n",
    "play_env(\n",
    "        env,\n",
    "        agent,\n",
    "        s0=2,\n",
    "        max_episode=3,\n",
    "        learning=False,\n",
    "        verbose=True,\n",
    "        render_step=2,\n",
    "    )\n",
    "pass"
   ]
  },
  {
   "cell_type": "code",
   "execution_count": 85,
   "metadata": {
    "deletable": false,
    "editable": false,
    "nbgrader": {
     "cell_type": "code",
     "checksum": "79b83f597a9c9aa337cc4067b2be868e",
     "grade": true,
     "grade_id": "E-rooms-play_env",
     "locked": true,
     "points": 1,
     "schema_version": 3,
     "solution": false,
     "task": false
    }
   },
   "outputs": [
    {
     "ename": "AssertionError",
     "evalue": "",
     "output_type": "error",
     "traceback": [
      "\u001b[0;31m---------------------------------------------------------------------------\u001b[0m",
      "\u001b[0;31mAssertionError\u001b[0m                            Traceback (most recent call last)",
      "\u001b[0;32m<ipython-input-85-307fffbe96d6>\u001b[0m in \u001b[0;36m<module>\u001b[0;34m\u001b[0m\n\u001b[1;32m     48\u001b[0m  \u001b[0;34m@\u001b[0m\u001b[0;34m|\u001b[0m \u001b[0;36m1\u001b[0m\u001b[0;34m|\u001b[0m \u001b[0;36m2\u001b[0m\u001b[0;34m|\u001b[0m \u001b[0;36m3\u001b[0m\u001b[0;34m|\u001b[0m \u001b[0;36m4\u001b[0m\u001b[0;34m|\u001b[0m \u001b[0;36m5\u001b[0m\u001b[0;34m|\u001b[0m  \u001b[0mr\u001b[0m\u001b[0;34m=\u001b[0m \u001b[0;34m-\u001b[0m\u001b[0;36m1\u001b[0m\u001b[0;31m\\\u001b[0m\u001b[0mn\u001b[0m\u001b[0;31m\\\u001b[0m\u001b[0;34m\u001b[0m\u001b[0;34m\u001b[0m\u001b[0m\n\u001b[1;32m     49\u001b[0m \u001b[0mEpisode\u001b[0m \u001b[0;36m2\u001b[0m \u001b[0mfinished\u001b[0m \u001b[0mafter\u001b[0m \u001b[0;36m2\u001b[0m \u001b[0mtimesteps\u001b[0m \u001b[0;32mwith\u001b[0m \u001b[0;34m-\u001b[0m\u001b[0;36m2\u001b[0m \u001b[0;32mreturn\u001b[0m\u001b[0;31m\"\u001b[0m\u001b[0;34m\u001b[0m\u001b[0;34m\u001b[0m\u001b[0m\n\u001b[0;32m---> 50\u001b[0;31m \u001b[0;32massert\u001b[0m \u001b[0mres\u001b[0m\u001b[0;34m.\u001b[0m\u001b[0mreplace\u001b[0m\u001b[0;34m(\u001b[0m\u001b[0;34m\" \"\u001b[0m\u001b[0;34m,\u001b[0m \u001b[0;34m\"\"\u001b[0m\u001b[0;34m)\u001b[0m\u001b[0;34m.\u001b[0m\u001b[0mstrip\u001b[0m\u001b[0;34m(\u001b[0m\u001b[0;34m)\u001b[0m \u001b[0;34m==\u001b[0m \u001b[0mans\u001b[0m\u001b[0;34m.\u001b[0m\u001b[0mreplace\u001b[0m\u001b[0;34m(\u001b[0m\u001b[0;34m\" \"\u001b[0m\u001b[0;34m,\u001b[0m \u001b[0;34m\"\"\u001b[0m\u001b[0;34m)\u001b[0m\u001b[0;34m.\u001b[0m\u001b[0mstrip\u001b[0m\u001b[0;34m(\u001b[0m\u001b[0;34m)\u001b[0m\u001b[0;34m\u001b[0m\u001b[0;34m\u001b[0m\u001b[0m\n\u001b[0m\u001b[1;32m     51\u001b[0m \u001b[0;31m# test 3 for Fool(random)\u001b[0m\u001b[0;34m\u001b[0m\u001b[0;34m\u001b[0m\u001b[0;34m\u001b[0m\u001b[0m\n",
      "\u001b[0;31mAssertionError\u001b[0m: "
     ]
    }
   ],
   "source": [
    "# 評価用セル(Foolを用いた動作確認。demo_env()と同様の動作確認)\n",
    "\n",
    "# Foolによるテスト(内容はdemo_envのテストと同じ)\n",
    "action_list = [\"left\", \"right\"]\n",
    "env = Rooms()\n",
    "right_agent = Fool(action_list, action=\"right\")\n",
    "left_agent = Fool(action_list, action=\"left\")\n",
    "random_agent = Fool(action_list)\n",
    "\n",
    "# test 1 for Fool(right)\n",
    "with capture_stdout() as capture:\n",
    "    step, score = play_env(\n",
    "        env,\n",
    "        right_agent,\n",
    "        s0=5,\n",
    "        max_episode=1,\n",
    "        learning=False,\n",
    "        verbose=True,\n",
    "        render_step=1,\n",
    "    )\n",
    "\n",
    "res = capture.result\n",
    "ans = \"| 1| 2| 3| 4| @|  r= -1\\n\\\n",
    " | 1| 2| 3| 4| 5|@  r= 10\\n\\\n",
    "Episode 0 finished after 1 timesteps with 10 return\"\n",
    "assert res.replace(\" \", \"\").strip() == ans.replace(\" \", \"\").strip()\n",
    "\n",
    "# test 2 for Fool(left) and more\n",
    "with capture_stdout() as capture:\n",
    "    step, score = play_env(\n",
    "        env,\n",
    "        left_agent,\n",
    "        s0=2,\n",
    "        max_episode=3,\n",
    "        learning=False,\n",
    "        verbose=True,\n",
    "        render_step=2,\n",
    "    )\n",
    "\n",
    "res = capture.result\n",
    "ans = \" | 1| @| 3| 4| 5|  r= -1\\n\\\n",
    "  | @| 2| 3| 4| 5|  r= -1\\n\\\n",
    " @| 1| 2| 3| 4| 5|  r= -1\\n\\\n",
    "Episode 0 finished after 2 timesteps with -2 return\\n\\\n",
    "Episode 1 finished after 2 timesteps with -2 return\\n\\\n",
    "  | 1| @| 3| 4| 5|  r= -1\\n\\\n",
    "  | @| 2| 3| 4| 5|  r= -1\\n\\\n",
    " @| 1| 2| 3| 4| 5|  r= -1\\n\\\n",
    "Episode 2 finished after 2 timesteps with -2 return\"\n",
    "assert res.replace(\" \", \"\").strip() == ans.replace(\" \", \"\").strip()\n",
    "# test 3 for Fool(random)"
   ]
  },
  {
   "cell_type": "code",
   "execution_count": 86,
   "metadata": {
    "deletable": false,
    "editable": false,
    "nbgrader": {
     "cell_type": "code",
     "checksum": "c664f6e3ef5857c87278a8c5b4419c7d",
     "grade": true,
     "grade_id": "E-rooms-play_env-learning",
     "locked": true,
     "points": 2,
     "schema_version": 3,
     "solution": false,
     "task": false
    }
   },
   "outputs": [],
   "source": [
    "# 評価用セルその2(agent.learning()の呼び出しと学習確認)\n",
    "action_list = [\"left\", \"right\"]\n",
    "env = Rooms()\n",
    "agent = Qlearner(action_list)\n",
    "agent.epsilon = 0\n",
    "agent.Q = {(5, \"right\"): 4.0, (5, \"left\"): -2.0, (4, \"right\"): 2.0, (3, \"right\"): 0.2}\n",
    "play_env(env, agent, s0=3, learning=True, max_episode=3, verbose=False, render_step=10)\n",
    "eq_(\n",
    "    agent.Q,\n",
    "    {\n",
    "        (5, \"right\"): 6.928,\n",
    "        (4, \"right\"): 2.8544000000000005,\n",
    "        (5, \"left\"): -2.0,\n",
    "        (3, \"right\"): 0.5878400000000001,\n",
    "    },\n",
    ")"
   ]
  },
  {
   "cell_type": "markdown",
   "metadata": {
    "slideshow": {
     "slide_type": "slide"
    }
   },
   "source": [
    "## パフォーマンスのグラフ表示: `plot_history()`\n",
    "\n",
    "**Q7.** これまでに作成した`demo_env`や`play_env`の返り値である，各エピソード終了までのステップ数`step`と獲得総得点`score`の変化を**グラフ表示**するための命令文および関数`plot_history(step,score)`を作成しなさい。\n",
    "\n",
    "- 以前の課題`matplotlib`のオブジェクト志向型インタフェースで作成する\n",
    "- 2つのグラフは異なるグフフ上に描画すること\n",
    "- 横軸はエピソード数\n",
    "- 縦軸は，各エピソードの終了までのステップ数(`step`)および獲得総得点(`score`)\n",
    "- `plot_history(step,score)`の返り値は，次セルに書いてあるように`ax1`,`ax2`とする。\n",
    "\n",
    "`step`のグラフの注意\n",
    "- y軸ラベル: \"step\"\n",
    "\n",
    "`score`のグラフの注意\n",
    "- x軸ラベル: \"episode\"\n",
    "- y軸ラベル: \"return\"\n",
    "\n",
    "共通の注意\n",
    "- `step`や`score`に含まれる全エピソードをちょうど描画できるように描画範囲を設定\n",
    "- x軸の刻み幅(tick)は，`step`に含まれるエピソード数を5で割った商に等しくする\n",
    "- grid(格子)も表示する\n",
    "\n",
    "`plot_history()`の呼び出し例\n",
    "```python\n",
    "action_list=[\"left\",\"right\"]\n",
    "env=Rooms()\n",
    "agent_fool=Fool(action_list)\n",
    "step,score=play_env(env,agent_fool,learning=False) # Foolに学習メソッドの実装はしていないのでlearning=False\n",
    "plot_history(step,score)\n",
    "```\n",
    "グラフの例\n",
    "![](images/fool.png)"
   ]
  },
  {
   "cell_type": "code",
   "execution_count": 87,
   "metadata": {
    "deletable": false,
    "nbgrader": {
     "cell_type": "code",
     "checksum": "fc807032c56458b7495ba0681737c53c",
     "grade": false,
     "grade_id": "cell-fe3bba4dd804928c",
     "locked": false,
     "schema_version": 3,
     "solution": true,
     "task": false
    }
   },
   "outputs": [],
   "source": [
    "import matplotlib.pyplot as plt\n",
    "import numpy as np\n",
    "\n",
    "def plot_history(step, score):\n",
    "    fig = plt.figure(figsize=(7, 5))\n",
    "    plt.rcParams[\"font.size\"] = 16\n",
    "\n",
    "    ax1 = fig.add_subplot(211)  # こちらにステップ数`step`を描画\n",
    "    ax2 = fig.add_subplot(212)  # こちらに総報酬`score`を描画\n",
    "\n",
    "    # YOUR CODE HERE\n",
    "    dom = np.arange(0, len(step), 1)\n",
    "    \n",
    "    ax1.plot(dom, step, label=\"step\")\n",
    "    ax1.set_xlim(0, len(step))\n",
    "    ax1.grid(True)\n",
    "    ax1.set_ylabel(\"step\")\n",
    "    \n",
    "    ax2.plot(dom, score, label=\"return\")\n",
    "    ax2.set_xlim(0, len(step))\n",
    "    ax2.grid(True)\n",
    "    ax2.set_ylabel(\"return\")\n",
    "    ax2.set_xlabel(\"episode\")\n",
    "\n",
    "    plt.tight_layout()  # タイトルやラベルが重ならないように配置調整し，生成されているFigureを描画\n",
    "    \n",
    "    return ax1, ax2"
   ]
  },
  {
   "cell_type": "code",
   "execution_count": 88,
   "metadata": {},
   "outputs": [
    {
     "data": {
      "text/plain": [
       "(<matplotlib.axes._subplots.AxesSubplot at 0x7f81cfc55630>,\n",
       " <matplotlib.axes._subplots.AxesSubplot at 0x7f81cfbd7438>)"
      ]
     },
     "execution_count": 88,
     "metadata": {},
     "output_type": "execute_result"
    },
    {
     "data": {
      "image/png": "[encoded data removed]",
      "text/plain": [
       "<Figure size 504x360 with 2 Axes>"
      ]
     },
     "metadata": {
      "needs_background": "light"
     },
     "output_type": "display_data"
    }
   ],
   "source": [
    "# このセルで動作確認をしよう\n",
    "action_list=[\"left\",\"right\"]\n",
    "env=Rooms()\n",
    "agent_fool=Fool(action_list)\n",
    "step,score=play_env(env,agent_fool,learning=False) # Foolに学習メソッドの実装はしていないのでlearning=False\n",
    "plot_history(step,score)"
   ]
  },
  {
   "cell_type": "code",
   "execution_count": 89,
   "metadata": {
    "deletable": false,
    "editable": false,
    "nbgrader": {
     "cell_type": "code",
     "checksum": "e1db5b256aee586b86bf32ebc2bd3b88",
     "grade": true,
     "grade_id": "E-rooms-plot_history",
     "locked": true,
     "points": 1,
     "schema_version": 3,
     "solution": false,
     "task": false
    }
   },
   "outputs": [],
   "source": [
    "# 評価用セル(ax1,ax2の共通設定確認)"
   ]
  },
  {
   "cell_type": "code",
   "execution_count": 90,
   "metadata": {
    "deletable": false,
    "editable": false,
    "nbgrader": {
     "cell_type": "code",
     "checksum": "a4e2a97b0f0f5e7ee5de85384139d19f",
     "grade": true,
     "grade_id": "E-rooms-plot_history-label",
     "locked": true,
     "points": 1,
     "schema_version": 3,
     "solution": false,
     "task": false
    }
   },
   "outputs": [
    {
     "data": {
      "image/png": "[encoded data removed]",
      "text/plain": [
       "<Figure size 504x360 with 2 Axes>"
      ]
     },
     "metadata": {
      "needs_background": "light"
     },
     "output_type": "display_data"
    }
   ],
   "source": [
    "# 評価用セルその2(ax1,ax2のラベル確認)\n",
    "env = Rooms()\n",
    "agent_fool = Fool(action_list=[\"left\", \"right\"])\n",
    "step, score = play_env(env, agent_fool, learning=False, max_episode=20)\n",
    "ax1, ax2 = plot_history(step, score)\n",
    "pc = PlotChecker(ax1)\n",
    "pc.assert_ylabel_equal(\"step\")\n",
    "\n",
    "pc = PlotChecker(ax2)\n",
    "pc.assert_xlabel_equal(\"episode\")\n",
    "pc.assert_ylabel_equal(\"return\")"
   ]
  },
  {
   "cell_type": "markdown",
   "metadata": {},
   "source": [
    "**Q7-2.**\n",
    "Q学習エージェントによる学習パフォーマンスの変化も，前問と同様にグラフ表示しなさい。\n",
    "学習エージェントの変数名は`agent_q`とすること。\n",
    "\n",
    "グラフの例\n",
    "![](images/q_agent.png)"
   ]
  },
  {
   "cell_type": "code",
   "execution_count": 94,
   "metadata": {
    "deletable": false,
    "nbgrader": {
     "cell_type": "code",
     "checksum": "19ce8ce36b02bdeccafeae18b5ecda8a",
     "grade": false,
     "grade_id": "cell-2a3b3917e5190dca",
     "locked": false,
     "schema_version": 3,
     "solution": true,
     "task": false
    }
   },
   "outputs": [
    {
     "name": "stdout",
     "output_type": "stream",
     "text": [
      " |@|2|3|4|5| r=-1\n",
      "@|1|2|3|4|5| r=-1\n",
      "Episode 0 finished after 2 timesteps with -1 return\n",
      " |@|2|3|4|5| r=-1\n",
      "@|1|2|3|4|5| r=-1\n",
      "Episode 1 finished after 2 timesteps with -1 return\n",
      " |@|2|3|4|5| r=-1\n",
      " |1|2|@|4|5| r=-1\n",
      " |1|2|3|4|@| r=-1\n",
      " |1|2|3|4|5|@ r=10\n",
      "Episode 2 finished after 6 timesteps with 10 return\n"
     ]
    },
    {
     "data": {
      "text/plain": [
       "(<matplotlib.axes._subplots.AxesSubplot at 0x7f81cf96f278>,\n",
       " <matplotlib.axes._subplots.AxesSubplot at 0x7f81cfcb3358>)"
      ]
     },
     "execution_count": 94,
     "metadata": {},
     "output_type": "execute_result"
    },
    {
     "data": {
      "image/png": "[encoded data removed]",
      "text/plain": [
       "<Figure size 504x360 with 2 Axes>"
      ]
     },
     "metadata": {
      "needs_background": "light"
     },
     "output_type": "display_data"
    }
   ],
   "source": [
    "# agent_q=... と，Qlearnerのインスタンスを生成し，play_env()による実行結果をplot_history()で表示する。\n",
    "# YOUR CODE HERE\n",
    "action_list = [\"left\",\"right\"]\n",
    "env = Rooms()\n",
    "agent_q = Fool(action_list, action=\"left\")\n",
    "step, score = play_env(\n",
    "        env,\n",
    "        agent,\n",
    "        s0=2,\n",
    "        max_episode=3,\n",
    "        learning=False,\n",
    "        verbose=True,\n",
    "        render_step=2,\n",
    "    )\n",
    "plot_history(step, score)"
   ]
  },
  {
   "cell_type": "code",
   "execution_count": null,
   "metadata": {
    "deletable": false,
    "editable": false,
    "nbgrader": {
     "cell_type": "code",
     "checksum": "45df91fdf9b2ff29adcc8b3701c5557c",
     "grade": true,
     "grade_id": "E-rooms-play_and_plot",
     "locked": true,
     "points": 1,
     "schema_version": 3,
     "solution": false,
     "task": false
    }
   },
   "outputs": [],
   "source": [
    "# 評価用セル"
   ]
  }
 ],
 "metadata": {
  "kernelspec": {
   "display_name": "Python 3",
   "language": "python",
   "name": "python3"
  },
  "language_info": {
   "codemirror_mode": {
    "name": "ipython",
    "version": 3
   },
   "file_extension": ".py",
   "mimetype": "text/x-python",
   "name": "python",
   "nbconvert_exporter": "python",
   "pygments_lexer": "ipython3",
   "version": "3.6.9"
  },
  "nbTranslate": {
   "displayLangs": [
    "*"
   ],
   "hotkey": "alt-t",
   "langInMainMenu": true,
   "sourceLang": "en",
   "targetLang": "fr",
   "useGoogleTranslate": true
  },
  "toc": {
   "base_numbering": 1,
   "nav_menu": {},
   "number_sections": true,
   "sideBar": true,
   "skip_h1_title": false,
   "title_cell": "Table of Contents",
   "title_sidebar": "Contents",
   "toc_cell": false,
   "toc_position": {
    "height": "calc(100% - 180px)",
    "left": "10px",
    "top": "150px",
    "width": "314.188px"
   },
   "toc_section_display": true,
   "toc_window_display": false
  }
 },
 "nbformat": 4,
 "nbformat_minor": 2
}
