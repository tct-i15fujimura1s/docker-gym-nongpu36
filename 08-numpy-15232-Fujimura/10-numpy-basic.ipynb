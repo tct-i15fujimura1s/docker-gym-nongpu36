{
 "cells": [
  {
   "cell_type": "markdown",
   "metadata": {},
   "source": [
    "<div class=\"alert alert-danger\">\n",
    "\n",
    "# 名前欄\n",
    "\n",
    "</div>\n",
    "\n",
    "以下に名前と学籍番号(STUDENT_ID)の入力をして下さい。\n",
    "\n",
    "例)\n",
    "```python\n",
    "FAMILY_NAME = \"Yamaguchi\"# 姓をローマ字で入力\n",
    "FIRST_NAME = \"Daisuki\"   #  名をローマ字で入力\n",
    "USER = \"a11yamaguchi\"    # 公式メールアドレスのユーザ名\n",
    "STUDENT_ID = \"99999\" # 学籍番号\n",
    "```"
   ]
  },
  {
   "cell_type": "code",
   "execution_count": 1,
   "metadata": {},
   "outputs": [],
   "source": [
    "FAMILY_NAME = \"Fujimura\"  # 姓をローマ字で入力\n",
    "FIRST_NAME = \"Soshi\"  #  名をローマ字で入力\n",
    "USER = \"i15fujimura1s\"  # 公式メールアドレスのユーザ名\n",
    "STUDENT_ID = \"15232\"  # 99999 等と省略なしで入力"
   ]
  },
  {
   "cell_type": "markdown",
   "metadata": {},
   "source": [
    "<div class=\"alert alert-danger\">\n",
    "\n",
    "# 提出方法(高専の皆さんへ)\n",
    "\n",
    "</div>\n",
    "\n",
    "以下のように**ディレクトリ(フォルダ)名を変更して提出**しましょう。\n",
    "```python\n",
    "元のディレクトリ名-学籍番号-名字(ローマ字)\n",
    "```\n",
    "例えば，元のディレクトリ名が`01-basic/`, 学籍番号が`99999`,名字が`Yamaguchi`の場合は以下になります。\n",
    "```python\n",
    "01-basic-99999-Yamaguchi/\n",
    "```"
   ]
  },
  {
   "cell_type": "markdown",
   "metadata": {},
   "source": [
    "<div class=\"alert alert-danger\">\n",
    "\n",
    "# 注意\n",
    "\n",
    "</div>\n",
    "\n",
    "\n",
    "- 以下の説明文を読み， 内容を納得できるように自分で試しなさい。\n",
    "- **「# このセルで試してみよう」**, **「# このセルで動作確認をしよう」**と書かれているセルは自由に使って構いません。\n",
    "- 必要に応じてセルを増やしても構いません。役立ちそうな情報もメモしておくと，今後プログラムを組む上で便利です。\n",
    "- 表題等には適宜教科書のページを書いてあります。詳しい説明は教科書を参照しなさい。\n",
    "\n",
    "<div class=\"alert alert-danger\">\n",
    "\n",
    "## 設問と解答用セル\n",
    "    \n",
    "</div>   \n",
    "\n",
    "\"**Q.**\" から始まる設問に対する解答は必ず入力しなさい。解答用セルには以下のように表示される。\n",
    "\n",
    "```python\n",
    "# YOUR CODE HERE\n",
    "raise NotImplementedError()\n",
    "```\n",
    "\n",
    "**注意**\n",
    "\n",
    "- <span class=\"mark\">raise NotImplementedError()の一行は**必ず消去**して</span>，<span class=\"mark\"># YOUR CODE HERE の下に解答</span>を書くこと。\n",
    "- <span class=\"mark\">\\# YOUR CODE HERE の一行は**消さない**</span>こと。どこに解答を書くべきかがわからなくなることがあります。\n",
    "- なんらかの演算をしたり，命令文を作ったときは，その**結果が予想通りか否かを必ず確認しなさい**\n",
    "\n",
    "<div class=\"alert alert-danger\">\n",
    "\n",
    "## 評価用セル\n",
    "    \n",
    "</div>\n",
    "\n",
    "- **「評価用セル」と書かれているセルは採点のためのセル**です。\n",
    "- **評価用コードが一部表示されている場合，それを実行すると課題の実行結果の確認**をできます。\n",
    "- **表示されていない評価用コードも**あります。\n",
    "\n",
    "<div class=\"alert alert-danger\">\n",
    "\n",
    "## 課題提出前の注意\n",
    "    \n",
    "</div>   \n",
    "\n",
    "**[重要]** 以下の手順で，全ての課題が正常に動作するか確認してから提出しましょう。\n",
    "\n",
    "1.  メニューバーの\"Kernel\"をクリック後，\"Restart\"を選択\n",
    "2. メニューバーの\"Cell\"を，\"Run All\"を選択"
   ]
  },
  {
   "cell_type": "code",
   "execution_count": 2,
   "metadata": {},
   "outputs": [],
   "source": [
    "# このセルは自動評価を行うための命令です。内容は無視して，実行(Shift-Enter)のみをしてください。\n",
    "#%%writefile unittests.py\n",
    "#%load unittests.py\n",
    "%run unittests.py"
   ]
  },
  {
   "cell_type": "markdown",
   "metadata": {
    "slideshow": {
     "slide_type": "slide"
    }
   },
   "source": [
    "<div class=\"alert alert-success\">\n",
    "\n",
    "# Numpyモジュール, p.344\n",
    "\n",
    "</div>"
   ]
  },
  {
   "cell_type": "markdown",
   "metadata": {
    "slideshow": {
     "slide_type": "slide"
    }
   },
   "source": [
    "## Numpy とは\n",
    "\n",
    "- **N次元配列(N-dimensional array, ndarray)**を定義し， **ベクトルや行列をはじめとする数値計算を高速に行うための**モジュール。\n",
    "- NumPyモジュールで生成する<span class=\"mark\">配列の型名は`numpy.ndarray`</span>\n",
    "\n",
    "参考資料\n",
    "- 以下のNumPyの説明は，[Python Data Science Handbook: \"The Basics of NumPy Arrays\"](https://github.com/jakevdp/PythonDataScienceHandbook/blob/master/notebooks/02.02-The-Basics-Of-NumPy-Arrays.ipynb)をいろいろと参考にしています。\n",
    "- NumPyのURLは [www.numpy.org](http://www.numpy.org/)"
   ]
  },
  {
   "cell_type": "markdown",
   "metadata": {},
   "source": [
    "\n",
    "## モジュールの読み込み\n",
    "\n",
    "NumPyモジュールは，慣例的に`np`の名称で利用される。"
   ]
  },
  {
   "cell_type": "code",
   "execution_count": 3,
   "metadata": {},
   "outputs": [
    {
     "name": "stdout",
     "output_type": "stream",
     "text": [
      "1.17.4\n"
     ]
    }
   ],
   "source": [
    "import numpy as np\n",
    "\n",
    "print(np.__version__)"
   ]
  },
  {
   "cell_type": "markdown",
   "metadata": {},
   "source": [
    "## NumPyのマニュアル\n",
    "\n",
    "以下で`NumPy`のマニュアルを表示できる。"
   ]
  },
  {
   "cell_type": "code",
   "execution_count": 4,
   "metadata": {},
   "outputs": [],
   "source": [
    "np?"
   ]
  },
  {
   "cell_type": "markdown",
   "metadata": {},
   "source": [
    "## NumPyの関数とメソッド\n",
    "\n",
    "- 配列`ndarray`の**生成**や，**複数の配列に対する操作**(結合等)には, NumPyの**関数**を使う\n",
    "- すで生成されている`ndarray`オブジェクトの**加工**には，`ndarray`に対する**メソッド**を使う\n",
    "- 以下では，NumPyの関数とメソッドの説明の際に，両者を以下のように書いて区別する\n",
    "    - **関数**: `numpy.array()`等と，モジュール名`numpy`もしくは略称`np`をつけて説明\n",
    "    - **メソッド**: `ndarray.reshape()`等と`ndarray`をつけて説明"
   ]
  },
  {
   "cell_type": "markdown",
   "metadata": {},
   "source": [
    "<div class=\"alert alert-success\">\n",
    "\n",
    "# 配列`ndarray`の生成, p.344\n",
    "\n",
    "</div>\n",
    "\n",
    "## 関数`numpy.array()`"
   ]
  },
  {
   "cell_type": "markdown",
   "metadata": {},
   "source": [
    "リスト(list)を`numpy.array()`で`ndarray`に変換する。"
   ]
  },
  {
   "cell_type": "code",
   "execution_count": 5,
   "metadata": {},
   "outputs": [
    {
     "name": "stdout",
     "output_type": "stream",
     "text": [
      "[1 2 3]\n"
     ]
    }
   ],
   "source": [
    "x = np.array([1, 2, 3])\n",
    "print(x)"
   ]
  },
  {
   "cell_type": "code",
   "execution_count": 6,
   "metadata": {},
   "outputs": [
    {
     "name": "stdout",
     "output_type": "stream",
     "text": [
      "[1 3 5]\n"
     ]
    }
   ],
   "source": [
    "l = [1, 3, 5]\n",
    "y = np.array(l)\n",
    "print(y)"
   ]
  },
  {
   "cell_type": "code",
   "execution_count": 7,
   "metadata": {},
   "outputs": [
    {
     "data": {
      "text/plain": [
       "array([[0, 1],\n",
       "       [2, 3]])"
      ]
     },
     "execution_count": 7,
     "metadata": {},
     "output_type": "execute_result"
    }
   ],
   "source": [
    "np.array([[0, 1], [2, 3]])"
   ]
  },
  {
   "cell_type": "markdown",
   "metadata": {},
   "source": [
    "タプル(tuple)を`numpy.ndarray`に変換する"
   ]
  },
  {
   "cell_type": "code",
   "execution_count": 8,
   "metadata": {},
   "outputs": [
    {
     "name": "stdout",
     "output_type": "stream",
     "text": [
      "[2 4 6]\n"
     ]
    }
   ],
   "source": [
    "t = (2, 4, 6)\n",
    "z = np.array(t)\n",
    "print(z)"
   ]
  },
  {
   "cell_type": "markdown",
   "metadata": {},
   "source": [
    "ここまでに生成した変数の型が`numpy.ndarray`であることを確認する。"
   ]
  },
  {
   "cell_type": "code",
   "execution_count": 9,
   "metadata": {},
   "outputs": [
    {
     "name": "stdout",
     "output_type": "stream",
     "text": [
      "[1 2 3] <class 'numpy.ndarray'>\n",
      "[1 3 5] <class 'numpy.ndarray'>\n",
      "[2 4 6] <class 'numpy.ndarray'>\n"
     ]
    }
   ],
   "source": [
    "print(x, type(x))\n",
    "print(y, type(y))\n",
    "print(z, type(z))"
   ]
  },
  {
   "cell_type": "markdown",
   "metadata": {},
   "source": [
    "## 配列`ndarray`に関する情報\n",
    "\n",
    "配列`ndarray`の情報(次元，形状，要素数)を取得するには，`ndarray`の属性(`ndim`, `shape`, `size`)にアクセスすれば良い。"
   ]
  },
  {
   "cell_type": "code",
   "execution_count": 10,
   "metadata": {},
   "outputs": [
    {
     "name": "stdout",
     "output_type": "stream",
     "text": [
      "[1 2 3]\n",
      "ndim: 1\n",
      "shape: (3,)\n",
      "size:  3\n"
     ]
    }
   ],
   "source": [
    "x = np.array([1, 2, 3])\n",
    "print(x)\n",
    "print(\"ndim:\", x.ndim)  # 次元\n",
    "print(\"shape:\", x.shape)  # 形状\n",
    "print(\"size: \", x.size)  # 要素数"
   ]
  },
  {
   "cell_type": "markdown",
   "metadata": {},
   "source": [
    "上の`x`は1次元配列なのでndimは1。shapeは`(3,)`と表示され，2次元目の情報は表示されていない。\n",
    "\n",
    "以下は2次元配列の例。ndimが2, shapeは`(3,2)`と，2次元配列となっていることがわかる。"
   ]
  },
  {
   "cell_type": "code",
   "execution_count": 11,
   "metadata": {},
   "outputs": [
    {
     "name": "stdout",
     "output_type": "stream",
     "text": [
      "[[0 1]\n",
      " [2 3]\n",
      " [4 5]]\n",
      "ndim: 2\n",
      "shape: (3, 2)\n",
      "size:  6\n"
     ]
    }
   ],
   "source": [
    "x = np.array([[0, 1], [2, 3], [4, 5]])\n",
    "print(x)\n",
    "print(\"ndim:\", x.ndim)  # 次元\n",
    "print(\"shape:\", x.shape)  # 形状\n",
    "print(\"size: \", x.size)  # 要素数"
   ]
  },
  {
   "cell_type": "markdown",
   "metadata": {},
   "source": [
    "## 要素の型\n",
    "\n",
    "リスト(list)の要素はいろいろな型を混在させることができる。一方，Numpyの配列の各要素は同じ型でないといけない。"
   ]
  },
  {
   "cell_type": "markdown",
   "metadata": {},
   "source": [
    "要素に`int` と `float` を混在させて定義した場合，要素の方は全て`float`に変換される。"
   ]
  },
  {
   "cell_type": "code",
   "execution_count": 12,
   "metadata": {},
   "outputs": [
    {
     "name": "stdout",
     "output_type": "stream",
     "text": [
      "float64\n"
     ]
    }
   ],
   "source": [
    "y = np.array([1, 2.1, 3])\n",
    "print(y.dtype)"
   ]
  },
  {
   "cell_type": "markdown",
   "metadata": {},
   "source": [
    "Numpyオブジェクトの要素の型は引数`dtype`を用いて陽に指定することもできる。"
   ]
  },
  {
   "cell_type": "code",
   "execution_count": 13,
   "metadata": {},
   "outputs": [
    {
     "name": "stdout",
     "output_type": "stream",
     "text": [
      "x= [1 2 3]\n",
      "int64\n"
     ]
    }
   ],
   "source": [
    "x = np.array([1, 2.1, 3], dtype=\"int\")\n",
    "print(\"x=\", x)\n",
    "print(x.dtype)  # 要素の型の確認"
   ]
  },
  {
   "cell_type": "markdown",
   "metadata": {},
   "source": [
    "## `ndarray`のいろいろな生成方法, p.372"
   ]
  },
  {
   "cell_type": "markdown",
   "metadata": {},
   "source": [
    "要素数10の配列。要素値の初期化はしない。"
   ]
  },
  {
   "cell_type": "code",
   "execution_count": 14,
   "metadata": {},
   "outputs": [
    {
     "data": {
      "text/plain": [
       "array([6.90493073e-310, 6.90493073e-310, 2.39293049e-258, 4.45822452e+252,\n",
       "       6.95257674e+096, 8.88420885e+252, 3.42972243e+161, 5.98744699e+247,\n",
       "       1.71898008e+161, 9.10016856e+276])"
      ]
     },
     "execution_count": 14,
     "metadata": {},
     "output_type": "execute_result"
    }
   ],
   "source": [
    "np.empty(10)"
   ]
  },
  {
   "cell_type": "markdown",
   "metadata": {},
   "source": [
    "全ての要素値が0, 要素数10の配列(`numpy.zeros()`を使う)"
   ]
  },
  {
   "cell_type": "code",
   "execution_count": 15,
   "metadata": {},
   "outputs": [
    {
     "data": {
      "text/plain": [
       "array([0., 0., 0., 0., 0., 0., 0., 0., 0., 0.])"
      ]
     },
     "execution_count": 15,
     "metadata": {},
     "output_type": "execute_result"
    }
   ],
   "source": [
    "np.zeros(10)"
   ]
  },
  {
   "cell_type": "markdown",
   "metadata": {},
   "source": [
    "全ての要素値が0の2x3の二次元配列"
   ]
  },
  {
   "cell_type": "code",
   "execution_count": 16,
   "metadata": {},
   "outputs": [
    {
     "data": {
      "text/plain": [
       "array([[0., 0., 0.],\n",
       "       [0., 0., 0.]])"
      ]
     },
     "execution_count": 16,
     "metadata": {},
     "output_type": "execute_result"
    }
   ],
   "source": [
    "np.zeros((2, 3))"
   ]
  },
  {
   "cell_type": "markdown",
   "metadata": {},
   "source": [
    "全ての要素値が1, 要素数10の配列。以下では要素の型を`int`に指定。"
   ]
  },
  {
   "cell_type": "code",
   "execution_count": 17,
   "metadata": {},
   "outputs": [
    {
     "data": {
      "text/plain": [
       "array([1, 1, 1, 1, 1, 1, 1, 1, 1, 1])"
      ]
     },
     "execution_count": 17,
     "metadata": {},
     "output_type": "execute_result"
    }
   ],
   "source": [
    "np.ones(10, dtype=int)"
   ]
  },
  {
   "cell_type": "markdown",
   "metadata": {},
   "source": [
    "全ての要素値が1の 3x4の2次元配列"
   ]
  },
  {
   "cell_type": "code",
   "execution_count": 18,
   "metadata": {},
   "outputs": [
    {
     "data": {
      "text/plain": [
       "array([[1., 1., 1., 1.],\n",
       "       [1., 1., 1., 1.],\n",
       "       [1., 1., 1., 1.]])"
      ]
     },
     "execution_count": 18,
     "metadata": {},
     "output_type": "execute_result"
    }
   ],
   "source": [
    "np.ones((3, 4))"
   ]
  },
  {
   "cell_type": "markdown",
   "metadata": {},
   "source": [
    "全ての要素値が`np.pi`である要素数5の配列"
   ]
  },
  {
   "cell_type": "code",
   "execution_count": 19,
   "metadata": {},
   "outputs": [
    {
     "data": {
      "text/plain": [
       "array([3.14159265, 3.14159265, 3.14159265, 3.14159265, 3.14159265])"
      ]
     },
     "execution_count": 19,
     "metadata": {},
     "output_type": "execute_result"
    }
   ],
   "source": [
    "np.full(5, np.pi)"
   ]
  },
  {
   "cell_type": "markdown",
   "metadata": {},
   "source": [
    "**等差級数の生成(間隔(step)を指定)**\n",
    "\n",
    "- `np.arange(end)` : \\[0,end) の区間の整数値生成\n",
    "- `np.arange(start,end)`: \\[start,end) の区間の整整数値生成\n",
    "- `np.arange(start,end,step)` : \\[start,end) の区間内でstepごとの数値を生成\n",
    "\n",
    "\n",
    "以下は，各要素の値が1から6の整数である要素数6の配列を浮動小数点に変換している。"
   ]
  },
  {
   "cell_type": "code",
   "execution_count": 20,
   "metadata": {},
   "outputs": [
    {
     "data": {
      "text/plain": [
       "array([1., 2., 3., 4., 5., 6.])"
      ]
     },
     "execution_count": 20,
     "metadata": {},
     "output_type": "execute_result"
    }
   ],
   "source": [
    "np.arange(1, 7, dtype=float)"
   ]
  },
  {
   "cell_type": "markdown",
   "metadata": {},
   "source": [
    "各要素の値が0以上2**未満**の範囲で0.2間隔で数列を生成"
   ]
  },
  {
   "cell_type": "code",
   "execution_count": 21,
   "metadata": {},
   "outputs": [
    {
     "data": {
      "text/plain": [
       "array([0. , 0.2, 0.4, 0.6, 0.8, 1. , 1.2, 1.4, 1.6, 1.8])"
      ]
     },
     "execution_count": 21,
     "metadata": {},
     "output_type": "execute_result"
    }
   ],
   "source": [
    "np.arange(0, 2, 0.2)"
   ]
  },
  {
   "cell_type": "markdown",
   "metadata": {},
   "source": [
    "**等差級数の生成(分割数を指定)**\n",
    "\n",
    "`numpy.linspace(start,end,num)`: [start, stop]の区間を端点を含む`num`個の境界値で分割し，その境界値を返す。\n",
    "\n",
    "0以上2**以下**の区間を等間隔に区切る11個の値を要素とする配列(`numpy.linspace()`を使う)"
   ]
  },
  {
   "cell_type": "code",
   "execution_count": 22,
   "metadata": {},
   "outputs": [
    {
     "data": {
      "text/plain": [
       "array([0. , 0.2, 0.4, 0.6, 0.8, 1. , 1.2, 1.4, 1.6, 1.8, 2. ])"
      ]
     },
     "execution_count": 22,
     "metadata": {},
     "output_type": "execute_result"
    }
   ],
   "source": [
    "np.linspace(0, 2, 11)"
   ]
  },
  {
   "cell_type": "markdown",
   "metadata": {},
   "source": [
    "3x3の恒等行列"
   ]
  },
  {
   "cell_type": "code",
   "execution_count": 23,
   "metadata": {},
   "outputs": [
    {
     "name": "stdout",
     "output_type": "stream",
     "text": [
      "[[1. 0. 0.]\n",
      " [0. 1. 0.]\n",
      " [0. 0. 1.]]\n",
      "[[1. 0. 0.]\n",
      " [0. 1. 0.]\n",
      " [0. 0. 1.]]\n"
     ]
    }
   ],
   "source": [
    "x = np.eye(3)\n",
    "y = np.identity(3)\n",
    "print(x)\n",
    "print(y)"
   ]
  },
  {
   "cell_type": "markdown",
   "metadata": {},
   "source": [
    "Q. 0から63までの整数値を要素とする`ndarray`を作り，変数`arr`に代入しなさい。"
   ]
  },
  {
   "cell_type": "code",
   "execution_count": 33,
   "metadata": {
    "deletable": false,
    "nbgrader": {
     "cell_type": "code",
     "checksum": "26b10084f40b68442246a002f20f0380",
     "grade": false,
     "grade_id": "cell-0b24f7d6ffb76616",
     "locked": false,
     "schema_version": 3,
     "solution": true,
     "task": false
    }
   },
   "outputs": [],
   "source": [
    "# 解答欄 (arr=...)\n",
    "# YOUR CODE HERE\n",
    "arr = np.arange(0, 64)"
   ]
  },
  {
   "cell_type": "code",
   "execution_count": null,
   "metadata": {
    "deletable": false,
    "editable": false,
    "nbgrader": {
     "cell_type": "code",
     "checksum": "dc0d0d03a0e568851a885d9a836cb721",
     "grade": true,
     "grade_id": "E-nparange",
     "locked": true,
     "points": 1,
     "schema_version": 3,
     "solution": false,
     "task": false
    }
   },
   "outputs": [],
   "source": [
    "# 評価用セル"
   ]
  },
  {
   "cell_type": "markdown",
   "metadata": {},
   "source": [
    "Q. 全ての要素値が**整数値**の0である，要素数20の`ndarray`を作り，変数`arr20`に代入しなさい。"
   ]
  },
  {
   "cell_type": "code",
   "execution_count": 35,
   "metadata": {
    "deletable": false,
    "nbgrader": {
     "cell_type": "code",
     "checksum": "1f9b93ca603a8fce52671224d4592e0f",
     "grade": false,
     "grade_id": "cell-aae027fc195a8d9d",
     "locked": false,
     "schema_version": 3,
     "solution": true,
     "task": false
    }
   },
   "outputs": [],
   "source": [
    "# 解答欄 (arr=...)\n",
    "# YOUR CODE HERE\n",
    "arr20 = np.full(20, 0)"
   ]
  },
  {
   "cell_type": "code",
   "execution_count": null,
   "metadata": {
    "deletable": false,
    "editable": false,
    "nbgrader": {
     "cell_type": "code",
     "checksum": "c47cd1d3ecbf8d409dc2db1597359877",
     "grade": true,
     "grade_id": "E-npzeros",
     "locked": true,
     "points": 1,
     "schema_version": 3,
     "solution": false,
     "task": false
    }
   },
   "outputs": [],
   "source": [
    "# 評価用セル"
   ]
  },
  {
   "cell_type": "markdown",
   "metadata": {},
   "source": [
    "Q. $[-5,5]$の区間を等間隔に0.5ごとに区切った場合に境界値になる値を要素とする`ndarray`を作り，変数`arr`に代入しなさい。\n",
    "上限値と下限値も要素に含めること"
   ]
  },
  {
   "cell_type": "code",
   "execution_count": 40,
   "metadata": {
    "deletable": false,
    "nbgrader": {
     "cell_type": "code",
     "checksum": "2e6a5b7a401fd0ad4b295560b1c01197",
     "grade": false,
     "grade_id": "cell-804a7953d7655ff4",
     "locked": false,
     "schema_version": 3,
     "solution": true,
     "task": false
    }
   },
   "outputs": [
    {
     "name": "stdout",
     "output_type": "stream",
     "text": [
      "[-5.         -4.47368421 -3.94736842 -3.42105263 -2.89473684 -2.36842105\n",
      " -1.84210526 -1.31578947 -0.78947368 -0.26315789  0.26315789  0.78947368\n",
      "  1.31578947  1.84210526  2.36842105  2.89473684  3.42105263  3.94736842\n",
      "  4.47368421  5.        ]\n"
     ]
    }
   ],
   "source": [
    "# 解答欄 (arr=...)\n",
    "# YOUR CODE HERE\n",
    "arr = np.linspace(-5.0, 5.0, 10/0.5)"
   ]
  },
  {
   "cell_type": "code",
   "execution_count": null,
   "metadata": {
    "deletable": false,
    "editable": false,
    "nbgrader": {
     "cell_type": "code",
     "checksum": "f2d21d1963ee44ceb0b73426b653ecea",
     "grade": true,
     "grade_id": "E-split05",
     "locked": true,
     "points": 1,
     "schema_version": 3,
     "solution": false,
     "task": false
    }
   },
   "outputs": [],
   "source": [
    "# 評価用セル"
   ]
  },
  {
   "cell_type": "markdown",
   "metadata": {},
   "source": [
    "Q. $[-2,2]$の区間内を等間隔に7つの区画に分割する場合に境界値となる値を要素とする`ndarray`をつくり，変数`arr`に代入しなさい。\n",
    "上限値と下限値も要素に含めること"
   ]
  },
  {
   "cell_type": "code",
   "execution_count": 44,
   "metadata": {
    "deletable": false,
    "nbgrader": {
     "cell_type": "code",
     "checksum": "7bd381288395bec97021ab9d01e22887",
     "grade": false,
     "grade_id": "cell-71d0247a71201e1e",
     "locked": false,
     "schema_version": 3,
     "solution": true,
     "task": false
    }
   },
   "outputs": [],
   "source": [
    "# 解答欄 (arr=...)\n",
    "# YOUR CODE HERE\n",
    "arr = np.linspace(-2, 2, 7)"
   ]
  },
  {
   "cell_type": "code",
   "execution_count": null,
   "metadata": {
    "deletable": false,
    "editable": false,
    "nbgrader": {
     "cell_type": "code",
     "checksum": "f7d5b131d4b041e29abbea52db142b93",
     "grade": true,
     "grade_id": "E-split8",
     "locked": true,
     "points": 1,
     "schema_version": 3,
     "solution": false,
     "task": false
    }
   },
   "outputs": [],
   "source": [
    "# 評価用セル"
   ]
  },
  {
   "cell_type": "markdown",
   "metadata": {},
   "source": [
    "## 乱数による配列の生成, p.377"
   ]
  },
  {
   "cell_type": "markdown",
   "metadata": {},
   "source": [
    "要素値が0から1の一様乱数である，2x3の2次元配列を作る。"
   ]
  },
  {
   "cell_type": "code",
   "execution_count": 45,
   "metadata": {},
   "outputs": [
    {
     "data": {
      "text/plain": [
       "array([[0.00943972, 0.93118399, 0.68747502],\n",
       "       [0.73745979, 0.00178143, 0.59470488]])"
      ]
     },
     "execution_count": 45,
     "metadata": {},
     "output_type": "execute_result"
    }
   ],
   "source": [
    "np.random.rand(2, 3)"
   ]
  },
  {
   "cell_type": "markdown",
   "metadata": {},
   "source": [
    "0以上5**以下**の整数乱数を要素とする, 2x2x2の3次元配列を作る。"
   ]
  },
  {
   "cell_type": "code",
   "execution_count": 46,
   "metadata": {},
   "outputs": [
    {
     "name": "stdout",
     "output_type": "stream",
     "text": [
      "x= [[[0 0]\n",
      "  [1 1]]\n",
      "\n",
      " [[0 0]\n",
      "  [2 0]]]\n",
      "y= [[[5 2]\n",
      "  [3 4]]\n",
      "\n",
      " [[1 3]\n",
      "  [4 5]]]\n"
     ]
    }
   ],
   "source": [
    "x = np.random.randint(0, 6, (2, 2, 2))\n",
    "y = np.random.randint(6, size=(2, 2, 2))\n",
    "print(\"x=\", x)\n",
    "print(\"y=\", y)"
   ]
  },
  {
   "cell_type": "markdown",
   "metadata": {},
   "source": [
    "平均0, 標準偏差1の正規分布乱数を要素とする，要素数20の配列を作る。"
   ]
  },
  {
   "cell_type": "code",
   "execution_count": 47,
   "metadata": {},
   "outputs": [
    {
     "name": "stdout",
     "output_type": "stream",
     "text": [
      "[ 1.04062404 -0.22712035  0.87166612 -1.28049384 -0.24962394 -0.47138261\n",
      "  0.59372603  1.25539043 -0.2024096   0.5953804   2.49485414 -0.47487463\n",
      " -0.60180528 -0.80717491  1.8203461   0.10327815 -0.84870587  1.06978701\n",
      " -0.99980562 -0.16861455]\n",
      "mean: 0.17565206003893435\n",
      "SD:   0.9799482294348494\n"
     ]
    }
   ],
   "source": [
    "L = np.random.normal(0, 1, 20)\n",
    "print(L)\n",
    "print(\"mean:\", np.mean(L))  # Lの平均値\n",
    "print(\"SD:  \", np.std(L))  # Lの標準偏差"
   ]
  },
  {
   "cell_type": "markdown",
   "metadata": {},
   "source": [
    "以下でも，同様な配列を作れる。"
   ]
  },
  {
   "cell_type": "code",
   "execution_count": 48,
   "metadata": {},
   "outputs": [
    {
     "name": "stdout",
     "output_type": "stream",
     "text": [
      "[-0.11432378 -0.02250517 -0.50392205 -0.35642192 -0.71193015  0.15405121\n",
      " -0.95236577 -1.23157487  1.49756712 -0.47394835 -0.43591934  1.65106886\n",
      "  0.27411224  1.72688956  0.21703121 -1.55603773 -1.48580636 -0.22731035\n",
      "  0.19805222  0.24249853]\n",
      "mean: -0.10553974380368888\n",
      "SD:   0.905330916850531\n"
     ]
    }
   ],
   "source": [
    "L = np.random.randn(20)\n",
    "print(L)\n",
    "print(\"mean:\", np.mean(L))  # Lの平均値\n",
    "print(\"SD:  \", np.std(L))  # Lの標準偏差"
   ]
  },
  {
   "cell_type": "markdown",
   "metadata": {},
   "source": [
    "前セルと同様に平均0, 標準偏差1の正規分布乱数を要素とする，要素数1000の配列を作り，ヒストグラムに示す方法は以下のようになる。"
   ]
  },
  {
   "cell_type": "code",
   "execution_count": 49,
   "metadata": {},
   "outputs": [
    {
     "data": {
      "text/plain": [
       "<bound method Figure.show of <Figure size 432x288 with 1 Axes>>"
      ]
     },
     "execution_count": 49,
     "metadata": {},
     "output_type": "execute_result"
    },
    {
     "data": {
      "image/png": "[encoded data removed]",
      "text/plain": [
       "<Figure size 432x288 with 1 Axes>"
      ]
     },
     "metadata": {
      "needs_background": "light"
     },
     "output_type": "display_data"
    }
   ],
   "source": [
    "import matplotlib.pyplot as plt\n",
    "\n",
    "L = np.random.randn(1000)\n",
    "\n",
    "fig = plt.figure()\n",
    "ax = fig.add_subplot(111)\n",
    "ax.hist(L, bins=20)  # binsがビン数(横軸を分割した区間の数)\n",
    "fig.show"
   ]
  },
  {
   "cell_type": "markdown",
   "metadata": {},
   "source": [
    "Q. $[-10,10]$の範囲の整数乱数を要素とする, 要素数300の配列を作り，変数`rand10`に代入しなさい。(生成された乱数の範囲が適切か確認すること)"
   ]
  },
  {
   "cell_type": "code",
   "execution_count": 55,
   "metadata": {
    "deletable": false,
    "nbgrader": {
     "cell_type": "code",
     "checksum": "fb4fbffdc18985e44d09056cfdb781a6",
     "grade": false,
     "grade_id": "cell-3d6175d34c6d9dbf",
     "locked": false,
     "schema_version": 3,
     "solution": true,
     "task": false
    }
   },
   "outputs": [],
   "source": [
    "# 解答欄\n",
    "# YOUR CODE HERE\n",
    "rand10 = np.random.randint(-10, 10+1, 300)"
   ]
  },
  {
   "cell_type": "code",
   "execution_count": 56,
   "metadata": {
    "deletable": false,
    "editable": false,
    "nbgrader": {
     "cell_type": "code",
     "checksum": "bcfba6ae2c3e3527dc1b3107623c1a28",
     "grade": true,
     "grade_id": "E-rand10",
     "locked": true,
     "points": 1,
     "schema_version": 3,
     "solution": false,
     "task": false
    }
   },
   "outputs": [],
   "source": [
    "# 評価用セル\n",
    "eq_(max(rand10), 10, msg=\"最大値設定がおかしいようです\")\n",
    "eq_(min(rand10), -10, msg=\"最小値設定がおかしいようです\")"
   ]
  },
  {
   "cell_type": "markdown",
   "metadata": {},
   "source": [
    "Q. 平均値を5.0, 標準偏差を1.0の正規分布乱数を要素とする, 要素数1000の配列を作り，変数`norm5`に代入しなさい。"
   ]
  },
  {
   "cell_type": "code",
   "execution_count": 57,
   "metadata": {
    "deletable": false,
    "nbgrader": {
     "cell_type": "code",
     "checksum": "c4247706fa7608a35ebfbc040eeec71c",
     "grade": false,
     "grade_id": "cell-80876db664f57cb1",
     "locked": false,
     "schema_version": 3,
     "solution": true,
     "task": false
    }
   },
   "outputs": [],
   "source": [
    "# 解答欄\n",
    "# YOUR CODE HERE\n",
    "norm5 = np.random.normal(5.0, 1.0, 10000)"
   ]
  },
  {
   "cell_type": "code",
   "execution_count": 58,
   "metadata": {
    "deletable": false,
    "editable": false,
    "nbgrader": {
     "cell_type": "code",
     "checksum": "66ef65b9c1f7f4f51e35459214d248e3",
     "grade": true,
     "grade_id": "E-norm5",
     "locked": true,
     "points": 1,
     "schema_version": 3,
     "solution": false,
     "task": false
    }
   },
   "outputs": [],
   "source": [
    "# 評価用セル"
   ]
  },
  {
   "cell_type": "markdown",
   "metadata": {},
   "source": [
    "<div class=\"alert alert-success\">\n",
    "\n",
    "# 配列の参照, p.353\n",
    "\n",
    "</div>\n",
    "\n",
    "## 1次元配列の参照\n",
    "\n",
    "NumPy配列要素の値を参照する方法はリスト(`list`)と同様。すなわち，インデックスに`[begin:end:step]`と範囲指定することで行える。\n",
    "\n",
    "以下で定義する配列`x`を例に紹介する。"
   ]
  },
  {
   "cell_type": "code",
   "execution_count": 59,
   "metadata": {},
   "outputs": [],
   "source": [
    "x = np.arange(1, 10)"
   ]
  },
  {
   "cell_type": "markdown",
   "metadata": {},
   "source": [
    "`x`の要素一覧"
   ]
  },
  {
   "cell_type": "code",
   "execution_count": 60,
   "metadata": {},
   "outputs": [
    {
     "name": "stdout",
     "output_type": "stream",
     "text": [
      "[1 2 3 4 5 6 7 8 9]\n"
     ]
    }
   ],
   "source": [
    "print(x)"
   ]
  },
  {
   "cell_type": "markdown",
   "metadata": {},
   "source": [
    "`x`の，一番はじめの要素"
   ]
  },
  {
   "cell_type": "code",
   "execution_count": 61,
   "metadata": {},
   "outputs": [
    {
     "data": {
      "text/plain": [
       "1"
      ]
     },
     "execution_count": 61,
     "metadata": {},
     "output_type": "execute_result"
    }
   ],
   "source": [
    "x[0]"
   ]
  },
  {
   "cell_type": "markdown",
   "metadata": {},
   "source": [
    "`x`の，最後から2番目の要素"
   ]
  },
  {
   "cell_type": "code",
   "execution_count": 62,
   "metadata": {},
   "outputs": [
    {
     "data": {
      "text/plain": [
       "8"
      ]
     },
     "execution_count": 62,
     "metadata": {},
     "output_type": "execute_result"
    }
   ],
   "source": [
    "x[-2]"
   ]
  },
  {
   "cell_type": "markdown",
   "metadata": {},
   "source": [
    "はじめの3つの要素"
   ]
  },
  {
   "cell_type": "code",
   "execution_count": 63,
   "metadata": {},
   "outputs": [
    {
     "data": {
      "text/plain": [
       "array([1, 2, 3])"
      ]
     },
     "execution_count": 63,
     "metadata": {},
     "output_type": "execute_result"
    }
   ],
   "source": [
    "x[:3]"
   ]
  },
  {
   "cell_type": "markdown",
   "metadata": {},
   "source": [
    "最後の3つの要素"
   ]
  },
  {
   "cell_type": "code",
   "execution_count": 64,
   "metadata": {},
   "outputs": [
    {
     "data": {
      "text/plain": [
       "array([7, 8, 9])"
      ]
     },
     "execution_count": 64,
     "metadata": {},
     "output_type": "execute_result"
    }
   ],
   "source": [
    "x[-3:]"
   ]
  },
  {
   "cell_type": "markdown",
   "metadata": {},
   "source": [
    "はじめの要素から，一つおきに要素値を表示"
   ]
  },
  {
   "cell_type": "code",
   "execution_count": 65,
   "metadata": {},
   "outputs": [
    {
     "data": {
      "text/plain": [
       "array([1, 3, 5, 7, 9])"
      ]
     },
     "execution_count": 65,
     "metadata": {},
     "output_type": "execute_result"
    }
   ],
   "source": [
    "x[::2]"
   ]
  },
  {
   "cell_type": "markdown",
   "metadata": {},
   "source": [
    "要素を逆順に表示 (インデックス指定のステップ値に負の値を使う)"
   ]
  },
  {
   "cell_type": "code",
   "execution_count": 66,
   "metadata": {},
   "outputs": [
    {
     "data": {
      "text/plain": [
       "array([9, 8, 7, 6, 5, 4, 3, 2, 1])"
      ]
     },
     "execution_count": 66,
     "metadata": {},
     "output_type": "execute_result"
    }
   ],
   "source": [
    "x[::-1]"
   ]
  },
  {
   "cell_type": "markdown",
   "metadata": {},
   "source": [
    "## ２次元配列の参照\n",
    "\n",
    "`ndarray`の2次元配列では，行および列それぞれに対する範囲を`[行に対する範囲,列に対する範囲]`と指定することで参照・スライスできる。"
   ]
  },
  {
   "cell_type": "markdown",
   "metadata": {},
   "source": [
    "要素一覧"
   ]
  },
  {
   "cell_type": "code",
   "execution_count": 67,
   "metadata": {},
   "outputs": [
    {
     "name": "stdout",
     "output_type": "stream",
     "text": [
      "[[ 1  2  3  4]\n",
      " [ 5  6  7  8]\n",
      " [ 9 10 11 12]]\n"
     ]
    }
   ],
   "source": [
    "N = np.array([[1, 2, 3, 4], [5, 6, 7, 8], [9, 10, 11, 12]])\n",
    "print(N)"
   ]
  },
  {
   "cell_type": "markdown",
   "metadata": {},
   "source": [
    "初めの行のみ"
   ]
  },
  {
   "cell_type": "code",
   "execution_count": 68,
   "metadata": {},
   "outputs": [
    {
     "name": "stdout",
     "output_type": "stream",
     "text": [
      "[1 2 3 4]\n",
      "[1 2 3 4]\n"
     ]
    }
   ],
   "source": [
    "print(N[0, :])\n",
    "print(N[0])"
   ]
  },
  {
   "cell_type": "markdown",
   "metadata": {},
   "source": [
    "最後の列のみ"
   ]
  },
  {
   "cell_type": "code",
   "execution_count": 69,
   "metadata": {},
   "outputs": [
    {
     "data": {
      "text/plain": [
       "array([ 4,  8, 12])"
      ]
     },
     "execution_count": 69,
     "metadata": {},
     "output_type": "execute_result"
    }
   ],
   "source": [
    "N[:, -1]"
   ]
  },
  {
   "cell_type": "markdown",
   "metadata": {},
   "source": [
    "初めの2行かつ，はじめの3列以内の要素"
   ]
  },
  {
   "cell_type": "code",
   "execution_count": 70,
   "metadata": {},
   "outputs": [
    {
     "data": {
      "text/plain": [
       "array([[1, 2, 3],\n",
       "       [5, 6, 7]])"
      ]
     },
     "execution_count": 70,
     "metadata": {},
     "output_type": "execute_result"
    }
   ],
   "source": [
    "N[:2, :3]"
   ]
  },
  {
   "cell_type": "markdown",
   "metadata": {},
   "source": [
    "奇数番目の列と全ての行要素できる行列"
   ]
  },
  {
   "cell_type": "code",
   "execution_count": 71,
   "metadata": {},
   "outputs": [
    {
     "data": {
      "text/plain": [
       "array([[ 1,  3],\n",
       "       [ 5,  7],\n",
       "       [ 9, 11]])"
      ]
     },
     "execution_count": 71,
     "metadata": {},
     "output_type": "execute_result"
    }
   ],
   "source": [
    "N[:, ::2]"
   ]
  },
  {
   "cell_type": "markdown",
   "metadata": {},
   "source": [
    "`N`の右下部分の要素でできる2x2部分行列(インデックスに負の値を使う)"
   ]
  },
  {
   "cell_type": "code",
   "execution_count": 72,
   "metadata": {},
   "outputs": [
    {
     "data": {
      "text/plain": [
       "array([[ 7,  8],\n",
       "       [11, 12]])"
      ]
     },
     "execution_count": 72,
     "metadata": {},
     "output_type": "execute_result"
    }
   ],
   "source": [
    "N[-2:, -2:]"
   ]
  },
  {
   "cell_type": "markdown",
   "metadata": {},
   "source": [
    "行を逆順にする。(列順は変えない)"
   ]
  },
  {
   "cell_type": "code",
   "execution_count": 73,
   "metadata": {},
   "outputs": [
    {
     "data": {
      "text/plain": [
       "array([[ 9, 10, 11, 12],\n",
       "       [ 5,  6,  7,  8],\n",
       "       [ 1,  2,  3,  4]])"
      ]
     },
     "execution_count": 73,
     "metadata": {},
     "output_type": "execute_result"
    }
   ],
   "source": [
    "N[\n",
    "    ::-1,\n",
    "]"
   ]
  },
  {
   "cell_type": "markdown",
   "metadata": {},
   "source": [
    "Q. 以下の配列`I`から奇数行と偶数列のみを抜き出し，変数`Q`に代入しなさい。"
   ]
  },
  {
   "cell_type": "code",
   "execution_count": 80,
   "metadata": {
    "deletable": false,
    "nbgrader": {
     "cell_type": "code",
     "checksum": "d0bf7176354745cbcc05e8de9bc14b61",
     "grade": false,
     "grade_id": "cell-23c41767a15c98f3",
     "locked": false,
     "schema_version": 3,
     "solution": true,
     "task": false
    }
   },
   "outputs": [],
   "source": [
    "I = np.eye(10)\n",
    "# YOUR CODE HERE\n",
    "Q = I[::2, 1::2]"
   ]
  },
  {
   "cell_type": "code",
   "execution_count": 81,
   "metadata": {
    "deletable": false,
    "editable": false,
    "nbgrader": {
     "cell_type": "code",
     "checksum": "b676c0c9e3cac9cde2967df861be0c4b",
     "grade": true,
     "grade_id": "E-slice-odd-even",
     "locked": true,
     "points": 1,
     "schema_version": 3,
     "solution": false,
     "task": false
    }
   },
   "outputs": [],
   "source": [
    "# 評価用セル"
   ]
  },
  {
   "cell_type": "markdown",
   "metadata": {},
   "source": [
    "Q. 以下の配列`P`から, 右上部分の2行3列を抜き出した配列`Q`を作りなさい。"
   ]
  },
  {
   "cell_type": "code",
   "execution_count": 86,
   "metadata": {
    "deletable": false,
    "nbgrader": {
     "cell_type": "code",
     "checksum": "96e965fde13e6936f9c6b5312bfccf8c",
     "grade": false,
     "grade_id": "cell-ecc2a81dc525287a",
     "locked": false,
     "schema_version": 3,
     "solution": true,
     "task": false
    }
   },
   "outputs": [],
   "source": [
    "P = np.arange(25).reshape(5, 5)\n",
    "# YOUR CODE HERE\n",
    "Q = P[:2, -3:]"
   ]
  },
  {
   "cell_type": "code",
   "execution_count": null,
   "metadata": {
    "deletable": false,
    "editable": false,
    "nbgrader": {
     "cell_type": "code",
     "checksum": "7bd2f2ae7d531282bd0fcc9520b62c8f",
     "grade": true,
     "grade_id": "E-slice23",
     "locked": true,
     "points": 1,
     "schema_version": 3,
     "solution": false,
     "task": false
    }
   },
   "outputs": [],
   "source": [
    "# 評価用セル"
   ]
  },
  {
   "cell_type": "markdown",
   "metadata": {},
   "source": [
    "<div class=\"alert alert-success\">\n",
    "\n",
    "# 配列のコピー\n",
    "\n",
    "</div>\n",
    "\n",
    "Q. 以下を実行すると，`p`と`q`の要素値は最終的にはどうなるだろうか。\n",
    "```python\n",
    "x2 = np.array([[1, 2, 3, 4], [5, 6, 7, 8], [9, 10, 11, 12]])\n",
    "x3 = x2\n",
    "x2[0, 0] = 100\n",
    "x3[-1, -1] = 200\n",
    "```\n",
    "解答欄に以下のように答えなさい。\n",
    "```python\n",
    "ans=True # x2とx3が等しいとき\n",
    "ans=False # x2とx3が等しくないとき\n",
    "```"
   ]
  },
  {
   "cell_type": "code",
   "execution_count": null,
   "metadata": {},
   "outputs": [],
   "source": [
    "# このセルで試してみよう"
   ]
  },
  {
   "cell_type": "code",
   "execution_count": 87,
   "metadata": {
    "deletable": false,
    "nbgrader": {
     "cell_type": "code",
     "checksum": "80fb074df1c739f2b34c6e82bcffefab",
     "grade": false,
     "grade_id": "cell-bd9ecacbd3adaf92",
     "locked": false,
     "schema_version": 3,
     "solution": true,
     "task": false
    }
   },
   "outputs": [],
   "source": [
    "# 解答欄\n",
    "# YOUR CODE HERE\n",
    "ans=True"
   ]
  },
  {
   "cell_type": "code",
   "execution_count": 88,
   "metadata": {
    "deletable": false,
    "editable": false,
    "nbgrader": {
     "cell_type": "code",
     "checksum": "4225bb00140ea3733c2f09fbfa0c801c",
     "grade": true,
     "grade_id": "E-sustitution",
     "locked": true,
     "points": 1,
     "schema_version": 3,
     "solution": false,
     "task": false
    }
   },
   "outputs": [],
   "source": [
    "# 評価用セル"
   ]
  },
  {
   "cell_type": "markdown",
   "metadata": {},
   "source": [
    "Q. 以下を実行すると，`x3`の要素値はどうなるだろうか。\n",
    "```python\n",
    "x2 = np.array([[1, 2, 3, 4], [5, 6, 7, 8], [9, 10, 11, 12]])\n",
    "x3 = x2.copy()\n",
    "x2[0, 0] = 100\n",
    "```\n",
    "解答欄に以下のように答えなさい。\n",
    "```python\n",
    "ans = True # x3がx2と等しいとき\n",
    "ans = False # x3がx2と等しくないとき\n",
    "```"
   ]
  },
  {
   "cell_type": "code",
   "execution_count": null,
   "metadata": {},
   "outputs": [],
   "source": [
    "# このセルで試してみよう"
   ]
  },
  {
   "cell_type": "code",
   "execution_count": 89,
   "metadata": {
    "deletable": false,
    "nbgrader": {
     "cell_type": "code",
     "checksum": "5cb3656e127e127d1dd3db13ba7f41ef",
     "grade": false,
     "grade_id": "cell-e63dccd75e58b278",
     "locked": false,
     "schema_version": 3,
     "solution": true,
     "task": false
    }
   },
   "outputs": [],
   "source": [
    "# 解答欄\n",
    "# YOUR CODE HERE\n",
    "ans = False"
   ]
  },
  {
   "cell_type": "code",
   "execution_count": null,
   "metadata": {
    "deletable": false,
    "editable": false,
    "nbgrader": {
     "cell_type": "code",
     "checksum": "47de70aa27abc6c2174bf9a0d16ea4bb",
     "grade": true,
     "grade_id": "E-copy",
     "locked": true,
     "points": 1,
     "schema_version": 3,
     "solution": false,
     "task": false
    }
   },
   "outputs": [],
   "source": [
    "# 評価用セル"
   ]
  },
  {
   "cell_type": "markdown",
   "metadata": {},
   "source": [
    "<div class=\"alert alert-success\">\n",
    "\n",
    "# 配列`ndarray`の変形と要素の追加\n",
    "\n",
    "</div>\n",
    "\n",
    "## `ndarray`の変形, p.348\n",
    "\n",
    "**1次元配列の多次元化**: `ndarray.reshape()`\n",
    "\n",
    "`ndarray.reshape()`メソッドにより，例えば要素数9の1次元配列を3x3の2次元配列に変形できる。ただし，`ndarray.reshape()`メソッドは**要素を格納するアドレスは変更しない**で，配列の属性`shape`のみを変える。"
   ]
  },
  {
   "cell_type": "code",
   "execution_count": 90,
   "metadata": {},
   "outputs": [
    {
     "name": "stdout",
     "output_type": "stream",
     "text": [
      "[0 1 2 3 4 5 6 7 8]\n",
      "[[0 1 2]\n",
      " [3 4 5]\n",
      " [6 7 8]]\n"
     ]
    }
   ],
   "source": [
    "x = np.arange(9)\n",
    "print(x)\n",
    "y = x.reshape(3, 3)\n",
    "print(y)"
   ]
  },
  {
   "cell_type": "markdown",
   "metadata": {},
   "source": [
    "NumPyの関数`numpy.arange()`で生成した`ndqrrqy`をメソッド`ndarray.reshape()`で変形する場合，以下のようにまとめて書くことができる。"
   ]
  },
  {
   "cell_type": "code",
   "execution_count": 91,
   "metadata": {},
   "outputs": [
    {
     "data": {
      "text/plain": [
       "array([[0, 1, 2],\n",
       "       [3, 4, 5],\n",
       "       [6, 7, 8]])"
      ]
     },
     "execution_count": 91,
     "metadata": {},
     "output_type": "execute_result"
    }
   ],
   "source": [
    "np.arange(9).reshape(3, 3)  # np.arange(9)で生成されたオブジェクトに対してndarray.reshape()を適用"
   ]
  },
  {
   "cell_type": "markdown",
   "metadata": {},
   "source": [
    "`x = np.arange(1, 9)`を列数1の2次元配列に変形"
   ]
  },
  {
   "cell_type": "code",
   "execution_count": 92,
   "metadata": {},
   "outputs": [
    {
     "name": "stdout",
     "output_type": "stream",
     "text": [
      "[[1]\n",
      " [2]\n",
      " [3]\n",
      " [4]\n",
      " [5]\n",
      " [6]\n",
      " [7]\n",
      " [8]]\n"
     ]
    }
   ],
   "source": [
    "x = np.arange(1, 9).reshape(8, 1)\n",
    "print(x)"
   ]
  },
  {
   "cell_type": "markdown",
   "metadata": {},
   "source": [
    "上記と同じ操作を，以下の方法で実現することもできる。"
   ]
  },
  {
   "cell_type": "code",
   "execution_count": 93,
   "metadata": {},
   "outputs": [
    {
     "name": "stdout",
     "output_type": "stream",
     "text": [
      "[[1]\n",
      " [2]\n",
      " [3]\n",
      " [4]\n",
      " [5]\n",
      " [6]\n",
      " [7]\n",
      " [8]]\n"
     ]
    }
   ],
   "source": [
    "x = np.arange(1, 9)\n",
    "y = x[:, np.newaxis]\n",
    "print(y)"
   ]
  },
  {
   "cell_type": "markdown",
   "metadata": {},
   "source": [
    "Q. 以下を実行した場合，`x`, `y`の値はどうなるだろうか。\n",
    "```python\n",
    "x = np.arange(9)\n",
    "y = x.reshape(3, 3)\n",
    "y[0, 0]=10\n",
    "```\n",
    "解答欄には，以下のように解答しなさい。\n",
    "```python\n",
    "ans = True   # xとyの第一要素(2次元配列の場合は，0行0列目の要素)が等しい場合\n",
    "ans = False  # xとyの第一要素が異なる場合\n",
    "```"
   ]
  },
  {
   "cell_type": "code",
   "execution_count": 95,
   "metadata": {},
   "outputs": [
    {
     "name": "stdout",
     "output_type": "stream",
     "text": [
      "[10  1  2  3  4  5  6  7  8]\n",
      "[[10  1  2]\n",
      " [ 3  4  5]\n",
      " [ 6  7  8]]\n"
     ]
    }
   ],
   "source": [
    "# このセルで試してみよう\n",
    "x = np.arange(9)\n",
    "y = x.reshape(3, 3)\n",
    "y[0, 0]=10\n",
    "print(x)\n",
    "print(y)"
   ]
  },
  {
   "cell_type": "code",
   "execution_count": 97,
   "metadata": {
    "deletable": false,
    "nbgrader": {
     "cell_type": "code",
     "checksum": "493c95ddbe871105727d9830732f203a",
     "grade": false,
     "grade_id": "cell-e90d079670dd29cc",
     "locked": false,
     "schema_version": 3,
     "solution": true,
     "task": false
    }
   },
   "outputs": [],
   "source": [
    "# 解答欄\n",
    "# YOUR CODE HERE\n",
    "ans = True"
   ]
  },
  {
   "cell_type": "code",
   "execution_count": null,
   "metadata": {
    "deletable": false,
    "editable": false,
    "nbgrader": {
     "cell_type": "code",
     "checksum": "4297ca51b7df60f4ee5d71a71c7dff2d",
     "grade": true,
     "grade_id": "E-reshape",
     "locked": true,
     "points": 1,
     "schema_version": 3,
     "solution": false,
     "task": false
    }
   },
   "outputs": [],
   "source": [
    "# 評価用セル"
   ]
  },
  {
   "cell_type": "markdown",
   "metadata": {},
   "source": [
    "## 要素の追加, p.349"
   ]
  },
  {
   "cell_type": "markdown",
   "metadata": {},
   "source": [
    "`np.append(x, y)`で，配列`x`に対して配列`y`を追加した配列を得ることができる。"
   ]
  },
  {
   "cell_type": "code",
   "execution_count": 98,
   "metadata": {},
   "outputs": [
    {
     "name": "stdout",
     "output_type": "stream",
     "text": [
      "[1 2 3 8 9]\n"
     ]
    }
   ],
   "source": [
    "x = np.array([1, 2, 3])\n",
    "y = np.array([8, 9])\n",
    "x = np.append(x, y)\n",
    "print(x)"
   ]
  },
  {
   "cell_type": "markdown",
   "metadata": {},
   "source": [
    "配列`L=np.zeros(10)`に，`x=np.ones(10)`を追加することで，以下のような2次元配列を作ることもできる。\n",
    "```python\n",
    "[[0. 0. 0. 0. 0. 0. 0. 0. 0. 0.]\n",
    " [1. 1. 1. 1. 1. 1. 1. 1. 1. 1.]]\n",
    "```\n",
    "この場合，単に`np.append(L,x)`を実行すると，単に要素数20の1次元配列ができてしまう。まず，それぞれを2次元配列に変換する。"
   ]
  },
  {
   "cell_type": "markdown",
   "metadata": {},
   "source": [
    "Q. `L`, `x`をそれぞれ1行10列の2次元配列に変換しなさい。"
   ]
  },
  {
   "cell_type": "code",
   "execution_count": 110,
   "metadata": {
    "deletable": false,
    "nbgrader": {
     "cell_type": "code",
     "checksum": "1e776b03a64364e66b742d20c73496c4",
     "grade": false,
     "grade_id": "cell-f8e106e02be71b6a",
     "locked": false,
     "schema_version": 3,
     "solution": true,
     "task": false
    }
   },
   "outputs": [],
   "source": [
    "# 解答欄\n",
    "L = np.zeros(10)\n",
    "x = np.ones(10)\n",
    "# YOUR CODE HERE\n",
    "L = L.reshape(1, 10)\n",
    "x = x.reshape(1, 10)"
   ]
  },
  {
   "cell_type": "code",
   "execution_count": 111,
   "metadata": {},
   "outputs": [
    {
     "name": "stdout",
     "output_type": "stream",
     "text": [
      "[[0. 0. 0. 0. 0. 0. 0. 0. 0. 0.]]\n",
      "[[1. 1. 1. 1. 1. 1. 1. 1. 1. 1.]]\n"
     ]
    }
   ],
   "source": [
    "# このセルで結果を確認しよう\n",
    "print(L)\n",
    "print(x)"
   ]
  },
  {
   "cell_type": "code",
   "execution_count": null,
   "metadata": {
    "deletable": false,
    "editable": false,
    "nbgrader": {
     "cell_type": "code",
     "checksum": "9426b721ea83afa3333a30a7d5ebe8e3",
     "grade": true,
     "grade_id": "E-reshape1x10",
     "locked": true,
     "points": 1,
     "schema_version": 3,
     "solution": false,
     "task": false
    }
   },
   "outputs": [],
   "source": [
    "# 評価用セル"
   ]
  },
  {
   "cell_type": "markdown",
   "metadata": {},
   "source": [
    "ndarray型2次元配列`p`に対して，行数と列数が等しい配列`q`を結合する方法は以下の通り。\n",
    "\n",
    "1. 行数は変化させず，列数を増やす方向に`q`を結合する場合: `np.append(p,q)`もしくは`np.append(p,q,axis=1)`\n",
    "1. 列数は変化させず，行数を増やす方向に`q`を結合する場合: `np.append(p,q,axis=0)`\n",
    "\n",
    "\n",
    "Q2)`np.append()`により，`L`に対して`x`を新しい行として追加し，その結果を`L`に代入しなさい。"
   ]
  },
  {
   "cell_type": "code",
   "execution_count": 112,
   "metadata": {
    "deletable": false,
    "nbgrader": {
     "cell_type": "code",
     "checksum": "ac5278cd11b3b2bea1c469df3b9b90f7",
     "grade": false,
     "grade_id": "cell-c7510446332a94df",
     "locked": false,
     "schema_version": 3,
     "solution": true,
     "task": false
    }
   },
   "outputs": [
    {
     "name": "stdout",
     "output_type": "stream",
     "text": [
      "[[0. 0. 0. 0. 0. 0. 0. 0. 0. 0.]\n",
      " [1. 1. 1. 1. 1. 1. 1. 1. 1. 1.]]\n"
     ]
    }
   ],
   "source": [
    "# 解答欄\n",
    "# YOUR CODE HERE\n",
    "L = np.append(L, x, axis=0)\n",
    "print(L)"
   ]
  },
  {
   "cell_type": "code",
   "execution_count": null,
   "metadata": {
    "deletable": false,
    "editable": false,
    "nbgrader": {
     "cell_type": "code",
     "checksum": "eff9460181c78cc869ebcbade5e827c2",
     "grade": true,
     "grade_id": "E-append_axis0",
     "locked": true,
     "points": 1,
     "schema_version": 3,
     "solution": false,
     "task": false
    }
   },
   "outputs": [],
   "source": [
    "# 評価用セル"
   ]
  },
  {
   "cell_type": "markdown",
   "metadata": {},
   "source": [
    "Q. さらに，配列`L`に全ての要素値が2の行を追加しなさい。"
   ]
  },
  {
   "cell_type": "code",
   "execution_count": 115,
   "metadata": {
    "deletable": false,
    "nbgrader": {
     "cell_type": "code",
     "checksum": "a6a824d0c89a538a947cf47c9a64ae63",
     "grade": false,
     "grade_id": "cell-b8b17b03a4c841b2",
     "locked": false,
     "schema_version": 3,
     "solution": true,
     "task": false
    }
   },
   "outputs": [
    {
     "name": "stdout",
     "output_type": "stream",
     "text": [
      "[[0. 0. 0. 0. 0. 0. 0. 0. 0. 0.]\n",
      " [1. 1. 1. 1. 1. 1. 1. 1. 1. 1.]\n",
      " [2. 2. 2. 2. 2. 2. 2. 2. 2. 2.]]\n"
     ]
    }
   ],
   "source": [
    "# 解答欄\n",
    "# YOUR CODE HERE\n",
    "L = np.append(L, np.full(10, 2).reshape(1, 10), axis=0)\n",
    "print(L)"
   ]
  },
  {
   "cell_type": "code",
   "execution_count": null,
   "metadata": {
    "deletable": false,
    "editable": false,
    "nbgrader": {
     "cell_type": "code",
     "checksum": "0c1495abd4fd673f3c38ce47af255197",
     "grade": true,
     "grade_id": "E-append2_axis0",
     "locked": true,
     "points": 1,
     "schema_version": 3,
     "solution": false,
     "task": false
    }
   },
   "outputs": [],
   "source": [
    "# 評価用セル"
   ]
  },
  {
   "cell_type": "markdown",
   "metadata": {},
   "source": [
    "ここまでで求めた`L`に対して，全要素の平均と標準偏差を求める方法。"
   ]
  },
  {
   "cell_type": "code",
   "execution_count": 116,
   "metadata": {},
   "outputs": [
    {
     "name": "stdout",
     "output_type": "stream",
     "text": [
      "mean: 1.0\n",
      "SD:   0.816496580927726\n"
     ]
    }
   ],
   "source": [
    "print(\"mean:\", np.mean(L))\n",
    "print(\"SD:  \", np.std(L))"
   ]
  },
  {
   "cell_type": "markdown",
   "metadata": {},
   "source": [
    "各列の平均と標準偏差を求める方法。各列に対する演算をするには`axis=0`を指定する。(`axis=0`の場合，行数が増える方向，つまり配列`L[a][b]`に対しては`a`を0から順に変化させるように演算が適用される)"
   ]
  },
  {
   "cell_type": "code",
   "execution_count": 117,
   "metadata": {},
   "outputs": [
    {
     "name": "stdout",
     "output_type": "stream",
     "text": [
      "mean: [1. 1. 1. 1. 1. 1. 1. 1. 1. 1.]\n",
      "sd:   [0.81649658 0.81649658 0.81649658 0.81649658 0.81649658 0.81649658\n",
      " 0.81649658 0.81649658 0.81649658 0.81649658]\n"
     ]
    }
   ],
   "source": [
    "print(\"mean:\", np.mean(L, axis=0))  # axis=0 は列方向に加算\n",
    "print(\"sd:  \", np.std(L, axis=0))"
   ]
  },
  {
   "cell_type": "markdown",
   "metadata": {},
   "source": [
    "各行の平均と標準偏差を求める方法。各行に対する演算をするには`axis=1`を指定する。(`axis=1`の場合，列数が増える方向，つまり配列`L[a][b]`に対しては`b`を0から順に変化させるように演算が適用される)"
   ]
  },
  {
   "cell_type": "code",
   "execution_count": 118,
   "metadata": {},
   "outputs": [
    {
     "name": "stdout",
     "output_type": "stream",
     "text": [
      "mean: [0. 1. 2.]\n",
      "sd:   [0. 0. 0.]\n"
     ]
    }
   ],
   "source": [
    "print(\"mean:\", np.mean(L, axis=1))  # axis=0 は行方向に加算\n",
    "print(\"sd:  \", np.std(L, axis=1))"
   ]
  },
  {
   "cell_type": "markdown",
   "metadata": {},
   "source": [
    "<div class=\"alert alert-success\">\n",
    "\n",
    "# 配列`ndarray`の計算\n",
    "\n",
    "</div>\n",
    "\n",
    "C言語で配列の演算をするときには，for文による処理が必要だが，NumPyでは，for文を使わないで配列の全要素に対する演算をできるメソッドが用意されている。\n",
    "\n",
    "**重要:** 配列に対する演算は**for文を使うと演算時間が非常に長くなる**。できるだけ`for`文は使わない方法を用いること。"
   ]
  },
  {
   "cell_type": "markdown",
   "metadata": {},
   "source": [
    "## 四則演算\n",
    "\n",
    "ndarray配列の四則演算は，以下のように演算子(`+`,`-`,`*`等)を使う方法とと関数を使う方法がある。\n",
    "\n",
    "- ndarray**配列同士の四則演算は各要素同士の演算**となる。\n",
    "- ndarray**配列に対するスカラー値の加減乗除は配列の各要素に対する演算**となる。\n",
    "\n",
    "演算子|関数\n",
    "----|--------------\n",
    "`+` |`np.add()`\n",
    "`-` |`np.subtract()`\n",
    "`-` |`np.negative()`\n",
    "`-` |`np.multiply()`\n",
    "`/` |`np.divide()`\n",
    "`//`|`np.floor_divide()`\n",
    "`%` | `np.mod()`\n",
    "`**`|`np.power()`\n",
    "```"
   ]
  },
  {
   "cell_type": "markdown",
   "metadata": {},
   "source": [
    "以下の演算の結果，要素値がどう変わっているか確認しなさい。"
   ]
  },
  {
   "cell_type": "code",
   "execution_count": 119,
   "metadata": {},
   "outputs": [
    {
     "name": "stdout",
     "output_type": "stream",
     "text": [
      "[1 2 3 4 5]\n",
      "[3 4 5 6 7]\n",
      "[ 2  4  6  8 10]\n",
      "[0.5 1.  1.5 2.  2.5]\n",
      "[0 1 1 2 2]\n",
      "[1 0 1 0 1]\n",
      "[ 1  4  9 16 25]\n"
     ]
    }
   ],
   "source": [
    "x = np.arange(1, 6)\n",
    "print(x)\n",
    "print(x + 2)\n",
    "print(x * 2)\n",
    "print(x / 2)\n",
    "print(x // 2)\n",
    "print(x % 2)\n",
    "print(x ** 2)"
   ]
  },
  {
   "cell_type": "markdown",
   "metadata": {},
   "source": [
    "## いろいろな関数\n",
    "\n",
    "ndarrayに対する演算用にいろいろな関数がある。いずれも，引数にして指定したndarrayの全要素に対して演算が行われる。\n",
    "\n",
    "```python\n",
    "np.abs()\n",
    "np.exp()\n",
    "np.exp2()\n",
    "np.power()\n",
    "np.sin()\n",
    "np.cos()\n",
    "np.tan()\n",
    "np.ln()\n",
    "np.log()\n",
    "np.log2()\n",
    "```\n",
    "数学定数も色々定義されている。\n",
    "```python\n",
    "np.e  # ネイピア数(自然対数の底)\n",
    "np.pi # 円周率\n",
    "```"
   ]
  },
  {
   "cell_type": "markdown",
   "metadata": {},
   "source": [
    "$y=\\sin 2\\pi x$, $x\\in[-1,1]$をmatplotlibでグラフ表示するには以下のように行う。\n",
    "1. 区間$[-1,1]$を何個の離散値にするかを決める。ここでは`N=101`とする。\n",
    "2. 区間$[-1,1]$を`N`個の離散値にした`ndarray`を定義する。\n",
    "3. 2で作った`ndarray`の各要素値に対して`sin(2pi*x)`関数の値を求める。\n",
    "4. 求めた値をmatplotlibでグラフにする。"
   ]
  },
  {
   "cell_type": "code",
   "execution_count": 120,
   "metadata": {},
   "outputs": [
    {
     "data": {
      "text/plain": [
       "[<matplotlib.lines.Line2D at 0x7f1b9afe7da0>]"
      ]
     },
     "execution_count": 120,
     "metadata": {},
     "output_type": "execute_result"
    },
    {
     "data": {
      "image/png": "[encoded data removed]",
      "text/plain": [
       "<Figure size 432x288 with 1 Axes>"
      ]
     },
     "metadata": {
      "needs_background": "light"
     },
     "output_type": "display_data"
    }
   ],
   "source": [
    "x = np.linspace(-1, 1, 101)  # N=100ではなく101にした理由を考えること。\n",
    "y = np.sin(2 * np.pi * x)  # xの各要素に対してsin関数が適用される\n",
    "\n",
    "fig = plt.figure()\n",
    "ax = fig.add_subplot(111)\n",
    "ax.plot(x, y)\n",
    "# ax.plot(y) # yのみを引数にする場合も試して，x軸の表示がどう変わるか確認しなさい"
   ]
  },
  {
   "cell_type": "markdown",
   "metadata": {},
   "source": [
    "Q. 以下のような関数`sinrnd()`を作りなさい。\n",
    "\n",
    "概要: $x\\in[0,3]$における$y=\\sin 2\\pi x$ の値に乱数を加えた値を要素とする`ndarray`を出力する。\n",
    "\n",
    "- 引数\n",
    "    - `nd`: 区間$[0,3]$を何個の離散値に分割するかを決める値(端点も含む)。デフォルト値は`101`。\n",
    "- 処理\n",
    "    1. 区間$[0,3]$を`num`個の離散値に分割した値を要素とする`ndarray`である変数`x`を生成する。\n",
    "    2. `x`の各値に対する$y=\\sin 2\\pi x$の値を要素とする`ndarray`である変数`y`を生成する。\n",
    "    3. `y`の各要素値に対して，平均0, 標準偏差1の正規分布乱数を加算する。\n",
    "- 返り値\n",
    "    - 上記処理により得た`x`と`y`を返り値とする。\n",
    "- 注意\n",
    "    - `x`の定義域に気をつけること"
   ]
  },
  {
   "cell_type": "code",
   "execution_count": 125,
   "metadata": {
    "deletable": false,
    "nbgrader": {
     "cell_type": "code",
     "checksum": "da95e2ca5cf6cebfb1caf34aa2aa2ecc",
     "grade": false,
     "grade_id": "cell-9a459e86c95b0c9d",
     "locked": false,
     "schema_version": 3,
     "solution": true,
     "task": false
    }
   },
   "outputs": [],
   "source": [
    "# このセルに関数の定義を入力する\n",
    "# YOUR CODE HERE\n",
    "def sinrnd(nd = 101):\n",
    "    x = np.linspace(0, 3, nd)\n",
    "    y = np.sin(2 * np.pi * x)\n",
    "    y += np.random.normal(0., 1., nd)\n",
    "    return(x, y)"
   ]
  },
  {
   "cell_type": "markdown",
   "metadata": {},
   "source": [
    "作成した関数`sinrnd()`の返り値をグラフにすると，sin関数の形をとどめていない形になることが多い。次のセルを実行し，そのことを確認しなさい。"
   ]
  },
  {
   "cell_type": "code",
   "execution_count": 127,
   "metadata": {},
   "outputs": [
    {
     "data": {
      "text/plain": [
       "[<matplotlib.lines.Line2D at 0x7f1b9af43780>]"
      ]
     },
     "execution_count": 127,
     "metadata": {},
     "output_type": "execute_result"
    },
    {
     "data": {
      "image/png": "[encoded data removed]",
      "text/plain": [
       "<Figure size 432x288 with 1 Axes>"
      ]
     },
     "metadata": {
      "needs_background": "light"
     },
     "output_type": "display_data"
    }
   ],
   "source": [
    "x, y = sinrnd()\n",
    "fig = plt.figure()\n",
    "ax = fig.add_subplot(111)\n",
    "ax.plot(x, y)"
   ]
  },
  {
   "cell_type": "code",
   "execution_count": null,
   "metadata": {
    "deletable": false,
    "editable": false,
    "nbgrader": {
     "cell_type": "code",
     "checksum": "44ae17f1ae0ddca39d8fb364398c4722",
     "grade": true,
     "grade_id": "E-sinrnd",
     "locked": true,
     "points": 2,
     "schema_version": 3,
     "solution": false,
     "task": false
    }
   },
   "outputs": [],
   "source": [
    "# 評価用セル"
   ]
  },
  {
   "cell_type": "markdown",
   "metadata": {},
   "source": [
    "上記のようにノイズの背後にある規則的な信号を取り出すには，複数回取得した信号の加算平均をとる。$n$個のデータの加算平均を行うと，S/N比はおよそ$\\sqrt{n}$倍になる。\n",
    "\n",
    "Q. `sinrnd()`で長さ`nd`の`ndarray`を指定した回数生成し，その各時刻(`x`の各値)における平均値と標準偏差を返す関数`mean_sinrnd()`を作りなさい。\n",
    "\n",
    "**引数**\n",
    "- `num`: `sinrnd()`を実行する回数。デフォルト値は`10`\n",
    "- `nd` : `sinrnd()`に引数として渡すための引数。デフォルト値は`101`\n",
    "\n",
    "**返り値**\n",
    "1. `x` : `sinrnd(nd)`の返り値`x`\n",
    "2. 平均値: `num`回`sinrnd(nd)`を実行して得られた返り値`y`の全てに対して，各時刻(`x`の各値)における平均値を要素とする`ndarray`\n",
    "    - 例えば`num=2`の場合，`sinrnd(nd)`の1回目の返り値が`[0,0,1,1,...]`，2回目の返り値が`[4,4,5,5,]`なら，`mean_sinrnd()`の返り値は`[2,2,3,3,...]`になる。\n",
    "3. 標準偏差: 上記の平均値の代わりに標準偏差を要素とする`ndarray`\n",
    "\n",
    "**ヒント**\n",
    "1. 0行`nd`列の空配列を生成する。その変数名は`dat`とする。**空配列の生成方法は以下の通り**。\n",
    "```python\n",
    "dat=np.empty((0,nd))\n",
    "```\n",
    "2. `sinrnd(nd)`の返り値を取得して`dat`の行に追加する。このとき，**返り値を1行`nd`列の2次元配列に変換**することを忘れない。これを`num`回実行。\n",
    "3. 配列`dat`に対して平均と標準偏差を`np.mean()`と`np.std()`で計算。"
   ]
  },
  {
   "cell_type": "code",
   "execution_count": 138,
   "metadata": {
    "deletable": false,
    "nbgrader": {
     "cell_type": "code",
     "checksum": "2b09afe8f7eccc99cc941be36c2ced9a",
     "grade": false,
     "grade_id": "cell-ef7f990310cb621b",
     "locked": false,
     "schema_version": 3,
     "solution": true,
     "task": false
    }
   },
   "outputs": [],
   "source": [
    "# このセルに関数の定義を入力する\n",
    "# YOUR CODE HERE\n",
    "def mean_sinrnd(num = 10, nd = 101):\n",
    "    dat = np.empty((0, nd))\n",
    "    for _ in range(num):\n",
    "        x, y = sinrnd(nd)\n",
    "        dat = np.append(dat, y.reshape(1, nd), axis = 0)\n",
    "    mean = np.mean(dat, axis = 0)\n",
    "    sd = np.std(dat, axis = 0)\n",
    "    return(x, mean, sd)"
   ]
  },
  {
   "cell_type": "code",
   "execution_count": 141,
   "metadata": {},
   "outputs": [
    {
     "name": "stdout",
     "output_type": "stream",
     "text": [
      "[-0.26683527  0.3821509   0.07245189  0.38671897  0.57376741  1.388818\n",
      "  0.62014963  1.29374088  1.25863209  0.78287868  0.91553096  1.02172818\n",
      "  1.08981167  1.23847972  0.79767522  0.50746608  0.53647838  0.06443011\n",
      " -0.08648016 -0.12881278  0.1747065  -0.76465274 -0.84574382 -0.63730718\n",
      " -0.43676293 -1.12022018 -1.0520507  -0.99868798 -1.3448083  -0.73692712\n",
      " -1.03375393 -0.91444716 -1.0730392  -0.21268024 -0.98678822  0.19858648\n",
      "  0.35235833  0.42235162  0.47575375  0.03315461  1.05585545  1.01212968\n",
      "  0.68727166  0.8332044   1.36611718  0.91608296  0.97459024  0.60138953\n",
      "  0.83667845  0.95521407  0.42975748  0.58826422  0.53420345  0.7592624\n",
      "  0.26449996  0.15781972 -0.21253542 -0.26142578 -1.35935087 -0.38508866\n",
      " -1.08516598 -0.61988626 -0.65993986 -1.06300144 -0.76604825 -0.50307511\n",
      " -0.88876595 -1.01830503 -0.46920418 -0.55065843 -0.87344233 -0.2613341\n",
      "  0.30787535 -0.27827284 -0.43882809  0.05083724  0.64230842  0.40536356\n",
      "  0.35599267  1.16133107  0.95937084  0.91810878  1.33467613  0.73897578\n",
      "  0.81918869  0.82929338  0.85168144  0.72505219  0.07520267  0.41634568\n",
      "  0.3461701   0.02007892 -0.06768892 -0.2671004  -1.09395091 -0.76764196\n",
      " -1.0975209  -0.960573   -0.79493176 -0.54184202 -0.85092965 -1.0427096\n",
      " -0.88552604 -1.01510764 -0.93304028 -0.57869518 -0.40837247 -0.56471316\n",
      " -0.53775166 -0.38567445  0.04614438]\n"
     ]
    }
   ],
   "source": [
    "# このセルで動作確認をしよう\n",
    "x, mean, sd = mean_sinrnd(nd = 111)\n",
    "print(mean)"
   ]
  },
  {
   "cell_type": "code",
   "execution_count": 142,
   "metadata": {
    "deletable": false,
    "editable": false,
    "nbgrader": {
     "cell_type": "code",
     "checksum": "c27660256e360982c362563aa245ba55",
     "grade": true,
     "grade_id": "E-mean_sinrnd1",
     "locked": true,
     "points": 1,
     "schema_version": 3,
     "solution": false,
     "task": false
    }
   },
   "outputs": [],
   "source": [
    "# 評価用セル\n",
    "nd = 51\n",
    "x, mean, std = mean_sinrnd(num=100, nd=nd)\n",
    "eq_(len(x), nd)\n",
    "eq_(len(mean), nd)\n",
    "eq_(len(std), nd)\n",
    "ans_x = np.linspace(0, 3, nd)\n",
    "nt.assert_array_equal(x, ans_x)"
   ]
  },
  {
   "cell_type": "code",
   "execution_count": 143,
   "metadata": {
    "deletable": false,
    "editable": false,
    "nbgrader": {
     "cell_type": "code",
     "checksum": "1e9e247106e81755518233efb20f3fed",
     "grade": true,
     "grade_id": "E-mean_sinrnd2",
     "locked": true,
     "points": 1,
     "schema_version": 3,
     "solution": false,
     "task": false
    }
   },
   "outputs": [],
   "source": [
    "# 評価用セルその2"
   ]
  },
  {
   "cell_type": "markdown",
   "metadata": {},
   "source": [
    "Q. 関数`mean_sinrnd()`の返り値を以下のようなグラフに示す関数`plot_sinrnd()`を作りなさい。以下のグラフは，`sinrnd()`を2000回呼び出して加算平均した場合の例。\n",
    "\n",
    "**引数**\n",
    "- `x`, `mean`, `std`: いずれも`mean_sinrnd()`の返り値\n",
    "\n",
    "**返り値**\n",
    "\n",
    "- `ax`: `mean`, `mean±std`を描画するための座標コンテナ\n",
    "\n",
    "\n",
    "**注意**\n",
    "\n",
    "- 各座標軸にタイトルをつけること\n",
    "- 以下の図の凡例中の$\\pm$は`$\\pm$`で表示可能\n",
    "\n",
    "**実行例**\n",
    "```python\n",
    "x, mean, std = mean_sinrnd(num=2000, nd=101)\n",
    "plot_data(x, mean, std)\n",
    "\n",
    "```\n",
    "\n",
    "![](images/mean_sinrnd.png)"
   ]
  },
  {
   "cell_type": "code",
   "execution_count": 165,
   "metadata": {
    "deletable": false,
    "nbgrader": {
     "cell_type": "code",
     "checksum": "4a73747ef5bd671208d59992ded5f811",
     "grade": false,
     "grade_id": "cell-15e66f46230f3a2c",
     "locked": false,
     "schema_version": 3,
     "solution": true,
     "task": false
    }
   },
   "outputs": [],
   "source": [
    "# 解答欄\n",
    "\n",
    "\n",
    "def plot_data(x, mean, std):\n",
    "    fig = plt.figure(figsize=(7, 4))\n",
    "    ax = fig.add_subplot(111)\n",
    "    # axに，mean, mean+SD, mean-SD の順に登録すること\n",
    "    # YOUR CODE HERE\n",
    "    ax.plot(x, mean, label=\"mean\")\n",
    "    ax.plot(x, mean+std, x, mean-std, label=\"mean$\\\\pm$SD\")\n",
    "    ax.legend(loc=\"upper right\")  # plot()で指定したlabelを右上に配置\n",
    "    ax.set_ylabel(\"mean$\\\\pm$Sd\")  # y軸ラベル\n",
    "\n",
    "    return ax"
   ]
  },
  {
   "cell_type": "code",
   "execution_count": 166,
   "metadata": {},
   "outputs": [
    {
     "data": {
      "text/plain": [
       "<matplotlib.axes._subplots.AxesSubplot at 0x7f1b9a8f8278>"
      ]
     },
     "execution_count": 166,
     "metadata": {},
     "output_type": "execute_result"
    },
    {
     "data": {
      "image/png": "[encoded data removed]",
      "text/plain": [
       "<Figure size 504x288 with 1 Axes>"
      ]
     },
     "metadata": {
      "needs_background": "light"
     },
     "output_type": "display_data"
    }
   ],
   "source": [
    "x, mean, std = mean_sinrnd(num=2000, nd=101)\n",
    "plot_data(x, mean, std)"
   ]
  },
  {
   "cell_type": "code",
   "execution_count": 168,
   "metadata": {
    "deletable": false,
    "editable": false,
    "nbgrader": {
     "cell_type": "code",
     "checksum": "dfe8cd77ec2abcdef055b2d2a7e2595a",
     "grade": true,
     "grade_id": "E-plot_mean_sinrnd",
     "locked": true,
     "points": 2,
     "schema_version": 3,
     "solution": false,
     "task": false
    }
   },
   "outputs": [
    {
     "data": {
      "image/png": "[encoded data removed]",
      "text/plain": [
       "<Figure size 504x288 with 1 Axes>"
      ]
     },
     "metadata": {
      "needs_background": "light"
     },
     "output_type": "display_data"
    }
   ],
   "source": [
    "# 評価用セル\n",
    "nd = 51\n",
    "x, mean, std = mean_sinrnd(num=2000, nd=nd)\n",
    "ax = plot_data(x, mean, std)\n",
    "\n",
    "ans_y = np.sin(2 * np.pi * x)\n",
    "pc = LinePlotChecker(ax)\n",
    "pc.assert_y_data_allclose([ans_y, ans_y + 1, ans_y - 1], atol=0.13)"
   ]
  },
  {
   "cell_type": "markdown",
   "metadata": {},
   "source": [
    "## 要素の総和\n",
    "\n",
    "`L=np.arange(1,11)`の要素の総和は以下のように求めることができる。"
   ]
  },
  {
   "cell_type": "code",
   "execution_count": 169,
   "metadata": {},
   "outputs": [
    {
     "name": "stdout",
     "output_type": "stream",
     "text": [
      "55\n"
     ]
    }
   ],
   "source": [
    "L = np.arange(1, 11)\n",
    "sum = 0\n",
    "for x in L:\n",
    "    sum += x\n",
    "print(sum)"
   ]
  },
  {
   "cell_type": "markdown",
   "metadata": {},
   "source": [
    "`numpy.sum()`は，ndarry配列の各要素の総和を返す関数。これを使うと，上記のプログラムは以下のように簡潔になる。"
   ]
  },
  {
   "cell_type": "code",
   "execution_count": 170,
   "metadata": {},
   "outputs": [
    {
     "name": "stdout",
     "output_type": "stream",
     "text": [
      "55\n"
     ]
    }
   ],
   "source": [
    "sum = np.sum(L)\n",
    "print(sum)"
   ]
  },
  {
   "cell_type": "markdown",
   "metadata": {},
   "source": [
    "**Q**. 以下のような関数`softmax(L)`を作りなさい。\n",
    "\n",
    "- 引数:\n",
    "    - `L`: `ndarray`配列\n",
    "- 返値:\n",
    "    - 引数`L`の要素を$l_0,l_2,\\cdots,l_n$とおいた場合，$\\displaystyle \\frac{e^{l_0}}{\\displaystyle\\sum_{i=0}^ne^{l_i}}，\\frac{e^{l_1}}{\\displaystyle\\sum_{i=0}^ne^{l_i}},\\cdots,\\frac{e^{l_n}}{\\displaystyle\\sum_{i=0}^ne^{l_i}}$を要素とする`ndarray`\n",
    "    - 例) 引数が`L=[1,3,4]`の場合は，以下を計算した値が返り値。\n",
    "\n",
    "        $\\displaystyle[\\frac{e^{1}}{S},\\frac{e^{3}}{S},\\frac{e^{4}}{S}]$, ただし，$S=e^{1}+e^{3}+e^{4}$\n",
    "\n",
    "実行例\n",
    "```python\n",
    "x = np.array([0.0, 1.0])\n",
    "print(softmax(x))\n",
    "y = np.array([-1.0, 0.0, 1.0])\n",
    "print(softmax(y))\n",
    "```\n",
    "実行結果\n",
    "```python\n",
    "[0.26894142 0.73105858]   # [1/(1+e), e/(1+e)]\n",
    "[0.09003057 0.24472847 0.66524096] # [(1/e)/(1/e+1+e), 1/(1/e+1+e), e/(1/e+1+e)]\n",
    "```"
   ]
  },
  {
   "cell_type": "code",
   "execution_count": 180,
   "metadata": {
    "deletable": false,
    "nbgrader": {
     "cell_type": "code",
     "checksum": "fbeac3bd2a5c4613ca9a5c98e39cbe37",
     "grade": false,
     "grade_id": "cell-5c010430e99db7b9",
     "locked": false,
     "schema_version": 3,
     "solution": true,
     "task": false
    }
   },
   "outputs": [],
   "source": [
    "# このセルに関数の定義を入力する\n",
    "# YOUR CODE HERE\n",
    "def softmax(L):\n",
    "    E = np.exp(L)\n",
    "    S = np.sum(E)\n",
    "    return E / S"
   ]
  },
  {
   "cell_type": "code",
   "execution_count": 181,
   "metadata": {},
   "outputs": [
    {
     "name": "stdout",
     "output_type": "stream",
     "text": [
      "[0.26894142 0.73105858]\n",
      "[0.09003057 0.24472847 0.66524096]\n"
     ]
    }
   ],
   "source": [
    "# このセルで動作確認をしなさい。\n",
    "x = np.array([0.0, 1.0])\n",
    "print(softmax(x))\n",
    "y = np.array([-1.0, 0.0, 1.0])\n",
    "print(softmax(y))"
   ]
  },
  {
   "cell_type": "code",
   "execution_count": 182,
   "metadata": {
    "deletable": false,
    "editable": false,
    "nbgrader": {
     "cell_type": "code",
     "checksum": "8dcf0a890a803ae33b5cb2eb17b79524",
     "grade": true,
     "grade_id": "E-softmax",
     "locked": true,
     "points": 2,
     "schema_version": 3,
     "solution": false,
     "task": false
    }
   },
   "outputs": [],
   "source": [
    "# 評価用セル\n",
    "x = np.array([0.0, 1.0])\n",
    "nt.assert_equal(softmax(L=x), np.array([1.0, np.e]) / (1.0 + np.e))"
   ]
  },
  {
   "cell_type": "markdown",
   "metadata": {},
   "source": [
    "## softmax法\n",
    "**Q.** 以下のような関数`softmax_rand(L,T)`を作りなさい。\n",
    "\n",
    "- 引数:\n",
    "    - `L`: リスト(要素は数値)\n",
    "    - `T`: softmax法のパラメータ(デフォルト値は1)\n",
    "- 返値:\n",
    "    - 引数のリスト`L`の各要素値に対してsoftmax法を適用した確率で、そのインデックスをランダムに返す。\n",
    "    - 例) 引数が`L=[1,3,4]`の場合は，ランダムに各要素のインデックスを返すが、インデックス`k`が選択される確率$P(k)$ ($k=0,1,2$)は次式の通り。\n",
    "    \n",
    "    $$\\displaystyle P(k)=\\frac{e^\\frac{L(k)}{T}}{\\displaystyle\\sum_{i=0}^{N-1}e^\\frac{L(i)}{T}}$$\n",
    "\n",
    "実行例:\n",
    "```python\n",
    "import math as ma\n",
    "\n",
    "softmax_rand(L=[1,1])       #返り値は0か1であり、その比率は1:1\n",
    "softmax_rand(L=[0,1])       #返り値は0か1であり、その比率はexp(0):exp(1)=0:e\n",
    "softmax_rand(L=[0,4],T=2)       #返り値は0か1であり、その比率はexp(0):exp(4/2)=0:exp(2)\n",
    "softmax_rand(L=[0,ma.log(2),1]) #返り値は0か1か2であり、その比率は1:2:e\n",
    "```\n",
    "ヒント\n",
    "1. 引数のリスト`L`を`ndarray`に変換する。\n",
    "2. `L`を前問と同様にしてsoftmaxを用いた値に変換(要素値の合計が1になるように規格化される)。その結果で`L`をおき直す。\n",
    "3. `[0,1)`の乱数を発生する。乱数値が`[0,L[0])`の範囲なら返り値は0，`[L[0],L[0]+L[1])`の範囲なら1， `[L[0]+L[1], L[0]+L[1]+L[2])`の範囲なら2,...と返り値を決定すれば良い。\n",
    "    - `L`の要素数がいくつであっても対応できるようにすること\n",
    "    - (独り言: 発生した乱数`rnd`に対して，(1) `L[0]`と比較, (2) `L[0]`より大きければ`rnd`から`L[0]`を引いて`L[1]`と比較...としていくと，簡潔なコードになる)"
   ]
  },
  {
   "cell_type": "code",
   "execution_count": 179,
   "metadata": {},
   "outputs": [],
   "source": [
    "# 乱数発生に利用するrandomモジュールの読み込み\n",
    "import random as ra\n",
    "\n",
    "# 対数計算に利用するmathモジュールの読み込み\n",
    "import math as ma"
   ]
  },
  {
   "cell_type": "code",
   "execution_count": 185,
   "metadata": {
    "deletable": false,
    "nbgrader": {
     "cell_type": "code",
     "checksum": "52f6072be4814764dbd04b8df2b1d277",
     "grade": false,
     "grade_id": "cell-cef0819b7706944b",
     "locked": false,
     "schema_version": 3,
     "solution": true,
     "task": false
    }
   },
   "outputs": [],
   "source": [
    "# YOUR CODE HERE\n",
    "def softmax_rand(L, T = 1):\n",
    "    L = np.array(L)\n",
    "    P = softmax(L / T)\n",
    "    x = ra.random()\n",
    "    i = len(L) - 1\n",
    "    for (j, p) in enumerate(P):\n",
    "        if p <= x:\n",
    "            i = j\n",
    "            break\n",
    "        x -= p\n",
    "    return i"
   ]
  },
  {
   "cell_type": "code",
   "execution_count": 192,
   "metadata": {},
   "outputs": [
    {
     "name": "stdout",
     "output_type": "stream",
     "text": [
      "1\n",
      "0\n",
      "0\n",
      "2\n"
     ]
    }
   ],
   "source": [
    "# このセルで動作確認をしよう\n",
    "import math as ma\n",
    "\n",
    "print(softmax_rand(L=[1,1]))       #返り値は0か1であり、その比率は1:1\n",
    "print(softmax_rand(L=[0,1]))       #返り値は0か1であり、その比率はexp(0):exp(1)=0:e\n",
    "print(softmax_rand(L=[0,4],T=2))       #返り値は0か1であり、その比率はexp(0):exp(4/2)=0:exp(2)\n",
    "print(softmax_rand(L=[0,ma.log(2),1])) #返り値は0か1か2であり、その比率は1:2:e"
   ]
  },
  {
   "cell_type": "markdown",
   "metadata": {},
   "source": [
    "**Q2.** 前問で作った`softmax_rand()`のテストのため，以下のような関数`test()`を作りなさい。\n",
    "\n",
    "- 概要\n",
    "    - `num`回`softmax_rand()`を呼び出し，その返り値の分布を返り値とする\n",
    "- 引数\n",
    "    - `L`: リスト(要素は数値)\n",
    "    - `num`: 確率発生回数(デフォルト値は適宜決めなさい)\n",
    "    - `T`: softmax法のパラメータ(**デフォルト値は1**)    \n",
    "- 処理\n",
    "    - `num`回`softmax_rand(L,T)`を呼び出し，その返り値が引数`L`の各要素のインデックスにそれぞれ何回該当したかを記録する。\n",
    "- 返り値\n",
    "    - `num`回`softmax_rand(L,T)`を呼び出した時の返り値の確率分布\n",
    "    - 型は`numpy.ndarray`\n",
    "    - 例えば，`softmax_rand(L,T)`を10回呼び出した時の返り値が，`0`が2回，`1`が8回ならば返り値は`[0.2,0.8]`\n",
    "    \n",
    "ヒント\n",
    "\n",
    "1. 引数のリスト`L`と同じ長さの`ndarray`を準備する。要素値は全て0とし，変数名を`count`とする。\n",
    "2. 引数で指定された回数(`num`)だけ`softmax_rand(L,T)`を呼び出す。返り値が`0`なら`count[0]`の値を増加。\n",
    "3. 最後に`count`の要素を，全要素の合計が1になるように規格化して返り値とする。"
   ]
  },
  {
   "cell_type": "code",
   "execution_count": 216,
   "metadata": {
    "deletable": false,
    "nbgrader": {
     "cell_type": "code",
     "checksum": "cf26a55825a0bfce354b402b88057221",
     "grade": false,
     "grade_id": "cell-ef3c80ec5c89fcf9",
     "locked": false,
     "schema_version": 3,
     "solution": true,
     "task": false
    }
   },
   "outputs": [],
   "source": [
    "# YOUR CODE HERE\n",
    "def test(L, num = 100, T = 1):\n",
    "    counts = np.full(len(L), 0)\n",
    "    for _ in range(num):\n",
    "        i = softmax_rand(L, T)\n",
    "        counts[i] += 1\n",
    "    return counts / num"
   ]
  },
  {
   "cell_type": "markdown",
   "metadata": {},
   "source": [
    "Q. 関数`test()`を使って以下を確認しなさい。\n",
    "- `softmax_rand(l=[1, 1], T=1)`の返り値は0か1であり、その比率はほぼ1:1である。\n",
    "- `softmax_rand(l=[0, log2, 1], T=1)`の返り値は0か1か2であり、その比率はほぼ1:2:eである。"
   ]
  },
  {
   "cell_type": "code",
   "execution_count": 217,
   "metadata": {},
   "outputs": [
    {
     "name": "stdout",
     "output_type": "stream",
     "text": [
      "[0.513 0.487]\n",
      "[0.811 0.    0.189]\n"
     ]
    }
   ],
   "source": [
    "# このセルで試してみよう\n",
    "print(test(L=[1, 1], T=1))\n",
    "print(test(L=[0, np.log(2), 1], T=1))"
   ]
  },
  {
   "cell_type": "code",
   "execution_count": 219,
   "metadata": {
    "deletable": false,
    "editable": false,
    "nbgrader": {
     "cell_type": "code",
     "checksum": "31a3ef900f3f0fcba7b68a1f67aea968",
     "grade": true,
     "grade_id": "cell-794b7bdf6a29341a",
     "locked": true,
     "points": 1,
     "schema_version": 3,
     "solution": false,
     "task": false
    }
   },
   "outputs": [],
   "source": [
    "# 評価セル\n",
    "n = 50000\n",
    "## len(L)=2\n",
    "r = test(L=[1, 1], num=n)\n",
    "ans = np.array([0.5, 0.5])\n",
    "nt.assert_array_almost_equal(r, ans, 0.05)\n",
    "\n",
    "## len(L)=10\n",
    "r = test(L=np.ones(10), T=2, num=n)\n",
    "ans = np.full(10,0.1)\n",
    "nt.assert_array_almost_equal(r, ans, 0.05)"
   ]
  },
  {
   "cell_type": "code",
   "execution_count": 220,
   "metadata": {
    "deletable": false,
    "editable": false,
    "nbgrader": {
     "cell_type": "code",
     "checksum": "1f27847456aa823448e9cb23068df470",
     "grade": true,
     "grade_id": "E-softmax_rand",
     "locked": true,
     "points": 2,
     "schema_version": 3,
     "solution": false,
     "task": false
    }
   },
   "outputs": [],
   "source": [
    "# 評価用セルその2(その他いろいろなパタン検証)"
   ]
  },
  {
   "cell_type": "code",
   "execution_count": null,
   "metadata": {},
   "outputs": [],
   "source": []
  }
 ],
 "metadata": {
  "kernelspec": {
   "display_name": "Python 3",
   "language": "python",
   "name": "python3"
  },
  "language_info": {
   "codemirror_mode": {
    "name": "ipython",
    "version": 3
   },
   "file_extension": ".py",
   "mimetype": "text/x-python",
   "name": "python",
   "nbconvert_exporter": "python",
   "pygments_lexer": "ipython3",
   "version": "3.6.9"
  },
  "nbTranslate": {
   "displayLangs": [
    "*"
   ],
   "hotkey": "alt-t",
   "langInMainMenu": true,
   "sourceLang": "en",
   "targetLang": "fr",
   "useGoogleTranslate": true
  },
  "nteract": {
   "version": "nteract-on-jupyter@1.9.6"
  },
  "toc": {
   "base_numbering": 1,
   "nav_menu": {},
   "number_sections": true,
   "sideBar": true,
   "skip_h1_title": false,
   "title_cell": "Table of Contents",
   "title_sidebar": "Contents",
   "toc_cell": false,
   "toc_position": {
    "height": "calc(100% - 180px)",
    "left": "10px",
    "top": "150px",
    "width": "260.156px"
   },
   "toc_section_display": true,
   "toc_window_display": true
  }
 },
 "nbformat": 4,
 "nbformat_minor": 2
}
